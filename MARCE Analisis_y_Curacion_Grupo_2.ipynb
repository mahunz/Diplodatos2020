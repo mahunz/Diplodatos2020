{
  "nbformat": 4,
  "nbformat_minor": 0,
  "metadata": {
    "colab": {
      "name": "Copia de Analisis_y_Curacion_Grupo_2.ipynb",
      "provenance": [],
      "collapsed_sections": [
        "gq5O--OuKlAn",
        "eXSYGgW5KlBE"
      ],
      "include_colab_link": true
    },
    "kernelspec": {
      "display_name": "Python 3",
      "language": "python",
      "name": "python3"
    },
    "language_info": {
      "codemirror_mode": {
        "name": "ipython",
        "version": 3
      },
      "file_extension": ".py",
      "mimetype": "text/x-python",
      "name": "python",
      "nbconvert_exporter": "python",
      "pygments_lexer": "ipython3",
      "version": "3.7.7"
    }
  },
  "cells": [
    {
      "cell_type": "markdown",
      "metadata": {
        "id": "view-in-github",
        "colab_type": "text"
      },
      "source": [
        "<a href=\"https://colab.research.google.com/github/mahunz/Diplodatos2020/blob/master/MARCE%20Analisis_y_Curacion_Grupo_2.ipynb\" target=\"_parent\"><img src=\"https://colab.research.google.com/assets/colab-badge.svg\" alt=\"Open In Colab\"/></a>"
      ]
    },
    {
      "cell_type": "markdown",
      "metadata": {
        "id": "FqyA1CNFKk_2"
      },
      "source": [
        "<center>\n",
        "<h2>Universidad Nacional de Córdoba - Facultad de Matemática, Astronomía, Física y Computación</h2>\n",
        "<h3>Diplomatura en Ciencia de Datos, Aprendizaje Automático y sus Aplicaciones 2020</h3>\n",
        "<h3>Predicción de la Calidad de Servicio</h3>\n",
        "<h3>Análisis y Curación</h3>\n",
        "</center>\n",
        "</left>\n",
        "<h4>Mentor: Martín Hunziker</h4>\n",
        "\n",
        "[Link Mentoria](https://sites.google.com/view/mentorias2020-diplodatos/ciencia-de-datos-aplicada-en-la-distribuci%C3%B3n-de-energ%C3%ADa-el%C3%A9ctrica?authuser=0).\n",
        "\n",
        "</left>\n",
        "</left>"
      ]
    },
    {
      "cell_type": "markdown",
      "metadata": {
        "id": "JxOC6Q-RLq5z"
      },
      "source": [
        "#Grupo 2\n",
        "###Marcelo Tisera\n",
        "###Laura Aliendo\n",
        "###Joel de Andres"
      ]
    },
    {
      "cell_type": "markdown",
      "metadata": {
        "id": "f2LWfsXSKk_4"
      },
      "source": [
        "### Introducción\n",
        "\n",
        "En la siguiente notebook, se presentará la consigna a seguir para el segundo práctico de la materia Análisis y Curación. El objetivo consiste en vincular las tablas del dataset, así como iniciar el tratamiento de los datos geográficos.\n",
        "\n",
        "Como referencia para el análisis geográfico utilizaremos la notebook 2_0_Intro_Variables_georefrenciadas de Ramiro Caro.\n"
      ]
    },
    {
      "cell_type": "code",
      "metadata": {
        "id": "B1JwyOpOKk_4",
        "outputId": "4dd21fa7-3392-44fb-99dc-80d4b0d0bb42",
        "colab": {
          "base_uri": "https://localhost:8080/",
          "height": 1000
        }
      },
      "source": [
        "# Instalación de librerias en Collab\n",
        "!pip install matplotlib\n",
        "!pip install numpy\n",
        "!pip install pandas\n",
        "!pip install geopandas\n",
        "!apt install libspatialindex-dev\n",
        "!pip install rtree\n",
        "!pip install osmnx\n",
        "!pip install contextily"
      ],
      "execution_count": null,
      "outputs": [
        {
          "output_type": "stream",
          "text": [
            "Requirement already satisfied: matplotlib in /usr/local/lib/python3.6/dist-packages (3.3.2)\n",
            "Requirement already satisfied: kiwisolver>=1.0.1 in /usr/local/lib/python3.6/dist-packages (from matplotlib) (1.2.0)\n",
            "Requirement already satisfied: pyparsing!=2.0.4,!=2.1.2,!=2.1.6,>=2.0.3 in /usr/local/lib/python3.6/dist-packages (from matplotlib) (2.4.7)\n",
            "Requirement already satisfied: cycler>=0.10 in /usr/local/lib/python3.6/dist-packages (from matplotlib) (0.10.0)\n",
            "Requirement already satisfied: python-dateutil>=2.1 in /usr/local/lib/python3.6/dist-packages (from matplotlib) (2.8.1)\n",
            "Requirement already satisfied: numpy>=1.15 in /usr/local/lib/python3.6/dist-packages (from matplotlib) (1.19.2)\n",
            "Requirement already satisfied: certifi>=2020.06.20 in /usr/local/lib/python3.6/dist-packages (from matplotlib) (2020.6.20)\n",
            "Requirement already satisfied: pillow>=6.2.0 in /usr/local/lib/python3.6/dist-packages (from matplotlib) (7.0.0)\n",
            "Requirement already satisfied: six in /usr/local/lib/python3.6/dist-packages (from cycler>=0.10->matplotlib) (1.15.0)\n",
            "Requirement already satisfied: numpy in /usr/local/lib/python3.6/dist-packages (1.19.2)\n",
            "Requirement already satisfied: pandas in /usr/local/lib/python3.6/dist-packages (1.1.2)\n",
            "Requirement already satisfied: numpy>=1.15.4 in /usr/local/lib/python3.6/dist-packages (from pandas) (1.19.2)\n",
            "Requirement already satisfied: pytz>=2017.2 in /usr/local/lib/python3.6/dist-packages (from pandas) (2018.9)\n",
            "Requirement already satisfied: python-dateutil>=2.7.3 in /usr/local/lib/python3.6/dist-packages (from pandas) (2.8.1)\n",
            "Requirement already satisfied: six>=1.5 in /usr/local/lib/python3.6/dist-packages (from python-dateutil>=2.7.3->pandas) (1.15.0)\n",
            "Requirement already satisfied: geopandas in /usr/local/lib/python3.6/dist-packages (0.8.1)\n",
            "Requirement already satisfied: pandas>=0.23.0 in /usr/local/lib/python3.6/dist-packages (from geopandas) (1.1.2)\n",
            "Requirement already satisfied: shapely in /usr/local/lib/python3.6/dist-packages (from geopandas) (1.7.1)\n",
            "Requirement already satisfied: pyproj>=2.2.0 in /usr/local/lib/python3.6/dist-packages (from geopandas) (2.6.1.post1)\n",
            "Requirement already satisfied: fiona in /usr/local/lib/python3.6/dist-packages (from geopandas) (1.8.17)\n",
            "Requirement already satisfied: numpy>=1.15.4 in /usr/local/lib/python3.6/dist-packages (from pandas>=0.23.0->geopandas) (1.19.2)\n",
            "Requirement already satisfied: pytz>=2017.2 in /usr/local/lib/python3.6/dist-packages (from pandas>=0.23.0->geopandas) (2018.9)\n",
            "Requirement already satisfied: python-dateutil>=2.7.3 in /usr/local/lib/python3.6/dist-packages (from pandas>=0.23.0->geopandas) (2.8.1)\n",
            "Requirement already satisfied: click-plugins>=1.0 in /usr/local/lib/python3.6/dist-packages (from fiona->geopandas) (1.1.1)\n",
            "Requirement already satisfied: click<8,>=4.0 in /usr/local/lib/python3.6/dist-packages (from fiona->geopandas) (7.1.2)\n",
            "Requirement already satisfied: attrs>=17 in /usr/local/lib/python3.6/dist-packages (from fiona->geopandas) (20.2.0)\n",
            "Requirement already satisfied: munch in /usr/local/lib/python3.6/dist-packages (from fiona->geopandas) (2.5.0)\n",
            "Requirement already satisfied: six>=1.7 in /usr/local/lib/python3.6/dist-packages (from fiona->geopandas) (1.15.0)\n",
            "Requirement already satisfied: cligj>=0.5 in /usr/local/lib/python3.6/dist-packages (from fiona->geopandas) (0.5.0)\n",
            "Reading package lists... Done\n",
            "Building dependency tree       \n",
            "Reading state information... Done\n",
            "libspatialindex-dev is already the newest version (1.8.5-5).\n",
            "0 upgraded, 0 newly installed, 0 to remove and 11 not upgraded.\n",
            "Requirement already satisfied: rtree in /usr/local/lib/python3.6/dist-packages (0.9.4)\n",
            "Requirement already satisfied: setuptools in /usr/local/lib/python3.6/dist-packages (from rtree) (50.3.0)\n",
            "Requirement already satisfied: osmnx in /usr/local/lib/python3.6/dist-packages (0.16.0)\n",
            "Requirement already satisfied: pyproj>=2.6 in /usr/local/lib/python3.6/dist-packages (from osmnx) (2.6.1.post1)\n",
            "Requirement already satisfied: numpy>=1.19 in /usr/local/lib/python3.6/dist-packages (from osmnx) (1.19.2)\n",
            "Requirement already satisfied: Shapely>=1.7 in /usr/local/lib/python3.6/dist-packages (from osmnx) (1.7.1)\n",
            "Requirement already satisfied: Rtree>=0.9 in /usr/local/lib/python3.6/dist-packages (from osmnx) (0.9.4)\n",
            "Requirement already satisfied: requests>=2.24 in /usr/local/lib/python3.6/dist-packages (from osmnx) (2.24.0)\n",
            "Requirement already satisfied: matplotlib>=3.3 in /usr/local/lib/python3.6/dist-packages (from osmnx) (3.3.2)\n",
            "Requirement already satisfied: networkx>=2.5 in /usr/local/lib/python3.6/dist-packages (from osmnx) (2.5)\n",
            "Requirement already satisfied: geopandas>=0.8 in /usr/local/lib/python3.6/dist-packages (from osmnx) (0.8.1)\n",
            "Requirement already satisfied: pandas>=1.1 in /usr/local/lib/python3.6/dist-packages (from osmnx) (1.1.2)\n",
            "Requirement already satisfied: descartes>=1.1 in /usr/local/lib/python3.6/dist-packages (from osmnx) (1.1.0)\n",
            "Requirement already satisfied: setuptools in /usr/local/lib/python3.6/dist-packages (from Rtree>=0.9->osmnx) (50.3.0)\n",
            "Requirement already satisfied: urllib3!=1.25.0,!=1.25.1,<1.26,>=1.21.1 in /usr/local/lib/python3.6/dist-packages (from requests>=2.24->osmnx) (1.24.3)\n",
            "Requirement already satisfied: idna<3,>=2.5 in /usr/local/lib/python3.6/dist-packages (from requests>=2.24->osmnx) (2.10)\n",
            "Requirement already satisfied: certifi>=2017.4.17 in /usr/local/lib/python3.6/dist-packages (from requests>=2.24->osmnx) (2020.6.20)\n",
            "Requirement already satisfied: chardet<4,>=3.0.2 in /usr/local/lib/python3.6/dist-packages (from requests>=2.24->osmnx) (3.0.4)\n",
            "Requirement already satisfied: pyparsing!=2.0.4,!=2.1.2,!=2.1.6,>=2.0.3 in /usr/local/lib/python3.6/dist-packages (from matplotlib>=3.3->osmnx) (2.4.7)\n",
            "Requirement already satisfied: kiwisolver>=1.0.1 in /usr/local/lib/python3.6/dist-packages (from matplotlib>=3.3->osmnx) (1.2.0)\n",
            "Requirement already satisfied: cycler>=0.10 in /usr/local/lib/python3.6/dist-packages (from matplotlib>=3.3->osmnx) (0.10.0)\n",
            "Requirement already satisfied: pillow>=6.2.0 in /usr/local/lib/python3.6/dist-packages (from matplotlib>=3.3->osmnx) (7.0.0)\n",
            "Requirement already satisfied: python-dateutil>=2.1 in /usr/local/lib/python3.6/dist-packages (from matplotlib>=3.3->osmnx) (2.8.1)\n",
            "Requirement already satisfied: decorator>=4.3.0 in /usr/local/lib/python3.6/dist-packages (from networkx>=2.5->osmnx) (4.4.2)\n",
            "Requirement already satisfied: fiona in /usr/local/lib/python3.6/dist-packages (from geopandas>=0.8->osmnx) (1.8.17)\n",
            "Requirement already satisfied: pytz>=2017.2 in /usr/local/lib/python3.6/dist-packages (from pandas>=1.1->osmnx) (2018.9)\n",
            "Requirement already satisfied: six in /usr/local/lib/python3.6/dist-packages (from cycler>=0.10->matplotlib>=3.3->osmnx) (1.15.0)\n",
            "Requirement already satisfied: cligj>=0.5 in /usr/local/lib/python3.6/dist-packages (from fiona->geopandas>=0.8->osmnx) (0.5.0)\n",
            "Requirement already satisfied: attrs>=17 in /usr/local/lib/python3.6/dist-packages (from fiona->geopandas>=0.8->osmnx) (20.2.0)\n",
            "Requirement already satisfied: munch in /usr/local/lib/python3.6/dist-packages (from fiona->geopandas>=0.8->osmnx) (2.5.0)\n",
            "Requirement already satisfied: click<8,>=4.0 in /usr/local/lib/python3.6/dist-packages (from fiona->geopandas>=0.8->osmnx) (7.1.2)\n",
            "Requirement already satisfied: click-plugins>=1.0 in /usr/local/lib/python3.6/dist-packages (from fiona->geopandas>=0.8->osmnx) (1.1.1)\n",
            "Requirement already satisfied: contextily in /usr/local/lib/python3.6/dist-packages (1.0.0)\n",
            "Requirement already satisfied: mercantile in /usr/local/lib/python3.6/dist-packages (from contextily) (1.1.6)\n",
            "Requirement already satisfied: rasterio in /usr/local/lib/python3.6/dist-packages (from contextily) (1.1.6)\n",
            "Requirement already satisfied: pillow in /usr/local/lib/python3.6/dist-packages (from contextily) (7.0.0)\n",
            "Requirement already satisfied: requests in /usr/local/lib/python3.6/dist-packages (from contextily) (2.24.0)\n",
            "Requirement already satisfied: matplotlib in /usr/local/lib/python3.6/dist-packages (from contextily) (3.3.2)\n",
            "Requirement already satisfied: geopy in /usr/local/lib/python3.6/dist-packages (from contextily) (1.17.0)\n",
            "Requirement already satisfied: joblib in /usr/local/lib/python3.6/dist-packages (from contextily) (0.16.0)\n",
            "Requirement already satisfied: click>=3.0 in /usr/local/lib/python3.6/dist-packages (from mercantile->contextily) (7.1.2)\n",
            "Requirement already satisfied: numpy in /usr/local/lib/python3.6/dist-packages (from rasterio->contextily) (1.19.2)\n",
            "Requirement already satisfied: affine in /usr/local/lib/python3.6/dist-packages (from rasterio->contextily) (2.3.0)\n",
            "Requirement already satisfied: snuggs>=1.4.1 in /usr/local/lib/python3.6/dist-packages (from rasterio->contextily) (1.4.7)\n",
            "Requirement already satisfied: click-plugins in /usr/local/lib/python3.6/dist-packages (from rasterio->contextily) (1.1.1)\n",
            "Requirement already satisfied: attrs in /usr/local/lib/python3.6/dist-packages (from rasterio->contextily) (20.2.0)\n",
            "Requirement already satisfied: cligj>=0.5 in /usr/local/lib/python3.6/dist-packages (from rasterio->contextily) (0.5.0)\n",
            "Requirement already satisfied: certifi>=2017.4.17 in /usr/local/lib/python3.6/dist-packages (from requests->contextily) (2020.6.20)\n",
            "Requirement already satisfied: chardet<4,>=3.0.2 in /usr/local/lib/python3.6/dist-packages (from requests->contextily) (3.0.4)\n",
            "Requirement already satisfied: urllib3!=1.25.0,!=1.25.1,<1.26,>=1.21.1 in /usr/local/lib/python3.6/dist-packages (from requests->contextily) (1.24.3)\n",
            "Requirement already satisfied: idna<3,>=2.5 in /usr/local/lib/python3.6/dist-packages (from requests->contextily) (2.10)\n",
            "Requirement already satisfied: cycler>=0.10 in /usr/local/lib/python3.6/dist-packages (from matplotlib->contextily) (0.10.0)\n",
            "Requirement already satisfied: kiwisolver>=1.0.1 in /usr/local/lib/python3.6/dist-packages (from matplotlib->contextily) (1.2.0)\n",
            "Requirement already satisfied: pyparsing!=2.0.4,!=2.1.2,!=2.1.6,>=2.0.3 in /usr/local/lib/python3.6/dist-packages (from matplotlib->contextily) (2.4.7)\n",
            "Requirement already satisfied: python-dateutil>=2.1 in /usr/local/lib/python3.6/dist-packages (from matplotlib->contextily) (2.8.1)\n",
            "Requirement already satisfied: geographiclib<2,>=1.49 in /usr/local/lib/python3.6/dist-packages (from geopy->contextily) (1.50)\n",
            "Requirement already satisfied: six in /usr/local/lib/python3.6/dist-packages (from cycler>=0.10->matplotlib->contextily) (1.15.0)\n"
          ],
          "name": "stdout"
        }
      ]
    },
    {
      "cell_type": "code",
      "metadata": {
        "id": "VQydp8YEL3-6",
        "outputId": "5052e6e0-3546-44c5-fa60-485f8269a2bb",
        "colab": {
          "base_uri": "https://localhost:8080/",
          "height": 877
        }
      },
      "source": [
        "# En Collab\n",
        "!wget -nc https://github.com/mahunz/Diplodatos2020/blob/master/Dataset/ENF_6612_2018-12-31_M10_20190529-1610.gdb.7z?raw=true\n",
        "!apt-get install p7zip\n",
        "!mkdir -p Dataset\n",
        "!mv ENF_6612_2018-12-31_M10_20190529-1610.gdb.7z?raw=true ./Dataset/ENF_6612_2018-12-31_M10_20190529-1610.gdb.7z\n",
        "!7za x ./Dataset/ENF_6612_2018-12-31_M10_20190529-1610.gdb.7z\n",
        "!mv ENF_6612_2018-12-31_M10_20190529-1610.gdb ./Dataset/ENF_6612_2018-12-31_M10_20190529-1610.gdb"
      ],
      "execution_count": null,
      "outputs": [
        {
          "output_type": "stream",
          "text": [
            "--2020-09-29 00:17:10--  https://github.com/mahunz/Diplodatos2020/blob/master/Dataset/ENF_6612_2018-12-31_M10_20190529-1610.gdb.7z?raw=true\n",
            "Resolving github.com (github.com)... 140.82.113.3\n",
            "Connecting to github.com (github.com)|140.82.113.3|:443... connected.\n",
            "HTTP request sent, awaiting response... 302 Found\n",
            "Location: https://github.com/mahunz/Diplodatos2020/raw/master/Dataset/ENF_6612_2018-12-31_M10_20190529-1610.gdb.7z [following]\n",
            "--2020-09-29 00:17:10--  https://github.com/mahunz/Diplodatos2020/raw/master/Dataset/ENF_6612_2018-12-31_M10_20190529-1610.gdb.7z\n",
            "Reusing existing connection to github.com:443.\n",
            "HTTP request sent, awaiting response... 302 Found\n",
            "Location: https://raw.githubusercontent.com/mahunz/Diplodatos2020/master/Dataset/ENF_6612_2018-12-31_M10_20190529-1610.gdb.7z [following]\n",
            "--2020-09-29 00:17:10--  https://raw.githubusercontent.com/mahunz/Diplodatos2020/master/Dataset/ENF_6612_2018-12-31_M10_20190529-1610.gdb.7z\n",
            "Resolving raw.githubusercontent.com (raw.githubusercontent.com)... 151.101.0.133, 151.101.64.133, 151.101.128.133, ...\n",
            "Connecting to raw.githubusercontent.com (raw.githubusercontent.com)|151.101.0.133|:443... connected.\n",
            "HTTP request sent, awaiting response... 200 OK\n",
            "Length: 11687422 (11M) [application/octet-stream]\n",
            "Saving to: ‘ENF_6612_2018-12-31_M10_20190529-1610.gdb.7z?raw=true’\n",
            "\n",
            "ENF_6612_2018-12-31 100%[===================>]  11.15M  20.2MB/s    in 0.6s    \n",
            "\n",
            "2020-09-29 00:17:10 (20.2 MB/s) - ‘ENF_6612_2018-12-31_M10_20190529-1610.gdb.7z?raw=true’ saved [11687422/11687422]\n",
            "\n",
            "Reading package lists... Done\n",
            "Building dependency tree       \n",
            "Reading state information... Done\n",
            "p7zip is already the newest version (16.02+dfsg-6).\n",
            "0 upgraded, 0 newly installed, 0 to remove and 11 not upgraded.\n",
            "\n",
            "7-Zip (a) [64] 16.02 : Copyright (c) 1999-2016 Igor Pavlov : 2016-05-21\n",
            "p7zip Version 16.02 (locale=en_US.UTF-8,Utf16=on,HugeFiles=on,64 bits,2 CPUs Intel(R) Xeon(R) CPU @ 2.30GHz (306F0),ASM,AES-NI)\n",
            "\n",
            "Scanning the drive for archives:\n",
            "  0M Scan ./Dataset/\b\b\b\b\b\b\b\b\b\b\b\b\b\b\b\b\b\b\b\b                    \b\b\b\b\b\b\b\b\b\b\b\b\b\b\b\b\b\b\b\b1 file, 11687422 bytes (12 MiB)\n",
            "\n",
            "Extracting archive: ./Dataset/ENF_6612_2018-12-31_M10_20190529-1610.gdb.7z\n",
            "--\n",
            "Path = ./Dataset/ENF_6612_2018-12-31_M10_20190529-1610.gdb.7z\n",
            "Type = 7z\n",
            "Physical Size = 11687422\n",
            "Headers Size = 2471\n",
            "Method = LZMA2:24\n",
            "Solid = +\n",
            "Blocks = 1\n",
            "\n",
            "  0%\b\b\b\b    \b\b\b\b 24% 94 - ENF_6612_2018-12-31_M10_20190529-1610.gdb/a000000ac.gdbtable\b\b\b\b\b\b\b\b\b\b\b\b\b\b\b\b\b\b\b\b\b\b\b\b\b\b\b\b\b\b\b\b\b\b\b\b\b\b\b\b\b\b\b\b\b\b\b\b\b\b\b\b\b\b\b\b\b\b\b\b\b\b\b\b\b\b\b\b\b\b                                                                      \b\b\b\b\b\b\b\b\b\b\b\b\b\b\b\b\b\b\b\b\b\b\b\b\b\b\b\b\b\b\b\b\b\b\b\b\b\b\b\b\b\b\b\b\b\b\b\b\b\b\b\b\b\b\b\b\b\b\b\b\b\b\b\b\b\b\b\b\b\b 39% 118 - ENF_6612_2018-12-31_M10_20190529-1610.gdb/a000000b3.gdbtablx\b\b\b\b\b\b\b\b\b\b\b\b\b\b\b\b\b\b\b\b\b\b\b\b\b\b\b\b\b\b\b\b\b\b\b\b\b\b\b\b\b\b\b\b\b\b\b\b\b\b\b\b\b\b\b\b\b\b\b\b\b\b\b\b\b\b\b\b\b\b\b                                                                       \b\b\b\b\b\b\b\b\b\b\b\b\b\b\b\b\b\b\b\b\b\b\b\b\b\b\b\b\b\b\b\b\b\b\b\b\b\b\b\b\b\b\b\b\b\b\b\b\b\b\b\b\b\b\b\b\b\b\b\b\b\b\b\b\b\b\b\b\b\b\b 53% 128 - ENF_6612_2018-12-31_M10_20190529-1610.gdb/a000000b6.gdbindexes\b\b\b\b\b\b\b\b\b\b\b\b\b\b\b\b\b\b\b\b\b\b\b\b\b\b\b\b\b\b\b\b\b\b\b\b\b\b\b\b\b\b\b\b\b\b\b\b\b\b\b\b\b\b\b\b\b\b\b\b\b\b\b\b\b\b\b\b\b\b\b\b\b                                                                         \b\b\b\b\b\b\b\b\b\b\b\b\b\b\b\b\b\b\b\b\b\b\b\b\b\b\b\b\b\b\b\b\b\b\b\b\b\b\b\b\b\b\b\b\b\b\b\b\b\b\b\b\b\b\b\b\b\b\b\b\b\b\b\b\b\b\b\b\b\b\b\b\b 74% 143 - ENF_6612_2018-12-31_M10_20190529-1610.gdb/a000000b9.gdbtable\b\b\b\b\b\b\b\b\b\b\b\b\b\b\b\b\b\b\b\b\b\b\b\b\b\b\b\b\b\b\b\b\b\b\b\b\b\b\b\b\b\b\b\b\b\b\b\b\b\b\b\b\b\b\b\b\b\b\b\b\b\b\b\b\b\b\b\b\b\b\b                                                                       \b\b\b\b\b\b\b\b\b\b\b\b\b\b\b\b\b\b\b\b\b\b\b\b\b\b\b\b\b\b\b\b\b\b\b\b\b\b\b\b\b\b\b\b\b\b\b\b\b\b\b\b\b\b\b\b\b\b\b\b\b\b\b\b\b\b\b\b\b\b\b 98% 143 - ENF_6612_2018-12-31_M10_20190529-1610.gdb/a000000b9.gdbtable\b\b\b\b\b\b\b\b\b\b\b\b\b\b\b\b\b\b\b\b\b\b\b\b\b\b\b\b\b\b\b\b\b\b\b\b\b\b\b\b\b\b\b\b\b\b\b\b\b\b\b\b\b\b\b\b\b\b\b\b\b\b\b\b\b\b\b\b\b\b\b                                                                       \b\b\b\b\b\b\b\b\b\b\b\b\b\b\b\b\b\b\b\b\b\b\b\b\b\b\b\b\b\b\b\b\b\b\b\b\b\b\b\b\b\b\b\b\b\b\b\b\b\b\b\b\b\b\b\b\b\b\b\b\b\b\b\b\b\b\b\b\b\b\bEverything is Ok\n",
            "\n",
            "Folders: 1\n",
            "Files: 207\n",
            "Size:       84729099\n",
            "Compressed: 11687422\n",
            "mv: cannot move 'ENF_6612_2018-12-31_M10_20190529-1610.gdb' to './Dataset/ENF_6612_2018-12-31_M10_20190529-1610.gdb/ENF_6612_2018-12-31_M10_20190529-1610.gdb': Directory not empty\n"
          ],
          "name": "stdout"
        }
      ]
    },
    {
      "cell_type": "code",
      "metadata": {
        "id": "EuEKUZ4dDTqK",
        "outputId": "79acf4a2-975a-475c-8174-ed74d93f66f0",
        "colab": {
          "base_uri": "https://localhost:8080/",
          "height": 89
        }
      },
      "source": [
        "# En Collab\n",
        "!mkdir -p DatasetOrigin\n",
        "!cp -i -r ./Dataset/ENF_6612_2018-12-31_M10_20190529-1610.gdb ./DatasetOrigin/ENF_6612_2018-12-31_M10_20190529-1610_origin.gdb"
      ],
      "execution_count": null,
      "outputs": [
        {
          "output_type": "stream",
          "text": [
            "cp: overwrite './DatasetOrigin/ENF_6612_2018-12-31_M10_20190529-1610_origin.gdb/ENF_6612_2018-12-31_M10_20190529-1610.gdb/ENF_6612_2018-12-31_M10_20190529-1610.gdb/a00000001.freelist'? "
          ],
          "name": "stdout"
        }
      ]
    },
    {
      "cell_type": "markdown",
      "metadata": {
        "id": "wEOmjLcfKk_-"
      },
      "source": [
        "### I. Rutina de Curación\n",
        "\n",
        "Inicialmente, con el objetivo de preparar los datos que alimentarán futuros modelos de aprendizaje automático (ML), se propone seguir la siguiente __[checklist](https://dimewiki.worldbank.org/wiki/Checklist:_Data_Cleaning)__ para la limpieza de los datos de nuestro proyecto. Esta _checklist_ es la misma que utilizaron en el primer práctico de la materia y nos será de utilidad como guía para curar el dataset. A modo de ayuda, **en esta notebook encontrarán una especie de template** que sigue la _checklist_ y que deberán ir completando.\n",
        "\n",
        "**Cada decisión tomada deberá quedar registrada de manera explícita y clara.** Luego de pasar por todos los puntos de la _checklist_ propuesta, deberán almacenar en un nuevo archivo los datos resultantes.\n"
      ]
    },
    {
      "cell_type": "markdown",
      "metadata": {
        "id": "LlZtqtzgKk__"
      },
      "source": [
        "### II. Análisis del Contenido\n",
        "\n",
        "Una vez aplicado el  _Checklist_, lo que vamos a hacer es comenzar a vincular las diferentes tablas del dataset e iniciar la generación de features geográficas\n"
      ]
    },
    {
      "cell_type": "markdown",
      "metadata": {
        "id": "Kktg5L0WKk__"
      },
      "source": [
        "# Resolución"
      ]
    },
    {
      "cell_type": "markdown",
      "metadata": {
        "id": "_Qlqb0vOKlAA"
      },
      "source": [
        "## I. Rutina de Curación\n",
        "\n",
        "### 1. Importación de Datos\n",
        "\n",
        "#### 1.1. Verificación de Inexistencia de Problemas en la Importación"
      ]
    },
    {
      "cell_type": "markdown",
      "metadata": {
        "id": "oMBJjzMHKlAB"
      },
      "source": [
        "A partir de este punto, utilizaremos los transformadores de distribucion como elemnto de analisis tabla UNTRD, e incorporaremos datos de consumidores, subestación y líneas de distribución.\n",
        "\n",
        "Para comenzar, importamos los datos que vamos a procesar de las diferentes tablas que vamos a analizar:"
      ]
    },
    {
      "cell_type": "code",
      "metadata": {
        "id": "7QiqtG-9ybT-"
      },
      "source": [
        "import geopandas as gpd\n",
        "import pandas as pd\n",
        "from shapely.geometry import Point, LineString, Polygon, MultiPoint, MultiLineString\n",
        "import numpy as np\n"
      ],
      "execution_count": null,
      "outputs": []
    },
    {
      "cell_type": "code",
      "metadata": {
        "id": "a-wN4MnfyTCk",
        "scrolled": true
      },
      "source": [
        "# Editar con el path correspondiente a sus datos\n",
        "data_path = './Dataset/ENF_6612_2018-12-31_M10_20190529-1610.gdb'\n",
        "data_path_origin = './Dataset/ENF_6612_2018-12-31_M10_20190529-1610.gdb'\n",
        "\n",
        "print(data_path)\n",
        "print(data_path_origin)\n",
        " "
      ],
      "execution_count": null,
      "outputs": []
    },
    {
      "cell_type": "code",
      "metadata": {
        "id": "T1xC2lhcuRy-"
      },
      "source": [
        "print(data_path)\n",
        "untrd = gpd.read_file(data_path, driver='FileGDB', layer='UNTRD')\n",
        "untrd.shape, untrd.columns"
      ],
      "execution_count": null,
      "outputs": []
    },
    {
      "cell_type": "code",
      "metadata": {
        "id": "F0yigp8pyWvx"
      },
      "source": [
        "untrs = gpd.read_file(data_path, driver='FileGDB', layer='UNTRS')\n",
        "untrs.shape, untrs.columns"
      ],
      "execution_count": null,
      "outputs": []
    },
    {
      "cell_type": "code",
      "metadata": {
        "id": "neS4sBkdzboc"
      },
      "source": [
        "ssmt = gpd.read_file(data_path, driver='FileGDB', layer='SSDMT')\n",
        "ssmt.shape, ssmt.columns"
      ],
      "execution_count": null,
      "outputs": []
    },
    {
      "cell_type": "code",
      "metadata": {
        "id": "Sp2Ewh9L0cke"
      },
      "source": [
        "segcon = gpd.read_file(data_path, driver='FileGDB', layer='SEGCON')\n",
        "segcon.shape, segcon.columns"
      ],
      "execution_count": null,
      "outputs": []
    },
    {
      "cell_type": "code",
      "metadata": {
        "id": "KacEd34JzdO4"
      },
      "source": [
        "ucbt = gpd.read_file(data_path, driver='FileGDB', layer='UCBT')\n",
        "ucbt.shape, ucbt.columns"
      ],
      "execution_count": null,
      "outputs": []
    },
    {
      "cell_type": "code",
      "metadata": {
        "id": "50bT9pGQPxze"
      },
      "source": [
        "ucbt_cod_id = ucbt.reset_index()\n",
        "ucbt_cod_id['COD_ID'] = ucbt_cod_id.index"
      ],
      "execution_count": null,
      "outputs": []
    },
    {
      "cell_type": "code",
      "metadata": {
        "id": "WAONm-CyMM5j"
      },
      "source": [
        "# Agrupando Variables\n",
        "\n",
        "ucbt['ENE_MED'] = ucbt[['ENE_01', 'ENE_02', 'ENE_03', 'ENE_04', 'ENE_05', 'ENE_06', 'ENE_07','ENE_08', 'ENE_09', 'ENE_10', 'ENE_11', 'ENE_12']].mean(axis=1)\n",
        "ucbt['ENE_STD'] = ucbt[['ENE_01', 'ENE_02', 'ENE_03', 'ENE_04', 'ENE_05', 'ENE_06', 'ENE_07','ENE_08', 'ENE_09', 'ENE_10', 'ENE_11', 'ENE_12']].std(axis=1)\n",
        "ucbt['ENE_MAX'] = ucbt[['ENE_01', 'ENE_02', 'ENE_03', 'ENE_04', 'ENE_05', 'ENE_06', 'ENE_07','ENE_08', 'ENE_09', 'ENE_10', 'ENE_11', 'ENE_12']].max(axis=1)\n",
        "\n",
        "\n",
        "ucbt_cod_id['ENE_MED'] = ucbt_cod_id[['ENE_01', 'ENE_02', 'ENE_03', 'ENE_04', 'ENE_05', 'ENE_06', 'ENE_07','ENE_08', 'ENE_09', 'ENE_10', 'ENE_11', 'ENE_12']].mean(axis=1)\n",
        "ucbt_cod_id['ENE_STD'] = ucbt_cod_id[['ENE_01', 'ENE_02', 'ENE_03', 'ENE_04', 'ENE_05', 'ENE_06', 'ENE_07','ENE_08', 'ENE_09', 'ENE_10', 'ENE_11', 'ENE_12']].std(axis=1)\n",
        "ucbt_cod_id['ENE_MAX'] = ucbt_cod_id[['ENE_01', 'ENE_02', 'ENE_03', 'ENE_04', 'ENE_05', 'ENE_06', 'ENE_07','ENE_08', 'ENE_09', 'ENE_10', 'ENE_11', 'ENE_12']].max(axis=1)"
      ],
      "execution_count": null,
      "outputs": []
    },
    {
      "cell_type": "markdown",
      "metadata": {
        "id": "IME_Gu5SKlAa"
      },
      "source": [
        "### 1.2. Asegurar la Existencia de IDs o Claves Únicas"
      ]
    },
    {
      "cell_type": "code",
      "metadata": {
        "id": "exIVuLLhIsi6"
      },
      "source": [
        "print(untrd['COD_ID'].is_unique)\n",
        "print(untrs['COD_ID'].is_unique)\n",
        "print(ssmt['COD_ID'].is_unique)\n",
        "print(segcon['COD_ID'].is_unique)"
      ],
      "execution_count": null,
      "outputs": []
    },
    {
      "cell_type": "markdown",
      "metadata": {
        "id": "84JpQDVaKlAa"
      },
      "source": [
        "El siguiente paso implica chequear que no existen datos duplicados y que las claves, si existen, son únicas.\n",
        "\n",
        "Las claves únicas de las diferentes tablas es el COD_ID, como figura en la documentación. En el caso de la tabla UCBT fue eliminado por el proveedor de los datos por lo que asumiremos que los datos son únicos. Podriamos regenerar el COD_ID con un valor secuencial, pero como vamos a utilizar la tabla UNTRD como elementos de análisis no será necesario"
      ]
    },
    {
      "cell_type": "code",
      "metadata": {
        "id": "z8jbCu2lKlAb"
      },
      "source": [
        "cod_id = 'COD_ID'\n",
        "untrd_duplicado_cod_id  = untrd[untrd[cod_id].duplicated(keep=False)]\n",
        "untrd_duplicado_cod_id"
      ],
      "execution_count": null,
      "outputs": []
    },
    {
      "cell_type": "code",
      "metadata": {
        "id": "HaeYcaIFRCw0"
      },
      "source": [
        "untrs_duplicado_cod_id  = untrs[untrs[cod_id].duplicated(keep=False)]\n",
        "untrs_duplicado_cod_id"
      ],
      "execution_count": null,
      "outputs": []
    },
    {
      "cell_type": "code",
      "metadata": {
        "id": "kLyWG8RRRD20"
      },
      "source": [
        "ssmt_duplicado_cod_id  = ssmt[ssmt[cod_id].duplicated(keep=False)]\n",
        "ssmt_duplicado_cod_id"
      ],
      "execution_count": null,
      "outputs": []
    },
    {
      "cell_type": "code",
      "metadata": {
        "id": "P_OwGQ77RE4j"
      },
      "source": [
        "segcon_duplicado_cod_id  = segcon[segcon[cod_id].duplicated(keep=False)]\n",
        "segcon_duplicado_cod_id"
      ],
      "execution_count": null,
      "outputs": []
    },
    {
      "cell_type": "code",
      "metadata": {
        "id": "U706-9lvRFmD"
      },
      "source": [
        "ucbt_duplicado_cod_id  = ucbt_cod_id[ucbt_cod_id[cod_id].duplicated(keep=False)]\n",
        "ucbt_duplicado_cod_id"
      ],
      "execution_count": null,
      "outputs": []
    },
    {
      "cell_type": "markdown",
      "metadata": {
        "id": "s91Us4J1KlAe"
      },
      "source": [
        "### 1.3. Despersonalizar Datos y Guardarlos en un Nuevo Archivo"
      ]
    },
    {
      "cell_type": "markdown",
      "metadata": {
        "id": "ifmtFNa7KlAf"
      },
      "source": [
        "En este caso, no es necesario despersonalizar ningún dato, dado que los mismos ya se encuentran despersonalizados."
      ]
    },
    {
      "cell_type": "markdown",
      "metadata": {
        "id": "hElJ0LSnKlAf"
      },
      "source": [
        "### 1.4. Nunca Modificar los Datos Crudos u Originales"
      ]
    },
    {
      "cell_type": "markdown",
      "metadata": {
        "id": "b-h8C7-8KlAg"
      },
      "source": [
        "Al finalizar la limpieza, deberán guardar el dataset resultante, para asegurarse de no modificar los datos originales."
      ]
    },
    {
      "cell_type": "markdown",
      "metadata": {
        "id": "j1BNT1TVM-Pn"
      },
      "source": [
        "Creamos 2 dataset para evitar modificar el original 1 con el nombre de que esta en un dir DatasetOrigin/data_path_origin.\n",
        "\n",
        "El que usaremos para modificar que es el data_path en el dir Dataset/"
      ]
    },
    {
      "cell_type": "markdown",
      "metadata": {
        "id": "YobsDuwJKlAh"
      },
      "source": [
        "## 2. Pasos de Limpieza Necesarios\n",
        "\n",
        "### 2.1. Etiquetas de Variables/Columnas y Problemas de Codificación/Encoding"
      ]
    },
    {
      "cell_type": "markdown",
      "metadata": {
        "id": "P7Qasbr8KlAh"
      },
      "source": [
        "El geopandas automáticamente detecta el encoding de los datos. "
      ]
    },
    {
      "cell_type": "markdown",
      "metadata": {
        "id": "bUYqhLQVKlAi"
      },
      "source": [
        "### 2.2. Tratamiento de Valores Faltantes"
      ]
    },
    {
      "cell_type": "markdown",
      "metadata": {
        "id": "phqH33gqKlAi"
      },
      "source": [
        "Para analizar los valores faltantes, primero deberán saber cuántos existen por campo y cuánto representan del total:"
      ]
    },
    {
      "cell_type": "code",
      "metadata": {
        "id": "6XSjNVPzQHGZ"
      },
      "source": [
        "# get the number of missing data points per column\n",
        "list_dataset = [{\"name\":\"UNTRD\",\"data_set\":untrd},\n",
        "{\"name\":\"UNTRS\",\"data_set\":untrs},\n",
        "{\"name\":\"SSMT\",\"data_set\":ssmt}, \n",
        "{\"name\":\"SEGCON\",\"data_set\":segcon}, \n",
        "{\"name\":\"UCBT\",\"data_set\":ucbt_cod_id}]\n",
        "\n",
        "for dataset in list_dataset:\n",
        "  missing_value = dataset.get(\"data_set\").isnull().sum()\n",
        "  count_value = dataset.get(\"data_set\").COD_ID.count()\n",
        "  print(\"\\nValores null de {} : {}\".format(dataset.get(\"name\"),missing_value[missing_value > 0]))\n",
        "  if len( missing_value[missing_value > 0]) > 0 :\n",
        "    for i in missing_value[missing_value > 0]:\n",
        "      print(\"Cantidad de registros  : {}\".format(count_value))\n",
        "      print(\"Cantidad de registros Null : {}\".format(i))\n",
        "      print(\"Representa el % : {}\".format((i*100)/count_value))\n",
        "  else:\n",
        "    print(\"No tiene valores Nulls\")\n",
        "\n"
      ],
      "execution_count": null,
      "outputs": []
    },
    {
      "cell_type": "markdown",
      "metadata": {
        "id": "B_2hwPe-JWmA"
      },
      "source": [
        "En la tabla de SEGCON existen valores null en el campo geometry en la totalidad de los registros."
      ]
    },
    {
      "cell_type": "markdown",
      "metadata": {
        "id": "hy3-B2yxKlAj"
      },
      "source": [
        "### 2.3. Codificación de Variables Categóricas"
      ]
    },
    {
      "cell_type": "markdown",
      "metadata": {
        "id": "53_Ma_U6KlAk"
      },
      "source": [
        "Aplica?"
      ]
    },
    {
      "cell_type": "code",
      "metadata": {
        "id": "wDhdU97jKlAk"
      },
      "source": [
        "from sklearn import preprocessing\n",
        "datasets = {'untrd': untrd, 'ucbt': ucbt}\n",
        "columns_to_encode = ['ARE_LOC', 'GRU_TAR']\n",
        "\n",
        "for key, dataset in datasets.items():\n",
        "    for column in columns_to_encode:\n",
        "        if column in dataset:\n",
        "            le = preprocessing.LabelEncoder()\n",
        "            le.fit(dataset[column])\n",
        "            dataset[column] = le.transform(dataset[column])"
      ],
      "execution_count": null,
      "outputs": []
    },
    {
      "cell_type": "markdown",
      "metadata": {
        "id": "gq5O--OuKlAn"
      },
      "source": [
        "### 2.4. No Cambiar los Nombres de las Variables de la Fuente de Origen"
      ]
    },
    {
      "cell_type": "code",
      "metadata": {
        "id": "Fa4sGFtpKlAn"
      },
      "source": [
        ""
      ],
      "execution_count": null,
      "outputs": []
    },
    {
      "cell_type": "markdown",
      "metadata": {
        "id": "swk4rI11KlAq"
      },
      "source": [
        "### 2.5. Verificación de Consistencia de Datos"
      ]
    },
    {
      "cell_type": "markdown",
      "metadata": {
        "id": "867pKRdWKlAr"
      },
      "source": [
        "Este es el paso más analítico, en donde se deben aplicar reglas de integridad."
      ]
    },
    {
      "cell_type": "markdown",
      "metadata": {
        "id": "37yoXuC7KeN0"
      },
      "source": [
        "Si se eliminana lo valores NaN que pasa con los registros de segcon? "
      ]
    },
    {
      "cell_type": "code",
      "metadata": {
        "id": "Kdvw5tAHKlAs"
      },
      "source": [
        "untrd = untrd.dropna()\n",
        "untrs = untrs.dropna()\n",
        "ssmt = ssmt.dropna()\n",
        "segcon = segcon.dropna()\n",
        "ucbt = ucbt.dropna()"
      ],
      "execution_count": null,
      "outputs": []
    },
    {
      "cell_type": "markdown",
      "metadata": {
        "id": "SjlX06FzKlAw"
      },
      "source": [
        "### 2.6. Identificar y Documentar Valores Atípicos/Outliers"
      ]
    },
    {
      "cell_type": "markdown",
      "metadata": {
        "id": "1UtPpdHPKlAw"
      },
      "source": [
        "Calcular estadísticos."
      ]
    },
    {
      "cell_type": "code",
      "metadata": {
        "id": "7WqT1sFQKlAx"
      },
      "source": [
        "def find_outliers(dataset, column_name):\n",
        "    interesting_col = dataset[column_name]\n",
        "    CI =  (interesting_col.quantile(0.75)-interesting_col.quantile(0.25))\n",
        "    mask_outlier = (\n",
        "        np.abs(interesting_col - interesting_col.median()) >= (1.5 * CI))\n",
        "    return dataset[mask_outlier]\n",
        "\n",
        "\n",
        "main_statisticians = ['FIC', 'DIC', 'ENE_MED']\n",
        "\n",
        "outliers = []\n",
        "for key, dataset in datasets.items():\n",
        "    print(\"Dataset: \", key)\n",
        "    for column in main_statisticians:\n",
        "        if column in dataset:\n",
        "            outliers = find_outliers(dataset, column)\n",
        "            row_quantity = dataset.shape[0]\n",
        "            print(\"Cantidad de outliers para la variable \", column, len(outliers))\n",
        "    print(\"------------------------------------------------\")"
      ],
      "execution_count": null,
      "outputs": []
    },
    {
      "cell_type": "code",
      "metadata": {
        "id": "q8dGyQYULetR"
      },
      "source": [
        "# Procedemos a limpiar los outliers para la layer ucbt\n",
        "def clean_outliers(dataset, column_name):\n",
        "    interesting_col = dataset[column_name]\n",
        "    CI =  (interesting_col.quantile(0.75)-interesting_col.quantile(0.25))\n",
        "    mask_outlier = (\n",
        "        np.abs(interesting_col - interesting_col.median()) <= (1.5 * CI))\n",
        "    return dataset[mask_outlier]\n",
        "\n",
        "\n",
        "for column in main_statisticians:\n",
        "    ucbt_without_outliers = clean_outliers(ucbt, column)\n",
        "datasets['ucbt'] = ucbt_without_outliers\n"
      ],
      "execution_count": null,
      "outputs": []
    },
    {
      "cell_type": "markdown",
      "metadata": {
        "id": "DunRUVyWKlA0"
      },
      "source": [
        "### 2.7. Evaluar Cómo Comprimir los Datos Para su Almacenamiento Más Eficiente"
      ]
    },
    {
      "cell_type": "markdown",
      "metadata": {
        "id": "fnhspGqmKlA5"
      },
      "source": [
        "### 2.8. Guardar el Set de Datos con un Nombre Informativo"
      ]
    },
    {
      "cell_type": "markdown",
      "metadata": {
        "id": "HTU8XpqEKlA8"
      },
      "source": [
        "## 3. Pasos de Limpieza Deseables\n",
        "\n",
        "### 3.1. Ordenar Variables/Columnas"
      ]
    },
    {
      "cell_type": "code",
      "metadata": {
        "id": "EMaM_x-qKlA8"
      },
      "source": [
        ""
      ],
      "execution_count": null,
      "outputs": []
    },
    {
      "cell_type": "markdown",
      "metadata": {
        "id": "cA2kIacbKlA-"
      },
      "source": [
        "### 3.2. Quitar Variables/Columnas Irrelevantes"
      ]
    },
    {
      "cell_type": "markdown",
      "metadata": {
        "id": "ImEQRv6YKlA_"
      },
      "source": [
        "Tenemos alguna en este caso?"
      ]
    },
    {
      "cell_type": "code",
      "metadata": {
        "id": "iEg30qxJKlA_"
      },
      "source": [
        "datasets['ucbt'].drop(datasets['ucbt'].columns.difference(['GRU_TAR', 'UNI_TR_D', 'UNI_TR_S', 'DIC', 'FIC', 'ENE_MED', 'ENE_MAX']), 1, inplace=True)"
      ],
      "execution_count": null,
      "outputs": []
    },
    {
      "cell_type": "code",
      "metadata": {
        "id": "DxIWirGVL8F3"
      },
      "source": [
        "datasets['untrd'].drop(datasets['untrd'].columns.difference(['COD_ID', 'UNI_TR_S', 'ARE_LOC', 'geometry']), 1, inplace=True)"
      ],
      "execution_count": null,
      "outputs": []
    },
    {
      "cell_type": "markdown",
      "metadata": {
        "id": "m4LQCNG0KlBC"
      },
      "source": [
        "### 3.3. Renombrar Variables de Grillas"
      ]
    },
    {
      "cell_type": "code",
      "metadata": {
        "id": "BzHi3d5HKlBC"
      },
      "source": [
        ""
      ],
      "execution_count": null,
      "outputs": []
    },
    {
      "cell_type": "markdown",
      "metadata": {
        "id": "eXSYGgW5KlBE"
      },
      "source": [
        "### 3.4. Categorizar Variables que Contengan “Otros”"
      ]
    },
    {
      "cell_type": "code",
      "metadata": {
        "id": "E2eiP_boKlBF"
      },
      "source": [
        ""
      ],
      "execution_count": null,
      "outputs": []
    },
    {
      "cell_type": "markdown",
      "metadata": {
        "id": "B_LvczNvKlBJ"
      },
      "source": [
        "### 3.5. Agregar Metadata a los Datos"
      ]
    },
    {
      "cell_type": "markdown",
      "metadata": {
        "id": "mIR-aM-uKlBJ"
      },
      "source": [
        "Cuando y como fueron obtenidos, limpieza realizada, decisiones implementadas, asunciones, etc."
      ]
    },
    {
      "cell_type": "code",
      "metadata": {
        "id": "e1lBq-xlKlBJ"
      },
      "source": [
        ""
      ],
      "execution_count": null,
      "outputs": []
    },
    {
      "cell_type": "markdown",
      "metadata": {
        "id": "W3tPmXIpKlBM"
      },
      "source": [
        "## II. Análisis  Contenido"
      ]
    },
    {
      "cell_type": "markdown",
      "metadata": {
        "id": "BNSAWIJbKlBM"
      },
      "source": [
        "### 1. Features Tipo Objetos"
      ]
    },
    {
      "cell_type": "code",
      "metadata": {
        "id": "XrC9RnUbMDZu"
      },
      "source": [
        "import scipy as sc\n",
        "datasets['ucbt'] = datasets['ucbt'].groupby(['UNI_TR_D']).agg(GRU_TAR=('GRU_TAR',lambda x: sc.stats.mode(x)[0]),\n",
        "                                                              DIC=('DIC',np.sum),FIC=('FIC',np.sum),ENE_MED=('ENE_MED',np.mean),\n",
        "                                                              ENE_MAX=('ENE_MAX',np.sum)).reset_index()\n",
        "datasets['ucbt']"
      ],
      "execution_count": null,
      "outputs": []
    },
    {
      "cell_type": "markdown",
      "metadata": {
        "id": "U6YlKhBCMujQ"
      },
      "source": [
        "    -GRU_TAR: tomamos su moda\n",
        "    -DIC: calculamos su suma\n",
        "    -FIC: calculamos su suma\n",
        "    -ARE_LOC: tomamos su moda\n",
        "    -ENE_MED: calculamos su promedio\n",
        "    -ENE_MAX: calculamos su suma"
      ]
    },
    {
      "cell_type": "markdown",
      "metadata": {
        "id": "pa-bOWcEhua5"
      },
      "source": [
        "## Consumindores\n",
        "\n",
        "1 - A partir de los resultados obtenidos en el práctico 1 seleccione que features podrían ser relevantes para la predicción de la calidad de servicio.\n",
        "\n",
        "2 - Agrupe los datos en base a la variable UNI_TR_D.\n",
        "\n",
        "3 - Justifique los métodos utilizados para agrupar las variables numéricas y categóricas."
      ]
    },
    {
      "cell_type": "code",
      "metadata": {
        "id": "dtszUPwADCs5"
      },
      "source": [
        "#med_group = ucbt.groupby(\"UNI_TR_D\").agg({\"DIC\":\"mean\", \"FIC\":\"mean\"})\n",
        "ucbt_group = ucbt.groupby(\"UNI_TR_D\").agg(GRU_TAR=('GRU_TAR',lambda x: sc.stats.mode(x)[0]),\n",
        "                                                              DIC=('DIC',np.sum),FIC=('FIC',np.sum),ENE_MED=('ENE_MED',np.mean),\n",
        "                                                              ENE_MAX=('ENE_MAX',np.sum)).reset_index()\n",
        "ucbt_group                                                              "
      ],
      "execution_count": null,
      "outputs": []
    },
    {
      "cell_type": "code",
      "metadata": {
        "id": "bky3Bp8tDFCQ"
      },
      "source": [
        "untrd_merge = untrd.merge(ucbt_group,left_on='COD_ID',right_on='UNI_TR_D',how=\"left\")"
      ],
      "execution_count": null,
      "outputs": []
    },
    {
      "cell_type": "code",
      "metadata": {
        "id": "NuQfSR9NJZe2"
      },
      "source": [
        "untrd_merge[untrd_merge.DIC.isnull()]"
      ],
      "execution_count": null,
      "outputs": []
    },
    {
      "cell_type": "markdown",
      "metadata": {
        "id": "_a8zxgepMkre"
      },
      "source": [
        ""
      ]
    },
    {
      "cell_type": "markdown",
      "metadata": {
        "id": "L9pgI86JjO8v"
      },
      "source": [
        "## Subestación\n",
        "\n",
        "4 - Analise la información disponible sobre los transformadores de las Subestaciones (UNI_TR_S > UNTRS)\n",
        "\n",
        "5 - Seleccione las variables relevantes, realize tratamiento de valores invalidos y outliers correspondientes. Agrupe los valores por UNTRD y agregue al dataset."
      ]
    },
    {
      "cell_type": "code",
      "metadata": {
        "id": "MywEq68gzzGh"
      },
      "source": [
        "ucbt_group"
      ],
      "execution_count": null,
      "outputs": []
    },
    {
      "cell_type": "code",
      "metadata": {
        "id": "P4stdAY9P4Lm"
      },
      "source": [
        "untrd.to_crs(epsg=31984, inplace= True)\n",
        "untrs.to_crs(epsg=31984, inplace= True)"
      ],
      "execution_count": null,
      "outputs": []
    },
    {
      "cell_type": "code",
      "metadata": {
        "id": "ViE-_ZwMVlCg"
      },
      "source": [
        "untrd_ucbt_group = ucbt_group.merge(untrd,left_on=\"UNI_TR_D\", right_on=\"COD_ID\")\n",
        "untrd_ucbt_group = untrd_ucbt_group.drop(['COD_ID'], axis=1)\n",
        "untrd_ucbt_group.rename(columns={\"geometry\": \"geometry_untrd\"}, inplace=True)\n",
        "untrd_ucbt_group\n"
      ],
      "execution_count": null,
      "outputs": []
    },
    {
      "cell_type": "code",
      "metadata": {
        "id": "Z9SSCwHIVlCj"
      },
      "source": [
        "untrs_cp = untrs.copy()\n",
        "untrs_cp.to_crs(epsg=31984, inplace= True)"
      ],
      "execution_count": null,
      "outputs": []
    },
    {
      "cell_type": "code",
      "metadata": {
        "id": "3thPeux3TZI7"
      },
      "source": [
        "untrs_cp"
      ],
      "execution_count": null,
      "outputs": []
    },
    {
      "cell_type": "code",
      "metadata": {
        "id": "60IEv7_sRblR"
      },
      "source": [
        "#de UNTRS solo tomamos el id y geometry.\n",
        "copy_untrs = untrs[['COD_ID','geometry']]\n",
        "copy_untrs"
      ],
      "execution_count": null,
      "outputs": []
    },
    {
      "cell_type": "code",
      "metadata": {
        "id": "V2oPOhA6Rjuo"
      },
      "source": [
        "group_ucbt_untrd_untrs = untrd_ucbt_group.merge(copy_untrs, left_on='UNI_TR_S', right_on='COD_ID')\n",
        "group_ucbt_untrd_untrs = group_ucbt_untrd_untrs.drop(['COD_ID'], axis=1)\n",
        "group_ucbt_untrd_untrs.rename(columns={\"geometry\": \"geometry_untrs\"}, inplace=True)\n",
        "group_ucbt_untrd_untrs"
      ],
      "execution_count": null,
      "outputs": []
    },
    {
      "cell_type": "markdown",
      "metadata": {
        "id": "M7DVfIv9kRca"
      },
      "source": [
        "## Generación de variables geográficas\n",
        "\n",
        "5 - Calcule la distancia euclideana de cada untrd al correspondiente untrs y adicione al dataset.\n",
        "\n",
        "6 - Cree una variable que sea la distancia al centro urbano mas cercanos.\n",
        "\n",
        "7 - Usando OSMnx descargue la informacion sobre caminos dentro del area de cobertura de la distribuidora. Cree variables para las distancias a autopistas (trunk), a caminos primarios (primary) y a caminos secundarios (secondary)\n"
      ]
    },
    {
      "cell_type": "code",
      "metadata": {
        "id": "_P6ya3sNa2Xr"
      },
      "source": [
        "import osmnx "
      ],
      "execution_count": null,
      "outputs": []
    },
    {
      "cell_type": "code",
      "metadata": {
        "id": "CzOHMQDUbXxL"
      },
      "source": [
        "group_ucbt_untrd_untrs['EUC_DIST_TRUNK']=-1\n",
        "group_ucbt_untrd_untrs['EUC_DIST_PRIMARY']=-1\n",
        "group_ucbt_untrd_untrs['EUC_DIST_SECUNDARY']=-1"
      ],
      "execution_count": null,
      "outputs": []
    },
    {
      "cell_type": "code",
      "metadata": {
        "id": "gKAv5MYFVprW"
      },
      "source": [
        "group_ucbt_untrd_untrs['EUC_DIST_UNTRS'] = -1\n",
        "\n"
      ],
      "execution_count": null,
      "outputs": []
    },
    {
      "cell_type": "code",
      "metadata": {
        "id": "tVEFPWjOKlBV"
      },
      "source": [
        "\n",
        "for i,t in group_ucbt_untrd_untrs.iterrows():\n",
        "    dist = group_ucbt_untrd_untrs.geometry_untrd[i].distance(group_ucbt_untrd_untrs.geometry_untrs[i])\n",
        "    group_ucbt_untrd_untrs.EUC_DIST_UNTRS.loc[i] = dist"
      ],
      "execution_count": null,
      "outputs": []
    },
    {
      "cell_type": "code",
      "metadata": {
        "id": "vci20YxhUksO"
      },
      "source": [
        "group_ucbt_untrd_untrs"
      ],
      "execution_count": null,
      "outputs": []
    },
    {
      "cell_type": "code",
      "metadata": {
        "id": "7CsEb6riVlC4"
      },
      "source": [
        "centro_urbano = Point(136050.57090952771250159, 7531008.69087591022253036)\n",
        "group_ucbt_untrd_untrs['EUC_DIST_CENT'] = -1\n",
        "for i,t in group_ucbt_untrd_untrs.iterrows():\n",
        "    eud = group_ucbt_untrd_untrs.geometry_untrd[i].distance(centro_urbano)\n",
        "    group_ucbt_untrd_untrs.EUC_DIST_CENT.loc[i] = eud\n",
        "    \n",
        "group_ucbt_untrd_untrs "
      ],
      "execution_count": null,
      "outputs": []
    },
    {
      "cell_type": "markdown",
      "metadata": {
        "id": "2tomn5LUKlBX"
      },
      "source": [
        "## [Opcional] Generación de variables con arboles de busqueda\n",
        "\n",
        "8 - Cree variables que indique la cantidad de consumidores en radios de 25, 50 y 100 metros del transformador.\n",
        "\n",
        "9 - Cree una variable indicando la distancia media de cada fila (cada untrd) a los 5 untrd mas cercanos.\n",
        "\n",
        "10 - Usando OSMnx descargue los footprints de edificios disponibles, y cree una variable que indique la cantidad de edificios en un radio de 200 metros al transformador."
      ]
    },
    {
      "cell_type": "code",
      "metadata": {
        "id": "hqE3bJT3KlBY"
      },
      "source": [
        "group_ucbt_untrd_untrs[group_ucbt_untrd_untrs.EUC_DIST_UNTRS<=33877]"
      ],
      "execution_count": null,
      "outputs": []
    },
    {
      "cell_type": "code",
      "metadata": {
        "id": "1r3kl1tQVlC-"
      },
      "source": [
        ""
      ],
      "execution_count": null,
      "outputs": []
    }
  ]
}