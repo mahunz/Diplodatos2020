{
  "nbformat": 4,
  "nbformat_minor": 0,
  "metadata": {
    "kernelspec": {
      "display_name": "Python 3",
      "language": "python",
      "name": "python3"
    },
    "language_info": {
      "codemirror_mode": {
        "name": "ipython",
        "version": 3
      },
      "file_extension": ".py",
      "mimetype": "text/x-python",
      "name": "python",
      "nbconvert_exporter": "python",
      "pygments_lexer": "ipython3",
      "version": "3.8.3"
    },
    "colab": {
      "name": "2_Analisis_y_Curacion-checkpoint.ipynb",
      "provenance": [],
      "toc_visible": true,
      "include_colab_link": true
    }
  },
  "cells": [
    {
      "cell_type": "markdown",
      "metadata": {
        "id": "view-in-github",
        "colab_type": "text"
      },
      "source": [
        "<a href=\"https://colab.research.google.com/github/mahunz/Diplodatos2020/blob/master/.ipynb_checkpoints/2_Analisis_y_Curacion-checkpoint.ipynb\" target=\"_parent\"><img src=\"https://colab.research.google.com/assets/colab-badge.svg\" alt=\"Open In Colab\"/></a>"
      ]
    },
    {
      "cell_type": "markdown",
      "metadata": {
        "id": "BBYCHKZ7EBaF",
        "colab_type": "text"
      },
      "source": [
        "<center>\n",
        "<h2>Universidad Nacional de Córdoba - Facultad de Matemática, Astronomía, Física y Computación</h2>\n",
        "<h3>Diplomatura en Ciencia de Datos, Aprendizaje Automático y sus Aplicaciones 2020</h3>\n",
        "<h3>Predicción de la Calidad de Servicio</h3>\n",
        "<h3>Análisis y Curación</h3>\n",
        "</center>\n",
        "</left>\n",
        "<h4>Mentor: Martín Hunziker</h4>\n",
        "\n",
        "[Link Mentoria](https://sites.google.com/view/mentorias2020-diplodatos/ciencia-de-datos-aplicada-en-la-distribuci%C3%B3n-de-energ%C3%ADa-el%C3%A9ctrica?authuser=0).\n",
        "\n",
        "</left>\n",
        "</left>"
      ]
    },
    {
      "cell_type": "markdown",
      "metadata": {
        "id": "DMDq1oO9EBaG",
        "colab_type": "text"
      },
      "source": [
        "### Introducción\n",
        "\n",
        "En la siguiente notebook, se presentará la consigna a seguir para el segundo práctico de la materia Análisis y Curación. El objetivo consiste en vincular las tablas del dataset, así como iniciar el tratamiento de los datos geográficos.\n",
        "\n",
        "Como referencia para el análisis geográfico utilizaremos la notebook 2_0_Intro_Variables_georefrenciadas de Ramiro Caro.\n"
      ]
    },
    {
      "cell_type": "code",
      "metadata": {
        "id": "RVUB6kNyEBaH",
        "colab_type": "code",
        "colab": {
          "base_uri": "https://localhost:8080/",
          "height": 442
        },
        "outputId": "1c9adf65-37a6-4cbb-bba2-b09ea40b3c40"
      },
      "source": [
        "# Instalación de librerias en Collab\n",
        "!pip install geopandas\n",
        "#!apt install libspatialindex-dev\n",
        "#!pip install rtree\n",
        "#!pip install osmnx\n",
        "#!pip install contextily"
      ],
      "execution_count": 1,
      "outputs": [
        {
          "output_type": "stream",
          "text": [
            "Collecting geopandas\n",
            "\u001b[?25l  Downloading https://files.pythonhosted.org/packages/f8/dd/c0a6429cc7692efd5c99420c9df525c40f472b50705871a770449027e244/geopandas-0.8.0-py2.py3-none-any.whl (962kB)\n",
            "\r\u001b[K     |▍                               | 10kB 16.2MB/s eta 0:00:01\r\u001b[K     |▊                               | 20kB 1.7MB/s eta 0:00:01\r\u001b[K     |█                               | 30kB 2.2MB/s eta 0:00:01\r\u001b[K     |█▍                              | 40kB 2.5MB/s eta 0:00:01\r\u001b[K     |█▊                              | 51kB 1.9MB/s eta 0:00:01\r\u001b[K     |██                              | 61kB 2.2MB/s eta 0:00:01\r\u001b[K     |██▍                             | 71kB 2.5MB/s eta 0:00:01\r\u001b[K     |██▊                             | 81kB 2.7MB/s eta 0:00:01\r\u001b[K     |███                             | 92kB 2.9MB/s eta 0:00:01\r\u001b[K     |███▍                            | 102kB 2.7MB/s eta 0:00:01\r\u001b[K     |███▊                            | 112kB 2.7MB/s eta 0:00:01\r\u001b[K     |████                            | 122kB 2.7MB/s eta 0:00:01\r\u001b[K     |████▍                           | 133kB 2.7MB/s eta 0:00:01\r\u001b[K     |████▊                           | 143kB 2.7MB/s eta 0:00:01\r\u001b[K     |█████                           | 153kB 2.7MB/s eta 0:00:01\r\u001b[K     |█████▌                          | 163kB 2.7MB/s eta 0:00:01\r\u001b[K     |█████▉                          | 174kB 2.7MB/s eta 0:00:01\r\u001b[K     |██████▏                         | 184kB 2.7MB/s eta 0:00:01\r\u001b[K     |██████▌                         | 194kB 2.7MB/s eta 0:00:01\r\u001b[K     |██████▉                         | 204kB 2.7MB/s eta 0:00:01\r\u001b[K     |███████▏                        | 215kB 2.7MB/s eta 0:00:01\r\u001b[K     |███████▌                        | 225kB 2.7MB/s eta 0:00:01\r\u001b[K     |███████▉                        | 235kB 2.7MB/s eta 0:00:01\r\u001b[K     |████████▏                       | 245kB 2.7MB/s eta 0:00:01\r\u001b[K     |████████▌                       | 256kB 2.7MB/s eta 0:00:01\r\u001b[K     |████████▉                       | 266kB 2.7MB/s eta 0:00:01\r\u001b[K     |█████████▏                      | 276kB 2.7MB/s eta 0:00:01\r\u001b[K     |█████████▌                      | 286kB 2.7MB/s eta 0:00:01\r\u001b[K     |█████████▉                      | 296kB 2.7MB/s eta 0:00:01\r\u001b[K     |██████████▏                     | 307kB 2.7MB/s eta 0:00:01\r\u001b[K     |██████████▋                     | 317kB 2.7MB/s eta 0:00:01\r\u001b[K     |███████████                     | 327kB 2.7MB/s eta 0:00:01\r\u001b[K     |███████████▎                    | 337kB 2.7MB/s eta 0:00:01\r\u001b[K     |███████████▋                    | 348kB 2.7MB/s eta 0:00:01\r\u001b[K     |████████████                    | 358kB 2.7MB/s eta 0:00:01\r\u001b[K     |████████████▎                   | 368kB 2.7MB/s eta 0:00:01\r\u001b[K     |████████████▋                   | 378kB 2.7MB/s eta 0:00:01\r\u001b[K     |█████████████                   | 389kB 2.7MB/s eta 0:00:01\r\u001b[K     |█████████████▎                  | 399kB 2.7MB/s eta 0:00:01\r\u001b[K     |█████████████▋                  | 409kB 2.7MB/s eta 0:00:01\r\u001b[K     |██████████████                  | 419kB 2.7MB/s eta 0:00:01\r\u001b[K     |██████████████▎                 | 430kB 2.7MB/s eta 0:00:01\r\u001b[K     |██████████████▋                 | 440kB 2.7MB/s eta 0:00:01\r\u001b[K     |███████████████                 | 450kB 2.7MB/s eta 0:00:01\r\u001b[K     |███████████████▎                | 460kB 2.7MB/s eta 0:00:01\r\u001b[K     |███████████████▋                | 471kB 2.7MB/s eta 0:00:01\r\u001b[K     |████████████████                | 481kB 2.7MB/s eta 0:00:01\r\u001b[K     |████████████████▍               | 491kB 2.7MB/s eta 0:00:01\r\u001b[K     |████████████████▊               | 501kB 2.7MB/s eta 0:00:01\r\u001b[K     |█████████████████               | 512kB 2.7MB/s eta 0:00:01\r\u001b[K     |█████████████████▍              | 522kB 2.7MB/s eta 0:00:01\r\u001b[K     |█████████████████▊              | 532kB 2.7MB/s eta 0:00:01\r\u001b[K     |██████████████████              | 542kB 2.7MB/s eta 0:00:01\r\u001b[K     |██████████████████▍             | 552kB 2.7MB/s eta 0:00:01\r\u001b[K     |██████████████████▊             | 563kB 2.7MB/s eta 0:00:01\r\u001b[K     |███████████████████             | 573kB 2.7MB/s eta 0:00:01\r\u001b[K     |███████████████████▍            | 583kB 2.7MB/s eta 0:00:01\r\u001b[K     |███████████████████▊            | 593kB 2.7MB/s eta 0:00:01\r\u001b[K     |████████████████████            | 604kB 2.7MB/s eta 0:00:01\r\u001b[K     |████████████████████▍           | 614kB 2.7MB/s eta 0:00:01\r\u001b[K     |████████████████████▊           | 624kB 2.7MB/s eta 0:00:01\r\u001b[K     |█████████████████████▏          | 634kB 2.7MB/s eta 0:00:01\r\u001b[K     |█████████████████████▌          | 645kB 2.7MB/s eta 0:00:01\r\u001b[K     |█████████████████████▉          | 655kB 2.7MB/s eta 0:00:01\r\u001b[K     |██████████████████████▏         | 665kB 2.7MB/s eta 0:00:01\r\u001b[K     |██████████████████████▌         | 675kB 2.7MB/s eta 0:00:01\r\u001b[K     |██████████████████████▉         | 686kB 2.7MB/s eta 0:00:01\r\u001b[K     |███████████████████████▏        | 696kB 2.7MB/s eta 0:00:01\r\u001b[K     |███████████████████████▌        | 706kB 2.7MB/s eta 0:00:01\r\u001b[K     |███████████████████████▉        | 716kB 2.7MB/s eta 0:00:01\r\u001b[K     |████████████████████████▏       | 727kB 2.7MB/s eta 0:00:01\r\u001b[K     |████████████████████████▌       | 737kB 2.7MB/s eta 0:00:01\r\u001b[K     |████████████████████████▉       | 747kB 2.7MB/s eta 0:00:01\r\u001b[K     |█████████████████████████▏      | 757kB 2.7MB/s eta 0:00:01\r\u001b[K     |█████████████████████████▌      | 768kB 2.7MB/s eta 0:00:01\r\u001b[K     |█████████████████████████▉      | 778kB 2.7MB/s eta 0:00:01\r\u001b[K     |██████████████████████████▏     | 788kB 2.7MB/s eta 0:00:01\r\u001b[K     |██████████████████████████▋     | 798kB 2.7MB/s eta 0:00:01\r\u001b[K     |███████████████████████████     | 808kB 2.7MB/s eta 0:00:01\r\u001b[K     |███████████████████████████▎    | 819kB 2.7MB/s eta 0:00:01\r\u001b[K     |███████████████████████████▋    | 829kB 2.7MB/s eta 0:00:01\r\u001b[K     |████████████████████████████    | 839kB 2.7MB/s eta 0:00:01\r\u001b[K     |████████████████████████████▎   | 849kB 2.7MB/s eta 0:00:01\r\u001b[K     |████████████████████████████▋   | 860kB 2.7MB/s eta 0:00:01\r\u001b[K     |█████████████████████████████   | 870kB 2.7MB/s eta 0:00:01\r\u001b[K     |█████████████████████████████▎  | 880kB 2.7MB/s eta 0:00:01\r\u001b[K     |█████████████████████████████▋  | 890kB 2.7MB/s eta 0:00:01\r\u001b[K     |██████████████████████████████  | 901kB 2.7MB/s eta 0:00:01\r\u001b[K     |██████████████████████████████▎ | 911kB 2.7MB/s eta 0:00:01\r\u001b[K     |██████████████████████████████▋ | 921kB 2.7MB/s eta 0:00:01\r\u001b[K     |███████████████████████████████ | 931kB 2.7MB/s eta 0:00:01\r\u001b[K     |███████████████████████████████▎| 942kB 2.7MB/s eta 0:00:01\r\u001b[K     |███████████████████████████████▊| 952kB 2.7MB/s eta 0:00:01\r\u001b[K     |████████████████████████████████| 962kB 2.7MB/s \n",
            "\u001b[?25hCollecting pyproj>=2.2.0\n",
            "\u001b[?25l  Downloading https://files.pythonhosted.org/packages/e5/c3/071e080230ac4b6c64f1a2e2f9161c9737a2bc7b683d2c90b024825000c0/pyproj-2.6.1.post1-cp36-cp36m-manylinux2010_x86_64.whl (10.9MB)\n",
            "\u001b[K     |████████████████████████████████| 10.9MB 60kB/s \n",
            "\u001b[?25hCollecting fiona\n",
            "\u001b[?25l  Downloading https://files.pythonhosted.org/packages/ec/20/4e63bc5c6e62df889297b382c3ccd4a7a488b00946aaaf81a118158c6f09/Fiona-1.8.13.post1-cp36-cp36m-manylinux1_x86_64.whl (14.7MB)\n",
            "\u001b[K     |████████████████████████████████| 14.7MB 307kB/s \n",
            "\u001b[?25hRequirement already satisfied: shapely in /usr/local/lib/python3.6/dist-packages (from geopandas) (1.7.0)\n",
            "Requirement already satisfied: pandas>=0.23.0 in /usr/local/lib/python3.6/dist-packages (from geopandas) (1.0.5)\n",
            "Requirement already satisfied: six>=1.7 in /usr/local/lib/python3.6/dist-packages (from fiona->geopandas) (1.12.0)\n",
            "Requirement already satisfied: attrs>=17 in /usr/local/lib/python3.6/dist-packages (from fiona->geopandas) (19.3.0)\n",
            "Collecting cligj>=0.5\n",
            "  Downloading https://files.pythonhosted.org/packages/e4/be/30a58b4b0733850280d01f8bd132591b4668ed5c7046761098d665ac2174/cligj-0.5.0-py3-none-any.whl\n",
            "Requirement already satisfied: click<8,>=4.0 in /usr/local/lib/python3.6/dist-packages (from fiona->geopandas) (7.1.2)\n",
            "Collecting click-plugins>=1.0\n",
            "  Downloading https://files.pythonhosted.org/packages/e9/da/824b92d9942f4e472702488857914bdd50f73021efea15b4cad9aca8ecef/click_plugins-1.1.1-py2.py3-none-any.whl\n",
            "Collecting munch\n",
            "  Downloading https://files.pythonhosted.org/packages/cc/ab/85d8da5c9a45e072301beb37ad7f833cd344e04c817d97e0cc75681d248f/munch-2.5.0-py2.py3-none-any.whl\n",
            "Requirement already satisfied: numpy>=1.13.3 in /usr/local/lib/python3.6/dist-packages (from pandas>=0.23.0->geopandas) (1.18.5)\n",
            "Requirement already satisfied: pytz>=2017.2 in /usr/local/lib/python3.6/dist-packages (from pandas>=0.23.0->geopandas) (2018.9)\n",
            "Requirement already satisfied: python-dateutil>=2.6.1 in /usr/local/lib/python3.6/dist-packages (from pandas>=0.23.0->geopandas) (2.8.1)\n",
            "Installing collected packages: pyproj, cligj, click-plugins, munch, fiona, geopandas\n",
            "Successfully installed click-plugins-1.1.1 cligj-0.5.0 fiona-1.8.13.post1 geopandas-0.8.0 munch-2.5.0 pyproj-2.6.1.post1\n"
          ],
          "name": "stdout"
        }
      ]
    },
    {
      "cell_type": "markdown",
      "metadata": {
        "id": "3owI3Z5OEBaL",
        "colab_type": "text"
      },
      "source": [
        "## Carga de datos\n",
        "\n",
        "Vamos a cargar los datos de los transformadores de distribución (UNTRD) A partir de este punto, utilizaremos los transformadores de distribucion como elemnto de analisis, e incorporaremos datos de consumidores, subestacion y lineas de distribucion."
      ]
    },
    {
      "cell_type": "code",
      "metadata": {
        "colab_type": "code",
        "id": "7QiqtG-9ybT-",
        "colab": {}
      },
      "source": [
        "import geopandas as gpd\n",
        "import pandas as pd\n",
        "from shapely.geometry import Point, LineString, Polygon, MultiPoint, MultiLineString\n",
        "#import contextily as ctx"
      ],
      "execution_count": 3,
      "outputs": []
    },
    {
      "cell_type": "code",
      "metadata": {
        "colab_type": "code",
        "id": "a-wN4MnfyTCk",
        "colab": {
          "base_uri": "https://localhost:8080/",
          "height": 122
        },
        "outputId": "f465e8bd-1dd9-40b2-f880-d4bf069f8390"
      },
      "source": [
        "# Editar con el path correspondiente a sus datos\n",
        "from google.colab import drive\n",
        "drive.mount('/content/gdrive')\n"
      ],
      "execution_count": 8,
      "outputs": [
        {
          "output_type": "stream",
          "text": [
            "Go to this URL in a browser: https://accounts.google.com/o/oauth2/auth?client_id=947318989803-6bn6qk8qdgf4n4g3pfee6491hc0brc4i.apps.googleusercontent.com&redirect_uri=urn%3aietf%3awg%3aoauth%3a2.0%3aoob&response_type=code&scope=email%20https%3a%2f%2fwww.googleapis.com%2fauth%2fdocs.test%20https%3a%2f%2fwww.googleapis.com%2fauth%2fdrive%20https%3a%2f%2fwww.googleapis.com%2fauth%2fdrive.photos.readonly%20https%3a%2f%2fwww.googleapis.com%2fauth%2fpeopleapi.readonly\n",
            "\n",
            "Enter your authorization code:\n",
            "··········\n",
            "Mounted at /content/gdrive\n"
          ],
          "name": "stdout"
        }
      ]
    },
    {
      "cell_type": "code",
      "metadata": {
        "id": "GC2fJPMtLqt1",
        "colab_type": "code",
        "colab": {}
      },
      "source": [
        "data_path = '/content/gdrive/My Drive/Diplodatos/ENF_6612_2018-12-31_M10_20190529-1610.gdb' # Actualizar ubicación"
      ],
      "execution_count": 10,
      "outputs": []
    },
    {
      "cell_type": "code",
      "metadata": {
        "colab_type": "code",
        "id": "T1xC2lhcuRy-",
        "colab": {
          "base_uri": "https://localhost:8080/",
          "height": 136
        },
        "outputId": "c4e25125-9dd2-42ab-dda0-edd07ff131df"
      },
      "source": [
        "untrd = gpd.read_file(data_path, driver='FileGDB', layer='UNTRD')\n",
        "untrd.shape, untrd.columns"
      ],
      "execution_count": 12,
      "outputs": [
        {
          "output_type": "execute_result",
          "data": {
            "text/plain": [
              "((3879, 33),\n",
              " Index(['COD_ID', 'DIST', 'PAC_1', 'PAC_2', 'PAC_3', 'FAS_CON_P', 'FAS_CON_S',\n",
              "        'FAS_CON_T', 'SIT_ATIV', 'TIP_UNID', 'POS', 'ATRB_PER', 'TEN_LIN_SE',\n",
              "        'CAP_ELO', 'CAP_CHA', 'TAP', 'CONF', 'POSTO', 'POT_NOM', 'PER_FER',\n",
              "        'PER_TOT', 'DAT_CON', 'CTMT', 'UNI_TR_S', 'SUB', 'CONJ', 'MUN', 'BANC',\n",
              "        'TIP_TRAFO', 'MRT', 'DESCR', 'ARE_LOC', 'geometry'],\n",
              "       dtype='object'))"
            ]
          },
          "metadata": {
            "tags": []
          },
          "execution_count": 12
        }
      ]
    },
    {
      "cell_type": "code",
      "metadata": {
        "colab_type": "code",
        "id": "F0yigp8pyWvx",
        "colab": {
          "base_uri": "https://localhost:8080/",
          "height": 204
        },
        "outputId": "feb4d9c9-e163-45d7-a408-58a5c5422791"
      },
      "source": [
        "untrs = gpd.read_file(data_path, driver='FileGDB', layer='UNTRS')\n",
        "untrs.shape, untrs.columns"
      ],
      "execution_count": 13,
      "outputs": [
        {
          "output_type": "execute_result",
          "data": {
            "text/plain": [
              "((6, 53),\n",
              " Index(['COD_ID', 'SUB', 'BARR_1', 'BARR_2', 'BARR_3', 'PAC_1', 'PAC_2',\n",
              "        'PAC_3', 'DIST', 'FAS_CON_P', 'FAS_CON_S', 'FAS_CON_T', 'SIT_ATIV',\n",
              "        'TIP_UNID', 'POS', 'POT_NOM', 'POT_F01', 'POT_F02', 'PER_FER',\n",
              "        'PER_TOT', 'BANC', 'DAT_CON', 'CONJ', 'MUN', 'TIP_TRAFO', 'ALOC_PERD',\n",
              "        'ENES_01', 'ENES_02', 'ENES_03', 'ENES_04', 'ENES_05', 'ENES_06',\n",
              "        'ENES_07', 'ENES_08', 'ENES_09', 'ENES_10', 'ENES_11', 'ENES_12',\n",
              "        'ENET_01', 'ENET_02', 'ENET_03', 'ENET_04', 'ENET_05', 'ENET_06',\n",
              "        'ENET_07', 'ENET_08', 'ENET_09', 'ENET_10', 'ENET_11', 'ENET_12',\n",
              "        'DESCR', 'ARE_LOC', 'geometry'],\n",
              "       dtype='object'))"
            ]
          },
          "metadata": {
            "tags": []
          },
          "execution_count": 13
        }
      ]
    },
    {
      "cell_type": "code",
      "metadata": {
        "colab_type": "code",
        "id": "neS4sBkdzboc",
        "colab": {
          "base_uri": "https://localhost:8080/",
          "height": 187
        },
        "outputId": "9b717125-3a76-48be-f8bc-f162b8246646"
      },
      "source": [
        "ssmt = gpd.read_file(data_path, driver='FileGDB', layer='SSDMT')\n",
        "ssmt.columns, ssmt.columns"
      ],
      "execution_count": 14,
      "outputs": [
        {
          "output_type": "execute_result",
          "data": {
            "text/plain": [
              "(Index(['COD_ID', 'PN_CON_1', 'PN_CON_2', 'CTMT', 'UNI_TR_S', 'SUB', 'CONJ',\n",
              "        'DIST', 'PAC_1', 'PAC_2', 'FAS_CON', 'TIP_CND', 'POS', 'ODI_FAS',\n",
              "        'TI_FAS', 'ODI_NEU', 'TI_NEU', 'COMP', 'DESCR', 'SITCONTFAS',\n",
              "        'SITCONTNEU', 'ARE_LOC', 'Shape_Length', 'geometry'],\n",
              "       dtype='object'),\n",
              " Index(['COD_ID', 'PN_CON_1', 'PN_CON_2', 'CTMT', 'UNI_TR_S', 'SUB', 'CONJ',\n",
              "        'DIST', 'PAC_1', 'PAC_2', 'FAS_CON', 'TIP_CND', 'POS', 'ODI_FAS',\n",
              "        'TI_FAS', 'ODI_NEU', 'TI_NEU', 'COMP', 'DESCR', 'SITCONTFAS',\n",
              "        'SITCONTNEU', 'ARE_LOC', 'Shape_Length', 'geometry'],\n",
              "       dtype='object'))"
            ]
          },
          "metadata": {
            "tags": []
          },
          "execution_count": 14
        }
      ]
    },
    {
      "cell_type": "code",
      "metadata": {
        "colab_type": "code",
        "id": "Sp2Ewh9L0cke",
        "colab": {
          "base_uri": "https://localhost:8080/",
          "height": 289
        },
        "outputId": "9ffa6c0a-8265-496b-cdb9-1db4a00e8d7c"
      },
      "source": [
        "segcon = gpd.read_file(data_path, driver='FileGDB', layer='SEGCON')\n",
        "segcon.columns, segcon.columns"
      ],
      "execution_count": 15,
      "outputs": [
        {
          "output_type": "execute_result",
          "data": {
            "text/plain": [
              "(Index(['COD_ID', 'DIST', 'GEOM_CAB', 'FORM_CAB', 'MAT_FAS_1', 'MAT_FAS_2',\n",
              "        'MAT_FAS_3', 'MAT_NEU', 'ISO_FAS_1', 'ISO_FAS_2', 'ISO_FAS_3',\n",
              "        'ISO_NEU', 'CND_FAS', 'R1', 'X1', 'FTRCNV', 'CNOM', 'CMAX', 'CM_FAS',\n",
              "        'TUC_FAS', 'A1_FAS', 'A2_FAS', 'A3_FAS', 'A4_FAS', 'A5_FAS', 'A6_FAS',\n",
              "        'CM_NEU', 'TUC_NEU', 'A1_NEU', 'A2_NEU', 'A3_NEU', 'A4_NEU', 'A5_NEU',\n",
              "        'A6_NEU', 'DESCR', 'BIT_FAS_1', 'BIT_FAS_2', 'BIT_FAS_3', 'BIT_NEU',\n",
              "        'geometry'],\n",
              "       dtype='object'),\n",
              " Index(['COD_ID', 'DIST', 'GEOM_CAB', 'FORM_CAB', 'MAT_FAS_1', 'MAT_FAS_2',\n",
              "        'MAT_FAS_3', 'MAT_NEU', 'ISO_FAS_1', 'ISO_FAS_2', 'ISO_FAS_3',\n",
              "        'ISO_NEU', 'CND_FAS', 'R1', 'X1', 'FTRCNV', 'CNOM', 'CMAX', 'CM_FAS',\n",
              "        'TUC_FAS', 'A1_FAS', 'A2_FAS', 'A3_FAS', 'A4_FAS', 'A5_FAS', 'A6_FAS',\n",
              "        'CM_NEU', 'TUC_NEU', 'A1_NEU', 'A2_NEU', 'A3_NEU', 'A4_NEU', 'A5_NEU',\n",
              "        'A6_NEU', 'DESCR', 'BIT_FAS_1', 'BIT_FAS_2', 'BIT_FAS_3', 'BIT_NEU',\n",
              "        'geometry'],\n",
              "       dtype='object'))"
            ]
          },
          "metadata": {
            "tags": []
          },
          "execution_count": 15
        }
      ]
    },
    {
      "cell_type": "code",
      "metadata": {
        "colab_type": "code",
        "id": "KacEd34JzdO4",
        "colab": {
          "base_uri": "https://localhost:8080/",
          "height": 255
        },
        "outputId": "407b7817-4dcd-4b43-8686-c0c279a76677"
      },
      "source": [
        "ucbt = gpd.read_file(data_path, driver='FileGDB', layer='UCBT')\n",
        "ucbt.columns, ucbt.columns"
      ],
      "execution_count": 16,
      "outputs": [
        {
          "output_type": "execute_result",
          "data": {
            "text/plain": [
              "(Index(['DIST', 'PAC', 'PN_CON', 'UNI_TR_D', 'CTMT', 'UNI_TR_S', 'SUB', 'CONJ',\n",
              "        'MUN', 'BRR', 'CEP', 'CLAS_SUB', 'CNAE', 'TIP_CC', 'FAS_CON', 'GRU_TEN',\n",
              "        'TEN_FORN', 'GRU_TAR', 'SIT_ATIV', 'DAT_CON', 'CAR_INST', 'LIV',\n",
              "        'ENE_01', 'ENE_02', 'ENE_03', 'ENE_04', 'ENE_05', 'ENE_06', 'ENE_07',\n",
              "        'ENE_08', 'ENE_09', 'ENE_10', 'ENE_11', 'ENE_12', 'DIC', 'FIC',\n",
              "        'SEMRED', 'DESCR', 'ARE_LOC', 'geometry'],\n",
              "       dtype='object'),\n",
              " Index(['DIST', 'PAC', 'PN_CON', 'UNI_TR_D', 'CTMT', 'UNI_TR_S', 'SUB', 'CONJ',\n",
              "        'MUN', 'BRR', 'CEP', 'CLAS_SUB', 'CNAE', 'TIP_CC', 'FAS_CON', 'GRU_TEN',\n",
              "        'TEN_FORN', 'GRU_TAR', 'SIT_ATIV', 'DAT_CON', 'CAR_INST', 'LIV',\n",
              "        'ENE_01', 'ENE_02', 'ENE_03', 'ENE_04', 'ENE_05', 'ENE_06', 'ENE_07',\n",
              "        'ENE_08', 'ENE_09', 'ENE_10', 'ENE_11', 'ENE_12', 'DIC', 'FIC',\n",
              "        'SEMRED', 'DESCR', 'ARE_LOC', 'geometry'],\n",
              "       dtype='object'))"
            ]
          },
          "metadata": {
            "tags": []
          },
          "execution_count": 16
        }
      ]
    },
    {
      "cell_type": "markdown",
      "metadata": {
        "colab_type": "text",
        "id": "pa-bOWcEhua5"
      },
      "source": [
        "## Información sobre consumidores\n",
        "\n",
        "1 - En base a los resultados obtenidos en el práctico 1, selecciones las informaciones que pueden ser más relevantes para la estimación de calidad de servicio.\n",
        "\n",
        "2 - Realize el tratamiento de las filas con valores inválidos y outliers, y luego agrupe los datos en base a la variable UNI_TR_D.\n",
        "\n",
        "3 - Justifique los metodos utilizados para agrupar las variables numéricas y categó>ricas."
      ]
    },
    {
      "cell_type": "code",
      "metadata": {
        "colab_type": "code",
        "id": "NuQfSR9NJZe2",
        "colab": {}
      },
      "source": [
        "## "
      ],
      "execution_count": null,
      "outputs": []
    },
    {
      "cell_type": "markdown",
      "metadata": {
        "colab_type": "text",
        "id": "L9pgI86JjO8v"
      },
      "source": [
        "## Información sobre subestación\n",
        "\n",
        "4 - Analise la información disponible sobre los transformadores de las Subestaciones (UNI_TR_S > UNTRS)\n",
        "\n",
        "5 - Seleccione las variables que considere que podrían ser relevantes, realice tratamiento de valores inválidos y outliers correspondientes. Agrupe los valores por UNTRD y agregue al dataset."
      ]
    },
    {
      "cell_type": "code",
      "metadata": {
        "colab_type": "code",
        "id": "MywEq68gzzGh",
        "colab": {}
      },
      "source": [
        ""
      ],
      "execution_count": null,
      "outputs": []
    },
    {
      "cell_type": "markdown",
      "metadata": {
        "colab_type": "text",
        "id": "M7DVfIv9kRca"
      },
      "source": [
        "## Generación de variables en base a puntos de referencia\n",
        "\n",
        "6 - Calcule la distancia euclideana de cada untrd al correspondiente untrs y adicione al dataset.\n"
      ]
    }
  ]
}