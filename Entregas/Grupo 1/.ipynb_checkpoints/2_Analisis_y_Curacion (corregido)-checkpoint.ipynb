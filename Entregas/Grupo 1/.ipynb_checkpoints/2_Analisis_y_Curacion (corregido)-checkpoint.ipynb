{
  "nbformat": 4,
  "nbformat_minor": 0,
  "metadata": {
    "kernelspec": {
      "display_name": "Python 3",
      "language": "python",
      "name": "python3"
    },
    "language_info": {
      "codemirror_mode": {
        "name": "ipython",
        "version": 3
      },
      "file_extension": ".py",
      "mimetype": "text/x-python",
      "name": "python",
      "nbconvert_exporter": "python",
      "pygments_lexer": "ipython3",
      "version": "3.6.10"
    },
    "colab": {
      "name": "2_Analisis_y_Curacion.ipynb",
      "provenance": [],
      "collapsed_sections": [
        "YmeYdztnc8wL"
      ],
      "toc_visible": true
    }
  },
  "cells": [
    {
      "cell_type": "markdown",
      "metadata": {
        "id": "U_4sCBvpc8wK",
        "colab_type": "text"
      },
      "source": [
        "<center>\n",
        "<h2>Universidad Nacional de Córdoba - Facultad de Matemática, Astronomía, Física y Computación</h2>\n",
        "<h3>Diplomatura en Ciencia de Datos, Aprendizaje Automático y sus Aplicaciones 2020</h3>\n",
        "<h3>Predicción de la Calidad de Servicio</h3>\n",
        "<h3>Análisis y Curación</h3>\n",
        "</center>\n",
        "</left>\n",
        "<h4>Mentor: Martín Hunziker</h4>\n",
        "\n",
        "[Link Mentoria](https://sites.google.com/view/mentorias2020-diplodatos/ciencia-de-datos-aplicada-en-la-distribuci%C3%B3n-de-energ%C3%ADa-el%C3%A9ctrica?authuser=0).\n",
        "\n",
        "</left>\n",
        "</left>"
      ]
    },
    {
      "cell_type": "markdown",
      "metadata": {
        "id": "YmeYdztnc8wL",
        "colab_type": "text"
      },
      "source": [
        "### Introducción\n",
        "\n",
        "En la siguiente notebook, se presentará la consigna a seguir para el segundo práctico de la materia Análisis y Curación. El objetivo consiste en vincular las tablas del dataset, así como iniciar el tratamiento de los datos geográficos.\n",
        "\n",
        "Como referencia para el análisis geográfico utilizaremos la notebook 2_0_Intro_Variables_georefrenciadas de Ramiro Caro.\n"
      ]
    },
    {
      "cell_type": "code",
      "metadata": {
        "id": "qNxqIt20c8wM",
        "colab_type": "code",
        "colab": {
          "base_uri": "https://localhost:8080/",
          "height": 0
        },
        "outputId": "9f34c7ab-c20a-4ede-cb75-0eaf5706b8c5"
      },
      "source": [
        "# Instalación de librerias en Collab\n",
        "!pip install geopandas\n",
        "!apt install libspatialindex-dev\n",
        "!pip install rtree\n",
        "!pip install osmnx\n",
        "!pip install contextily\n",
        "\n",
        "!wget -nc https://github.com/mahunz/Diplodatos2020/blob/master/Dataset/ENF_6612_2018-12-31_M10_20190529-1610.gdb.7z?raw=true\n",
        "!apt-get install p7zip\n",
        "!mkdir -p Dataset\n",
        "!mv ENF_6612_2018-12-31_M10_20190529-1610.gdb.7z?raw=true ./Dataset/ENF_6612_2018-12-31_M10_20190529-1610.gdb.7z\n",
        "!7za x ./Dataset/ENF_6612_2018-12-31_M10_20190529-1610.gdb.7z\n",
        "!mv ENF_6612_2018-12-31_M10_20190529-1610.gdb ./Dataset/ENF_6612_2018-12-31_M10_20190529-1610.gdb"
      ],
      "execution_count": 1,
      "outputs": [
        {
          "output_type": "stream",
          "text": [
            "Collecting geopandas\n",
            "\u001b[?25l  Downloading https://files.pythonhosted.org/packages/f7/a4/e66aafbefcbb717813bf3a355c8c4fc3ed04ea1dd7feb2920f2f4f868921/geopandas-0.8.1-py2.py3-none-any.whl (962kB)\n",
            "\u001b[K     |████████████████████████████████| 972kB 2.7MB/s \n",
            "\u001b[?25hRequirement already satisfied: pandas>=0.23.0 in /usr/local/lib/python3.6/dist-packages (from geopandas) (1.0.5)\n",
            "Collecting fiona\n",
            "\u001b[?25l  Downloading https://files.pythonhosted.org/packages/ec/20/4e63bc5c6e62df889297b382c3ccd4a7a488b00946aaaf81a118158c6f09/Fiona-1.8.13.post1-cp36-cp36m-manylinux1_x86_64.whl (14.7MB)\n",
            "\u001b[K     |████████████████████████████████| 14.7MB 301kB/s \n",
            "\u001b[?25hRequirement already satisfied: shapely in /usr/local/lib/python3.6/dist-packages (from geopandas) (1.7.0)\n",
            "Collecting pyproj>=2.2.0\n",
            "\u001b[?25l  Downloading https://files.pythonhosted.org/packages/e5/c3/071e080230ac4b6c64f1a2e2f9161c9737a2bc7b683d2c90b024825000c0/pyproj-2.6.1.post1-cp36-cp36m-manylinux2010_x86_64.whl (10.9MB)\n",
            "\u001b[K     |████████████████████████████████| 10.9MB 39.9MB/s \n",
            "\u001b[?25hRequirement already satisfied: numpy>=1.13.3 in /usr/local/lib/python3.6/dist-packages (from pandas>=0.23.0->geopandas) (1.18.5)\n",
            "Requirement already satisfied: pytz>=2017.2 in /usr/local/lib/python3.6/dist-packages (from pandas>=0.23.0->geopandas) (2018.9)\n",
            "Requirement already satisfied: python-dateutil>=2.6.1 in /usr/local/lib/python3.6/dist-packages (from pandas>=0.23.0->geopandas) (2.8.1)\n",
            "Collecting click-plugins>=1.0\n",
            "  Downloading https://files.pythonhosted.org/packages/e9/da/824b92d9942f4e472702488857914bdd50f73021efea15b4cad9aca8ecef/click_plugins-1.1.1-py2.py3-none-any.whl\n",
            "Collecting munch\n",
            "  Downloading https://files.pythonhosted.org/packages/cc/ab/85d8da5c9a45e072301beb37ad7f833cd344e04c817d97e0cc75681d248f/munch-2.5.0-py2.py3-none-any.whl\n",
            "Requirement already satisfied: six>=1.7 in /usr/local/lib/python3.6/dist-packages (from fiona->geopandas) (1.15.0)\n",
            "Requirement already satisfied: click<8,>=4.0 in /usr/local/lib/python3.6/dist-packages (from fiona->geopandas) (7.1.2)\n",
            "Requirement already satisfied: attrs>=17 in /usr/local/lib/python3.6/dist-packages (from fiona->geopandas) (19.3.0)\n",
            "Collecting cligj>=0.5\n",
            "  Downloading https://files.pythonhosted.org/packages/e4/be/30a58b4b0733850280d01f8bd132591b4668ed5c7046761098d665ac2174/cligj-0.5.0-py3-none-any.whl\n",
            "Installing collected packages: click-plugins, munch, cligj, fiona, pyproj, geopandas\n",
            "Successfully installed click-plugins-1.1.1 cligj-0.5.0 fiona-1.8.13.post1 geopandas-0.8.1 munch-2.5.0 pyproj-2.6.1.post1\n",
            "Reading package lists... Done\n",
            "Building dependency tree       \n",
            "Reading state information... Done\n",
            "The following package was automatically installed and is no longer required:\n",
            "  libnvidia-common-440\n",
            "Use 'apt autoremove' to remove it.\n",
            "The following additional packages will be installed:\n",
            "  libspatialindex-c4v5 libspatialindex4v5\n",
            "The following NEW packages will be installed:\n",
            "  libspatialindex-c4v5 libspatialindex-dev libspatialindex4v5\n",
            "0 upgraded, 3 newly installed, 0 to remove and 35 not upgraded.\n",
            "Need to get 555 kB of archives.\n",
            "After this operation, 3,308 kB of additional disk space will be used.\n",
            "Get:1 http://archive.ubuntu.com/ubuntu bionic/universe amd64 libspatialindex4v5 amd64 1.8.5-5 [219 kB]\n",
            "Get:2 http://archive.ubuntu.com/ubuntu bionic/universe amd64 libspatialindex-c4v5 amd64 1.8.5-5 [51.7 kB]\n",
            "Get:3 http://archive.ubuntu.com/ubuntu bionic/universe amd64 libspatialindex-dev amd64 1.8.5-5 [285 kB]\n",
            "Fetched 555 kB in 1s (666 kB/s)\n",
            "Selecting previously unselected package libspatialindex4v5:amd64.\n",
            "(Reading database ... 144487 files and directories currently installed.)\n",
            "Preparing to unpack .../libspatialindex4v5_1.8.5-5_amd64.deb ...\n",
            "Unpacking libspatialindex4v5:amd64 (1.8.5-5) ...\n",
            "Selecting previously unselected package libspatialindex-c4v5:amd64.\n",
            "Preparing to unpack .../libspatialindex-c4v5_1.8.5-5_amd64.deb ...\n",
            "Unpacking libspatialindex-c4v5:amd64 (1.8.5-5) ...\n",
            "Selecting previously unselected package libspatialindex-dev:amd64.\n",
            "Preparing to unpack .../libspatialindex-dev_1.8.5-5_amd64.deb ...\n",
            "Unpacking libspatialindex-dev:amd64 (1.8.5-5) ...\n",
            "Setting up libspatialindex4v5:amd64 (1.8.5-5) ...\n",
            "Setting up libspatialindex-c4v5:amd64 (1.8.5-5) ...\n",
            "Setting up libspatialindex-dev:amd64 (1.8.5-5) ...\n",
            "Processing triggers for libc-bin (2.27-3ubuntu1) ...\n",
            "/sbin/ldconfig.real: /usr/local/lib/python3.6/dist-packages/ideep4py/lib/libmkldnn.so.0 is not a symbolic link\n",
            "\n",
            "Collecting rtree\n",
            "\u001b[?25l  Downloading https://files.pythonhosted.org/packages/56/6f/f1e91001d5ad9fa9bed65875152f5a1c7955c5763168cae309546e6e9fda/Rtree-0.9.4.tar.gz (62kB)\n",
            "\u001b[K     |████████████████████████████████| 71kB 2.1MB/s \n",
            "\u001b[?25hRequirement already satisfied: setuptools in /usr/local/lib/python3.6/dist-packages (from rtree) (49.2.0)\n",
            "Building wheels for collected packages: rtree\n",
            "  Building wheel for rtree (setup.py) ... \u001b[?25l\u001b[?25hdone\n",
            "  Created wheel for rtree: filename=Rtree-0.9.4-cp36-none-any.whl size=21765 sha256=bab114583d86ef5a9cd7a148df13eac2f16c7d70ebd9fc20cc5af63ba442c1f8\n",
            "  Stored in directory: /root/.cache/pip/wheels/ff/20/c5/0004ef7acb96745ec99be960053902b0b414a2aa2dcad5834e\n",
            "Successfully built rtree\n",
            "Installing collected packages: rtree\n",
            "Successfully installed rtree-0.9.4\n",
            "Collecting osmnx\n",
            "\u001b[?25l  Downloading https://files.pythonhosted.org/packages/21/61/2c02a9cdee4f2a5c62059128bc625f0df402ffc24e6459787ed55ec0121e/osmnx-0.15.1-py2.py3-none-any.whl (84kB)\n",
            "\u001b[K     |████████████████████████████████| 92kB 2.5MB/s \n",
            "\u001b[?25hRequirement already satisfied: pandas>=1.0 in /usr/local/lib/python3.6/dist-packages (from osmnx) (1.0.5)\n",
            "Requirement already satisfied: pyproj>=2.6 in /usr/local/lib/python3.6/dist-packages (from osmnx) (2.6.1.post1)\n",
            "Requirement already satisfied: descartes>=1.1 in /usr/local/lib/python3.6/dist-packages (from osmnx) (1.1.0)\n",
            "Requirement already satisfied: geopandas>=0.7 in /usr/local/lib/python3.6/dist-packages (from osmnx) (0.8.1)\n",
            "Requirement already satisfied: matplotlib>=3.2 in /usr/local/lib/python3.6/dist-packages (from osmnx) (3.2.2)\n",
            "Requirement already satisfied: Rtree>=0.9 in /usr/local/lib/python3.6/dist-packages (from osmnx) (0.9.4)\n",
            "Requirement already satisfied: requests>=2.23 in /usr/local/lib/python3.6/dist-packages (from osmnx) (2.23.0)\n",
            "Requirement already satisfied: Shapely>=1.7 in /usr/local/lib/python3.6/dist-packages (from osmnx) (1.7.0)\n",
            "Requirement already satisfied: networkx>=2.4 in /usr/local/lib/python3.6/dist-packages (from osmnx) (2.4)\n",
            "Requirement already satisfied: numpy>=1.18 in /usr/local/lib/python3.6/dist-packages (from osmnx) (1.18.5)\n",
            "Requirement already satisfied: python-dateutil>=2.6.1 in /usr/local/lib/python3.6/dist-packages (from pandas>=1.0->osmnx) (2.8.1)\n",
            "Requirement already satisfied: pytz>=2017.2 in /usr/local/lib/python3.6/dist-packages (from pandas>=1.0->osmnx) (2018.9)\n",
            "Requirement already satisfied: fiona in /usr/local/lib/python3.6/dist-packages (from geopandas>=0.7->osmnx) (1.8.13.post1)\n",
            "Requirement already satisfied: cycler>=0.10 in /usr/local/lib/python3.6/dist-packages (from matplotlib>=3.2->osmnx) (0.10.0)\n",
            "Requirement already satisfied: pyparsing!=2.0.4,!=2.1.2,!=2.1.6,>=2.0.1 in /usr/local/lib/python3.6/dist-packages (from matplotlib>=3.2->osmnx) (2.4.7)\n",
            "Requirement already satisfied: kiwisolver>=1.0.1 in /usr/local/lib/python3.6/dist-packages (from matplotlib>=3.2->osmnx) (1.2.0)\n",
            "Requirement already satisfied: setuptools in /usr/local/lib/python3.6/dist-packages (from Rtree>=0.9->osmnx) (49.2.0)\n",
            "Requirement already satisfied: idna<3,>=2.5 in /usr/local/lib/python3.6/dist-packages (from requests>=2.23->osmnx) (2.10)\n",
            "Requirement already satisfied: certifi>=2017.4.17 in /usr/local/lib/python3.6/dist-packages (from requests>=2.23->osmnx) (2020.6.20)\n",
            "Requirement already satisfied: chardet<4,>=3.0.2 in /usr/local/lib/python3.6/dist-packages (from requests>=2.23->osmnx) (3.0.4)\n",
            "Requirement already satisfied: urllib3!=1.25.0,!=1.25.1,<1.26,>=1.21.1 in /usr/local/lib/python3.6/dist-packages (from requests>=2.23->osmnx) (1.24.3)\n",
            "Requirement already satisfied: decorator>=4.3.0 in /usr/local/lib/python3.6/dist-packages (from networkx>=2.4->osmnx) (4.4.2)\n",
            "Requirement already satisfied: six>=1.5 in /usr/local/lib/python3.6/dist-packages (from python-dateutil>=2.6.1->pandas>=1.0->osmnx) (1.15.0)\n",
            "Requirement already satisfied: cligj>=0.5 in /usr/local/lib/python3.6/dist-packages (from fiona->geopandas>=0.7->osmnx) (0.5.0)\n",
            "Requirement already satisfied: munch in /usr/local/lib/python3.6/dist-packages (from fiona->geopandas>=0.7->osmnx) (2.5.0)\n",
            "Requirement already satisfied: click-plugins>=1.0 in /usr/local/lib/python3.6/dist-packages (from fiona->geopandas>=0.7->osmnx) (1.1.1)\n",
            "Requirement already satisfied: attrs>=17 in /usr/local/lib/python3.6/dist-packages (from fiona->geopandas>=0.7->osmnx) (19.3.0)\n",
            "Requirement already satisfied: click<8,>=4.0 in /usr/local/lib/python3.6/dist-packages (from fiona->geopandas>=0.7->osmnx) (7.1.2)\n",
            "Installing collected packages: osmnx\n",
            "Successfully installed osmnx-0.15.1\n",
            "Collecting contextily\n",
            "  Downloading https://files.pythonhosted.org/packages/c1/95/6a228a25a5e93ae236efe42a36659b61b1b4e7ceee75dd5bc4bab8944c44/contextily-1.0.0-py3-none-any.whl\n",
            "Requirement already satisfied: geopy in /usr/local/lib/python3.6/dist-packages (from contextily) (1.17.0)\n",
            "Requirement already satisfied: matplotlib in /usr/local/lib/python3.6/dist-packages (from contextily) (3.2.2)\n",
            "Requirement already satisfied: requests in /usr/local/lib/python3.6/dist-packages (from contextily) (2.23.0)\n",
            "Collecting rasterio\n",
            "\u001b[?25l  Downloading https://files.pythonhosted.org/packages/02/7e/eed7dfd109fc89ed3cf8b5ed3f26f841b03b92f6ca1c31c4745f938a081b/rasterio-1.1.5-cp36-cp36m-manylinux1_x86_64.whl (18.2MB)\n",
            "\u001b[K     |████████████████████████████████| 18.2MB 231kB/s \n",
            "\u001b[?25hRequirement already satisfied: pillow in /usr/local/lib/python3.6/dist-packages (from contextily) (7.0.0)\n",
            "Requirement already satisfied: joblib in /usr/local/lib/python3.6/dist-packages (from contextily) (0.16.0)\n",
            "Collecting mercantile\n",
            "  Downloading https://files.pythonhosted.org/packages/b9/cd/ee6dbee0abca93edda53703fe408d2a6abdc8c1b248a3c9a4539089eafa2/mercantile-1.1.6-py3-none-any.whl\n",
            "Requirement already satisfied: geographiclib<2,>=1.49 in /usr/local/lib/python3.6/dist-packages (from geopy->contextily) (1.50)\n",
            "Requirement already satisfied: cycler>=0.10 in /usr/local/lib/python3.6/dist-packages (from matplotlib->contextily) (0.10.0)\n",
            "Requirement already satisfied: python-dateutil>=2.1 in /usr/local/lib/python3.6/dist-packages (from matplotlib->contextily) (2.8.1)\n",
            "Requirement already satisfied: pyparsing!=2.0.4,!=2.1.2,!=2.1.6,>=2.0.1 in /usr/local/lib/python3.6/dist-packages (from matplotlib->contextily) (2.4.7)\n",
            "Requirement already satisfied: numpy>=1.11 in /usr/local/lib/python3.6/dist-packages (from matplotlib->contextily) (1.18.5)\n",
            "Requirement already satisfied: kiwisolver>=1.0.1 in /usr/local/lib/python3.6/dist-packages (from matplotlib->contextily) (1.2.0)\n",
            "Requirement already satisfied: urllib3!=1.25.0,!=1.25.1,<1.26,>=1.21.1 in /usr/local/lib/python3.6/dist-packages (from requests->contextily) (1.24.3)\n",
            "Requirement already satisfied: chardet<4,>=3.0.2 in /usr/local/lib/python3.6/dist-packages (from requests->contextily) (3.0.4)\n",
            "Requirement already satisfied: certifi>=2017.4.17 in /usr/local/lib/python3.6/dist-packages (from requests->contextily) (2020.6.20)\n",
            "Requirement already satisfied: idna<3,>=2.5 in /usr/local/lib/python3.6/dist-packages (from requests->contextily) (2.10)\n",
            "Requirement already satisfied: click-plugins in /usr/local/lib/python3.6/dist-packages (from rasterio->contextily) (1.1.1)\n",
            "Requirement already satisfied: click<8,>=4.0 in /usr/local/lib/python3.6/dist-packages (from rasterio->contextily) (7.1.2)\n",
            "Requirement already satisfied: cligj>=0.5 in /usr/local/lib/python3.6/dist-packages (from rasterio->contextily) (0.5.0)\n",
            "Requirement already satisfied: attrs in /usr/local/lib/python3.6/dist-packages (from rasterio->contextily) (19.3.0)\n",
            "Collecting affine\n",
            "  Downloading https://files.pythonhosted.org/packages/ac/a6/1a39a1ede71210e3ddaf623982b06ecfc5c5c03741ae659073159184cd3e/affine-2.3.0-py2.py3-none-any.whl\n",
            "Collecting snuggs>=1.4.1\n",
            "  Downloading https://files.pythonhosted.org/packages/cc/0e/d27d6e806d6c0d1a2cfdc5d1f088e42339a0a54a09c3343f7f81ec8947ea/snuggs-1.4.7-py3-none-any.whl\n",
            "Requirement already satisfied: six in /usr/local/lib/python3.6/dist-packages (from cycler>=0.10->matplotlib->contextily) (1.15.0)\n",
            "Installing collected packages: affine, snuggs, rasterio, mercantile, contextily\n",
            "Successfully installed affine-2.3.0 contextily-1.0.0 mercantile-1.1.6 rasterio-1.1.5 snuggs-1.4.7\n",
            "--2020-08-24 23:09:28--  https://github.com/mahunz/Diplodatos2020/blob/master/Dataset/ENF_6612_2018-12-31_M10_20190529-1610.gdb.7z?raw=true\n",
            "Resolving github.com (github.com)... 140.82.113.3\n",
            "Connecting to github.com (github.com)|140.82.113.3|:443... connected.\n",
            "HTTP request sent, awaiting response... 302 Found\n",
            "Location: https://github.com/mahunz/Diplodatos2020/raw/master/Dataset/ENF_6612_2018-12-31_M10_20190529-1610.gdb.7z [following]\n",
            "--2020-08-24 23:09:28--  https://github.com/mahunz/Diplodatos2020/raw/master/Dataset/ENF_6612_2018-12-31_M10_20190529-1610.gdb.7z\n",
            "Reusing existing connection to github.com:443.\n",
            "HTTP request sent, awaiting response... 302 Found\n",
            "Location: https://raw.githubusercontent.com/mahunz/Diplodatos2020/master/Dataset/ENF_6612_2018-12-31_M10_20190529-1610.gdb.7z [following]\n",
            "--2020-08-24 23:09:28--  https://raw.githubusercontent.com/mahunz/Diplodatos2020/master/Dataset/ENF_6612_2018-12-31_M10_20190529-1610.gdb.7z\n",
            "Resolving raw.githubusercontent.com (raw.githubusercontent.com)... 151.101.0.133, 151.101.64.133, 151.101.128.133, ...\n",
            "Connecting to raw.githubusercontent.com (raw.githubusercontent.com)|151.101.0.133|:443... connected.\n",
            "HTTP request sent, awaiting response... 200 OK\n",
            "Length: 11687422 (11M) [application/octet-stream]\n",
            "Saving to: ‘ENF_6612_2018-12-31_M10_20190529-1610.gdb.7z?raw=true’\n",
            "\n",
            "ENF_6612_2018-12-31 100%[===================>]  11.15M  28.0MB/s    in 0.4s    \n",
            "\n",
            "2020-08-24 23:09:30 (28.0 MB/s) - ‘ENF_6612_2018-12-31_M10_20190529-1610.gdb.7z?raw=true’ saved [11687422/11687422]\n",
            "\n",
            "Reading package lists... Done\n",
            "Building dependency tree       \n",
            "Reading state information... Done\n",
            "p7zip is already the newest version (16.02+dfsg-6).\n",
            "p7zip set to manually installed.\n",
            "The following package was automatically installed and is no longer required:\n",
            "  libnvidia-common-440\n",
            "Use 'apt autoremove' to remove it.\n",
            "0 upgraded, 0 newly installed, 0 to remove and 35 not upgraded.\n",
            "\n",
            "7-Zip (a) [64] 16.02 : Copyright (c) 1999-2016 Igor Pavlov : 2016-05-21\n",
            "p7zip Version 16.02 (locale=en_US.UTF-8,Utf16=on,HugeFiles=on,64 bits,2 CPUs Intel(R) Xeon(R) CPU @ 2.30GHz (306F0),ASM,AES-NI)\n",
            "\n",
            "Scanning the drive for archives:\n",
            "  0M Scan ./Dataset/\b\b\b\b\b\b\b\b\b\b\b\b\b\b\b\b\b\b\b\b                    \b\b\b\b\b\b\b\b\b\b\b\b\b\b\b\b\b\b\b\b1 file, 11687422 bytes (12 MiB)\n",
            "\n",
            "Extracting archive: ./Dataset/ENF_6612_2018-12-31_M10_20190529-1610.gdb.7z\n",
            "--\n",
            "Path = ./Dataset/ENF_6612_2018-12-31_M10_20190529-1610.gdb.7z\n",
            "Type = 7z\n",
            "Physical Size = 11687422\n",
            "Headers Size = 2471\n",
            "Method = LZMA2:24\n",
            "Solid = +\n",
            "Blocks = 1\n",
            "\n",
            "  0%\b\b\b\b    \b\b\b\b 28% 94 - ENF_6612_2018-12-31_M10_20190529-1610.gdb/a000000ac.gdbtable\b\b\b\b\b\b\b\b\b\b\b\b\b\b\b\b\b\b\b\b\b\b\b\b\b\b\b\b\b\b\b\b\b\b\b\b\b\b\b\b\b\b\b\b\b\b\b\b\b\b\b\b\b\b\b\b\b\b\b\b\b\b\b\b\b\b\b\b\b\b                                                                      \b\b\b\b\b\b\b\b\b\b\b\b\b\b\b\b\b\b\b\b\b\b\b\b\b\b\b\b\b\b\b\b\b\b\b\b\b\b\b\b\b\b\b\b\b\b\b\b\b\b\b\b\b\b\b\b\b\b\b\b\b\b\b\b\b\b\b\b\b\b 44% 125 - ENF_6612_2018-12-31_M10_20190529-1610.gdb/a000000b5.gdbtable\b\b\b\b\b\b\b\b\b\b\b\b\b\b\b\b\b\b\b\b\b\b\b\b\b\b\b\b\b\b\b\b\b\b\b\b\b\b\b\b\b\b\b\b\b\b\b\b\b\b\b\b\b\b\b\b\b\b\b\b\b\b\b\b\b\b\b\b\b\b\b                                                                       \b\b\b\b\b\b\b\b\b\b\b\b\b\b\b\b\b\b\b\b\b\b\b\b\b\b\b\b\b\b\b\b\b\b\b\b\b\b\b\b\b\b\b\b\b\b\b\b\b\b\b\b\b\b\b\b\b\b\b\b\b\b\b\b\b\b\b\b\b\b\b 59% 129 - ENF_6612_2018-12-31_M10_20190529-1610.gdb/a000000b6.gdbtable\b\b\b\b\b\b\b\b\b\b\b\b\b\b\b\b\b\b\b\b\b\b\b\b\b\b\b\b\b\b\b\b\b\b\b\b\b\b\b\b\b\b\b\b\b\b\b\b\b\b\b\b\b\b\b\b\b\b\b\b\b\b\b\b\b\b\b\b\b\b\b                                                                       \b\b\b\b\b\b\b\b\b\b\b\b\b\b\b\b\b\b\b\b\b\b\b\b\b\b\b\b\b\b\b\b\b\b\b\b\b\b\b\b\b\b\b\b\b\b\b\b\b\b\b\b\b\b\b\b\b\b\b\b\b\b\b\b\b\b\b\b\b\b\b 84% 143 - ENF_6612_2018-12-31_M10_20190529-1610.gdb/a000000b9.gdbtable\b\b\b\b\b\b\b\b\b\b\b\b\b\b\b\b\b\b\b\b\b\b\b\b\b\b\b\b\b\b\b\b\b\b\b\b\b\b\b\b\b\b\b\b\b\b\b\b\b\b\b\b\b\b\b\b\b\b\b\b\b\b\b\b\b\b\b\b\b\b\b                                                                       \b\b\b\b\b\b\b\b\b\b\b\b\b\b\b\b\b\b\b\b\b\b\b\b\b\b\b\b\b\b\b\b\b\b\b\b\b\b\b\b\b\b\b\b\b\b\b\b\b\b\b\b\b\b\b\b\b\b\b\b\b\b\b\b\b\b\b\b\b\b\bEverything is Ok\n",
            "\n",
            "Folders: 1\n",
            "Files: 207\n",
            "Size:       84729099\n",
            "Compressed: 11687422\n"
          ],
          "name": "stdout"
        }
      ]
    },
    {
      "cell_type": "markdown",
      "metadata": {
        "id": "rnyQxUAqc8wP",
        "colab_type": "text"
      },
      "source": [
        "### I. Rutina de Curación\n",
        "\n",
        "Inicialmente, con el objetivo de preparar los datos que alimentarán futuros modelos de aprendizaje automático (ML), se propone seguir la siguiente __[checklist](https://dimewiki.worldbank.org/wiki/Checklist:_Data_Cleaning)__ para la limpieza de los datos de nuestro proyecto. Esta _checklist_ es la misma que utilizaron en el primer práctico de la materia y nos será de utilidad como guía para curar el dataset. A modo de ayuda, **en esta notebook encontrarán una especie de template** que sigue la _checklist_ y que deberán ir completando.\n",
        "\n",
        "**Cada decisión tomada deberá quedar registrada de manera explícita y clara.** Luego de pasar por todos los puntos de la _checklist_ propuesta, deberán almacenar en un nuevo archivo los datos resultantes.\n"
      ]
    },
    {
      "cell_type": "markdown",
      "metadata": {
        "id": "9828kRNmc8wQ",
        "colab_type": "text"
      },
      "source": [
        "### II. Análisis del Contenido\n",
        "\n",
        "Una vez aplicado el  _Checklist_, lo que vamos a hacer es comenzar a vincular las diferentes tablas del dataset e iniciar la generación de features geográficas\n"
      ]
    },
    {
      "cell_type": "markdown",
      "metadata": {
        "id": "rx4ohyhec8wQ",
        "colab_type": "text"
      },
      "source": [
        "# Resolución"
      ]
    },
    {
      "cell_type": "markdown",
      "metadata": {
        "id": "OIHW6fiCc8wR",
        "colab_type": "text"
      },
      "source": [
        "## I. Rutina de Curación\n",
        "\n",
        "### 1. Importación de Datos\n",
        "\n",
        "#### 1.1. Verificación de Inexistencia de Problemas en la Importación"
      ]
    },
    {
      "cell_type": "markdown",
      "metadata": {
        "id": "HQjMe4EGc8wR",
        "colab_type": "text"
      },
      "source": [
        "A partir de este punto, utilizaremos los transformadores de distribucion como elemnto de analisis tabla UNTRD, e incorporaremos datos de consumidores, subestación y líneas de distribución.\n",
        "\n",
        "Para comenzar, importamos los datos que vamos a procesar de las diferentes tablas que vamos a analizar:"
      ]
    },
    {
      "cell_type": "code",
      "metadata": {
        "colab_type": "code",
        "id": "7QiqtG-9ybT-",
        "colab": {}
      },
      "source": [
        "import geopandas as gpd\n",
        "import pandas as pd\n",
        "from shapely.geometry import Point, LineString, Polygon, MultiPoint, MultiLineString\n",
        "import sklearn\n",
        "import numpy as np\n",
        "pd.options.mode.chained_assignment = None  # default='warn'"
      ],
      "execution_count": 2,
      "outputs": []
    },
    {
      "cell_type": "code",
      "metadata": {
        "colab_type": "code",
        "id": "a-wN4MnfyTCk",
        "colab": {}
      },
      "source": [
        "# Editar con el path correspondiente a sus datos\n",
        "data_path = './Dataset/ENF_6612_2018-12-31_M10_20190529-1610.gdb'"
      ],
      "execution_count": 3,
      "outputs": []
    },
    {
      "cell_type": "code",
      "metadata": {
        "colab_type": "code",
        "id": "T1xC2lhcuRy-",
        "colab": {
          "base_uri": "https://localhost:8080/",
          "height": 136
        },
        "outputId": "e724c00d-3b1b-4e6b-d86b-bd8ccf381ce8"
      },
      "source": [
        "untrd = gpd.read_file(data_path, driver='FileGDB', layer='UNTRD')\n",
        "untrd.shape, untrd.columns"
      ],
      "execution_count": 4,
      "outputs": [
        {
          "output_type": "execute_result",
          "data": {
            "text/plain": [
              "((3879, 33),\n",
              " Index(['COD_ID', 'DIST', 'PAC_1', 'PAC_2', 'PAC_3', 'FAS_CON_P', 'FAS_CON_S',\n",
              "        'FAS_CON_T', 'SIT_ATIV', 'TIP_UNID', 'POS', 'ATRB_PER', 'TEN_LIN_SE',\n",
              "        'CAP_ELO', 'CAP_CHA', 'TAP', 'CONF', 'POSTO', 'POT_NOM', 'PER_FER',\n",
              "        'PER_TOT', 'DAT_CON', 'CTMT', 'UNI_TR_S', 'SUB', 'CONJ', 'MUN', 'BANC',\n",
              "        'TIP_TRAFO', 'MRT', 'DESCR', 'ARE_LOC', 'geometry'],\n",
              "       dtype='object'))"
            ]
          },
          "metadata": {
            "tags": []
          },
          "execution_count": 4
        }
      ]
    },
    {
      "cell_type": "code",
      "metadata": {
        "colab_type": "code",
        "id": "F0yigp8pyWvx",
        "colab": {
          "base_uri": "https://localhost:8080/",
          "height": 204
        },
        "outputId": "ad39729d-0faf-435d-9a9f-ff6950ce44eb"
      },
      "source": [
        "untrs = gpd.read_file(data_path, driver='FileGDB', layer='UNTRS')\n",
        "untrs.shape, untrs.columns"
      ],
      "execution_count": 5,
      "outputs": [
        {
          "output_type": "execute_result",
          "data": {
            "text/plain": [
              "((6, 53),\n",
              " Index(['COD_ID', 'SUB', 'BARR_1', 'BARR_2', 'BARR_3', 'PAC_1', 'PAC_2',\n",
              "        'PAC_3', 'DIST', 'FAS_CON_P', 'FAS_CON_S', 'FAS_CON_T', 'SIT_ATIV',\n",
              "        'TIP_UNID', 'POS', 'POT_NOM', 'POT_F01', 'POT_F02', 'PER_FER',\n",
              "        'PER_TOT', 'BANC', 'DAT_CON', 'CONJ', 'MUN', 'TIP_TRAFO', 'ALOC_PERD',\n",
              "        'ENES_01', 'ENES_02', 'ENES_03', 'ENES_04', 'ENES_05', 'ENES_06',\n",
              "        'ENES_07', 'ENES_08', 'ENES_09', 'ENES_10', 'ENES_11', 'ENES_12',\n",
              "        'ENET_01', 'ENET_02', 'ENET_03', 'ENET_04', 'ENET_05', 'ENET_06',\n",
              "        'ENET_07', 'ENET_08', 'ENET_09', 'ENET_10', 'ENET_11', 'ENET_12',\n",
              "        'DESCR', 'ARE_LOC', 'geometry'],\n",
              "       dtype='object'))"
            ]
          },
          "metadata": {
            "tags": []
          },
          "execution_count": 5
        }
      ]
    },
    {
      "cell_type": "markdown",
      "metadata": {
        "id": "su6xIqJnKsBj",
        "colab_type": "text"
      },
      "source": [
        "Nota : Verificar en el Mapa solo dibuja 5 subestaciones !!!!!!"
      ]
    },
    {
      "cell_type": "code",
      "metadata": {
        "colab_type": "code",
        "id": "neS4sBkdzboc",
        "colab": {
          "base_uri": "https://localhost:8080/",
          "height": 119
        },
        "outputId": "23a598ab-d1d0-4dd7-a584-8449cb5ab519"
      },
      "source": [
        "ssdmt = gpd.read_file(data_path, driver='FileGDB', layer='SSDMT')\n",
        "ssdmt.shape, ssdmt.columns"
      ],
      "execution_count": 6,
      "outputs": [
        {
          "output_type": "execute_result",
          "data": {
            "text/plain": [
              "((24929, 24),\n",
              " Index(['COD_ID', 'PN_CON_1', 'PN_CON_2', 'CTMT', 'UNI_TR_S', 'SUB', 'CONJ',\n",
              "        'DIST', 'PAC_1', 'PAC_2', 'FAS_CON', 'TIP_CND', 'POS', 'ODI_FAS',\n",
              "        'TI_FAS', 'ODI_NEU', 'TI_NEU', 'COMP', 'DESCR', 'SITCONTFAS',\n",
              "        'SITCONTNEU', 'ARE_LOC', 'Shape_Length', 'geometry'],\n",
              "       dtype='object'))"
            ]
          },
          "metadata": {
            "tags": []
          },
          "execution_count": 6
        }
      ]
    },
    {
      "cell_type": "markdown",
      "metadata": {
        "id": "LUJACGoOMRUO",
        "colab_type": "text"
      },
      "source": [
        "Nota : renombre SSDMT por ssdmt "
      ]
    },
    {
      "cell_type": "code",
      "metadata": {
        "colab_type": "code",
        "id": "Sp2Ewh9L0cke",
        "colab": {
          "base_uri": "https://localhost:8080/",
          "height": 170
        },
        "outputId": "a8c82d5c-7fe7-4c1d-86ef-fb7c81870464"
      },
      "source": [
        "segcon = gpd.read_file(data_path, driver='FileGDB', layer='SEGCON')\n",
        "segcon.shape, segcon.columns"
      ],
      "execution_count": 7,
      "outputs": [
        {
          "output_type": "execute_result",
          "data": {
            "text/plain": [
              "((90, 40),\n",
              " Index(['COD_ID', 'DIST', 'GEOM_CAB', 'FORM_CAB', 'MAT_FAS_1', 'MAT_FAS_2',\n",
              "        'MAT_FAS_3', 'MAT_NEU', 'ISO_FAS_1', 'ISO_FAS_2', 'ISO_FAS_3',\n",
              "        'ISO_NEU', 'CND_FAS', 'R1', 'X1', 'FTRCNV', 'CNOM', 'CMAX', 'CM_FAS',\n",
              "        'TUC_FAS', 'A1_FAS', 'A2_FAS', 'A3_FAS', 'A4_FAS', 'A5_FAS', 'A6_FAS',\n",
              "        'CM_NEU', 'TUC_NEU', 'A1_NEU', 'A2_NEU', 'A3_NEU', 'A4_NEU', 'A5_NEU',\n",
              "        'A6_NEU', 'DESCR', 'BIT_FAS_1', 'BIT_FAS_2', 'BIT_FAS_3', 'BIT_NEU',\n",
              "        'geometry'],\n",
              "       dtype='object'))"
            ]
          },
          "metadata": {
            "tags": []
          },
          "execution_count": 7
        }
      ]
    },
    {
      "cell_type": "code",
      "metadata": {
        "colab_type": "code",
        "id": "KacEd34JzdO4",
        "colab": {
          "base_uri": "https://localhost:8080/",
          "height": 153
        },
        "outputId": "10bd31af-f2a4-4fa4-8dd0-57eed282d25a"
      },
      "source": [
        "ucbt = gpd.read_file(data_path, driver='FileGDB', layer='UCBT')\n",
        "ucbt.shape, ucbt.columns"
      ],
      "execution_count": 8,
      "outputs": [
        {
          "output_type": "execute_result",
          "data": {
            "text/plain": [
              "((108346, 40),\n",
              " Index(['DIST', 'PAC', 'PN_CON', 'UNI_TR_D', 'CTMT', 'UNI_TR_S', 'SUB', 'CONJ',\n",
              "        'MUN', 'BRR', 'CEP', 'CLAS_SUB', 'CNAE', 'TIP_CC', 'FAS_CON', 'GRU_TEN',\n",
              "        'TEN_FORN', 'GRU_TAR', 'SIT_ATIV', 'DAT_CON', 'CAR_INST', 'LIV',\n",
              "        'ENE_01', 'ENE_02', 'ENE_03', 'ENE_04', 'ENE_05', 'ENE_06', 'ENE_07',\n",
              "        'ENE_08', 'ENE_09', 'ENE_10', 'ENE_11', 'ENE_12', 'DIC', 'FIC',\n",
              "        'SEMRED', 'DESCR', 'ARE_LOC', 'geometry'],\n",
              "       dtype='object'))"
            ]
          },
          "metadata": {
            "tags": []
          },
          "execution_count": 8
        }
      ]
    },
    {
      "cell_type": "code",
      "metadata": {
        "id": "ad6kP8Iqc8wh",
        "colab_type": "code",
        "colab": {}
      },
      "source": [
        "# Agrupando Variables\n",
        "\n",
        "ucbt['ENE_MED'] = ucbt[['ENE_01', 'ENE_02', 'ENE_03', 'ENE_04', 'ENE_05', 'ENE_06', 'ENE_07','ENE_08', 'ENE_09', 'ENE_10', 'ENE_11', 'ENE_12']].mean(axis=1)\n",
        "ucbt['ENE_STD'] = ucbt[['ENE_01', 'ENE_02', 'ENE_03', 'ENE_04', 'ENE_05', 'ENE_06', 'ENE_07','ENE_08', 'ENE_09', 'ENE_10', 'ENE_11', 'ENE_12']].std(axis=1)\n",
        "ucbt['ENE_MAX'] = ucbt[['ENE_01', 'ENE_02', 'ENE_03', 'ENE_04', 'ENE_05', 'ENE_06', 'ENE_07','ENE_08', 'ENE_09', 'ENE_10', 'ENE_11', 'ENE_12']].max(axis=1)"
      ],
      "execution_count": 9,
      "outputs": []
    },
    {
      "cell_type": "markdown",
      "metadata": {
        "id": "gchUe6yec8wj",
        "colab_type": "text"
      },
      "source": [
        "### 1.2. Asegurar la Existencia de IDs o Claves Únicas"
      ]
    },
    {
      "cell_type": "markdown",
      "metadata": {
        "id": "v0wRPRduc8wj",
        "colab_type": "text"
      },
      "source": [
        "El siguiente paso implica chequear que no existen datos duplicados y que las claves, si existen, son únicas.\n",
        "\n",
        "Las claves únicas de las diferentes tablas es el COD_ID, como figura en la documentación. En el caso de la tabla UCBT fue eliminado por el proveedor de los datos por lo que asumiremos que los datos son únicos. Podriamos regenerar el COD_ID con un valor secuencial, pero como vamos a utilizar la tabla UNTRD como elementos de análisis no será necesario"
      ]
    },
    {
      "cell_type": "code",
      "metadata": {
        "id": "gfcmuxiIc8wk",
        "colab_type": "code",
        "colab": {
          "base_uri": "https://localhost:8080/",
          "height": 85
        },
        "outputId": "d0db47b8-e9af-4971-88c6-d93b55a04724"
      },
      "source": [
        "print(untrd['COD_ID'].is_unique)\n",
        "print(untrs['COD_ID'].is_unique)\n",
        "print(ssdmt['COD_ID'].is_unique)\n",
        "print(segcon['COD_ID'].is_unique)"
      ],
      "execution_count": 10,
      "outputs": [
        {
          "output_type": "stream",
          "text": [
            "True\n",
            "True\n",
            "True\n",
            "True\n"
          ],
          "name": "stdout"
        }
      ]
    },
    {
      "cell_type": "markdown",
      "metadata": {
        "id": "x_QuMTq4c8wm",
        "colab_type": "text"
      },
      "source": [
        "Como podemos observar las claves COD_ID en los diferentes Dataframes son únicas."
      ]
    },
    {
      "cell_type": "markdown",
      "metadata": {
        "id": "opqft4Gcc8wm",
        "colab_type": "text"
      },
      "source": [
        "### 1.3. Despersonalizar Datos y Guardarlos en un Nuevo Archivo"
      ]
    },
    {
      "cell_type": "markdown",
      "metadata": {
        "id": "YmUMrfRLc8wm",
        "colab_type": "text"
      },
      "source": [
        "En este caso, no es necesario despersonalizar ningún dato, dado que los mismos ya se encuentran despersonalizados."
      ]
    },
    {
      "cell_type": "markdown",
      "metadata": {
        "id": "drWOvA1Hc8wn",
        "colab_type": "text"
      },
      "source": [
        "### 1.4. Nunca Modificar los Datos Crudos u Originales"
      ]
    },
    {
      "cell_type": "markdown",
      "metadata": {
        "id": "PrTOL3BRc8wn",
        "colab_type": "text"
      },
      "source": [
        "Al finalizar la limpieza, deberán guardar el dataset resultante, para asegurarse de no modificar los datos originales."
      ]
    },
    {
      "cell_type": "markdown",
      "metadata": {
        "id": "2W51fPGkc8wn",
        "colab_type": "text"
      },
      "source": [
        "## 2. Pasos de Limpieza Necesarios\n",
        "\n",
        "### 2.1. Etiquetas de Variables/Columnas y Problemas de Codificación/Encoding"
      ]
    },
    {
      "cell_type": "markdown",
      "metadata": {
        "id": "Odq-w9ubc8wo",
        "colab_type": "text"
      },
      "source": [
        "El geopandas automáticamente detecta el encoding de los datos. "
      ]
    },
    {
      "cell_type": "markdown",
      "metadata": {
        "id": "GljOPvsrc8wo",
        "colab_type": "text"
      },
      "source": [
        "### 2.2. Tratamiento de Valores Faltantes"
      ]
    },
    {
      "cell_type": "markdown",
      "metadata": {
        "id": "8xwvVqwbc8wo",
        "colab_type": "text"
      },
      "source": [
        "Para analizar los valores faltantes, primero deberán saber cuántos existen por campo y cuánto representan del total:"
      ]
    },
    {
      "cell_type": "markdown",
      "metadata": {
        "id": "mKnZok3Wc8wp",
        "colab_type": "text"
      },
      "source": [
        "### 2.3. Codificación de Variables Categóricas"
      ]
    },
    {
      "cell_type": "markdown",
      "metadata": {
        "id": "fn8bJJ_Cc8wp",
        "colab_type": "text"
      },
      "source": [
        "Aplica?"
      ]
    },
    {
      "cell_type": "markdown",
      "metadata": {
        "id": "ItyqLPFVc8wp",
        "colab_type": "text"
      },
      "source": [
        "Para este punto, las variables que consideramos relevantes a codificar son las siguientes variables:\n",
        "    -ARE_LOC, el tipo de area.\n",
        "    -GRU_TAR, el grupo tarifario"
      ]
    },
    {
      "cell_type": "code",
      "metadata": {
        "id": "F5pgJ8lPc8wq",
        "colab_type": "code",
        "colab": {}
      },
      "source": [
        "from sklearn import preprocessing\n",
        "datasets = {'untrd': untrd, 'ucbt': ucbt}\n",
        "columns_to_encode = ['ARE_LOC', 'GRU_TAR']\n",
        "\n",
        "for key, dataset in datasets.items():\n",
        "    for column in columns_to_encode:\n",
        "        if column in dataset:\n",
        "            le = preprocessing.LabelEncoder()\n",
        "            le.fit(dataset[column])\n",
        "            dataset[column] = le.transform(dataset[column])"
      ],
      "execution_count": 11,
      "outputs": []
    },
    {
      "cell_type": "markdown",
      "metadata": {
        "id": "apAA9FHbc8wt",
        "colab_type": "text"
      },
      "source": [
        "### 2.4. No Cambiar los Nombres de las Variables de la Fuente de Origen"
      ]
    },
    {
      "cell_type": "markdown",
      "metadata": {
        "id": "p_9658Y_fgNJ",
        "colab_type": "text"
      },
      "source": [
        "No aplica."
      ]
    },
    {
      "cell_type": "markdown",
      "metadata": {
        "id": "l_Ti3qE6c8wv",
        "colab_type": "text"
      },
      "source": [
        "### 2.5. Verificación de Consistencia de Datos"
      ]
    },
    {
      "cell_type": "markdown",
      "metadata": {
        "id": "uo5lepJlc8wv",
        "colab_type": "text"
      },
      "source": [
        "Este es el paso más analítico, en donde se deben aplicar reglas de integridad."
      ]
    },
    {
      "cell_type": "markdown",
      "metadata": {
        "id": "eTfNjEeCc8ww",
        "colab_type": "text"
      },
      "source": [
        "Para este paso vamos a verificar la integridad de la entidad:\n",
        "    -Que no existan claves repetidas(es decir atributos COD_ID). Anteriormente hemos observado que estos atributos son únicos.\n",
        "    -Además vamos a eliminar las filas que tengan algun valor Nan. \n"
      ]
    },
    {
      "cell_type": "code",
      "metadata": {
        "id": "_NkRebggc8ww",
        "colab_type": "code",
        "colab": {}
      },
      "source": [
        "untrd = untrd.dropna()\n",
        "untrs = untrs.dropna()\n",
        "ssdmt = ssdmt.dropna()\n",
        "segcon = segcon.dropna()\n",
        "ucbt = ucbt.dropna()"
      ],
      "execution_count": 12,
      "outputs": []
    },
    {
      "cell_type": "markdown",
      "metadata": {
        "id": "tzo9GDhMc8wy",
        "colab_type": "text"
      },
      "source": [
        "### 2.6. Identificar y Documentar Valores Atípicos/Outliers"
      ]
    },
    {
      "cell_type": "markdown",
      "metadata": {
        "id": "MmFQcxEKc8wz",
        "colab_type": "text"
      },
      "source": [
        "Calcular estadísticos."
      ]
    },
    {
      "cell_type": "code",
      "metadata": {
        "id": "TYk8kSQwc8wz",
        "colab_type": "code",
        "colab": {
          "base_uri": "https://localhost:8080/",
          "height": 136
        },
        "outputId": "344f77ca-e352-4f1c-d076-3245dbb97318"
      },
      "source": [
        "def find_outliers(dataset, column_name):\n",
        "    interesting_col = dataset[column_name]\n",
        "    CI =  (interesting_col.quantile(0.75)-interesting_col.quantile(0.25))\n",
        "    mask_outlier = (\n",
        "        np.abs(interesting_col - interesting_col.median()) >= (1.5 * CI))\n",
        "    return dataset[mask_outlier]\n",
        "\n",
        "\n",
        "main_statisticians = ['FIC', 'DIC', 'ENE_MED']\n",
        "\n",
        "outliers = []\n",
        "for key, dataset in datasets.items():\n",
        "    print(\"Dataset: \", key)\n",
        "    for column in main_statisticians:\n",
        "        if column in dataset:\n",
        "            outliers = find_outliers(dataset, column)\n",
        "            row_quantity = dataset.shape[0]\n",
        "            print(\"Cantidad de outliers para la variable \", column, len(outliers))\n",
        "    print(\"------------------------------------------------\")"
      ],
      "execution_count": 13,
      "outputs": [
        {
          "output_type": "stream",
          "text": [
            "Dataset:  untrd\n",
            "------------------------------------------------\n",
            "Dataset:  ucbt\n",
            "Cantidad de outliers para la variable  FIC 12360\n",
            "Cantidad de outliers para la variable  DIC 15122\n",
            "Cantidad de outliers para la variable  ENE_MED 8363\n",
            "------------------------------------------------\n"
          ],
          "name": "stdout"
        }
      ]
    },
    {
      "cell_type": "code",
      "metadata": {
        "id": "t6iqY2joc8w1",
        "colab_type": "code",
        "colab": {}
      },
      "source": [
        "# Procedemos a limpiar los outliers para la layer ucbt\n",
        "def clean_outliers(dataset, column_name):\n",
        "    interesting_col = dataset[column_name]\n",
        "    CI =  (interesting_col.quantile(0.75)-interesting_col.quantile(0.25))\n",
        "    mask_outlier = (\n",
        "        np.abs(interesting_col - interesting_col.median()) <= (1.5 * CI))\n",
        "    return dataset[mask_outlier]\n",
        "\n",
        "\n",
        "for column in main_statisticians:\n",
        "    ucbt_without_outliers = clean_outliers(ucbt, column)\n",
        "datasets['ucbt'] = ucbt_without_outliers\n"
      ],
      "execution_count": 14,
      "outputs": []
    },
    {
      "cell_type": "markdown",
      "metadata": {
        "id": "XAvGCRH-c8w2",
        "colab_type": "text"
      },
      "source": [
        "### 2.7. Evaluar Cómo Comprimir los Datos Para su Almacenamiento Más Eficiente"
      ]
    },
    {
      "cell_type": "markdown",
      "metadata": {
        "id": "L6Muyo6dfd5c",
        "colab_type": "text"
      },
      "source": [
        "No aplica."
      ]
    },
    {
      "cell_type": "markdown",
      "metadata": {
        "id": "7JT8Uggdc8w4",
        "colab_type": "text"
      },
      "source": [
        "### 2.8. Guardar el Set de Datos con un Nombre Informativo"
      ]
    },
    {
      "cell_type": "markdown",
      "metadata": {
        "id": "opmmfw1efivi",
        "colab_type": "text"
      },
      "source": [
        "No aplica."
      ]
    },
    {
      "cell_type": "markdown",
      "metadata": {
        "id": "Rblt97-0c8w6",
        "colab_type": "text"
      },
      "source": [
        "## 3. Pasos de Limpieza Deseables\n",
        "\n",
        "### 3.1. Ordenar Variables/Columnas"
      ]
    },
    {
      "cell_type": "markdown",
      "metadata": {
        "id": "SpcLbM5Jc8w6",
        "colab_type": "text"
      },
      "source": [
        "No Aplica"
      ]
    },
    {
      "cell_type": "markdown",
      "metadata": {
        "id": "Squ2VmOQc8w7",
        "colab_type": "text"
      },
      "source": [
        "### 3.2. Quitar Variables/Columnas Irrelevantes"
      ]
    },
    {
      "cell_type": "markdown",
      "metadata": {
        "id": "8cndunurc8w7",
        "colab_type": "text"
      },
      "source": [
        "Tenemos alguna en este caso?"
      ]
    },
    {
      "cell_type": "markdown",
      "metadata": {
        "id": "wQLPH-9rc8w7",
        "colab_type": "text"
      },
      "source": [
        "Por el momento, para la layer \"ucbt\", nos quedaremos solamente con:\n",
        "    \n",
        "    -GRU_TAR\n",
        "    -UNI_TR_D\n",
        "    -UNI_TR_S \n",
        "    -DIC\n",
        "    -FIC\n",
        "    -ENE_MED\n",
        "    -ENE_STD\n",
        "    -ENE_MAX"
      ]
    },
    {
      "cell_type": "markdown",
      "metadata": {
        "id": "_UR2pubQfycp",
        "colab_type": "text"
      },
      "source": [
        "Para la \"layer\" untrd, nos quedaremos con las siguientes variables:\n",
        "\n",
        "    -COD_ID\n",
        "    -UNI_TR_S\n",
        "    -ARE_LOC\n",
        "    -geometry"
      ]
    },
    {
      "cell_type": "code",
      "metadata": {
        "id": "_dZnBO1Fc8w8",
        "colab_type": "code",
        "colab": {}
      },
      "source": [
        "datasets['ucbt'].drop(datasets['ucbt'].columns.difference(['GRU_TAR', 'UNI_TR_D', 'UNI_TR_S', 'DIC', 'FIC', 'ENE_MED', 'ENE_MAX']), 1, inplace=True)"
      ],
      "execution_count": 15,
      "outputs": []
    },
    {
      "cell_type": "code",
      "metadata": {
        "id": "MTCUZgBnc8w-",
        "colab_type": "code",
        "colab": {}
      },
      "source": [
        "datasets['untrd'].drop(datasets['untrd'].columns.difference(['COD_ID', 'UNI_TR_S', 'ARE_LOC', 'geometry']), 1, inplace=True)"
      ],
      "execution_count": 16,
      "outputs": []
    },
    {
      "cell_type": "markdown",
      "metadata": {
        "id": "D5IOx6rdc8w_",
        "colab_type": "text"
      },
      "source": [
        "### 3.3. Renombrar Variables de Grillas"
      ]
    },
    {
      "cell_type": "markdown",
      "metadata": {
        "id": "5yWMwpbzgKC-",
        "colab_type": "text"
      },
      "source": [
        "No aplica."
      ]
    },
    {
      "cell_type": "markdown",
      "metadata": {
        "id": "F5WvQVjIc8xB",
        "colab_type": "text"
      },
      "source": [
        "### 3.4. Categorizar Variables que Contengan “Otros”"
      ]
    },
    {
      "cell_type": "markdown",
      "metadata": {
        "id": "0vjPKsr8gNAk",
        "colab_type": "text"
      },
      "source": [
        "No aplica."
      ]
    },
    {
      "cell_type": "markdown",
      "metadata": {
        "id": "j1APPU0Cc8xE",
        "colab_type": "text"
      },
      "source": [
        "### 3.5. Agregar Metadata a los Datos"
      ]
    },
    {
      "cell_type": "markdown",
      "metadata": {
        "id": "69GzRe4fgYz0",
        "colab_type": "text"
      },
      "source": [
        "No aplica."
      ]
    },
    {
      "cell_type": "markdown",
      "metadata": {
        "id": "eY-RRNsyc8xH",
        "colab_type": "text"
      },
      "source": [
        "## II. Análisis  Contenido"
      ]
    },
    {
      "cell_type": "markdown",
      "metadata": {
        "id": "zFM9AC63c8xH",
        "colab_type": "text"
      },
      "source": [
        "### 1. Features Tipo Objetos"
      ]
    },
    {
      "cell_type": "code",
      "metadata": {
        "id": "1u73C3TEc8xI",
        "colab_type": "code",
        "colab": {
          "base_uri": "https://localhost:8080/",
          "height": 419
        },
        "outputId": "1acf89ec-5d6d-4e94-fce0-09540a42c1d9"
      },
      "source": [
        "import scipy as sc\n",
        "datasets['ucbt'] = datasets['ucbt'].groupby(['UNI_TR_D']).agg(GRU_TAR=('GRU_TAR',lambda x: sc.stats.mode(x)[0]),\n",
        "                                                              DIC=('DIC',np.sum),FIC=('FIC',np.sum),ENE_MED=('ENE_MED',np.mean),\n",
        "                                                              ENE_MAX=('ENE_MAX',np.sum)).reset_index()\n",
        "datasets['ucbt']"
      ],
      "execution_count": 17,
      "outputs": [
        {
          "output_type": "execute_result",
          "data": {
            "text/html": [
              "<div>\n",
              "<style scoped>\n",
              "    .dataframe tbody tr th:only-of-type {\n",
              "        vertical-align: middle;\n",
              "    }\n",
              "\n",
              "    .dataframe tbody tr th {\n",
              "        vertical-align: top;\n",
              "    }\n",
              "\n",
              "    .dataframe thead th {\n",
              "        text-align: right;\n",
              "    }\n",
              "</style>\n",
              "<table border=\"1\" class=\"dataframe\">\n",
              "  <thead>\n",
              "    <tr style=\"text-align: right;\">\n",
              "      <th></th>\n",
              "      <th>UNI_TR_D</th>\n",
              "      <th>GRU_TAR</th>\n",
              "      <th>DIC</th>\n",
              "      <th>FIC</th>\n",
              "      <th>ENE_MED</th>\n",
              "      <th>ENE_MAX</th>\n",
              "    </tr>\n",
              "  </thead>\n",
              "  <tbody>\n",
              "    <tr>\n",
              "      <th>0</th>\n",
              "      <td></td>\n",
              "      <td>1</td>\n",
              "      <td>36.66</td>\n",
              "      <td>10.0</td>\n",
              "      <td>29.750000</td>\n",
              "      <td>2890.0</td>\n",
              "    </tr>\n",
              "    <tr>\n",
              "      <th>1</th>\n",
              "      <td>101415715</td>\n",
              "      <td>1</td>\n",
              "      <td>76.55</td>\n",
              "      <td>28.0</td>\n",
              "      <td>97.791667</td>\n",
              "      <td>372.0</td>\n",
              "    </tr>\n",
              "    <tr>\n",
              "      <th>2</th>\n",
              "      <td>102321736</td>\n",
              "      <td>1</td>\n",
              "      <td>17.18</td>\n",
              "      <td>7.0</td>\n",
              "      <td>1.000000</td>\n",
              "      <td>5.0</td>\n",
              "    </tr>\n",
              "    <tr>\n",
              "      <th>3</th>\n",
              "      <td>103455355</td>\n",
              "      <td>1</td>\n",
              "      <td>8.31</td>\n",
              "      <td>7.0</td>\n",
              "      <td>91.333333</td>\n",
              "      <td>116.0</td>\n",
              "    </tr>\n",
              "    <tr>\n",
              "      <th>4</th>\n",
              "      <td>105138826</td>\n",
              "      <td>1</td>\n",
              "      <td>16.10</td>\n",
              "      <td>12.0</td>\n",
              "      <td>13.583333</td>\n",
              "      <td>35.0</td>\n",
              "    </tr>\n",
              "    <tr>\n",
              "      <th>...</th>\n",
              "      <td>...</td>\n",
              "      <td>...</td>\n",
              "      <td>...</td>\n",
              "      <td>...</td>\n",
              "      <td>...</td>\n",
              "      <td>...</td>\n",
              "    </tr>\n",
              "    <tr>\n",
              "      <th>3331</th>\n",
              "      <td>92651766</td>\n",
              "      <td>1</td>\n",
              "      <td>14.10</td>\n",
              "      <td>6.0</td>\n",
              "      <td>2.300000</td>\n",
              "      <td>57.0</td>\n",
              "    </tr>\n",
              "    <tr>\n",
              "      <th>3332</th>\n",
              "      <td>96872663</td>\n",
              "      <td>1</td>\n",
              "      <td>63.58</td>\n",
              "      <td>20.0</td>\n",
              "      <td>8.083333</td>\n",
              "      <td>30.0</td>\n",
              "    </tr>\n",
              "    <tr>\n",
              "      <th>3333</th>\n",
              "      <td>96997174</td>\n",
              "      <td>1</td>\n",
              "      <td>59.51</td>\n",
              "      <td>18.0</td>\n",
              "      <td>36.916667</td>\n",
              "      <td>49.0</td>\n",
              "    </tr>\n",
              "    <tr>\n",
              "      <th>3334</th>\n",
              "      <td>97134637</td>\n",
              "      <td>1</td>\n",
              "      <td>20.91</td>\n",
              "      <td>11.0</td>\n",
              "      <td>112.416667</td>\n",
              "      <td>221.0</td>\n",
              "    </tr>\n",
              "    <tr>\n",
              "      <th>3335</th>\n",
              "      <td>99418993</td>\n",
              "      <td>1</td>\n",
              "      <td>34.43</td>\n",
              "      <td>12.0</td>\n",
              "      <td>125.833333</td>\n",
              "      <td>346.0</td>\n",
              "    </tr>\n",
              "  </tbody>\n",
              "</table>\n",
              "<p>3336 rows × 6 columns</p>\n",
              "</div>"
            ],
            "text/plain": [
              "       UNI_TR_D  GRU_TAR    DIC   FIC     ENE_MED  ENE_MAX\n",
              "0                      1  36.66  10.0   29.750000   2890.0\n",
              "1     101415715        1  76.55  28.0   97.791667    372.0\n",
              "2     102321736        1  17.18   7.0    1.000000      5.0\n",
              "3     103455355        1   8.31   7.0   91.333333    116.0\n",
              "4     105138826        1  16.10  12.0   13.583333     35.0\n",
              "...         ...      ...    ...   ...         ...      ...\n",
              "3331   92651766        1  14.10   6.0    2.300000     57.0\n",
              "3332   96872663        1  63.58  20.0    8.083333     30.0\n",
              "3333   96997174        1  59.51  18.0   36.916667     49.0\n",
              "3334   97134637        1  20.91  11.0  112.416667    221.0\n",
              "3335   99418993        1  34.43  12.0  125.833333    346.0\n",
              "\n",
              "[3336 rows x 6 columns]"
            ]
          },
          "metadata": {
            "tags": []
          },
          "execution_count": 17
        }
      ]
    },
    {
      "cell_type": "markdown",
      "metadata": {
        "colab_type": "text",
        "id": "pa-bOWcEhua5"
      },
      "source": [
        "## Consumidores\n",
        "\n",
        "1 - A partir de los resultados obtenidos en el práctico 1 seleccione que features podrían ser relevantes para la predicción de la calidad de servicio.\n",
        "\n",
        "2 - Agrupe los datos en base a la variable UNI_TR_D.\n",
        "\n",
        "3 - Justifique los métodos utilizados para agrupar las variables numéricas y categóricas."
      ]
    },
    {
      "cell_type": "markdown",
      "metadata": {
        "id": "K6_CQz06c8xK",
        "colab_type": "text"
      },
      "source": [
        "Para agrupar los datos, utilizamos la funcion \"groupby\", en donde agrupamos por la variable UNI_TR_D y a las demas columnas que teniamos decidimos agruparlas por lo siguiente:\n",
        "\n",
        "    -GRU_TAR: tomamos su moda\n",
        "    -DIC: calculamos su suma\n",
        "    -FIC: calculamos su suma\n",
        "    -ARE_LOC: tomamos su moda\n",
        "    -ENE_MED: calculamos su promedio\n",
        "    -ENE_MAX: calculamos su suma"
      ]
    },
    {
      "cell_type": "markdown",
      "metadata": {
        "colab_type": "text",
        "id": "L9pgI86JjO8v"
      },
      "source": [
        "## Subestación\n",
        "\n",
        "4 - Analice la información disponible sobre los transformadores de las Subestaciones (UNI_TR_S > UNTRS)\n",
        "\n",
        "5 - Seleccione las variables relevantes, realice un tratamiento de valores invalidos y outliers correspondientes. Agrupe los valores por UNTRD y agregue al dataset."
      ]
    },
    {
      "cell_type": "code",
      "metadata": {
        "id": "d4OX6hQHc8xL",
        "colab_type": "code",
        "colab": {}
      },
      "source": [
        "datasets['untrd'].to_crs(epsg=31984, inplace= True)\n"
      ],
      "execution_count": 28,
      "outputs": []
    },
    {
      "cell_type": "code",
      "metadata": {
        "id": "O5-hI2gkc8xN",
        "colab_type": "code",
        "colab": {
          "base_uri": "https://localhost:8080/",
          "height": 419
        },
        "outputId": "4cb6f23e-cbe2-403d-f36e-5eb4204d3e51"
      },
      "source": [
        "untrd_with_ucbt_grouped = datasets['ucbt'].merge(datasets['untrd'], left_on='UNI_TR_D', right_on='COD_ID')\n",
        "untrd_with_ucbt_grouped = untrd_with_ucbt_grouped.drop(['COD_ID'], axis=1)\n",
        "untrd_with_ucbt_grouped.rename(columns={\"geometry\": \"geometry_untrd\"}, inplace=True)\n",
        "untrd_with_ucbt_grouped"
      ],
      "execution_count": 29,
      "outputs": [
        {
          "output_type": "execute_result",
          "data": {
            "text/html": [
              "<div>\n",
              "<style scoped>\n",
              "    .dataframe tbody tr th:only-of-type {\n",
              "        vertical-align: middle;\n",
              "    }\n",
              "\n",
              "    .dataframe tbody tr th {\n",
              "        vertical-align: top;\n",
              "    }\n",
              "\n",
              "    .dataframe thead th {\n",
              "        text-align: right;\n",
              "    }\n",
              "</style>\n",
              "<table border=\"1\" class=\"dataframe\">\n",
              "  <thead>\n",
              "    <tr style=\"text-align: right;\">\n",
              "      <th></th>\n",
              "      <th>UNI_TR_D</th>\n",
              "      <th>GRU_TAR</th>\n",
              "      <th>DIC</th>\n",
              "      <th>FIC</th>\n",
              "      <th>ENE_MED</th>\n",
              "      <th>ENE_MAX</th>\n",
              "      <th>UNI_TR_S</th>\n",
              "      <th>ARE_LOC</th>\n",
              "      <th>geometry_untrd</th>\n",
              "    </tr>\n",
              "  </thead>\n",
              "  <tbody>\n",
              "    <tr>\n",
              "      <th>0</th>\n",
              "      <td>101415715</td>\n",
              "      <td>1</td>\n",
              "      <td>76.55</td>\n",
              "      <td>28.0</td>\n",
              "      <td>97.791667</td>\n",
              "      <td>372.0</td>\n",
              "      <td>27707534</td>\n",
              "      <td>0</td>\n",
              "      <td>POINT (143363.892 7518580.694)</td>\n",
              "    </tr>\n",
              "    <tr>\n",
              "      <th>1</th>\n",
              "      <td>102321736</td>\n",
              "      <td>1</td>\n",
              "      <td>17.18</td>\n",
              "      <td>7.0</td>\n",
              "      <td>1.000000</td>\n",
              "      <td>5.0</td>\n",
              "      <td>27707625</td>\n",
              "      <td>0</td>\n",
              "      <td>POINT (136912.804 7542384.295)</td>\n",
              "    </tr>\n",
              "    <tr>\n",
              "      <th>2</th>\n",
              "      <td>103455355</td>\n",
              "      <td>1</td>\n",
              "      <td>8.31</td>\n",
              "      <td>7.0</td>\n",
              "      <td>91.333333</td>\n",
              "      <td>116.0</td>\n",
              "      <td>27707534</td>\n",
              "      <td>1</td>\n",
              "      <td>POINT (156545.369 7524131.090)</td>\n",
              "    </tr>\n",
              "    <tr>\n",
              "      <th>3</th>\n",
              "      <td>105138826</td>\n",
              "      <td>1</td>\n",
              "      <td>16.10</td>\n",
              "      <td>12.0</td>\n",
              "      <td>13.583333</td>\n",
              "      <td>35.0</td>\n",
              "      <td>27707534</td>\n",
              "      <td>0</td>\n",
              "      <td>POINT (159329.456 7522722.774)</td>\n",
              "    </tr>\n",
              "    <tr>\n",
              "      <th>4</th>\n",
              "      <td>105383366</td>\n",
              "      <td>1</td>\n",
              "      <td>4.25</td>\n",
              "      <td>25.0</td>\n",
              "      <td>103.660000</td>\n",
              "      <td>3770.0</td>\n",
              "      <td>27708102</td>\n",
              "      <td>1</td>\n",
              "      <td>POINT (136057.317 7531471.186)</td>\n",
              "    </tr>\n",
              "    <tr>\n",
              "      <th>...</th>\n",
              "      <td>...</td>\n",
              "      <td>...</td>\n",
              "      <td>...</td>\n",
              "      <td>...</td>\n",
              "      <td>...</td>\n",
              "      <td>...</td>\n",
              "      <td>...</td>\n",
              "      <td>...</td>\n",
              "      <td>...</td>\n",
              "    </tr>\n",
              "    <tr>\n",
              "      <th>3329</th>\n",
              "      <td>92651766</td>\n",
              "      <td>1</td>\n",
              "      <td>14.10</td>\n",
              "      <td>6.0</td>\n",
              "      <td>2.300000</td>\n",
              "      <td>57.0</td>\n",
              "      <td>27707861</td>\n",
              "      <td>0</td>\n",
              "      <td>POINT (141476.201 7533655.700)</td>\n",
              "    </tr>\n",
              "    <tr>\n",
              "      <th>3330</th>\n",
              "      <td>96872663</td>\n",
              "      <td>1</td>\n",
              "      <td>63.58</td>\n",
              "      <td>20.0</td>\n",
              "      <td>8.083333</td>\n",
              "      <td>30.0</td>\n",
              "      <td>27707750</td>\n",
              "      <td>0</td>\n",
              "      <td>POINT (125038.936 7529671.573)</td>\n",
              "    </tr>\n",
              "    <tr>\n",
              "      <th>3331</th>\n",
              "      <td>96997174</td>\n",
              "      <td>1</td>\n",
              "      <td>59.51</td>\n",
              "      <td>18.0</td>\n",
              "      <td>36.916667</td>\n",
              "      <td>49.0</td>\n",
              "      <td>27707534</td>\n",
              "      <td>0</td>\n",
              "      <td>POINT (153934.893 7527124.884)</td>\n",
              "    </tr>\n",
              "    <tr>\n",
              "      <th>3332</th>\n",
              "      <td>97134637</td>\n",
              "      <td>1</td>\n",
              "      <td>20.91</td>\n",
              "      <td>11.0</td>\n",
              "      <td>112.416667</td>\n",
              "      <td>221.0</td>\n",
              "      <td>27707750</td>\n",
              "      <td>0</td>\n",
              "      <td>POINT (130275.328 7530245.551)</td>\n",
              "    </tr>\n",
              "    <tr>\n",
              "      <th>3333</th>\n",
              "      <td>99418993</td>\n",
              "      <td>1</td>\n",
              "      <td>34.43</td>\n",
              "      <td>12.0</td>\n",
              "      <td>125.833333</td>\n",
              "      <td>346.0</td>\n",
              "      <td>27707625</td>\n",
              "      <td>1</td>\n",
              "      <td>POINT (142339.189 7541362.476)</td>\n",
              "    </tr>\n",
              "  </tbody>\n",
              "</table>\n",
              "<p>3334 rows × 9 columns</p>\n",
              "</div>"
            ],
            "text/plain": [
              "       UNI_TR_D  GRU_TAR  ...  ARE_LOC                  geometry_untrd\n",
              "0     101415715        1  ...        0  POINT (143363.892 7518580.694)\n",
              "1     102321736        1  ...        0  POINT (136912.804 7542384.295)\n",
              "2     103455355        1  ...        1  POINT (156545.369 7524131.090)\n",
              "3     105138826        1  ...        0  POINT (159329.456 7522722.774)\n",
              "4     105383366        1  ...        1  POINT (136057.317 7531471.186)\n",
              "...         ...      ...  ...      ...                             ...\n",
              "3329   92651766        1  ...        0  POINT (141476.201 7533655.700)\n",
              "3330   96872663        1  ...        0  POINT (125038.936 7529671.573)\n",
              "3331   96997174        1  ...        0  POINT (153934.893 7527124.884)\n",
              "3332   97134637        1  ...        0  POINT (130275.328 7530245.551)\n",
              "3333   99418993        1  ...        1  POINT (142339.189 7541362.476)\n",
              "\n",
              "[3334 rows x 9 columns]"
            ]
          },
          "metadata": {
            "tags": []
          },
          "execution_count": 29
        }
      ]
    },
    {
      "cell_type": "code",
      "metadata": {
        "id": "-_SijL-5c8xO",
        "colab_type": "code",
        "colab": {
          "base_uri": "https://localhost:8080/",
          "height": 235
        },
        "outputId": "90b9c280-866c-45ce-b294-fb26bc68c182"
      },
      "source": [
        "#Por ahora de la layer untrs, tomaremos solamente su id, que es la columna COD_ID y su punto geométrico.\n",
        "untrs_without_irrelevants_columns = untrs.copy()\n",
        "untrs_without_irrelevants_columns.to_crs(epsg=31984, inplace= True)\n",
        "untrs_without_irrelevants_columns.drop(untrs.columns.difference(['COD_ID','geometry']), 1, inplace=True)\n",
        "untrs_without_irrelevants_columns"
      ],
      "execution_count": 20,
      "outputs": [
        {
          "output_type": "execute_result",
          "data": {
            "text/html": [
              "<div>\n",
              "<style scoped>\n",
              "    .dataframe tbody tr th:only-of-type {\n",
              "        vertical-align: middle;\n",
              "    }\n",
              "\n",
              "    .dataframe tbody tr th {\n",
              "        vertical-align: top;\n",
              "    }\n",
              "\n",
              "    .dataframe thead th {\n",
              "        text-align: right;\n",
              "    }\n",
              "</style>\n",
              "<table border=\"1\" class=\"dataframe\">\n",
              "  <thead>\n",
              "    <tr style=\"text-align: right;\">\n",
              "      <th></th>\n",
              "      <th>COD_ID</th>\n",
              "      <th>geometry</th>\n",
              "    </tr>\n",
              "  </thead>\n",
              "  <tbody>\n",
              "    <tr>\n",
              "      <th>0</th>\n",
              "      <td>27707534</td>\n",
              "      <td>POINT (151650.771 7531499.639)</td>\n",
              "    </tr>\n",
              "    <tr>\n",
              "      <th>1</th>\n",
              "      <td>27707625</td>\n",
              "      <td>POINT (137043.735 7537448.539)</td>\n",
              "    </tr>\n",
              "    <tr>\n",
              "      <th>2</th>\n",
              "      <td>27707750</td>\n",
              "      <td>POINT (120066.755 7533297.963)</td>\n",
              "    </tr>\n",
              "    <tr>\n",
              "      <th>3</th>\n",
              "      <td>27707861</td>\n",
              "      <td>POINT (137875.879 7531399.120)</td>\n",
              "    </tr>\n",
              "    <tr>\n",
              "      <th>4</th>\n",
              "      <td>27708102</td>\n",
              "      <td>POINT (135820.103 7532486.422)</td>\n",
              "    </tr>\n",
              "    <tr>\n",
              "      <th>5</th>\n",
              "      <td>80345241</td>\n",
              "      <td>POINT (135820.103 7532486.422)</td>\n",
              "    </tr>\n",
              "  </tbody>\n",
              "</table>\n",
              "</div>"
            ],
            "text/plain": [
              "     COD_ID                        geometry\n",
              "0  27707534  POINT (151650.771 7531499.639)\n",
              "1  27707625  POINT (137043.735 7537448.539)\n",
              "2  27707750  POINT (120066.755 7533297.963)\n",
              "3  27707861  POINT (137875.879 7531399.120)\n",
              "4  27708102  POINT (135820.103 7532486.422)\n",
              "5  80345241  POINT (135820.103 7532486.422)"
            ]
          },
          "metadata": {
            "tags": []
          },
          "execution_count": 20
        }
      ]
    },
    {
      "cell_type": "code",
      "metadata": {
        "colab_type": "code",
        "id": "MywEq68gzzGh",
        "colab": {
          "base_uri": "https://localhost:8080/",
          "height": 419
        },
        "outputId": "54c7e0ed-1c08-46af-c505-a1c7465cba89"
      },
      "source": [
        "ucbt_untrd_untrs = untrd_with_ucbt_grouped.merge(untrs_without_irrelevants_columns, left_on='UNI_TR_S', right_on='COD_ID')\n",
        "ucbt_untrd_untrs = ucbt_untrd_untrs.drop(['COD_ID'], axis=1)\n",
        "ucbt_untrd_untrs.rename(columns={\"geometry\": \"geometry_untrs\"}, inplace=True)\n",
        "ucbt_untrd_untrs"
      ],
      "execution_count": 21,
      "outputs": [
        {
          "output_type": "execute_result",
          "data": {
            "text/html": [
              "<div>\n",
              "<style scoped>\n",
              "    .dataframe tbody tr th:only-of-type {\n",
              "        vertical-align: middle;\n",
              "    }\n",
              "\n",
              "    .dataframe tbody tr th {\n",
              "        vertical-align: top;\n",
              "    }\n",
              "\n",
              "    .dataframe thead th {\n",
              "        text-align: right;\n",
              "    }\n",
              "</style>\n",
              "<table border=\"1\" class=\"dataframe\">\n",
              "  <thead>\n",
              "    <tr style=\"text-align: right;\">\n",
              "      <th></th>\n",
              "      <th>UNI_TR_D</th>\n",
              "      <th>GRU_TAR</th>\n",
              "      <th>DIC</th>\n",
              "      <th>FIC</th>\n",
              "      <th>ENE_MED</th>\n",
              "      <th>ENE_MAX</th>\n",
              "      <th>UNI_TR_S</th>\n",
              "      <th>ARE_LOC</th>\n",
              "      <th>geometry_untrd</th>\n",
              "      <th>geometry_untrs</th>\n",
              "    </tr>\n",
              "  </thead>\n",
              "  <tbody>\n",
              "    <tr>\n",
              "      <th>0</th>\n",
              "      <td>101415715</td>\n",
              "      <td>1</td>\n",
              "      <td>76.55</td>\n",
              "      <td>28.0</td>\n",
              "      <td>97.791667</td>\n",
              "      <td>372.0</td>\n",
              "      <td>27707534</td>\n",
              "      <td>0</td>\n",
              "      <td>POINT (143363.892 7518580.694)</td>\n",
              "      <td>POINT (151650.771 7531499.639)</td>\n",
              "    </tr>\n",
              "    <tr>\n",
              "      <th>1</th>\n",
              "      <td>103455355</td>\n",
              "      <td>1</td>\n",
              "      <td>8.31</td>\n",
              "      <td>7.0</td>\n",
              "      <td>91.333333</td>\n",
              "      <td>116.0</td>\n",
              "      <td>27707534</td>\n",
              "      <td>1</td>\n",
              "      <td>POINT (156545.369 7524131.090)</td>\n",
              "      <td>POINT (151650.771 7531499.639)</td>\n",
              "    </tr>\n",
              "    <tr>\n",
              "      <th>2</th>\n",
              "      <td>105138826</td>\n",
              "      <td>1</td>\n",
              "      <td>16.10</td>\n",
              "      <td>12.0</td>\n",
              "      <td>13.583333</td>\n",
              "      <td>35.0</td>\n",
              "      <td>27707534</td>\n",
              "      <td>0</td>\n",
              "      <td>POINT (159329.456 7522722.774)</td>\n",
              "      <td>POINT (151650.771 7531499.639)</td>\n",
              "    </tr>\n",
              "    <tr>\n",
              "      <th>3</th>\n",
              "      <td>106512676</td>\n",
              "      <td>1</td>\n",
              "      <td>17.24</td>\n",
              "      <td>8.0</td>\n",
              "      <td>84.833333</td>\n",
              "      <td>101.0</td>\n",
              "      <td>27707534</td>\n",
              "      <td>0</td>\n",
              "      <td>POINT (153744.945 7526685.029)</td>\n",
              "      <td>POINT (151650.771 7531499.639)</td>\n",
              "    </tr>\n",
              "    <tr>\n",
              "      <th>4</th>\n",
              "      <td>108015624</td>\n",
              "      <td>1</td>\n",
              "      <td>19.15</td>\n",
              "      <td>9.0</td>\n",
              "      <td>158.166667</td>\n",
              "      <td>180.0</td>\n",
              "      <td>27707534</td>\n",
              "      <td>0</td>\n",
              "      <td>POINT (154603.247 7526545.042)</td>\n",
              "      <td>POINT (151650.771 7531499.639)</td>\n",
              "    </tr>\n",
              "    <tr>\n",
              "      <th>...</th>\n",
              "      <td>...</td>\n",
              "      <td>...</td>\n",
              "      <td>...</td>\n",
              "      <td>...</td>\n",
              "      <td>...</td>\n",
              "      <td>...</td>\n",
              "      <td>...</td>\n",
              "      <td>...</td>\n",
              "      <td>...</td>\n",
              "      <td>...</td>\n",
              "    </tr>\n",
              "    <tr>\n",
              "      <th>3329</th>\n",
              "      <td>62005694</td>\n",
              "      <td>1</td>\n",
              "      <td>1.06</td>\n",
              "      <td>4.0</td>\n",
              "      <td>26.208333</td>\n",
              "      <td>83.0</td>\n",
              "      <td>80345241</td>\n",
              "      <td>1</td>\n",
              "      <td>POINT (133932.738 7527194.744)</td>\n",
              "      <td>POINT (135820.103 7532486.422)</td>\n",
              "    </tr>\n",
              "    <tr>\n",
              "      <th>3330</th>\n",
              "      <td>68553759</td>\n",
              "      <td>1</td>\n",
              "      <td>39.40</td>\n",
              "      <td>63.0</td>\n",
              "      <td>98.020833</td>\n",
              "      <td>3923.0</td>\n",
              "      <td>80345241</td>\n",
              "      <td>1</td>\n",
              "      <td>POINT (134190.805 7526273.478)</td>\n",
              "      <td>POINT (135820.103 7532486.422)</td>\n",
              "    </tr>\n",
              "    <tr>\n",
              "      <th>3331</th>\n",
              "      <td>71641214</td>\n",
              "      <td>1</td>\n",
              "      <td>47.19</td>\n",
              "      <td>39.0</td>\n",
              "      <td>160.950855</td>\n",
              "      <td>8415.0</td>\n",
              "      <td>80345241</td>\n",
              "      <td>1</td>\n",
              "      <td>POINT (134977.834 7526406.003)</td>\n",
              "      <td>POINT (135820.103 7532486.422)</td>\n",
              "    </tr>\n",
              "    <tr>\n",
              "      <th>3332</th>\n",
              "      <td>87219744</td>\n",
              "      <td>1</td>\n",
              "      <td>242.57</td>\n",
              "      <td>146.0</td>\n",
              "      <td>133.132114</td>\n",
              "      <td>8476.0</td>\n",
              "      <td>80345241</td>\n",
              "      <td>1</td>\n",
              "      <td>POINT (134897.455 7529229.454)</td>\n",
              "      <td>POINT (135820.103 7532486.422)</td>\n",
              "    </tr>\n",
              "    <tr>\n",
              "      <th>3333</th>\n",
              "      <td>91818602</td>\n",
              "      <td>1</td>\n",
              "      <td>101.44</td>\n",
              "      <td>151.0</td>\n",
              "      <td>112.299383</td>\n",
              "      <td>8603.0</td>\n",
              "      <td>80345241</td>\n",
              "      <td>1</td>\n",
              "      <td>POINT (134136.722 7526273.327)</td>\n",
              "      <td>POINT (135820.103 7532486.422)</td>\n",
              "    </tr>\n",
              "  </tbody>\n",
              "</table>\n",
              "<p>3334 rows × 10 columns</p>\n",
              "</div>"
            ],
            "text/plain": [
              "       UNI_TR_D  ...                  geometry_untrs\n",
              "0     101415715  ...  POINT (151650.771 7531499.639)\n",
              "1     103455355  ...  POINT (151650.771 7531499.639)\n",
              "2     105138826  ...  POINT (151650.771 7531499.639)\n",
              "3     106512676  ...  POINT (151650.771 7531499.639)\n",
              "4     108015624  ...  POINT (151650.771 7531499.639)\n",
              "...         ...  ...                             ...\n",
              "3329   62005694  ...  POINT (135820.103 7532486.422)\n",
              "3330   68553759  ...  POINT (135820.103 7532486.422)\n",
              "3331   71641214  ...  POINT (135820.103 7532486.422)\n",
              "3332   87219744  ...  POINT (135820.103 7532486.422)\n",
              "3333   91818602  ...  POINT (135820.103 7532486.422)\n",
              "\n",
              "[3334 rows x 10 columns]"
            ]
          },
          "metadata": {
            "tags": []
          },
          "execution_count": 21
        }
      ]
    },
    {
      "cell_type": "markdown",
      "metadata": {
        "colab_type": "text",
        "id": "M7DVfIv9kRca"
      },
      "source": [
        "## Generación de variables geográficas\n",
        "\n",
        "5 - Calcule la distancia euclideana de cada untrd al correspondiente untrs y adicione al dataset.\n",
        "\n",
        "6 - Cree una variable que sea la distancia al centro urbano mas cercanos.\n",
        "\n",
        "7 - Usando OSMnx descargue la informacion sobre caminos dentro del area de cobertura de la distribuidora. Cree variables para las distancias a autopistas (trunk), a caminos primarios (primary) y a caminos secundarios (secondary)\n"
      ]
    },
    {
      "cell_type": "code",
      "metadata": {
        "id": "_iDbkCfMc8xT",
        "colab_type": "code",
        "colab": {}
      },
      "source": [
        "ucbt_untrd_untrs['eu_dis_untrs'] = -1\n",
        "\n",
        "for i,t in ucbt_untrd_untrs.iterrows():\n",
        "    eud = ucbt_untrd_untrs.geometry_untrd[i].distance(ucbt_untrd_untrs.geometry_untrs[i])\n",
        "    ucbt_untrd_untrs.eu_dis_untrs.loc[i] = eud"
      ],
      "execution_count": 22,
      "outputs": []
    },
    {
      "cell_type": "markdown",
      "metadata": {
        "id": "vo3i4d-ic8xW",
        "colab_type": "text"
      },
      "source": [
        "Tomamos como punto de \"centro urbano\", el punto geográfico donde se encuentra la central principal de la empresa \"Nova Friburgo Energisa\"."
      ]
    },
    {
      "cell_type": "code",
      "metadata": {
        "id": "DrGXeD4rc8xW",
        "colab_type": "code",
        "colab": {
          "base_uri": "https://localhost:8080/",
          "height": 419
        },
        "outputId": "d46d1eb5-5c0b-49aa-ee57-56480d41e8c7"
      },
      "source": [
        "nova_friburgo_energisa = Point(135779.96, 7530943.88)\n",
        "\n",
        "ucbt_untrd_untrs['eu_dis_nfe'] = -1\n",
        "\n",
        "for i,t in ucbt_untrd_untrs.iterrows():\n",
        "    eud = ucbt_untrd_untrs.geometry_untrd[i].distance(nova_friburgo_energisa)\n",
        "    ucbt_untrd_untrs.eu_dis_nfe.loc[i] = eud\n",
        "    \n",
        "ucbt_untrd_untrs "
      ],
      "execution_count": 23,
      "outputs": [
        {
          "output_type": "execute_result",
          "data": {
            "text/html": [
              "<div>\n",
              "<style scoped>\n",
              "    .dataframe tbody tr th:only-of-type {\n",
              "        vertical-align: middle;\n",
              "    }\n",
              "\n",
              "    .dataframe tbody tr th {\n",
              "        vertical-align: top;\n",
              "    }\n",
              "\n",
              "    .dataframe thead th {\n",
              "        text-align: right;\n",
              "    }\n",
              "</style>\n",
              "<table border=\"1\" class=\"dataframe\">\n",
              "  <thead>\n",
              "    <tr style=\"text-align: right;\">\n",
              "      <th></th>\n",
              "      <th>UNI_TR_D</th>\n",
              "      <th>GRU_TAR</th>\n",
              "      <th>DIC</th>\n",
              "      <th>FIC</th>\n",
              "      <th>ENE_MED</th>\n",
              "      <th>ENE_MAX</th>\n",
              "      <th>UNI_TR_S</th>\n",
              "      <th>ARE_LOC</th>\n",
              "      <th>geometry_untrd</th>\n",
              "      <th>geometry_untrs</th>\n",
              "      <th>eu_dis_untrs</th>\n",
              "      <th>eu_dis_nfe</th>\n",
              "    </tr>\n",
              "  </thead>\n",
              "  <tbody>\n",
              "    <tr>\n",
              "      <th>0</th>\n",
              "      <td>101415715</td>\n",
              "      <td>1</td>\n",
              "      <td>76.55</td>\n",
              "      <td>28.0</td>\n",
              "      <td>97.791667</td>\n",
              "      <td>372.0</td>\n",
              "      <td>27707534</td>\n",
              "      <td>0</td>\n",
              "      <td>POINT (143363.892 7518580.694)</td>\n",
              "      <td>POINT (151650.771 7531499.639)</td>\n",
              "      <td>15348.338990</td>\n",
              "      <td>14503.943925</td>\n",
              "    </tr>\n",
              "    <tr>\n",
              "      <th>1</th>\n",
              "      <td>103455355</td>\n",
              "      <td>1</td>\n",
              "      <td>8.31</td>\n",
              "      <td>7.0</td>\n",
              "      <td>91.333333</td>\n",
              "      <td>116.0</td>\n",
              "      <td>27707534</td>\n",
              "      <td>1</td>\n",
              "      <td>POINT (156545.369 7524131.090)</td>\n",
              "      <td>POINT (151650.771 7531499.639)</td>\n",
              "      <td>8846.050002</td>\n",
              "      <td>21854.434425</td>\n",
              "    </tr>\n",
              "    <tr>\n",
              "      <th>2</th>\n",
              "      <td>105138826</td>\n",
              "      <td>1</td>\n",
              "      <td>16.10</td>\n",
              "      <td>12.0</td>\n",
              "      <td>13.583333</td>\n",
              "      <td>35.0</td>\n",
              "      <td>27707534</td>\n",
              "      <td>0</td>\n",
              "      <td>POINT (159329.456 7522722.774)</td>\n",
              "      <td>POINT (151650.771 7531499.639)</td>\n",
              "      <td>11661.713633</td>\n",
              "      <td>24943.242577</td>\n",
              "    </tr>\n",
              "    <tr>\n",
              "      <th>3</th>\n",
              "      <td>106512676</td>\n",
              "      <td>1</td>\n",
              "      <td>17.24</td>\n",
              "      <td>8.0</td>\n",
              "      <td>84.833333</td>\n",
              "      <td>101.0</td>\n",
              "      <td>27707534</td>\n",
              "      <td>0</td>\n",
              "      <td>POINT (153744.945 7526685.029)</td>\n",
              "      <td>POINT (151650.771 7531499.639)</td>\n",
              "      <td>5250.336447</td>\n",
              "      <td>18462.895285</td>\n",
              "    </tr>\n",
              "    <tr>\n",
              "      <th>4</th>\n",
              "      <td>108015624</td>\n",
              "      <td>1</td>\n",
              "      <td>19.15</td>\n",
              "      <td>9.0</td>\n",
              "      <td>158.166667</td>\n",
              "      <td>180.0</td>\n",
              "      <td>27707534</td>\n",
              "      <td>0</td>\n",
              "      <td>POINT (154603.247 7526545.042)</td>\n",
              "      <td>POINT (151650.771 7531499.639)</td>\n",
              "      <td>5767.594872</td>\n",
              "      <td>19330.440265</td>\n",
              "    </tr>\n",
              "    <tr>\n",
              "      <th>...</th>\n",
              "      <td>...</td>\n",
              "      <td>...</td>\n",
              "      <td>...</td>\n",
              "      <td>...</td>\n",
              "      <td>...</td>\n",
              "      <td>...</td>\n",
              "      <td>...</td>\n",
              "      <td>...</td>\n",
              "      <td>...</td>\n",
              "      <td>...</td>\n",
              "      <td>...</td>\n",
              "      <td>...</td>\n",
              "    </tr>\n",
              "    <tr>\n",
              "      <th>3329</th>\n",
              "      <td>62005694</td>\n",
              "      <td>1</td>\n",
              "      <td>1.06</td>\n",
              "      <td>4.0</td>\n",
              "      <td>26.208333</td>\n",
              "      <td>83.0</td>\n",
              "      <td>80345241</td>\n",
              "      <td>1</td>\n",
              "      <td>POINT (133932.738 7527194.744)</td>\n",
              "      <td>POINT (135820.103 7532486.422)</td>\n",
              "      <td>5618.185482</td>\n",
              "      <td>4179.503937</td>\n",
              "    </tr>\n",
              "    <tr>\n",
              "      <th>3330</th>\n",
              "      <td>68553759</td>\n",
              "      <td>1</td>\n",
              "      <td>39.40</td>\n",
              "      <td>63.0</td>\n",
              "      <td>98.020833</td>\n",
              "      <td>3923.0</td>\n",
              "      <td>80345241</td>\n",
              "      <td>1</td>\n",
              "      <td>POINT (134190.805 7526273.478)</td>\n",
              "      <td>POINT (135820.103 7532486.422)</td>\n",
              "      <td>6423.027464</td>\n",
              "      <td>4933.362391</td>\n",
              "    </tr>\n",
              "    <tr>\n",
              "      <th>3331</th>\n",
              "      <td>71641214</td>\n",
              "      <td>1</td>\n",
              "      <td>47.19</td>\n",
              "      <td>39.0</td>\n",
              "      <td>160.950855</td>\n",
              "      <td>8415.0</td>\n",
              "      <td>80345241</td>\n",
              "      <td>1</td>\n",
              "      <td>POINT (134977.834 7526406.003)</td>\n",
              "      <td>POINT (135820.103 7532486.422)</td>\n",
              "      <td>6138.477770</td>\n",
              "      <td>4608.224225</td>\n",
              "    </tr>\n",
              "    <tr>\n",
              "      <th>3332</th>\n",
              "      <td>87219744</td>\n",
              "      <td>1</td>\n",
              "      <td>242.57</td>\n",
              "      <td>146.0</td>\n",
              "      <td>133.132114</td>\n",
              "      <td>8476.0</td>\n",
              "      <td>80345241</td>\n",
              "      <td>1</td>\n",
              "      <td>POINT (134897.455 7529229.454)</td>\n",
              "      <td>POINT (135820.103 7532486.422)</td>\n",
              "      <td>3385.132235</td>\n",
              "      <td>1928.230091</td>\n",
              "    </tr>\n",
              "    <tr>\n",
              "      <th>3333</th>\n",
              "      <td>91818602</td>\n",
              "      <td>1</td>\n",
              "      <td>101.44</td>\n",
              "      <td>151.0</td>\n",
              "      <td>112.299383</td>\n",
              "      <td>8603.0</td>\n",
              "      <td>80345241</td>\n",
              "      <td>1</td>\n",
              "      <td>POINT (134136.722 7526273.327)</td>\n",
              "      <td>POINT (135820.103 7532486.422)</td>\n",
              "      <td>6437.105521</td>\n",
              "      <td>4951.191800</td>\n",
              "    </tr>\n",
              "  </tbody>\n",
              "</table>\n",
              "<p>3334 rows × 12 columns</p>\n",
              "</div>"
            ],
            "text/plain": [
              "       UNI_TR_D  GRU_TAR  ...  eu_dis_untrs    eu_dis_nfe\n",
              "0     101415715        1  ...  15348.338990  14503.943925\n",
              "1     103455355        1  ...   8846.050002  21854.434425\n",
              "2     105138826        1  ...  11661.713633  24943.242577\n",
              "3     106512676        1  ...   5250.336447  18462.895285\n",
              "4     108015624        1  ...   5767.594872  19330.440265\n",
              "...         ...      ...  ...           ...           ...\n",
              "3329   62005694        1  ...   5618.185482   4179.503937\n",
              "3330   68553759        1  ...   6423.027464   4933.362391\n",
              "3331   71641214        1  ...   6138.477770   4608.224225\n",
              "3332   87219744        1  ...   3385.132235   1928.230091\n",
              "3333   91818602        1  ...   6437.105521   4951.191800\n",
              "\n",
              "[3334 rows x 12 columns]"
            ]
          },
          "metadata": {
            "tags": []
          },
          "execution_count": 23
        }
      ]
    },
    {
      "cell_type": "code",
      "metadata": {
        "id": "9GtOWJUTc8xZ",
        "colab_type": "code",
        "colab": {
          "base_uri": "https://localhost:8080/",
          "height": 368
        },
        "outputId": "8516b57b-825f-4135-dee4-b25dc044d266"
      },
      "source": [
        "import osmnx as ox\n",
        "import rtree\n",
        "\n",
        "conj = gpd.read_file(data_path, driver='FileGDB', layer='CONJ')\n",
        "\n",
        "my_place = 'Nova Friburgo, Rio de Janeiro, Brazil'\n",
        "\n",
        "G = ox.graph_from_place(my_place)\n",
        "ox.plot_graph(G)\n"
      ],
      "execution_count": 24,
      "outputs": [
        {
          "output_type": "display_data",
          "data": {
            "image/png": "[encoded data removed]",
            "text/plain": [
              "<Figure size 576x576 with 1 Axes>"
            ]
          },
          "metadata": {
            "tags": []
          }
        },
        {
          "output_type": "execute_result",
          "data": {
            "text/plain": [
              "(<Figure size 576x576 with 1 Axes>,\n",
              " <matplotlib.axes._subplots.AxesSubplot at 0x7f17139cb588>)"
            ]
          },
          "metadata": {
            "tags": []
          },
          "execution_count": 24
        }
      ]
    },
    {
      "cell_type": "code",
      "metadata": {
        "id": "8VG3fqzz5G75",
        "colab_type": "code",
        "colab": {
          "base_uri": "https://localhost:8080/",
          "height": 1000
        },
        "outputId": "58692418-6243-4e9c-e53f-ba3816148e7f"
      },
      "source": [
        "conj_deg = conj\n",
        "dist = conj_deg.dissolve(by='DIST')\n",
        "G_conj = ox.graph_from_polygon(dist.to_crs(epsg=4326).iloc[0].geometry)\n",
        "fig, ax = ox.plot_graph(G_conj, node_size=0)\n",
        "nodes, edges = ox.graph_to_gdfs(G_conj)\n",
        "edges.to_csv('edges_conj.csv')\n",
        "edges[edges.name.str.contains('Rodovia').fillna(False)].plot(figsize=(12,12))\n",
        "mask_main_roads = (edges.highway.str.contains('trunk').fillna(False) | edges.highway.str.contains('primary').fillna(False))\n",
        "mask_secondary_roads = (edges.highway.str.contains('trunk').fillna(False) | edges.highway.str.contains('secondary').fillna(False))\n"
      ],
      "execution_count": 25,
      "outputs": [
        {
          "output_type": "display_data",
          "data": {
            "image/png": "[encoded data removed]",
            "text/plain": [
              "<Figure size 576x576 with 1 Axes>"
            ]
          },
          "metadata": {
            "tags": []
          }
        },
        {
          "output_type": "display_data",
          "data": {
            "image/png": "[encoded data removed]",
            "text/plain": [
              "<Figure size 864x864 with 1 Axes>"
            ]
          },
          "metadata": {
            "tags": [],
            "needs_background": "light"
          }
        }
      ]
    },
    {
      "cell_type": "code",
      "metadata": {
        "id": "c3qT3pOICm4b",
        "colab_type": "code",
        "colab": {
          "base_uri": "https://localhost:8080/",
          "height": 1000
        },
        "outputId": "47b8e8b5-1d73-4e01-e448-12d856d77721"
      },
      "source": [
        "main_roads = edges[['geometry','length','name', 'ref']][mask_main_roads]\n",
        "secondary_roads = edges[['geometry','length','name', 'ref']][mask_secondary_roads]\n",
        "\n",
        "main_roads.plot(figsize=(12,12))\n",
        "secondary_roads.plot(figsize=(12,12))\n"
      ],
      "execution_count": 26,
      "outputs": [
        {
          "output_type": "execute_result",
          "data": {
            "text/plain": [
              "<matplotlib.axes._subplots.AxesSubplot at 0x7f17158d3dd8>"
            ]
          },
          "metadata": {
            "tags": []
          },
          "execution_count": 26
        },
        {
          "output_type": "display_data",
          "data": {
            "image/png": "[encoded data removed]",
            "text/plain": [
              "<Figure size 864x864 with 1 Axes>"
            ]
          },
          "metadata": {
            "tags": [],
            "needs_background": "light"
          }
        },
        {
          "output_type": "display_data",
          "data": {
            "image/png": "[encoded data removed]",
            "text/plain": [
              "<Figure size 864x864 with 1 Axes>"
            ]
          },
          "metadata": {
            "tags": [],
            "needs_background": "light"
          }
        }
      ]
    },
    {
      "cell_type": "code",
      "metadata": {
        "id": "4d36D6zwDAXI",
        "colab_type": "code",
        "colab": {
          "base_uri": "https://localhost:8080/",
          "height": 589
        },
        "outputId": "79dffd91-6929-49de-98f5-9ad6e404f19c"
      },
      "source": [
        "main_roads['dist'] = 6612\n",
        "secondary_roads['dist'] = 6612\n",
        "\n",
        "main_roads_comb = main_roads.dissolve(by='dist')\n",
        "main_roads_comb.to_crs(epsg=31984, inplace= True)\n",
        "\n",
        "\n",
        "secondary_roads_comb = secondary_roads.dissolve(by='dist')\n",
        "secondary_roads_comb.to_crs(epsg=31984, inplace= True)\n",
        "\n",
        "\n",
        "ucbt_untrd_untrs['main_r_dist'] = -1\n",
        "ucbt_untrd_untrs['secondary_r_dist'] = -1\n",
        "\n",
        "\n",
        "for i,t in ucbt_untrd_untrs.iterrows():\n",
        "    eud_main_roads = ucbt_untrd_untrs.geometry_untrd[i].distance(main_roads_comb.iloc[0].geometry)\n",
        "    eud_secondary_roads = ucbt_untrd_untrs.geometry_untrd[i].distance(secondary_roads_comb.iloc[0].geometry)\n",
        "    ucbt_untrd_untrs.main_r_dist.loc[i] = eud_main_roads\n",
        "    ucbt_untrd_untrs.secondary_r_dist.loc[i] = eud_secondary_roads\n",
        "    \n",
        "ucbt_untrd_untrs"
      ],
      "execution_count": 32,
      "outputs": [
        {
          "output_type": "execute_result",
          "data": {
            "text/html": [
              "<div>\n",
              "<style scoped>\n",
              "    .dataframe tbody tr th:only-of-type {\n",
              "        vertical-align: middle;\n",
              "    }\n",
              "\n",
              "    .dataframe tbody tr th {\n",
              "        vertical-align: top;\n",
              "    }\n",
              "\n",
              "    .dataframe thead th {\n",
              "        text-align: right;\n",
              "    }\n",
              "</style>\n",
              "<table border=\"1\" class=\"dataframe\">\n",
              "  <thead>\n",
              "    <tr style=\"text-align: right;\">\n",
              "      <th></th>\n",
              "      <th>UNI_TR_D</th>\n",
              "      <th>GRU_TAR</th>\n",
              "      <th>DIC</th>\n",
              "      <th>FIC</th>\n",
              "      <th>ENE_MED</th>\n",
              "      <th>ENE_MAX</th>\n",
              "      <th>UNI_TR_S</th>\n",
              "      <th>ARE_LOC</th>\n",
              "      <th>geometry_untrd</th>\n",
              "      <th>geometry_untrs</th>\n",
              "      <th>eu_dis_untrs</th>\n",
              "      <th>eu_dis_nfe</th>\n",
              "      <th>main_r_dist</th>\n",
              "      <th>secondary_r_dist</th>\n",
              "    </tr>\n",
              "  </thead>\n",
              "  <tbody>\n",
              "    <tr>\n",
              "      <th>0</th>\n",
              "      <td>101415715</td>\n",
              "      <td>1</td>\n",
              "      <td>76.55</td>\n",
              "      <td>28.0</td>\n",
              "      <td>97.791667</td>\n",
              "      <td>372.0</td>\n",
              "      <td>27707534</td>\n",
              "      <td>0</td>\n",
              "      <td>POINT (143363.892 7518580.694)</td>\n",
              "      <td>POINT (151650.771 7531499.639)</td>\n",
              "      <td>15348.338990</td>\n",
              "      <td>14503.943925</td>\n",
              "      <td>7174.246302</td>\n",
              "      <td>7424.656820</td>\n",
              "    </tr>\n",
              "    <tr>\n",
              "      <th>1</th>\n",
              "      <td>103455355</td>\n",
              "      <td>1</td>\n",
              "      <td>8.31</td>\n",
              "      <td>7.0</td>\n",
              "      <td>91.333333</td>\n",
              "      <td>116.0</td>\n",
              "      <td>27707534</td>\n",
              "      <td>1</td>\n",
              "      <td>POINT (156545.369 7524131.090)</td>\n",
              "      <td>POINT (151650.771 7531499.639)</td>\n",
              "      <td>8846.050002</td>\n",
              "      <td>21854.434425</td>\n",
              "      <td>17768.331400</td>\n",
              "      <td>395.889376</td>\n",
              "    </tr>\n",
              "    <tr>\n",
              "      <th>2</th>\n",
              "      <td>105138826</td>\n",
              "      <td>1</td>\n",
              "      <td>16.10</td>\n",
              "      <td>12.0</td>\n",
              "      <td>13.583333</td>\n",
              "      <td>35.0</td>\n",
              "      <td>27707534</td>\n",
              "      <td>0</td>\n",
              "      <td>POINT (159329.456 7522722.774)</td>\n",
              "      <td>POINT (151650.771 7531499.639)</td>\n",
              "      <td>11661.713633</td>\n",
              "      <td>24943.242577</td>\n",
              "      <td>20611.624089</td>\n",
              "      <td>265.908068</td>\n",
              "    </tr>\n",
              "    <tr>\n",
              "      <th>3</th>\n",
              "      <td>106512676</td>\n",
              "      <td>1</td>\n",
              "      <td>17.24</td>\n",
              "      <td>8.0</td>\n",
              "      <td>84.833333</td>\n",
              "      <td>101.0</td>\n",
              "      <td>27707534</td>\n",
              "      <td>0</td>\n",
              "      <td>POINT (153744.945 7526685.029)</td>\n",
              "      <td>POINT (151650.771 7531499.639)</td>\n",
              "      <td>5250.336447</td>\n",
              "      <td>18462.895285</td>\n",
              "      <td>15155.618112</td>\n",
              "      <td>2825.851151</td>\n",
              "    </tr>\n",
              "    <tr>\n",
              "      <th>4</th>\n",
              "      <td>108015624</td>\n",
              "      <td>1</td>\n",
              "      <td>19.15</td>\n",
              "      <td>9.0</td>\n",
              "      <td>158.166667</td>\n",
              "      <td>180.0</td>\n",
              "      <td>27707534</td>\n",
              "      <td>0</td>\n",
              "      <td>POINT (154603.247 7526545.042)</td>\n",
              "      <td>POINT (151650.771 7531499.639)</td>\n",
              "      <td>5767.594872</td>\n",
              "      <td>19330.440265</td>\n",
              "      <td>15983.786567</td>\n",
              "      <td>2271.915950</td>\n",
              "    </tr>\n",
              "    <tr>\n",
              "      <th>...</th>\n",
              "      <td>...</td>\n",
              "      <td>...</td>\n",
              "      <td>...</td>\n",
              "      <td>...</td>\n",
              "      <td>...</td>\n",
              "      <td>...</td>\n",
              "      <td>...</td>\n",
              "      <td>...</td>\n",
              "      <td>...</td>\n",
              "      <td>...</td>\n",
              "      <td>...</td>\n",
              "      <td>...</td>\n",
              "      <td>...</td>\n",
              "      <td>...</td>\n",
              "    </tr>\n",
              "    <tr>\n",
              "      <th>3329</th>\n",
              "      <td>62005694</td>\n",
              "      <td>1</td>\n",
              "      <td>1.06</td>\n",
              "      <td>4.0</td>\n",
              "      <td>26.208333</td>\n",
              "      <td>83.0</td>\n",
              "      <td>80345241</td>\n",
              "      <td>1</td>\n",
              "      <td>POINT (133932.738 7527194.744)</td>\n",
              "      <td>POINT (135820.103 7532486.422)</td>\n",
              "      <td>5618.185482</td>\n",
              "      <td>4179.503937</td>\n",
              "      <td>2075.178253</td>\n",
              "      <td>376.436946</td>\n",
              "    </tr>\n",
              "    <tr>\n",
              "      <th>3330</th>\n",
              "      <td>68553759</td>\n",
              "      <td>1</td>\n",
              "      <td>39.40</td>\n",
              "      <td>63.0</td>\n",
              "      <td>98.020833</td>\n",
              "      <td>3923.0</td>\n",
              "      <td>80345241</td>\n",
              "      <td>1</td>\n",
              "      <td>POINT (134190.805 7526273.478)</td>\n",
              "      <td>POINT (135820.103 7532486.422)</td>\n",
              "      <td>6423.027464</td>\n",
              "      <td>4933.362391</td>\n",
              "      <td>2766.387890</td>\n",
              "      <td>132.413989</td>\n",
              "    </tr>\n",
              "    <tr>\n",
              "      <th>3331</th>\n",
              "      <td>71641214</td>\n",
              "      <td>1</td>\n",
              "      <td>47.19</td>\n",
              "      <td>39.0</td>\n",
              "      <td>160.950855</td>\n",
              "      <td>8415.0</td>\n",
              "      <td>80345241</td>\n",
              "      <td>1</td>\n",
              "      <td>POINT (134977.834 7526406.003)</td>\n",
              "      <td>POINT (135820.103 7532486.422)</td>\n",
              "      <td>6138.477770</td>\n",
              "      <td>4608.224225</td>\n",
              "      <td>2462.301278</td>\n",
              "      <td>916.287718</td>\n",
              "    </tr>\n",
              "    <tr>\n",
              "      <th>3332</th>\n",
              "      <td>87219744</td>\n",
              "      <td>1</td>\n",
              "      <td>242.57</td>\n",
              "      <td>146.0</td>\n",
              "      <td>133.132114</td>\n",
              "      <td>8476.0</td>\n",
              "      <td>80345241</td>\n",
              "      <td>1</td>\n",
              "      <td>POINT (134897.455 7529229.454)</td>\n",
              "      <td>POINT (135820.103 7532486.422)</td>\n",
              "      <td>3385.132235</td>\n",
              "      <td>1928.230091</td>\n",
              "      <td>226.140706</td>\n",
              "      <td>35.495363</td>\n",
              "    </tr>\n",
              "    <tr>\n",
              "      <th>3333</th>\n",
              "      <td>91818602</td>\n",
              "      <td>1</td>\n",
              "      <td>101.44</td>\n",
              "      <td>151.0</td>\n",
              "      <td>112.299383</td>\n",
              "      <td>8603.0</td>\n",
              "      <td>80345241</td>\n",
              "      <td>1</td>\n",
              "      <td>POINT (134136.722 7526273.327)</td>\n",
              "      <td>POINT (135820.103 7532486.422)</td>\n",
              "      <td>6437.105521</td>\n",
              "      <td>4951.191800</td>\n",
              "      <td>2786.129867</td>\n",
              "      <td>84.351628</td>\n",
              "    </tr>\n",
              "  </tbody>\n",
              "</table>\n",
              "<p>3334 rows × 14 columns</p>\n",
              "</div>"
            ],
            "text/plain": [
              "       UNI_TR_D  GRU_TAR     DIC  ...    eu_dis_nfe   main_r_dist  secondary_r_dist\n",
              "0     101415715        1   76.55  ...  14503.943925   7174.246302       7424.656820\n",
              "1     103455355        1    8.31  ...  21854.434425  17768.331400        395.889376\n",
              "2     105138826        1   16.10  ...  24943.242577  20611.624089        265.908068\n",
              "3     106512676        1   17.24  ...  18462.895285  15155.618112       2825.851151\n",
              "4     108015624        1   19.15  ...  19330.440265  15983.786567       2271.915950\n",
              "...         ...      ...     ...  ...           ...           ...               ...\n",
              "3329   62005694        1    1.06  ...   4179.503937   2075.178253        376.436946\n",
              "3330   68553759        1   39.40  ...   4933.362391   2766.387890        132.413989\n",
              "3331   71641214        1   47.19  ...   4608.224225   2462.301278        916.287718\n",
              "3332   87219744        1  242.57  ...   1928.230091    226.140706         35.495363\n",
              "3333   91818602        1  101.44  ...   4951.191800   2786.129867         84.351628\n",
              "\n",
              "[3334 rows x 14 columns]"
            ]
          },
          "metadata": {
            "tags": []
          },
          "execution_count": 32
        }
      ]
    },
    {
      "cell_type": "markdown",
      "metadata": {
        "id": "u3SIHzuKc8xc",
        "colab_type": "text"
      },
      "source": [
        "## [Opcional] Generación de variables con arboles de busqueda\n",
        "\n",
        "8 - Cree variables que indique la cantidad de consumidores en radios de 25, 50 y 100 metros del transformador.\n",
        "\n",
        "9 - Cree una variable indicando la distancia media de cada fila (cada untrd) a los 5 untrd mas cercanos.\n",
        "\n",
        "10 - Usando OSMnx descargue los footprints de edificios disponibles, y cree una variable que indique la cantidad de edificios en un radio de 200 metros al transformador."
      ]
    },
    {
      "cell_type": "code",
      "metadata": {
        "id": "FFRt2Avuc8xc",
        "colab_type": "code",
        "colab": {}
      },
      "source": [
        ""
      ],
      "execution_count": 27,
      "outputs": []
    }
  ]
}