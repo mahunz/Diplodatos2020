{
 "cells": [
  {
   "cell_type": "markdown",
   "metadata": {},
   "source": [
    "<center>\n",
    "<h2>Universidad Nacional de Córdoba - Facultad de Matemática, Astronomía, Física y Computación</h2>\n",
    "<h3>Diplomatura en Ciencia de Datos, Aprendizaje Automático y sus Aplicaciones 2020</h3>\n",
    "<h3>Predicción de la Calidad de Servicio</h3>\n",
    "<h3>Aprendizaje Supervisado y No Supervisado</h3>\n",
    "</center>\n",
    "</left>\n",
    "<h4>Mentor: Martín Hunziker</h4>\n",
    "\n",
    "[Link Mentoria](https://sites.google.com/view/mentorias2020-diplodatos/ciencia-de-datos-aplicada-en-la-distribuci%C3%B3n-de-energ%C3%ADa-el%C3%A9ctrica?authuser=0).\n",
    "\n",
    "</left>\n",
    "</left>"
   ]
  },
  {
   "cell_type": "markdown",
   "metadata": {},
   "source": [
    "### Introducción\n",
    "\n",
    "En la siguiente notebook, se presentará la consigna a seguir para el práctico de las materias Aprendizaje Supervisado y No Supervisado. \n"
   ]
  },
  {
   "cell_type": "code",
   "execution_count": 32,
   "metadata": {
    "colab": {
     "base_uri": "https://localhost:8080/",
     "height": 70
    },
    "colab_type": "code",
    "id": "H8KsnW0aZBSO",
    "outputId": "3166742e-8b30-4e33-aba0-664ac294e27e"
   },
   "outputs": [],
   "source": [
    "# Importación de las librerías necesarias\n",
    "import numpy as np\n",
    "import pandas as pd\n",
    "# Puede que nos sirvan también\n",
    "import matplotlib.pyplot as plt\n",
    "%matplotlib inline\n",
    "import seaborn as sns\n",
    "\n",
    "from sklearn import preprocessing\n",
    "from sklearn.utils import shuffle\n",
    "from sklearn.linear_model import LogisticRegression, Perceptron, Ridge, LinearRegression\n",
    "from sklearn.metrics import accuracy_score, confusion_matrix, mean_squared_error, mean_absolute_error, classification_report, roc_curve, auc, r2_score, make_scorer\n",
    "from sklearn.linear_model import SGDClassifier\n",
    "from sklearn.model_selection import train_test_split, GridSearchCV\n",
    "from sklearn.cluster import KMeans\n",
    "\n",
    "np.random.seed(0)  # Para mayor determinismo"
   ]
  },
  {
   "cell_type": "markdown",
   "metadata": {
    "colab_type": "text",
    "id": "eYfP2gAkQ0UA"
   },
   "source": [
    "## 1.Carga de datos\n",
    "\n",
    "De los prácticos anteriores cargamos el dataset con las efatures georeferenciadas que calculamos.\n",
    "\n",
    "Exporta el dataframe obtenido en el ultimo practico a un csv y cargalo como dataframe."
   ]
  },
  {
   "cell_type": "code",
   "execution_count": 33,
   "metadata": {
    "colab": {},
    "colab_type": "code",
    "id": "Dtj0qCSUQzGQ"
   },
   "outputs": [],
   "source": [
    "ucbt_untrd_untrs_with_metrics = pd.read_csv('./Dataset/ucbt_untrd_untrs_with_metrics_2.csv')"
   ]
  },
  {
   "cell_type": "markdown",
   "metadata": {
    "colab_type": "text",
    "id": "ZP7ObB1GRT9J"
   },
   "source": [
    "__*Sugerencia:*__ eliminar variables que no aporten información por ejemplo:\n",
    "\n",
    "\n",
    "*   Indices y IDs\n",
    "*   Referencias a otras tablas\n",
    "*   Variables compuestas (listas, jsons, geometrias)\n",
    "\n",
    "Identifica las variables que cumplen este criterio y eliminelas del dataset.\n",
    "\n",
    "Eliminen la variable de salida que no van a utilizar FIC o DIC.\n",
    "\n"
   ]
  },
  {
   "cell_type": "code",
   "execution_count": 34,
   "metadata": {
    "colab": {},
    "colab_type": "code",
    "id": "tQ89yxpfSDDN"
   },
   "outputs": [
    {
     "data": {
      "text/plain": [
       "Index(['Unnamed: 0', 'COD_ID', 'geometry', 'CTMT', 'UNI_TR_D', 'DIC', 'FIC',\n",
       "       'ENE_MED', 'ENE_MAX', 'UNI_TR_S', 'ARE_LOC', 'geometry_untrd',\n",
       "       'geometry_untrs', 'EUC_DIST_UNTRS', 'EUC_DIST_CENT', 'EUC_DIST_PRIMARY',\n",
       "       'EUC_DIST_SECONDARY', 'NODE', 'ENDNODE', 'g_degree', 'g_avg_ndeg',\n",
       "       'g_pagerank', 'dist_to_trs', 'COMP', 'R', 'X', 'impedancia',\n",
       "       'angulo_impedancia', 'GRU_TAR_2', 'GRU_TAR_3', 'DIC_above',\n",
       "       'FIC_above'],\n",
       "      dtype='object')"
      ]
     },
     "execution_count": 34,
     "metadata": {},
     "output_type": "execute_result"
    }
   ],
   "source": [
    "ucbt_untrd_untrs_with_metrics.columns"
   ]
  },
  {
   "cell_type": "code",
   "execution_count": 35,
   "metadata": {},
   "outputs": [],
   "source": [
    "ucbt_untrd_untrs_with_metrics.drop(columns=['Unnamed: 0', 'COD_ID', 'CTMT', 'UNI_TR_D', 'NODE', 'ENDNODE', 'DIC_above', 'UNI_TR_S',\n",
    "                                            'FIC_above', 'geometry', 'geometry_untrd', 'geometry_untrs'], axis=1,\n",
    "                                  inplace=True)"
   ]
  },
  {
   "cell_type": "code",
   "execution_count": 36,
   "metadata": {},
   "outputs": [
    {
     "name": "stdout",
     "output_type": "stream",
     "text": [
      "<class 'pandas.core.frame.DataFrame'>\n",
      "RangeIndex: 3334 entries, 0 to 3333\n",
      "Data columns (total 20 columns):\n",
      " #   Column              Non-Null Count  Dtype  \n",
      "---  ------              --------------  -----  \n",
      " 0   DIC                 3334 non-null   float64\n",
      " 1   FIC                 3334 non-null   float64\n",
      " 2   ENE_MED             3334 non-null   float64\n",
      " 3   ENE_MAX             3334 non-null   float64\n",
      " 4   ARE_LOC             3334 non-null   int64  \n",
      " 5   EUC_DIST_UNTRS      3334 non-null   float64\n",
      " 6   EUC_DIST_CENT       3334 non-null   float64\n",
      " 7   EUC_DIST_PRIMARY    3334 non-null   float64\n",
      " 8   EUC_DIST_SECONDARY  3334 non-null   float64\n",
      " 9   g_degree            3334 non-null   float64\n",
      " 10  g_avg_ndeg          3334 non-null   float64\n",
      " 11  g_pagerank          3334 non-null   float64\n",
      " 12  dist_to_trs         3334 non-null   float64\n",
      " 13  COMP                3334 non-null   float64\n",
      " 14  R                   3334 non-null   float64\n",
      " 15  X                   3334 non-null   float64\n",
      " 16  impedancia          3334 non-null   float64\n",
      " 17  angulo_impedancia   3334 non-null   float64\n",
      " 18  GRU_TAR_2           3334 non-null   int64  \n",
      " 19  GRU_TAR_3           3334 non-null   int64  \n",
      "dtypes: float64(17), int64(3)\n",
      "memory usage: 521.1 KB\n"
     ]
    }
   ],
   "source": [
    "ucbt_untrd_untrs_with_metrics.info()"
   ]
  },
  {
   "cell_type": "markdown",
   "metadata": {
    "colab_type": "text",
    "id": "NpAzkeVtSdIy"
   },
   "source": [
    "## 2. Preprocesamiento y partición de datos\n",
    "\n",
    "Siempre se recomienda partir los datos antes de realizar el preprocesamiento y guardar el pipeline de transformación para aplicar en operaciones futuras.\n",
    "\n",
    "Sin embargo, algunas operaciones principalmente la codificación de variables puede realizarse antes de hacer la partición ya que no representa una interacción entre las filas.\n",
    "\n",
    "Genere una partición de datos en sets de entrenamiento y validación."
   ]
  },
  {
   "cell_type": "code",
   "execution_count": 37,
   "metadata": {
    "colab": {},
    "colab_type": "code",
    "id": "aZ0IBhiKWJuy"
   },
   "outputs": [],
   "source": [
    "_ds_shuff = shuffle(ucbt_untrd_untrs_with_metrics)\n",
    "\n",
    "X = _ds_shuff[['ARE_LOC', 'GRU_TAR_2', 'GRU_TAR_3', 'ENE_MED', 'ENE_MAX',\n",
    "               'EUC_DIST_UNTRS','EUC_DIST_CENT', \n",
    "               'EUC_DIST_PRIMARY', 'EUC_DIST_SECONDARY'\n",
    "               , 'g_degree', 'g_avg_ndeg',\n",
    "       'g_pagerank', 'dist_to_trs', 'COMP', 'R', 'X', 'impedancia',\n",
    "       'angulo_impedancia']]\n",
    "\n",
    "y_dic = _ds_shuff['DIC']\n",
    "\n",
    "y_fic = _ds_shuff['FIC']\n",
    "\n",
    "X_train, X_test, y_train_dic, y_test_dic = train_test_split(X, y_dic, test_size=0.20, random_state=42)\n",
    "X_train, X_test, y_train_fic, y_test_fic = train_test_split(X, y_fic, test_size=0.20, random_state=42)\n",
    "\n"
   ]
  },
  {
   "cell_type": "markdown",
   "metadata": {
    "colab_type": "text",
    "id": "hcB9QP1LYEPv"
   },
   "source": [
    "__**Recuerden:**__ *El procesamiento que debemos hacer sobre los datos esta relacionado con el algoritmo a implementar*"
   ]
  },
  {
   "cell_type": "markdown",
   "metadata": {
    "colab_type": "text",
    "id": "CaSwP6dqXeNr"
   },
   "source": [
    "## 3. Preparación de datos para regresión lineal\n",
    "\n",
    "Los algoritmos de regresion solo aceptan entradas numéricas, por lo tanto el primer paso que debemos realizar es codificar las variables categóricas numericamente.\n",
    "\n",
    "Adicionalmente las diferencias en las dimensiones absolutas de las variables van a tener un impacto muy pronunciado en los coeficientes calculados por lo que tambien se recomienda realizar la normalizacion de las variables. \n",
    "\n",
    "Esto puede hacerse de varias maneras:\n",
    "\n",
    "*   Media/Mediana y desviacion standard\n",
    "*   Minimo y Maximo (Cuidado con los outliers)\n",
    "*   De 1 a -1\n",
    "\n",
    "Implemente una función o pipeline que aplique codificación de variables categóricas y luego normalización.\n",
    "\n",
    "__**Recuerden:**__ los parametros de normalización se calculan usando únicamente los valores de entrenamiento."
   ]
  },
  {
   "cell_type": "markdown",
   "metadata": {
    "colab": {},
    "colab_type": "code",
    "id": "JsIoknucYDOD"
   },
   "source": [
    "#### En el práctico anterior se realizaron todas estas cosas anteriores. Por lo que el dataset ya se encuentra normalizado y las variables categóricas ya estan representadas numéricamente."
   ]
  },
  {
   "cell_type": "markdown",
   "metadata": {
    "colab_type": "text",
    "id": "0i5U-CAibQf-"
   },
   "source": [
    "## 4. Regresión lineal simple y regularizada.\n",
    "\n",
    "Con los datos preprocesados obtenidos en el punto anterior implemente una regresion lineal. \n",
    "\n",
    "Evaluación del modelo:\n",
    "\n",
    "Para evaluar el modelo calcule R cuadrado, error medio absoluto y error medio cuadrado. Tanto de entrenamiento como de validación."
   ]
  },
  {
   "cell_type": "markdown",
   "metadata": {},
   "source": [
    "#### Procedemos a utilizar Regresion Lineal para predecir la DIC."
   ]
  },
  {
   "cell_type": "code",
   "execution_count": 38,
   "metadata": {
    "colab": {},
    "colab_type": "code",
    "id": "BgB0ItREcS10"
   },
   "outputs": [
    {
     "name": "stdout",
     "output_type": "stream",
     "text": [
      "---Set de Entrenamiento---\n",
      "R2 score para DIC: 0.16\n",
      "Error Medio Cuadrado para la DIC: 113369.95\n",
      "Error Medio Absoluto para la DIC: 176.58\n",
      "---Set de Test---\n",
      "R2 score para DIC: 0.16\n",
      "Error Medio Cuadrado para la DIC: 76808.98\n",
      "Error Medio Absoluto para la DIC: 178.91\n"
     ]
    }
   ],
   "source": [
    "lienal_regression = LinearRegression()\n",
    "lienal_regression.fit(X_train, y_train_dic)\n",
    "y_predicted_dic = lienal_regression.predict(X_test)\n",
    "y_predicted_train_dic = lienal_regression.predict(X_train)\n",
    "print(\"---Set de Entrenamiento---\")\n",
    "print('R2 score para DIC: %.2f' % r2_score(y_train_dic, y_predicted_train_dic))\n",
    "print('Error Medio Cuadrado para la DIC: %.2f' % mean_squared_error(y_train_dic, y_predicted_train_dic))\n",
    "print('Error Medio Absoluto para la DIC: %.2f' % mean_absolute_error(y_train_dic, y_predicted_train_dic))\n",
    "print(\"---Set de Test---\")\n",
    "print('R2 score para DIC: %.2f' % r2_score(y_test_dic, y_predicted_dic))\n",
    "print('Error Medio Cuadrado para la DIC: %.2f' % mean_squared_error(y_test_dic, y_predicted_dic))\n",
    "print('Error Medio Absoluto para la DIC: %.2f' % mean_absolute_error(y_test_dic, y_predicted_dic))"
   ]
  },
  {
   "cell_type": "markdown",
   "metadata": {},
   "source": [
    "#### Procedemos a utilizar Regresion Lineal para predecir la FIC."
   ]
  },
  {
   "cell_type": "code",
   "execution_count": 39,
   "metadata": {},
   "outputs": [
    {
     "name": "stdout",
     "output_type": "stream",
     "text": [
      "---Set de Entrenamiento---\n",
      "R2 score para FIC: 0.36\n",
      "Error Medio Cuadrado para la FIC: 22989.61\n",
      "Error Medio Absoluto para la FIC: 83.77\n",
      "---Set de Test---\n",
      "R2 score para DIC: 0.16\n",
      "Error Medio Cuadrado para la FIC: 76808.98\n",
      "Error Medio Absoluto para la FIC: 178.91\n"
     ]
    }
   ],
   "source": [
    "lienal_regression.fit(X_train, y_train_fic)\n",
    "y_predicted_fic = lienal_regression.predict(X_test)\n",
    "y_predicted_train_fic = lienal_regression.predict(X_train)\n",
    "print(\"---Set de Entrenamiento---\")\n",
    "print('R2 score para FIC: %.2f' % r2_score(y_train_fic, y_predicted_train_fic))\n",
    "print('Error Medio Cuadrado para la FIC: %.2f' % mean_squared_error(y_train_fic, y_predicted_train_fic))\n",
    "print('Error Medio Absoluto para la FIC: %.2f' % mean_absolute_error(y_train_fic, y_predicted_train_fic))\n",
    "print(\"---Set de Test---\")\n",
    "print('R2 score para DIC: %.2f' % r2_score(y_test_dic, y_predicted_dic))\n",
    "print('Error Medio Cuadrado para la FIC: %.2f' % mean_squared_error(y_test_dic, y_predicted_dic))\n",
    "print('Error Medio Absoluto para la FIC: %.2f' % mean_absolute_error(y_test_dic, y_predicted_dic))"
   ]
  },
  {
   "cell_type": "markdown",
   "metadata": {
    "colab_type": "text",
    "id": "Qs734DNnceT9"
   },
   "source": [
    "### Análisis de residuos\n",
    "\n",
    "Otro punto importante en la evaluación de los modelos de regresión, es no solo saber cuanto es el error sino como se distribuye. Para eso realizamos un análisis de residuos. Los residuos son simplemente las desviaciones de la predicción al valor real.\n",
    "\n",
    "Primero grafique la distribucion de los residuos."
   ]
  },
  {
   "cell_type": "markdown",
   "metadata": {},
   "source": [
    "Para realizar los gráficos de los residuos, tenemos que tomar una sola dimensión de X, por lo que utilizaremos en este caso ENE_MED. Además para graficar la recta necesitamos una recta, que la conseguimos con la función linear_least_squares. En donde se le pasa por parámetro la dimensión de X y la variable dependiente \"y\".\n",
    "\n",
    "Esta función linear_least_squares agarra las variables independientes y "
   ]
  },
  {
   "cell_type": "code",
   "execution_count": 40,
   "metadata": {},
   "outputs": [],
   "source": [
    "def linear_least_squares(X, y):\n",
    "    X_b = np.stack((X, np.ones(X.shape[0])), axis=1)  # add bias\n",
    "    return np.linalg.pinv(X_b.T.dot(X_b)).dot(X_b.T.dot(y))\n",
    "\n",
    "def f(X, w):\n",
    "    X_b = np.stack((X, np.ones(X.shape[0])), axis=1)  # add bias: (1, x)\n",
    "    return X_b.dot(w)"
   ]
  },
  {
   "cell_type": "markdown",
   "metadata": {},
   "source": [
    "#### Gráfico de la dimensión de ENE_MED y la FIC."
   ]
  },
  {
   "cell_type": "code",
   "execution_count": 41,
   "metadata": {
    "colab": {},
    "colab_type": "code",
    "id": "aAPxFUjNd8lE"
   },
   "outputs": [
    {
     "data": {
      "image/png": "[encoded data removed]",
      "text/plain": [
       "<Figure size 432x288 with 1 Axes>"
      ]
     },
     "metadata": {
      "needs_background": "light"
     },
     "output_type": "display_data"
    }
   ],
   "source": [
    "plt.scatter(X_test['ENE_MED'], y_test_fic)\n",
    "w = linear_least_squares(X_test['ENE_MED'], y_predicted_fic)\n",
    "plt.plot(X_test['ENE_MED'], f(X_test['ENE_MED'], w), color='red')\n",
    "plt.show()"
   ]
  },
  {
   "cell_type": "markdown",
   "metadata": {},
   "source": [
    "Los puntos azules corresponden a los valores de test de FIC con X_test['ENE_MED] en el eje de las \"x\". Y la linea roja corresponde a la función lineal con respecto a los Y predichos de FIC, con la entrada X_test['ENE_MED]"
   ]
  },
  {
   "cell_type": "markdown",
   "metadata": {},
   "source": [
    "#### Gráfico de la dimensión de ENE_MED y la DIC."
   ]
  },
  {
   "cell_type": "code",
   "execution_count": 42,
   "metadata": {},
   "outputs": [
    {
     "data": {
      "image/png": "[encoded data removed]",
      "text/plain": [
       "<Figure size 432x288 with 1 Axes>"
      ]
     },
     "metadata": {
      "needs_background": "light"
     },
     "output_type": "display_data"
    }
   ],
   "source": [
    "plt.scatter(X_test['ENE_MED'], y_test_dic)\n",
    "w = linear_least_squares(X_test['ENE_MED'], y_predicted_dic)\n",
    "plt.plot(X_test['ENE_MED'], f(X_test['ENE_MED'], w), color='red')\n",
    "plt.show()"
   ]
  },
  {
   "cell_type": "markdown",
   "metadata": {},
   "source": [
    "Los puntos azules corresponden a los valores de test de DIC con X_test[ENE_MED] en el eje de las \"x\". Y la linea roja corresponde a la función lineal con respecto a los Y predichos de DIC, con la entrada X_test[ENE_MED]"
   ]
  },
  {
   "cell_type": "markdown",
   "metadata": {},
   "source": [
    "#### En los graficos anteriores podemos observar como se distribuye el valor de la FIC y la DIC con respecto a la ENE_MED."
   ]
  },
  {
   "cell_type": "markdown",
   "metadata": {},
   "source": [
    "Esta distribución debe estar centrada en cero y debería tender a ser simétrica.\n",
    "\n",
    "**A continuación genere un scatter plot entre la prediccion y el error.** \n",
    "\n",
    "Esto debería verse principalmente como ruido, ya que no debería haber correlación entre estos valores."
   ]
  },
  {
   "cell_type": "code",
   "execution_count": 29,
   "metadata": {},
   "outputs": [
    {
     "data": {
      "image/png": "[encoded data removed]",
      "text/plain": [
       "<Figure size 1080x360 with 1 Axes>"
      ]
     },
     "metadata": {
      "needs_background": "light"
     },
     "output_type": "display_data"
    }
   ],
   "source": [
    "fig = plt.figure(figsize=(15,5))\n",
    "\n",
    "plt.scatter(y_test_fic, y_predicted_fic)\n",
    "plt.title('Residuos para la variable FIC.')\n",
    "plt.show()"
   ]
  },
  {
   "cell_type": "markdown",
   "metadata": {},
   "source": [
    "Los puntos azules corresponden a los valores de los residuos con respecto a la FIC."
   ]
  },
  {
   "cell_type": "code",
   "execution_count": 30,
   "metadata": {},
   "outputs": [
    {
     "data": {
      "image/png": "[encoded data removed]",
      "text/plain": [
       "<Figure size 1080x360 with 1 Axes>"
      ]
     },
     "metadata": {
      "needs_background": "light"
     },
     "output_type": "display_data"
    }
   ],
   "source": [
    "fig = plt.figure(figsize=(15,5))\n",
    "\n",
    "plt.scatter(y_test_dic, abs(y_predicted_dic - y_test_dic))\n",
    "plt.title('Residuos para la variable DIC.')\n",
    "plt.show()"
   ]
  },
  {
   "cell_type": "markdown",
   "metadata": {},
   "source": [
    "Los puntos azules corresponden a los valores de los residuos con respecto a la DIC."
   ]
  },
  {
   "cell_type": "markdown",
   "metadata": {
    "colab_type": "text",
    "id": "1DKwqMKlfQj5"
   },
   "source": [
    "Finalmente el último gráfico que realizaremos es el QQ Plot, que nos indicará la distribución del error a lo largo de los cuartiles.\n",
    "\n",
    "**Genere un qq plot con las predicciones realizadas.**\n",
    "(from statsmodels.graphics.gofplots import qqplot)\n"
   ]
  },
  {
   "cell_type": "markdown",
   "metadata": {},
   "source": [
    "#### QQPlot para los valores predichos de la DIC."
   ]
  },
  {
   "cell_type": "code",
   "execution_count": 31,
   "metadata": {
    "colab": {},
    "colab_type": "code",
    "id": "PzprfV8FfyXR"
   },
   "outputs": [
    {
     "ename": "ModuleNotFoundError",
     "evalue": "No module named 'statsmodels'",
     "output_type": "error",
     "traceback": [
      "\u001b[1;31m---------------------------------------------------------------------------\u001b[0m",
      "\u001b[1;31mModuleNotFoundError\u001b[0m                       Traceback (most recent call last)",
      "\u001b[1;32m<ipython-input-31-5e343793b6bf>\u001b[0m in \u001b[0;36m<module>\u001b[1;34m\u001b[0m\n\u001b[1;32m----> 1\u001b[1;33m \u001b[1;32mfrom\u001b[0m \u001b[0mstatsmodels\u001b[0m\u001b[1;33m.\u001b[0m\u001b[0mgraphics\u001b[0m\u001b[1;33m.\u001b[0m\u001b[0mgofplots\u001b[0m \u001b[1;32mimport\u001b[0m \u001b[0mqqplot\u001b[0m\u001b[1;33m\u001b[0m\u001b[1;33m\u001b[0m\u001b[0m\n\u001b[0m\u001b[0;32m      2\u001b[0m \u001b[1;32mimport\u001b[0m \u001b[0mscipy\u001b[0m\u001b[1;33m.\u001b[0m\u001b[0mstats\u001b[0m \u001b[1;32mas\u001b[0m \u001b[0mstats\u001b[0m\u001b[1;33m\u001b[0m\u001b[1;33m\u001b[0m\u001b[0m\n\u001b[0;32m      3\u001b[0m \u001b[1;33m\u001b[0m\u001b[0m\n\u001b[0;32m      4\u001b[0m \u001b[0mfig\u001b[0m \u001b[1;33m=\u001b[0m \u001b[0mqqplot\u001b[0m\u001b[1;33m(\u001b[0m\u001b[0my_predicted_dic\u001b[0m\u001b[1;33m,\u001b[0m \u001b[0mstats\u001b[0m\u001b[1;33m.\u001b[0m\u001b[0mt\u001b[0m\u001b[1;33m,\u001b[0m \u001b[0mdistargs\u001b[0m\u001b[1;33m=\u001b[0m\u001b[1;33m(\u001b[0m\u001b[1;36m4\u001b[0m\u001b[1;33m,\u001b[0m\u001b[1;33m)\u001b[0m\u001b[1;33m)\u001b[0m\u001b[1;33m\u001b[0m\u001b[1;33m\u001b[0m\u001b[0m\n\u001b[0;32m      5\u001b[0m \u001b[0mplt\u001b[0m\u001b[1;33m.\u001b[0m\u001b[0mshow\u001b[0m\u001b[1;33m(\u001b[0m\u001b[1;33m)\u001b[0m\u001b[1;33m\u001b[0m\u001b[1;33m\u001b[0m\u001b[0m\n",
      "\u001b[1;31mModuleNotFoundError\u001b[0m: No module named 'statsmodels'"
     ]
    }
   ],
   "source": [
    "from statsmodels.graphics.gofplots import qqplot\n",
    "import scipy.stats as stats\n",
    "\n",
    "fig = qqplot(y_predicted_dic, stats.t, distargs=(4,))\n",
    "plt.show()"
   ]
  },
  {
   "cell_type": "markdown",
   "metadata": {},
   "source": [
    "#### QQPlot para los valores predichos de la FIC."
   ]
  },
  {
   "cell_type": "code",
   "execution_count": null,
   "metadata": {},
   "outputs": [],
   "source": [
    "fig = qqplot(y_predicted_fic, stats.t, distargs=(4,))\n",
    "plt.show()"
   ]
  },
  {
   "cell_type": "markdown",
   "metadata": {
    "colab_type": "text",
    "id": "YI13LHJqfzzd"
   },
   "source": [
    "En este caso los valores deben concentrarse sobre la linea diagonal."
   ]
  },
  {
   "cell_type": "markdown",
   "metadata": {
    "colab_type": "text",
    "id": "xUtOtLRHkq3l"
   },
   "source": [
    "## 5. Importancia de las variables, Regresión Lineal\n",
    "\n",
    "En base a la arquitectura del modelo y utilizando los coeficientes del modelo, determine cuales son las 10 variables de mayor peso en el modelo y explique porque."
   ]
  },
  {
   "cell_type": "markdown",
   "metadata": {
    "colab": {},
    "colab_type": "code",
    "id": "xFo9vfr9lGoL"
   },
   "source": [
    "Las variables que utilizamos para implementar la regresión lineal son:\n",
    "   - ARE_LOC\n",
    "   - GRU_TAR_2\n",
    "   - GRU_TAR_3\n",
    "   - ENE_MED\n",
    "   - ENE_MAX\n",
    "   - eu_dis_untrs\n",
    "   - eu_dis_nfe\n",
    "   - main_r_dist\n",
    "   - secondary_r_dist\n",
    "   - g_degree\n",
    "   - g_avg_ndeg\n",
    "   - g_pagerank\n",
    "   - dist_to_trs\n",
    "   - COMP\n",
    "   - R\n",
    "   - X\n",
    "   - impedancia\n",
    "   - angulo_impedancia\n",
    "   \n",
    " De las cuales las 10 más relevantes podríamos decir que son: "
   ]
  },
  {
   "cell_type": "code",
   "execution_count": null,
   "metadata": {},
   "outputs": [],
   "source": [
    "keys = X.columns\n",
    "values = lienal_regression.coef_\n",
    "dictionary = dict(zip(keys, values))\n",
    "dictionary = sorted(dictionary.items(), key=lambda x: x[1], reverse=True) # Los ordenamos de mayor a menor.\n",
    "features_most_important = dictionary[:10] #Nos quedamos solamente con los 10 primeros.\n",
    "labels, values = zip(*features_most_important)\n",
    "fig = plt.figure(figsize=(15,5))\n",
    "plt.bar(labels, values, color='g')\n",
    "\n",
    "display(features_most_important)"
   ]
  },
  {
   "cell_type": "markdown",
   "metadata": {
    "colab_type": "text",
    "id": "clG7lNcDgB9w"
   },
   "source": [
    "## 6. Preparación de datos para algoritmos basados en arboles\n",
    "\n",
    "Otra rama muy utilizada de modelos son aquellos basados en arboles de decisión, como Bagging, Random Forrest o Boosting. En nuestro caso utilizaremos una implementacion de Boosting por gradiente denominada XGBoost que es reconocida por producir muy buenos resultados.\n",
    "\n",
    "Dada la naturaleza de los árboles de decisión en este caso es necesario normalizar los datos. Para demostrarlo, entrene dos modelos con parametros por default, utilizando el dataset normalizado y sin normalizar."
   ]
  },
  {
   "cell_type": "markdown",
   "metadata": {},
   "source": [
    "#### Como nuestro dataset se encuentra ya normalizado (en el práctico anterior se lo normalizó), no probaremos el caso de sin normalización para XGBoost. "
   ]
  },
  {
   "cell_type": "code",
   "execution_count": null,
   "metadata": {},
   "outputs": [],
   "source": [
    "import xgboost as xgb"
   ]
  },
  {
   "cell_type": "code",
   "execution_count": null,
   "metadata": {
    "colab": {},
    "colab_type": "code",
    "id": "PxQzAc1LiTGT"
   },
   "outputs": [],
   "source": [
    "xgb_model = xgb.XGBRegressor(objective=\"reg:linear\", random_state=42)\n",
    "\n",
    "xgb_model.fit(X_train, y_train_fic)\n",
    "\n",
    "y_pred_fic = xgb_model.predict(X_test)\n",
    "\n",
    "print('R2 score para FIC: %.2f' % r2_score(y_test_fic, y_pred_fic))\n",
    "\n",
    "print('Error Medio Cuadrado para la FIC: %.2f' % np.sqrt(mean_squared_error(y_test_fic, y_pred_fic)))\n",
    "print('Error Medio Absoluto para la FIC: %.2f' % mean_absolute_error(y_test_fic, y_pred_fic))"
   ]
  },
  {
   "cell_type": "code",
   "execution_count": null,
   "metadata": {},
   "outputs": [],
   "source": [
    "xgb_model = xgb.XGBRegressor(objective=\"reg:linear\", random_state=42)\n",
    "\n",
    "xgb_model.fit(X_train, y_train_dic)\n",
    "\n",
    "y_pred_dic = xgb_model.predict(X_test)\n",
    "\n",
    "print('R2 score para DIC: %.2f' % r2_score(y_test_dic, y_pred_dic))\n",
    "\n",
    "print('Error Medio Cuadrado para la FIC: %.2f' % np.sqrt(mean_squared_error(y_test_dic, y_pred_dic)))\n",
    "print('Error Medio Absoluto para la FIC: %.2f' % mean_absolute_error(y_test_dic, y_pred_dic))"
   ]
  },
  {
   "cell_type": "markdown",
   "metadata": {
    "colab_type": "text",
    "id": "wfDQmTceiVQm"
   },
   "source": [
    "### Evaluación del modelo, XGBoost\n",
    "\n",
    "Seleccione uno de los modelos, calcule las métricas y realice el análisis de residuos, similar al realizado anteriormente."
   ]
  },
  {
   "cell_type": "markdown",
   "metadata": {},
   "source": [
    "### Para la FIC:"
   ]
  },
  {
   "cell_type": "code",
   "execution_count": null,
   "metadata": {
    "colab": {},
    "colab_type": "code",
    "id": "CYem24gxiyk0"
   },
   "outputs": [],
   "source": [
    "fig = plt.figure(figsize=(15,5))\n",
    "\n",
    "plt.scatter(y_test_fic, abs(y_pred_fic - y_test_fic))\n",
    "plt.title('Residuos para la variable FIC.')\n",
    "plt.show()"
   ]
  },
  {
   "cell_type": "markdown",
   "metadata": {},
   "source": [
    "Los puntos azules corresponden a los valores de residuos con respecto a la FIC."
   ]
  },
  {
   "cell_type": "markdown",
   "metadata": {},
   "source": [
    "### Para la DIC:"
   ]
  },
  {
   "cell_type": "code",
   "execution_count": null,
   "metadata": {},
   "outputs": [],
   "source": [
    "fig = plt.figure(figsize=(15,5))\n",
    "\n",
    "plt.scatter(y_test_dic, abs(y_pred_dic - y_test_dic))\n",
    "plt.title('Residuos para la variable DIC.')\n",
    "plt.show()"
   ]
  },
  {
   "cell_type": "markdown",
   "metadata": {},
   "source": [
    "Los puntos azules corresponden a los valores de residuos con respecto a la DIC."
   ]
  },
  {
   "cell_type": "markdown",
   "metadata": {
    "colab_type": "text",
    "id": "QAlAg15ziz--"
   },
   "source": [
    "## 7. Importancia de las variables\n",
    "\n",
    "Utilize el metodo \"Feature Importance\" para determinar las 10 variables mas importante del modelo, verifique los diferentes criterios de calculo, seleccione uno y grafique sus coeficientes."
   ]
  },
  {
   "cell_type": "code",
   "execution_count": null,
   "metadata": {
    "colab": {},
    "colab_type": "code",
    "id": "mcK1KRQClPil"
   },
   "outputs": [],
   "source": [
    "def features_most_important(importance_type):\n",
    "    feature_importance = xgb_model.get_booster().get_score(importance_type=importance_type)\n",
    "    feature_importance = sorted(feature_importance.items(), key=lambda x: x[1], reverse=True) # Los ordenamos de mayor a menor.\n",
    "    features_most_important = feature_importance[:10] #Nos quedamos solamente con los 10 primeros.\n",
    "    return features_most_important"
   ]
  },
  {
   "cell_type": "code",
   "execution_count": null,
   "metadata": {},
   "outputs": [],
   "source": [
    "features_most_important = features_most_important(\"weight\")\n",
    "labels, values = zip(*features_most_important)\n",
    "fig = plt.figure(figsize=(15,5))\n",
    "plt.bar(labels, values, color='g')"
   ]
  },
  {
   "cell_type": "markdown",
   "metadata": {},
   "source": [
    "Se pueden observar las 10 variables con mayor peso para el modelo. Cuando decimos \"peso\", nos referimos al tipo de importancia de las variables para el método. Para el anterior gráfico, se utilizó \"weigth\", que representa el número de veces que la variable se utilizó para dividir los datos en el arbol."
   ]
  },
  {
   "cell_type": "markdown",
   "metadata": {
    "colab_type": "text",
    "id": "zxP3JkxrmXdX"
   },
   "source": [
    "## 8. Clusterización\n",
    "\n",
    "Vamos a utilizar a la clusterización como método de preprocesamiento y posteriormente vamos a correr los modelos de predicción siguiendo el artículo:\n",
    "\n",
    "https://towardsdatascience.com/cluster-then-predict-for-classification-tasks-142fdfdc87d6\n",
    "\n",
    "\n",
    "Los pasos a seguir serían:\n",
    "\n",
    "1. Realizar la clusterización del conjunto de entrenamiento. Encontrar la cantidad de cluster óptima con el elbow method.\n",
    "2. Realizar la predicción del cluster del conjunto de validación.\n",
    "3. Correr el mejor algoritmo de predicción de los puntos anteriores considerando el cluster como una feature\n",
    "4. Correr distintas predicciones para cada uno de los cluster: \n",
    "   + Dataset para el df[“clusters”] == 0 (clusters-0)\n",
    "   + Dataset para el df[“clusters”] == 1 (clusters-1)\n",
    "   +  ....\n",
    "   + Dataset para el df[“clusters”] == n (clusters-n)\n",
    "4. Comparar los resultados\n",
    "\n"
   ]
  },
  {
   "cell_type": "code",
   "execution_count": null,
   "metadata": {
    "colab": {},
    "colab_type": "code",
    "id": "mPbRx7QfndgD"
   },
   "outputs": [],
   "source": [
    "Nc = range(1, 20)\n",
    "kmeans = [KMeans(n_clusters=i) for i in Nc]\n",
    "kmeans\n",
    "score = [kmeans[i].fit(X_train).score(X_train) for i in range(len(kmeans))]\n",
    "score\n",
    "plt.plot(Nc,score)\n",
    "plt.xlabel('Number of Clusters')\n",
    "plt.ylabel('Score')\n",
    "plt.title('Elbow Curve')\n",
    "plt.show()"
   ]
  },
  {
   "cell_type": "markdown",
   "metadata": {},
   "source": [
    "A partir de utilizar el método del codo con el X_train, consideraremos como número de clusters el valor de 8."
   ]
  },
  {
   "cell_type": "code",
   "execution_count": null,
   "metadata": {},
   "outputs": [],
   "source": [
    "k_means = KMeans(n_clusters=8)\n",
    "k_means.fit(X_train)"
   ]
  },
  {
   "cell_type": "code",
   "execution_count": null,
   "metadata": {},
   "outputs": [],
   "source": [
    "X_train['cluster'] = k_means.predict(X_train)"
   ]
  },
  {
   "cell_type": "code",
   "execution_count": null,
   "metadata": {},
   "outputs": [],
   "source": [
    "X_test['cluster'] = k_means.predict(X_test)"
   ]
  },
  {
   "cell_type": "code",
   "execution_count": null,
   "metadata": {},
   "outputs": [],
   "source": [
    "xgb_model = xgb.XGBRegressor(objective=\"reg:squarederror\", random_state=42)\n",
    "\n",
    "xgb_model.fit(X_train, y_train_dic)\n",
    "\n",
    "y_pred_dic = xgb_model.predict(X_test)\n",
    "\n",
    "print('R2 score para DIC: %.2f' % r2_score(y_test_dic, y_pred_dic))\n",
    "\n",
    "print('Error Medio Cuadrado para la DIC: %.2f' % np.sqrt(mean_squared_error(y_test_dic, y_pred_dic)))\n",
    "print('Error Medio Absoluto para la DIC: %.2f' % mean_absolute_error(y_test_dic, y_pred_dic))"
   ]
  },
  {
   "cell_type": "code",
   "execution_count": null,
   "metadata": {},
   "outputs": [],
   "source": [
    "xgb_model = xgb.XGBRegressor(objective=\"reg:squarederror\", random_state=42)\n",
    "\n",
    "xgb_model.fit(X_train, y_train_fic)\n",
    "\n",
    "y_pred_fic = xgb_model.predict(X_test)\n",
    "\n",
    "print('R2 score para FIC: %.2f' % r2_score(y_test_fic, y_pred_fic))\n",
    "\n",
    "print('Error Medio Cuadrado para la FIC: %.2f' % np.sqrt(mean_squared_error(y_test_fic, y_pred_fic)))\n",
    "print('Error Medio Absoluto para la FIC: %.2f' % mean_absolute_error(y_test_fic, y_pred_fic))"
   ]
  },
  {
   "cell_type": "code",
   "execution_count": null,
   "metadata": {},
   "outputs": [],
   "source": [
    "# Para la búsqueda de los mejores parámetros para la FIC, usamos usar:\n",
    "exploring_params = { \n",
    "                      'learning_rate': [0.01, 0.1],\n",
    "                      'max_depth': [3, 5, 7, 10],\n",
    "                      'min_child_weight': [1, 3, 5],\n",
    "                      'subsample': [0.5, 0.7],\n",
    "                      'colsample_bytree': [0.5, 0.7],\n",
    "                      'n_estimators' : [100, 200, 500],\n",
    "                      'objective': ['reg:squarederror']\n",
    "                    }\n",
    "\n",
    "\n",
    "m = xgb.XGBRegressor()\n",
    "model = GridSearchCV(m, exploring_params)\n",
    "    \n",
    "model.fit(X_train, y_train_fic)\n",
    "\n",
    "print(\"Mejor conjunto de parámetros para la FIC:\")\n",
    "print(model.best_params_, end=\"\\n\\n\")\n",
    "y_predicted_fic = model.predict(X_test)\n",
    "print(\"R2 score para el mejor clasificador para la FIC: %.2f\" % r2_score(y_test_fic, y_predicted_fic))\n",
    "print('Error Medio Cuadrado para la FIC: %.2f' % np.sqrt(mean_squared_error(y_test_fic, y_predicted_fic)))\n",
    "print('Error Medio Absoluto para la FIC: %.2f' % mean_absolute_error(y_test_fic, y_predicted_fic))\n",
    "print(\"================================================\", end=\"\\n\\n\")"
   ]
  },
  {
   "cell_type": "code",
   "execution_count": null,
   "metadata": {},
   "outputs": [],
   "source": [
    "# Para la búsqueda de los mejores parámetros para la DIC, usamos usar:\n",
    "exploring_params = { \n",
    "                      'learning_rate': [0.01, 0.1],\n",
    "                      'max_depth': [3, 5, 7, 10],\n",
    "                      'min_child_weight': [1, 3, 5],\n",
    "                      'subsample': [0.5, 0.7],\n",
    "                      'colsample_bytree': [0.5, 0.7],\n",
    "                      'n_estimators' : [100, 200, 500],\n",
    "                      'objective': ['reg:squarederror']\n",
    "                    }\n",
    "\n",
    "\n",
    "m = xgb.XGBRegressor()\n",
    "model = GridSearchCV(m, exploring_params)\n",
    "    \n",
    "model.fit(X_train, y_train_dic)\n",
    "\n",
    "print(\"Mejor conjunto de parámetros:\")\n",
    "print(model.best_params_, end=\"\\n\\n\")\n",
    "y_predicted_dic = model.predict(X_test)\n",
    "print(\"R2 score para el mejor clasificador para la DIC: %.2f\" % r2_score(y_test_dic, y_predicted_dic))\n",
    "print('Error Medio Cuadrado para la DIC: %.2f' % np.sqrt(mean_squared_error(y_test_dic, y_predicted_dic)))\n",
    "print('Error Medio Absoluto para la DIC: %.2f' % mean_absolute_error(y_test_dic, y_predicted_dic))\n",
    "print(\"================================================\", end=\"\\n\\n\")"
   ]
  },
  {
   "cell_type": "markdown",
   "metadata": {
    "colab_type": "text",
    "id": "WKucLSOol7Nv"
   },
   "source": [
    "## 9. Conclusiones"
   ]
  },
  {
   "cell_type": "markdown",
   "metadata": {},
   "source": [
    "Luego de haber probado con diferentes algoritmos de predicción, creemos que el mejor a aplicar es el XGBRegressor. Para poder mejorar su precisión tuvimos que agregarle una variable a nuestro set de datos, obtenida del proceso de clusterización. Si bien no sumó mucho a la precisión pero vale la pena mantenerla. En la clusterización usamos el método del \"codo\" para obtener la cantidad de cluster(ocho en este caso), pero cabe destacar que se podría probar con un número diferente y ver como la precisión del modelo varía. Es decir si mejora o empeoran los resultados. En nuestro caso probamos con un valor menor a ocho, con seis pero nuestra precisión decrementó, por tal motivo decidimos dejarlo en ocho a la cantidad de clusters. además tuvimos que probar con diferentes hyper parámetros para poder definir los mejores que se adapten a nuestro set de datos y que tengan una mayor precisión. Gracias a esto úñtimo pudimos elevar la precision para 0.80 (para el caso de la FIC) y 0.76(para el caso de la DIC).\n",
    "\n",
    "Con respecto a la regresión lineal, el modelo que se obtuvo posee variables con pesos negativos. Esto produce que algunas predicciones para la FIC y la DIC, sean negativas. Por este motivo a los residuos los mostramos realizando la resta en valor absoluto. Viendo esto podemos descartar la utilización de este modelo.\n",
    "\n",
    "Otro tema que enfrentamos fue que nos dimos cuenta que nuestro dataset contenía errores en los datos de las columnas FIC y DIC. Había valores muy grandes, ya que estos se calcularon como resultado de la suma de todos los usuarios conectados a un transforamodr (recordar que cada fila de nuestro dataset actual representa un transformador untrd). Procedimos a corregirlo en los trabajos anteriores, lo que hicimos fue que no se calcule como una suma, si no como un promedio. Haciendo esta correción los valores de la precisión de los modelos aumentaron, ya que en un principio daban valores muy bajos."
   ]
  },
  {
   "cell_type": "code",
   "execution_count": null,
   "metadata": {},
   "outputs": [],
   "source": []
  }
 ],
 "metadata": {
  "kernelspec": {
   "display_name": "Python 3",
   "language": "python",
   "name": "python3"
  },
  "language_info": {
   "codemirror_mode": {
    "name": "ipython",
    "version": 3
   },
   "file_extension": ".py",
   "mimetype": "text/x-python",
   "name": "python",
   "nbconvert_exporter": "python",
   "pygments_lexer": "ipython3",
   "version": "3.7.7"
  }
 },
 "nbformat": 4,
 "nbformat_minor": 4
}
