{
 "cells": [
  {
   "cell_type": "markdown",
   "metadata": {
    "colab_type": "text",
    "id": "FqyA1CNFKk_2"
   },
   "source": [
    "<center>\n",
    "<h2>Universidad Nacional de Córdoba - Facultad de Matemática, Astronomía, Física y Computación</h2>\n",
    "<h3>Diplomatura en Ciencia de Datos, Aprendizaje Automático y sus Aplicaciones 2020</h3>\n",
    "<h3>Predicción de la Calidad de Servicio</h3>\n",
    "<h3>Análisis y Curación</h3>\n",
    "</center>\n",
    "</left>\n",
    "<h4>Mentor: Martín Hunziker</h4>\n",
    "\n",
    "[Link Mentoria](https://sites.google.com/view/mentorias2020-diplodatos/ciencia-de-datos-aplicada-en-la-distribuci%C3%B3n-de-energ%C3%ADa-el%C3%A9ctrica?authuser=0).\n",
    "\n",
    "</left>\n",
    "</left>"
   ]
  },
  {
   "cell_type": "markdown",
   "metadata": {
    "colab_type": "text",
    "id": "JxOC6Q-RLq5z"
   },
   "source": [
    "#Grupo 2\n",
    "###Marcelo Tisera\n",
    "###Laura Aliendo\n",
    "###Joel de Andres"
   ]
  },
  {
   "cell_type": "markdown",
   "metadata": {
    "colab_type": "text",
    "id": "f2LWfsXSKk_4"
   },
   "source": [
    "### Introducción\n",
    "\n",
    "En la siguiente notebook, se presentará la consigna a seguir para el segundo práctico de la materia Análisis y Curación. El objetivo consiste en vincular las tablas del dataset, así como iniciar el tratamiento de los datos geográficos.\n",
    "\n",
    "Como referencia para el análisis geográfico utilizaremos la notebook 2_0_Intro_Variables_georefrenciadas de Ramiro Caro.\n"
   ]
  },
  {
   "cell_type": "markdown",
   "metadata": {
    "colab_type": "text",
    "id": "wEOmjLcfKk_-"
   },
   "source": [
    "### I. Rutina de Curación\n",
    "\n",
    "Inicialmente, con el objetivo de preparar los datos que alimentarán futuros modelos de aprendizaje automático (ML), se propone seguir la siguiente __[checklist](https://dimewiki.worldbank.org/wiki/Checklist:_Data_Cleaning)__ para la limpieza de los datos de nuestro proyecto. Esta _checklist_ es la misma que utilizaron en el primer práctico de la materia y nos será de utilidad como guía para curar el dataset. A modo de ayuda, **en esta notebook encontrarán una especie de template** que sigue la _checklist_ y que deberán ir completando.\n",
    "\n",
    "**Cada decisión tomada deberá quedar registrada de manera explícita y clara.** Luego de pasar por todos los puntos de la _checklist_ propuesta, deberán almacenar en un nuevo archivo los datos resultantes.\n"
   ]
  },
  {
   "cell_type": "markdown",
   "metadata": {
    "colab_type": "text",
    "id": "LlZtqtzgKk__"
   },
   "source": [
    "### II. Análisis del Contenido\n",
    "\n",
    "Una vez aplicado el  _Checklist_, lo que vamos a hacer es comenzar a vincular las diferentes tablas del dataset e iniciar la generación de features geográficas\n"
   ]
  },
  {
   "cell_type": "markdown",
   "metadata": {
    "colab_type": "text",
    "id": "Kktg5L0WKk__"
   },
   "source": [
    "# Resolución"
   ]
  },
  {
   "cell_type": "markdown",
   "metadata": {
    "colab_type": "text",
    "id": "_Qlqb0vOKlAA"
   },
   "source": [
    "## I. Rutina de Curación\n",
    "\n",
    "### 1. Importación de Datos\n",
    "\n",
    "#### 1.1. Verificación de Inexistencia de Problemas en la Importación"
   ]
  },
  {
   "cell_type": "markdown",
   "metadata": {
    "colab_type": "text",
    "id": "oMBJjzMHKlAB"
   },
   "source": [
    "A partir de este punto, utilizaremos los transformadores de distribucion como elemnto de analisis tabla UNTRD, e incorporaremos datos de consumidores, subestación y líneas de distribución.\n",
    "\n",
    "Para comenzar, importamos los datos que vamos a procesar de las diferentes tablas que vamos a analizar:"
   ]
  },
  {
   "cell_type": "code",
   "execution_count": 1,
   "metadata": {
    "colab": {},
    "colab_type": "code",
    "executionInfo": {
     "elapsed": 761,
     "status": "ok",
     "timestamp": 1599253245476,
     "user": {
      "displayName": "Joel de Andres",
      "photoUrl": "",
      "userId": "00836612501124861246"
     },
     "user_tz": 180
    },
    "id": "7QiqtG-9ybT-"
   },
   "outputs": [],
   "source": [
    "import geopandas as gpd\n",
    "import pandas as pd\n",
    "from shapely.geometry import Point, LineString, Polygon, MultiPoint, MultiLineString\n",
    "import numpy as np\n",
    "import osmnx as ox\n",
    "import scipy as sc\n",
    "from sklearn import preprocessing\n",
    "from shapely.ops import nearest_points\n",
    "from scipy.spatial import cKDTree\n",
    "\n",
    "import WazeRouteCalculator\n",
    "from itertools import tee\n",
    "import time"
   ]
  },
  {
   "cell_type": "code",
   "execution_count": 2,
   "metadata": {
    "colab": {
     "base_uri": "https://localhost:8080/",
     "height": 51
    },
    "colab_type": "code",
    "executionInfo": {
     "elapsed": 17500,
     "status": "ok",
     "timestamp": 1599251029107,
     "user": {
      "displayName": "Joel de Andres",
      "photoUrl": "",
      "userId": "00836612501124861246"
     },
     "user_tz": 180
    },
    "id": "a-wN4MnfyTCk",
    "outputId": "eda730d4-8d4e-4580-c85c-d1b4f6455f03",
    "scrolled": true
   },
   "outputs": [
    {
     "name": "stdout",
     "output_type": "stream",
     "text": [
      "./Dataset/ENF_6612_2018-12-31_M10_20190529-1610.gdb\n",
      "./Dataset/ENF_6612_2018-12-31_M10_20190529-1610.gdb\n"
     ]
    }
   ],
   "source": [
    "# Editar con el path correspondiente a sus datos\n",
    "data_path = './Dataset/ENF_6612_2018-12-31_M10_20190529-1610.gdb'\n",
    "data_path_origin = './Dataset/ENF_6612_2018-12-31_M10_20190529-1610.gdb'\n",
    "\n",
    "print(data_path)\n",
    "print(data_path_origin)\n",
    " "
   ]
  },
  {
   "cell_type": "code",
   "execution_count": 3,
   "metadata": {
    "colab": {},
    "colab_type": "code",
    "id": "96EC4-faTMNP"
   },
   "outputs": [],
   "source": [
    "datasets = {}"
   ]
  },
  {
   "cell_type": "code",
   "execution_count": 4,
   "metadata": {
    "colab": {
     "base_uri": "https://localhost:8080/",
     "height": 68
    },
    "colab_type": "code",
    "executionInfo": {
     "elapsed": 17483,
     "status": "ok",
     "timestamp": 1599251029109,
     "user": {
      "displayName": "Joel de Andres",
      "photoUrl": "",
      "userId": "00836612501124861246"
     },
     "user_tz": 180
    },
    "id": "9sPPV-Ro6-T9",
    "outputId": "268d7221-0808-4639-fdce-e966c2ea50e7"
   },
   "outputs": [
    {
     "data": {
      "text/plain": [
       "((5, 9),\n",
       " Index(['COD_ID', 'DIST', 'NOM', 'SIST_INTE', 'SIST_SUBT', 'DESCR',\n",
       "        'Shape_Length', 'Shape_Area', 'geometry'],\n",
       "       dtype='object'))"
      ]
     },
     "execution_count": 4,
     "metadata": {},
     "output_type": "execute_result"
    }
   ],
   "source": [
    "conj = gpd.read_file(data_path, driver='FileGDB', layer='CONJ')\n",
    "datasets['conj'] = conj\n",
    "datasets['conj']['COD_ID'] = datasets['conj']['COD_ID'].astype(int)\n",
    "conj = datasets['conj']\n",
    "conj.shape, conj.columns "
   ]
  },
  {
   "cell_type": "code",
   "execution_count": 5,
   "metadata": {
    "colab": {
     "base_uri": "https://localhost:8080/",
     "height": 136
    },
    "colab_type": "code",
    "executionInfo": {
     "elapsed": 17765,
     "status": "ok",
     "timestamp": 1599251029405,
     "user": {
      "displayName": "Joel de Andres",
      "photoUrl": "",
      "userId": "00836612501124861246"
     },
     "user_tz": 180
    },
    "id": "T1xC2lhcuRy-",
    "outputId": "caf6a8a7-c4e0-462a-88bf-63545d68ebac"
   },
   "outputs": [
    {
     "data": {
      "text/plain": [
       "((3879, 33),\n",
       " Index(['COD_ID', 'DIST', 'PAC_1', 'PAC_2', 'PAC_3', 'FAS_CON_P', 'FAS_CON_S',\n",
       "        'FAS_CON_T', 'SIT_ATIV', 'TIP_UNID', 'POS', 'ATRB_PER', 'TEN_LIN_SE',\n",
       "        'CAP_ELO', 'CAP_CHA', 'TAP', 'CONF', 'POSTO', 'POT_NOM', 'PER_FER',\n",
       "        'PER_TOT', 'DAT_CON', 'CTMT', 'UNI_TR_S', 'SUB', 'CONJ', 'MUN', 'BANC',\n",
       "        'TIP_TRAFO', 'MRT', 'DESCR', 'ARE_LOC', 'geometry'],\n",
       "       dtype='object'))"
      ]
     },
     "execution_count": 5,
     "metadata": {},
     "output_type": "execute_result"
    }
   ],
   "source": [
    "untrd = gpd.read_file(data_path, driver='FileGDB', layer='UNTRD')\n",
    "untrd['CONJ'] = untrd['CONJ'].astype(int)\n",
    "untrd.shape, untrd.columns"
   ]
  },
  {
   "cell_type": "code",
   "execution_count": 6,
   "metadata": {
    "colab": {
     "base_uri": "https://localhost:8080/",
     "height": 204
    },
    "colab_type": "code",
    "executionInfo": {
     "elapsed": 17747,
     "status": "ok",
     "timestamp": 1599251029406,
     "user": {
      "displayName": "Joel de Andres",
      "photoUrl": "",
      "userId": "00836612501124861246"
     },
     "user_tz": 180
    },
    "id": "F0yigp8pyWvx",
    "outputId": "8e56f946-1c43-42e8-c7d1-678e4358b792"
   },
   "outputs": [
    {
     "data": {
      "text/plain": [
       "((6, 53),\n",
       " Index(['COD_ID', 'SUB', 'BARR_1', 'BARR_2', 'BARR_3', 'PAC_1', 'PAC_2',\n",
       "        'PAC_3', 'DIST', 'FAS_CON_P', 'FAS_CON_S', 'FAS_CON_T', 'SIT_ATIV',\n",
       "        'TIP_UNID', 'POS', 'POT_NOM', 'POT_F01', 'POT_F02', 'PER_FER',\n",
       "        'PER_TOT', 'BANC', 'DAT_CON', 'CONJ', 'MUN', 'TIP_TRAFO', 'ALOC_PERD',\n",
       "        'ENES_01', 'ENES_02', 'ENES_03', 'ENES_04', 'ENES_05', 'ENES_06',\n",
       "        'ENES_07', 'ENES_08', 'ENES_09', 'ENES_10', 'ENES_11', 'ENES_12',\n",
       "        'ENET_01', 'ENET_02', 'ENET_03', 'ENET_04', 'ENET_05', 'ENET_06',\n",
       "        'ENET_07', 'ENET_08', 'ENET_09', 'ENET_10', 'ENET_11', 'ENET_12',\n",
       "        'DESCR', 'ARE_LOC', 'geometry'],\n",
       "       dtype='object'))"
      ]
     },
     "execution_count": 6,
     "metadata": {},
     "output_type": "execute_result"
    }
   ],
   "source": [
    "untrs = gpd.read_file(data_path, driver='FileGDB', layer='UNTRS')\n",
    "untrs['CONJ'] = untrs['CONJ'].astype(int)\n",
    "untrs.shape, untrs.columns"
   ]
  },
  {
   "cell_type": "code",
   "execution_count": 7,
   "metadata": {
    "colab": {
     "base_uri": "https://localhost:8080/",
     "height": 119
    },
    "colab_type": "code",
    "executionInfo": {
     "elapsed": 20633,
     "status": "ok",
     "timestamp": 1599251032309,
     "user": {
      "displayName": "Joel de Andres",
      "photoUrl": "",
      "userId": "00836612501124861246"
     },
     "user_tz": 180
    },
    "id": "neS4sBkdzboc",
    "outputId": "4ed43141-d98d-4dfd-e513-0991cb57acde"
   },
   "outputs": [
    {
     "data": {
      "text/plain": [
       "((24929, 24),\n",
       " Index(['COD_ID', 'PN_CON_1', 'PN_CON_2', 'CTMT', 'UNI_TR_S', 'SUB', 'CONJ',\n",
       "        'DIST', 'PAC_1', 'PAC_2', 'FAS_CON', 'TIP_CND', 'POS', 'ODI_FAS',\n",
       "        'TI_FAS', 'ODI_NEU', 'TI_NEU', 'COMP', 'DESCR', 'SITCONTFAS',\n",
       "        'SITCONTNEU', 'ARE_LOC', 'Shape_Length', 'geometry'],\n",
       "       dtype='object'))"
      ]
     },
     "execution_count": 7,
     "metadata": {},
     "output_type": "execute_result"
    }
   ],
   "source": [
    "ssmt = gpd.read_file(data_path, driver='FileGDB', layer='SSDMT')\n",
    "ssmt['CONJ'] = ssmt['CONJ'].astype(int)\n",
    "ssmt.shape, ssmt.columns"
   ]
  },
  {
   "cell_type": "code",
   "execution_count": 8,
   "metadata": {
    "colab": {
     "base_uri": "https://localhost:8080/",
     "height": 170
    },
    "colab_type": "code",
    "executionInfo": {
     "elapsed": 20606,
     "status": "ok",
     "timestamp": 1599251032310,
     "user": {
      "displayName": "Joel de Andres",
      "photoUrl": "",
      "userId": "00836612501124861246"
     },
     "user_tz": 180
    },
    "id": "Sp2Ewh9L0cke",
    "outputId": "3a819ba6-d538-4b58-9fcd-9c80bb767147"
   },
   "outputs": [
    {
     "data": {
      "text/plain": [
       "((90, 40),\n",
       " Index(['COD_ID', 'DIST', 'GEOM_CAB', 'FORM_CAB', 'MAT_FAS_1', 'MAT_FAS_2',\n",
       "        'MAT_FAS_3', 'MAT_NEU', 'ISO_FAS_1', 'ISO_FAS_2', 'ISO_FAS_3',\n",
       "        'ISO_NEU', 'CND_FAS', 'R1', 'X1', 'FTRCNV', 'CNOM', 'CMAX', 'CM_FAS',\n",
       "        'TUC_FAS', 'A1_FAS', 'A2_FAS', 'A3_FAS', 'A4_FAS', 'A5_FAS', 'A6_FAS',\n",
       "        'CM_NEU', 'TUC_NEU', 'A1_NEU', 'A2_NEU', 'A3_NEU', 'A4_NEU', 'A5_NEU',\n",
       "        'A6_NEU', 'DESCR', 'BIT_FAS_1', 'BIT_FAS_2', 'BIT_FAS_3', 'BIT_NEU',\n",
       "        'geometry'],\n",
       "       dtype='object'))"
      ]
     },
     "execution_count": 8,
     "metadata": {},
     "output_type": "execute_result"
    }
   ],
   "source": [
    "segcon = gpd.read_file(data_path, driver='FileGDB', layer='SEGCON')\n",
    "segcon.shape, segcon.columns"
   ]
  },
  {
   "cell_type": "code",
   "execution_count": 9,
   "metadata": {
    "colab": {
     "base_uri": "https://localhost:8080/",
     "height": 153
    },
    "colab_type": "code",
    "executionInfo": {
     "elapsed": 29550,
     "status": "ok",
     "timestamp": 1599251041272,
     "user": {
      "displayName": "Joel de Andres",
      "photoUrl": "",
      "userId": "00836612501124861246"
     },
     "user_tz": 180
    },
    "id": "KacEd34JzdO4",
    "outputId": "6ee94b82-6365-4e6a-c517-032c83e00c42"
   },
   "outputs": [
    {
     "data": {
      "text/plain": [
       "((108346, 40),\n",
       " Index(['DIST', 'PAC', 'PN_CON', 'UNI_TR_D', 'CTMT', 'UNI_TR_S', 'SUB', 'CONJ',\n",
       "        'MUN', 'BRR', 'CEP', 'CLAS_SUB', 'CNAE', 'TIP_CC', 'FAS_CON', 'GRU_TEN',\n",
       "        'TEN_FORN', 'GRU_TAR', 'SIT_ATIV', 'DAT_CON', 'CAR_INST', 'LIV',\n",
       "        'ENE_01', 'ENE_02', 'ENE_03', 'ENE_04', 'ENE_05', 'ENE_06', 'ENE_07',\n",
       "        'ENE_08', 'ENE_09', 'ENE_10', 'ENE_11', 'ENE_12', 'DIC', 'FIC',\n",
       "        'SEMRED', 'DESCR', 'ARE_LOC', 'geometry'],\n",
       "       dtype='object'))"
      ]
     },
     "execution_count": 9,
     "metadata": {},
     "output_type": "execute_result"
    }
   ],
   "source": [
    "ucbt = gpd.read_file(data_path, driver='FileGDB', layer='UCBT')\n",
    "ucbt['CONJ'] = ucbt['CONJ'].astype(int)\n",
    "ucbt.shape, ucbt.columns"
   ]
  },
  {
   "cell_type": "code",
   "execution_count": 10,
   "metadata": {
    "colab": {},
    "colab_type": "code",
    "id": "WAONm-CyMM5j"
   },
   "outputs": [],
   "source": [
    "# Agrupando Variables\n",
    "\n",
    "ucbt['ENE_MED'] = ucbt[['ENE_01', 'ENE_02', 'ENE_03', 'ENE_04', 'ENE_05', 'ENE_06', 'ENE_07','ENE_08', 'ENE_09', 'ENE_10', 'ENE_11', 'ENE_12']].mean(axis=1)\n",
    "ucbt['ENE_STD'] = ucbt[['ENE_01', 'ENE_02', 'ENE_03', 'ENE_04', 'ENE_05', 'ENE_06', 'ENE_07','ENE_08', 'ENE_09', 'ENE_10', 'ENE_11', 'ENE_12']].std(axis=1)\n",
    "ucbt['ENE_MAX'] = ucbt[['ENE_01', 'ENE_02', 'ENE_03', 'ENE_04', 'ENE_05', 'ENE_06', 'ENE_07','ENE_08', 'ENE_09', 'ENE_10', 'ENE_11', 'ENE_12']].max(axis=1)\n"
   ]
  },
  {
   "cell_type": "markdown",
   "metadata": {
    "colab_type": "text",
    "id": "IME_Gu5SKlAa"
   },
   "source": [
    "### 1.2. Asegurar la Existencia de IDs o Claves Únicas"
   ]
  },
  {
   "cell_type": "code",
   "execution_count": 11,
   "metadata": {
    "colab": {
     "base_uri": "https://localhost:8080/",
     "height": 85
    },
    "colab_type": "code",
    "executionInfo": {
     "elapsed": 29528,
     "status": "ok",
     "timestamp": 1599251041275,
     "user": {
      "displayName": "Joel de Andres",
      "photoUrl": "",
      "userId": "00836612501124861246"
     },
     "user_tz": 180
    },
    "id": "exIVuLLhIsi6",
    "outputId": "2a86f8b2-09e3-4b6e-f96d-246ffd6aa61f"
   },
   "outputs": [
    {
     "name": "stdout",
     "output_type": "stream",
     "text": [
      "True\n",
      "True\n",
      "True\n",
      "True\n"
     ]
    }
   ],
   "source": [
    "print(untrd['COD_ID'].is_unique)\n",
    "print(untrs['COD_ID'].is_unique)\n",
    "print(ssmt['COD_ID'].is_unique)\n",
    "print(segcon['COD_ID'].is_unique)"
   ]
  },
  {
   "cell_type": "markdown",
   "metadata": {
    "colab_type": "text",
    "id": "84JpQDVaKlAa"
   },
   "source": [
    "El siguiente paso implica chequear que no existen datos duplicados y que las claves, si existen, son únicas.\n",
    "\n",
    "Las claves únicas de las diferentes tablas es el COD_ID, como figura en la documentación. En el caso de la tabla UCBT fue eliminado por el proveedor de los datos por lo que asumiremos que los datos son únicos. Podriamos regenerar el COD_ID con un valor secuencial, pero como vamos a utilizar la tabla UNTRD como elementos de análisis no será necesario"
   ]
  },
  {
   "cell_type": "code",
   "execution_count": 12,
   "metadata": {
    "colab": {
     "base_uri": "https://localhost:8080/",
     "height": 69
    },
    "colab_type": "code",
    "executionInfo": {
     "elapsed": 29511,
     "status": "ok",
     "timestamp": 1599251041275,
     "user": {
      "displayName": "Joel de Andres",
      "photoUrl": "",
      "userId": "00836612501124861246"
     },
     "user_tz": 180
    },
    "id": "z8jbCu2lKlAb",
    "outputId": "883d5f28-7e6d-4bb7-8dd2-179083144349"
   },
   "outputs": [
    {
     "data": {
      "text/html": [
       "<div>\n",
       "<style scoped>\n",
       "    .dataframe tbody tr th:only-of-type {\n",
       "        vertical-align: middle;\n",
       "    }\n",
       "\n",
       "    .dataframe tbody tr th {\n",
       "        vertical-align: top;\n",
       "    }\n",
       "\n",
       "    .dataframe thead th {\n",
       "        text-align: right;\n",
       "    }\n",
       "</style>\n",
       "<table border=\"1\" class=\"dataframe\">\n",
       "  <thead>\n",
       "    <tr style=\"text-align: right;\">\n",
       "      <th></th>\n",
       "      <th>COD_ID</th>\n",
       "      <th>DIST</th>\n",
       "      <th>PAC_1</th>\n",
       "      <th>PAC_2</th>\n",
       "      <th>PAC_3</th>\n",
       "      <th>FAS_CON_P</th>\n",
       "      <th>FAS_CON_S</th>\n",
       "      <th>FAS_CON_T</th>\n",
       "      <th>SIT_ATIV</th>\n",
       "      <th>TIP_UNID</th>\n",
       "      <th>...</th>\n",
       "      <th>UNI_TR_S</th>\n",
       "      <th>SUB</th>\n",
       "      <th>CONJ</th>\n",
       "      <th>MUN</th>\n",
       "      <th>BANC</th>\n",
       "      <th>TIP_TRAFO</th>\n",
       "      <th>MRT</th>\n",
       "      <th>DESCR</th>\n",
       "      <th>ARE_LOC</th>\n",
       "      <th>geometry</th>\n",
       "    </tr>\n",
       "  </thead>\n",
       "  <tbody>\n",
       "  </tbody>\n",
       "</table>\n",
       "<p>0 rows × 33 columns</p>\n",
       "</div>"
      ],
      "text/plain": [
       "Empty GeoDataFrame\n",
       "Columns: [COD_ID, DIST, PAC_1, PAC_2, PAC_3, FAS_CON_P, FAS_CON_S, FAS_CON_T, SIT_ATIV, TIP_UNID, POS, ATRB_PER, TEN_LIN_SE, CAP_ELO, CAP_CHA, TAP, CONF, POSTO, POT_NOM, PER_FER, PER_TOT, DAT_CON, CTMT, UNI_TR_S, SUB, CONJ, MUN, BANC, TIP_TRAFO, MRT, DESCR, ARE_LOC, geometry]\n",
       "Index: []\n",
       "\n",
       "[0 rows x 33 columns]"
      ]
     },
     "execution_count": 12,
     "metadata": {},
     "output_type": "execute_result"
    }
   ],
   "source": [
    "cod_id = 'COD_ID'\n",
    "untrd_duplicado_cod_id  = untrd[untrd[cod_id].duplicated(keep=False)]\n",
    "untrd_duplicado_cod_id"
   ]
  },
  {
   "cell_type": "code",
   "execution_count": 13,
   "metadata": {
    "colab": {
     "base_uri": "https://localhost:8080/",
     "height": 69
    },
    "colab_type": "code",
    "executionInfo": {
     "elapsed": 29872,
     "status": "ok",
     "timestamp": 1599251041656,
     "user": {
      "displayName": "Joel de Andres",
      "photoUrl": "",
      "userId": "00836612501124861246"
     },
     "user_tz": 180
    },
    "id": "HaeYcaIFRCw0",
    "outputId": "28242fdc-8936-4249-a8f7-5d016edd4bb1"
   },
   "outputs": [
    {
     "data": {
      "text/html": [
       "<div>\n",
       "<style scoped>\n",
       "    .dataframe tbody tr th:only-of-type {\n",
       "        vertical-align: middle;\n",
       "    }\n",
       "\n",
       "    .dataframe tbody tr th {\n",
       "        vertical-align: top;\n",
       "    }\n",
       "\n",
       "    .dataframe thead th {\n",
       "        text-align: right;\n",
       "    }\n",
       "</style>\n",
       "<table border=\"1\" class=\"dataframe\">\n",
       "  <thead>\n",
       "    <tr style=\"text-align: right;\">\n",
       "      <th></th>\n",
       "      <th>COD_ID</th>\n",
       "      <th>SUB</th>\n",
       "      <th>BARR_1</th>\n",
       "      <th>BARR_2</th>\n",
       "      <th>BARR_3</th>\n",
       "      <th>PAC_1</th>\n",
       "      <th>PAC_2</th>\n",
       "      <th>PAC_3</th>\n",
       "      <th>DIST</th>\n",
       "      <th>FAS_CON_P</th>\n",
       "      <th>...</th>\n",
       "      <th>ENET_06</th>\n",
       "      <th>ENET_07</th>\n",
       "      <th>ENET_08</th>\n",
       "      <th>ENET_09</th>\n",
       "      <th>ENET_10</th>\n",
       "      <th>ENET_11</th>\n",
       "      <th>ENET_12</th>\n",
       "      <th>DESCR</th>\n",
       "      <th>ARE_LOC</th>\n",
       "      <th>geometry</th>\n",
       "    </tr>\n",
       "  </thead>\n",
       "  <tbody>\n",
       "  </tbody>\n",
       "</table>\n",
       "<p>0 rows × 53 columns</p>\n",
       "</div>"
      ],
      "text/plain": [
       "Empty GeoDataFrame\n",
       "Columns: [COD_ID, SUB, BARR_1, BARR_2, BARR_3, PAC_1, PAC_2, PAC_3, DIST, FAS_CON_P, FAS_CON_S, FAS_CON_T, SIT_ATIV, TIP_UNID, POS, POT_NOM, POT_F01, POT_F02, PER_FER, PER_TOT, BANC, DAT_CON, CONJ, MUN, TIP_TRAFO, ALOC_PERD, ENES_01, ENES_02, ENES_03, ENES_04, ENES_05, ENES_06, ENES_07, ENES_08, ENES_09, ENES_10, ENES_11, ENES_12, ENET_01, ENET_02, ENET_03, ENET_04, ENET_05, ENET_06, ENET_07, ENET_08, ENET_09, ENET_10, ENET_11, ENET_12, DESCR, ARE_LOC, geometry]\n",
       "Index: []\n",
       "\n",
       "[0 rows x 53 columns]"
      ]
     },
     "execution_count": 13,
     "metadata": {},
     "output_type": "execute_result"
    }
   ],
   "source": [
    "untrs_duplicado_cod_id  = untrs[untrs[cod_id].duplicated(keep=False)]\n",
    "untrs_duplicado_cod_id"
   ]
  },
  {
   "cell_type": "code",
   "execution_count": 14,
   "metadata": {
    "colab": {
     "base_uri": "https://localhost:8080/",
     "height": 69
    },
    "colab_type": "code",
    "executionInfo": {
     "elapsed": 29850,
     "status": "ok",
     "timestamp": 1599251041657,
     "user": {
      "displayName": "Joel de Andres",
      "photoUrl": "",
      "userId": "00836612501124861246"
     },
     "user_tz": 180
    },
    "id": "kLyWG8RRRD20",
    "outputId": "41c1def7-d654-4a3f-adfb-9b598c12f5f7"
   },
   "outputs": [
    {
     "data": {
      "text/html": [
       "<div>\n",
       "<style scoped>\n",
       "    .dataframe tbody tr th:only-of-type {\n",
       "        vertical-align: middle;\n",
       "    }\n",
       "\n",
       "    .dataframe tbody tr th {\n",
       "        vertical-align: top;\n",
       "    }\n",
       "\n",
       "    .dataframe thead th {\n",
       "        text-align: right;\n",
       "    }\n",
       "</style>\n",
       "<table border=\"1\" class=\"dataframe\">\n",
       "  <thead>\n",
       "    <tr style=\"text-align: right;\">\n",
       "      <th></th>\n",
       "      <th>COD_ID</th>\n",
       "      <th>PN_CON_1</th>\n",
       "      <th>PN_CON_2</th>\n",
       "      <th>CTMT</th>\n",
       "      <th>UNI_TR_S</th>\n",
       "      <th>SUB</th>\n",
       "      <th>CONJ</th>\n",
       "      <th>DIST</th>\n",
       "      <th>PAC_1</th>\n",
       "      <th>PAC_2</th>\n",
       "      <th>...</th>\n",
       "      <th>TI_FAS</th>\n",
       "      <th>ODI_NEU</th>\n",
       "      <th>TI_NEU</th>\n",
       "      <th>COMP</th>\n",
       "      <th>DESCR</th>\n",
       "      <th>SITCONTFAS</th>\n",
       "      <th>SITCONTNEU</th>\n",
       "      <th>ARE_LOC</th>\n",
       "      <th>Shape_Length</th>\n",
       "      <th>geometry</th>\n",
       "    </tr>\n",
       "  </thead>\n",
       "  <tbody>\n",
       "  </tbody>\n",
       "</table>\n",
       "<p>0 rows × 24 columns</p>\n",
       "</div>"
      ],
      "text/plain": [
       "Empty GeoDataFrame\n",
       "Columns: [COD_ID, PN_CON_1, PN_CON_2, CTMT, UNI_TR_S, SUB, CONJ, DIST, PAC_1, PAC_2, FAS_CON, TIP_CND, POS, ODI_FAS, TI_FAS, ODI_NEU, TI_NEU, COMP, DESCR, SITCONTFAS, SITCONTNEU, ARE_LOC, Shape_Length, geometry]\n",
       "Index: []\n",
       "\n",
       "[0 rows x 24 columns]"
      ]
     },
     "execution_count": 14,
     "metadata": {},
     "output_type": "execute_result"
    }
   ],
   "source": [
    "ssmt_duplicado_cod_id  = ssmt[ssmt[cod_id].duplicated(keep=False)]\n",
    "ssmt_duplicado_cod_id"
   ]
  },
  {
   "cell_type": "code",
   "execution_count": 15,
   "metadata": {
    "colab": {
     "base_uri": "https://localhost:8080/",
     "height": 69
    },
    "colab_type": "code",
    "executionInfo": {
     "elapsed": 29831,
     "status": "ok",
     "timestamp": 1599251041658,
     "user": {
      "displayName": "Joel de Andres",
      "photoUrl": "",
      "userId": "00836612501124861246"
     },
     "user_tz": 180
    },
    "id": "P_OwGQ77RE4j",
    "outputId": "9c828d5e-a4db-4586-e6f6-5d010e58f49a"
   },
   "outputs": [
    {
     "data": {
      "text/html": [
       "<div>\n",
       "<style scoped>\n",
       "    .dataframe tbody tr th:only-of-type {\n",
       "        vertical-align: middle;\n",
       "    }\n",
       "\n",
       "    .dataframe tbody tr th {\n",
       "        vertical-align: top;\n",
       "    }\n",
       "\n",
       "    .dataframe thead th {\n",
       "        text-align: right;\n",
       "    }\n",
       "</style>\n",
       "<table border=\"1\" class=\"dataframe\">\n",
       "  <thead>\n",
       "    <tr style=\"text-align: right;\">\n",
       "      <th></th>\n",
       "      <th>COD_ID</th>\n",
       "      <th>DIST</th>\n",
       "      <th>GEOM_CAB</th>\n",
       "      <th>FORM_CAB</th>\n",
       "      <th>MAT_FAS_1</th>\n",
       "      <th>MAT_FAS_2</th>\n",
       "      <th>MAT_FAS_3</th>\n",
       "      <th>MAT_NEU</th>\n",
       "      <th>ISO_FAS_1</th>\n",
       "      <th>ISO_FAS_2</th>\n",
       "      <th>...</th>\n",
       "      <th>A3_NEU</th>\n",
       "      <th>A4_NEU</th>\n",
       "      <th>A5_NEU</th>\n",
       "      <th>A6_NEU</th>\n",
       "      <th>DESCR</th>\n",
       "      <th>BIT_FAS_1</th>\n",
       "      <th>BIT_FAS_2</th>\n",
       "      <th>BIT_FAS_3</th>\n",
       "      <th>BIT_NEU</th>\n",
       "      <th>geometry</th>\n",
       "    </tr>\n",
       "  </thead>\n",
       "  <tbody>\n",
       "  </tbody>\n",
       "</table>\n",
       "<p>0 rows × 40 columns</p>\n",
       "</div>"
      ],
      "text/plain": [
       "Empty GeoDataFrame\n",
       "Columns: [COD_ID, DIST, GEOM_CAB, FORM_CAB, MAT_FAS_1, MAT_FAS_2, MAT_FAS_3, MAT_NEU, ISO_FAS_1, ISO_FAS_2, ISO_FAS_3, ISO_NEU, CND_FAS, R1, X1, FTRCNV, CNOM, CMAX, CM_FAS, TUC_FAS, A1_FAS, A2_FAS, A3_FAS, A4_FAS, A5_FAS, A6_FAS, CM_NEU, TUC_NEU, A1_NEU, A2_NEU, A3_NEU, A4_NEU, A5_NEU, A6_NEU, DESCR, BIT_FAS_1, BIT_FAS_2, BIT_FAS_3, BIT_NEU, geometry]\n",
       "Index: []\n",
       "\n",
       "[0 rows x 40 columns]"
      ]
     },
     "execution_count": 15,
     "metadata": {},
     "output_type": "execute_result"
    }
   ],
   "source": [
    "segcon_duplicado_cod_id  = segcon[segcon[cod_id].duplicated(keep=False)]\n",
    "segcon_duplicado_cod_id"
   ]
  },
  {
   "cell_type": "code",
   "execution_count": 16,
   "metadata": {
    "colab": {
     "base_uri": "https://localhost:8080/",
     "height": 49
    },
    "colab_type": "code",
    "executionInfo": {
     "elapsed": 29798,
     "status": "ok",
     "timestamp": 1599251041660,
     "user": {
      "displayName": "Joel de Andres",
      "photoUrl": "",
      "userId": "00836612501124861246"
     },
     "user_tz": 180
    },
    "id": "pdRiZOkn7EjF",
    "outputId": "bfe347aa-996d-42ec-8938-053b4bcf3c2f"
   },
   "outputs": [
    {
     "data": {
      "text/html": [
       "<div>\n",
       "<style scoped>\n",
       "    .dataframe tbody tr th:only-of-type {\n",
       "        vertical-align: middle;\n",
       "    }\n",
       "\n",
       "    .dataframe tbody tr th {\n",
       "        vertical-align: top;\n",
       "    }\n",
       "\n",
       "    .dataframe thead th {\n",
       "        text-align: right;\n",
       "    }\n",
       "</style>\n",
       "<table border=\"1\" class=\"dataframe\">\n",
       "  <thead>\n",
       "    <tr style=\"text-align: right;\">\n",
       "      <th></th>\n",
       "      <th>COD_ID</th>\n",
       "      <th>DIST</th>\n",
       "      <th>NOM</th>\n",
       "      <th>SIST_INTE</th>\n",
       "      <th>SIST_SUBT</th>\n",
       "      <th>DESCR</th>\n",
       "      <th>Shape_Length</th>\n",
       "      <th>Shape_Area</th>\n",
       "      <th>geometry</th>\n",
       "    </tr>\n",
       "  </thead>\n",
       "  <tbody>\n",
       "  </tbody>\n",
       "</table>\n",
       "</div>"
      ],
      "text/plain": [
       "Empty GeoDataFrame\n",
       "Columns: [COD_ID, DIST, NOM, SIST_INTE, SIST_SUBT, DESCR, Shape_Length, Shape_Area, geometry]\n",
       "Index: []"
      ]
     },
     "execution_count": 16,
     "metadata": {},
     "output_type": "execute_result"
    }
   ],
   "source": [
    "conj_duplicado_cod_id  = conj[conj[cod_id].duplicated(keep=False)]\n",
    "conj_duplicado_cod_id"
   ]
  },
  {
   "cell_type": "markdown",
   "metadata": {
    "colab_type": "text",
    "id": "s91Us4J1KlAe"
   },
   "source": [
    "### 1.3. Despersonalizar Datos y Guardarlos en un Nuevo Archivo"
   ]
  },
  {
   "cell_type": "markdown",
   "metadata": {
    "colab_type": "text",
    "id": "ifmtFNa7KlAf"
   },
   "source": [
    "En este caso, no es necesario despersonalizar ningún dato, dado que los mismos ya se encuentran despersonalizados."
   ]
  },
  {
   "cell_type": "markdown",
   "metadata": {
    "colab_type": "text",
    "id": "hElJ0LSnKlAf"
   },
   "source": [
    "### 1.4. Nunca Modificar los Datos Crudos u Originales"
   ]
  },
  {
   "cell_type": "markdown",
   "metadata": {
    "colab_type": "text",
    "id": "b-h8C7-8KlAg"
   },
   "source": [
    "Al finalizar la limpieza, deberán guardar el dataset resultante, para asegurarse de no modificar los datos originales."
   ]
  },
  {
   "cell_type": "markdown",
   "metadata": {
    "colab_type": "text",
    "id": "j1BNT1TVM-Pn"
   },
   "source": [
    "Creamos 2 dataset para evitar modificar el original 1 con el nombre de que esta en un dir DatasetOrigin/data_path_origin.\n",
    "\n",
    "El que usaremos para modificar que es el data_path en el dir Dataset/"
   ]
  },
  {
   "cell_type": "markdown",
   "metadata": {
    "colab_type": "text",
    "id": "YobsDuwJKlAh"
   },
   "source": [
    "## 2. Pasos de Limpieza Necesarios\n",
    "\n",
    "### 2.1. Etiquetas de Variables/Columnas y Problemas de Codificación/Encoding"
   ]
  },
  {
   "cell_type": "markdown",
   "metadata": {
    "colab_type": "text",
    "id": "P7Qasbr8KlAh"
   },
   "source": [
    "El geopandas automáticamente detecta el encoding de los datos. "
   ]
  },
  {
   "cell_type": "markdown",
   "metadata": {
    "colab_type": "text",
    "id": "bUYqhLQVKlAi"
   },
   "source": [
    "### 2.2. Tratamiento de Valores Faltantes"
   ]
  },
  {
   "cell_type": "markdown",
   "metadata": {
    "colab_type": "text",
    "id": "phqH33gqKlAi"
   },
   "source": [
    "Para analizar los valores faltantes, primero deberán saber cuántos existen por campo y cuánto representan del total:"
   ]
  },
  {
   "cell_type": "code",
   "execution_count": 17,
   "metadata": {
    "colab": {
     "base_uri": "https://localhost:8080/",
     "height": 374
    },
    "colab_type": "code",
    "executionInfo": {
     "elapsed": 30714,
     "status": "ok",
     "timestamp": 1599251042594,
     "user": {
      "displayName": "Joel de Andres",
      "photoUrl": "",
      "userId": "00836612501124861246"
     },
     "user_tz": 180
    },
    "id": "6XSjNVPzQHGZ",
    "outputId": "885de431-818a-467f-9f3a-c020b61206cd"
   },
   "outputs": [
    {
     "name": "stdout",
     "output_type": "stream",
     "text": [
      "\n",
      "Valores null de UNTRD : Series([], dtype: int64)\n",
      "No tiene valores Nulls\n",
      "\n",
      "Valores null de UNTRS : Series([], dtype: int64)\n",
      "No tiene valores Nulls\n",
      "\n",
      "Valores null de SSMT : Series([], dtype: int64)\n",
      "No tiene valores Nulls\n",
      "\n",
      "Valores null de SEGCON : geometry    90\n",
      "dtype: int64\n",
      "Cantidad de registros  : 90\n",
      "Cantidad de registros Null : 90\n",
      "Representa el % : 100.0\n",
      "\n",
      "Valores null de CONJ : Series([], dtype: int64)\n",
      "No tiene valores Nulls\n"
     ]
    }
   ],
   "source": [
    "# get the number of missing data points per column\n",
    "list_dataset = [{\"name\":\"UNTRD\",\"data_set\":untrd},\n",
    "{\"name\":\"UNTRS\",\"data_set\":untrs},\n",
    "{\"name\":\"SSMT\",\"data_set\":ssmt}, \n",
    "{\"name\":\"SEGCON\",\"data_set\":segcon}, \n",
    "{\"name\":\"CONJ\",\"data_set\":conj}]\n",
    "\n",
    "for dataset in list_dataset:\n",
    "  missing_value = dataset.get(\"data_set\").isnull().sum()\n",
    "  count_value = dataset.get(\"data_set\").COD_ID.count()\n",
    "  print(\"\\nValores null de {} : {}\".format(dataset.get(\"name\"),missing_value[missing_value > 0]))\n",
    "  if len( missing_value[missing_value > 0]) > 0 :\n",
    "    for i in missing_value[missing_value > 0]:\n",
    "      print(\"Cantidad de registros  : {}\".format(count_value))\n",
    "      print(\"Cantidad de registros Null : {}\".format(i))\n",
    "      print(\"Representa el % : {}\".format((i*100)/count_value))\n",
    "  else:\n",
    "    print(\"No tiene valores Nulls\")\n",
    "\n"
   ]
  },
  {
   "cell_type": "markdown",
   "metadata": {
    "colab_type": "text",
    "id": "B_2hwPe-JWmA"
   },
   "source": [
    "En la tabla de SEGCON existen valores null en el campo geometry en la totalidad de los registros."
   ]
  },
  {
   "cell_type": "markdown",
   "metadata": {
    "colab_type": "text",
    "id": "hy3-B2yxKlAj"
   },
   "source": [
    "### 2.3. Codificación de Variables Categóricas"
   ]
  },
  {
   "cell_type": "markdown",
   "metadata": {
    "colab_type": "text",
    "id": "53_Ma_U6KlAk"
   },
   "source": [
    "Aplica?"
   ]
  },
  {
   "cell_type": "code",
   "execution_count": 18,
   "metadata": {
    "colab": {},
    "colab_type": "code",
    "id": "wDhdU97jKlAk"
   },
   "outputs": [],
   "source": [
    "datasets = {'untrd': untrd, 'ucbt': ucbt}\n",
    "columns_to_encode = ['ARE_LOC', 'GRU_TAR']\n",
    "\n",
    "for key, dataset in datasets.items():\n",
    "    for column in columns_to_encode:\n",
    "        if column in dataset:\n",
    "            le = preprocessing.LabelEncoder()\n",
    "            le.fit(dataset[column])\n",
    "            dataset[column] = le.transform(dataset[column])"
   ]
  },
  {
   "cell_type": "markdown",
   "metadata": {
    "colab_type": "text",
    "id": "gq5O--OuKlAn"
   },
   "source": [
    "### 2.4. No Cambiar los Nombres de las Variables de la Fuente de Origen"
   ]
  },
  {
   "cell_type": "markdown",
   "metadata": {
    "colab_type": "text",
    "id": "p_9658Y_fgNJ"
   },
   "source": [
    "No aplica."
   ]
  },
  {
   "cell_type": "markdown",
   "metadata": {
    "colab_type": "text",
    "id": "swk4rI11KlAq"
   },
   "source": [
    "### 2.5. Verificación de Consistencia de Datos"
   ]
  },
  {
   "cell_type": "markdown",
   "metadata": {
    "colab_type": "text",
    "id": "867pKRdWKlAr"
   },
   "source": [
    "Este es el paso más analítico, en donde se deben aplicar reglas de integridad."
   ]
  },
  {
   "cell_type": "markdown",
   "metadata": {
    "colab_type": "text",
    "id": "37yoXuC7KeN0"
   },
   "source": [
    "Si se eliminana lo valores NaN que pasa con los registros de segcon? "
   ]
  },
  {
   "cell_type": "code",
   "execution_count": 19,
   "metadata": {
    "colab": {},
    "colab_type": "code",
    "id": "Kdvw5tAHKlAs"
   },
   "outputs": [],
   "source": [
    "untrd = untrd.dropna()\n",
    "untrs = untrs.dropna()\n",
    "ssmt = ssmt.dropna()\n",
    "#segcon = segcon.dropna()\n",
    "ucbt = ucbt.dropna()\n",
    "conj = conj.dropna()"
   ]
  },
  {
   "cell_type": "markdown",
   "metadata": {
    "colab_type": "text",
    "id": "SjlX06FzKlAw"
   },
   "source": [
    "### 2.6. Identificar y Documentar Valores Atípicos/Outliers"
   ]
  },
  {
   "cell_type": "markdown",
   "metadata": {
    "colab_type": "text",
    "id": "1UtPpdHPKlAw"
   },
   "source": [
    "Calcular estadísticos."
   ]
  },
  {
   "cell_type": "code",
   "execution_count": 20,
   "metadata": {
    "colab": {
     "base_uri": "https://localhost:8080/",
     "height": 136
    },
    "colab_type": "code",
    "executionInfo": {
     "elapsed": 31442,
     "status": "ok",
     "timestamp": 1599251043348,
     "user": {
      "displayName": "Joel de Andres",
      "photoUrl": "",
      "userId": "00836612501124861246"
     },
     "user_tz": 180
    },
    "id": "7WqT1sFQKlAx",
    "outputId": "92a381f2-a739-49b7-cc0b-6ac2a4a546aa"
   },
   "outputs": [
    {
     "name": "stdout",
     "output_type": "stream",
     "text": [
      "Dataset:  untrd\n",
      "------------------------------------------------\n",
      "Dataset:  ucbt\n",
      "Cantidad de outliers para la variable  FIC 12360\n",
      "Cantidad de outliers para la variable  DIC 15122\n",
      "Cantidad de outliers para la variable  ENE_MED 8363\n",
      "------------------------------------------------\n"
     ]
    }
   ],
   "source": [
    "def find_outliers(dataset, column_name):\n",
    "    interesting_col = dataset[column_name]\n",
    "    CI =  (interesting_col.quantile(0.75)-interesting_col.quantile(0.25))\n",
    "    mask_outlier = (\n",
    "        np.abs(interesting_col - interesting_col.median()) >= (1.5 * CI))\n",
    "    return dataset[mask_outlier]\n",
    "\n",
    "\n",
    "main_statisticians = ['FIC', 'DIC', 'ENE_MED']\n",
    "\n",
    "outliers = []\n",
    "for key, dataset in datasets.items():\n",
    "    print(\"Dataset: \", key)\n",
    "    for column in main_statisticians:\n",
    "        if column in dataset:\n",
    "            outliers = find_outliers(dataset, column)\n",
    "            row_quantity = dataset.shape[0]\n",
    "            print(\"Cantidad de outliers para la variable \", column, len(outliers))\n",
    "    print(\"------------------------------------------------\")"
   ]
  },
  {
   "cell_type": "code",
   "execution_count": 21,
   "metadata": {
    "colab": {},
    "colab_type": "code",
    "id": "q8dGyQYULetR"
   },
   "outputs": [],
   "source": [
    "# Procedemos a limpiar los outliers para la layer ucbt\n",
    "def clean_outliers(dataset, column_name):\n",
    "    interesting_col = dataset[column_name]\n",
    "    CI =  (interesting_col.quantile(0.75)-interesting_col.quantile(0.25))\n",
    "    mask_outlier = (\n",
    "        np.abs(interesting_col - interesting_col.median()) <= (1.5 * CI))\n",
    "    return dataset[mask_outlier]\n",
    "\n",
    "\n",
    "for column in main_statisticians:\n",
    "    ucbt_without_outliers = clean_outliers(ucbt, column)\n",
    "datasets['ucbt'] = ucbt_without_outliers\n"
   ]
  },
  {
   "cell_type": "markdown",
   "metadata": {
    "colab_type": "text",
    "id": "DunRUVyWKlA0"
   },
   "source": [
    "### 2.7. Evaluar Cómo Comprimir los Datos Para su Almacenamiento Más Eficiente"
   ]
  },
  {
   "cell_type": "markdown",
   "metadata": {
    "colab_type": "text",
    "id": "L6Muyo6dfd5c"
   },
   "source": [
    "No aplica."
   ]
  },
  {
   "cell_type": "markdown",
   "metadata": {
    "colab_type": "text",
    "id": "fnhspGqmKlA5"
   },
   "source": [
    "### 2.8. Guardar el Set de Datos con un Nombre Informativo"
   ]
  },
  {
   "cell_type": "markdown",
   "metadata": {
    "colab_type": "text",
    "id": "L6Muyo6dfd5c"
   },
   "source": [
    "No aplica."
   ]
  },
  {
   "cell_type": "markdown",
   "metadata": {
    "colab_type": "text",
    "id": "HTU8XpqEKlA8"
   },
   "source": [
    "## 3. Pasos de Limpieza Deseables\n",
    "\n",
    "### 3.1. Ordenar Variables/Columnas"
   ]
  },
  {
   "cell_type": "markdown",
   "metadata": {
    "colab_type": "text",
    "id": "L6Muyo6dfd5c"
   },
   "source": [
    "No aplica."
   ]
  },
  {
   "cell_type": "markdown",
   "metadata": {
    "colab_type": "text",
    "id": "cA2kIacbKlA-"
   },
   "source": [
    "### 3.2. Quitar Variables/Columnas Irrelevantes"
   ]
  },
  {
   "cell_type": "markdown",
   "metadata": {
    "colab_type": "text",
    "id": "ImEQRv6YKlA_"
   },
   "source": [
    "datasets['ucbt']Tenemos alguna en este caso?"
   ]
  },
  {
   "cell_type": "markdown",
   "metadata": {},
   "source": [
    "'GRU_TAR', 'UNI_TR_D', 'UNI_TR_S', 'DIC', 'FIC', 'ENE_MED', 'ENE_MAX'"
   ]
  },
  {
   "cell_type": "code",
   "execution_count": 22,
   "metadata": {
    "colab": {
     "base_uri": "https://localhost:8080/",
     "height": 122
    },
    "colab_type": "code",
    "executionInfo": {
     "elapsed": 32074,
     "status": "ok",
     "timestamp": 1599251044006,
     "user": {
      "displayName": "Joel de Andres",
      "photoUrl": "",
      "userId": "00836612501124861246"
     },
     "user_tz": 180
    },
    "id": "iEg30qxJKlA_",
    "outputId": "d1f22044-7737-4fff-fb44-fa34486faac1"
   },
   "outputs": [
    {
     "name": "stderr",
     "output_type": "stream",
     "text": [
      "D:\\Anaconda3\\envs\\diplo\\lib\\site-packages\\pandas\\core\\frame.py:4164: SettingWithCopyWarning: \n",
      "A value is trying to be set on a copy of a slice from a DataFrame\n",
      "\n",
      "See the caveats in the documentation: https://pandas.pydata.org/pandas-docs/stable/user_guide/indexing.html#returning-a-view-versus-a-copy\n",
      "  errors=errors,\n"
     ]
    }
   ],
   "source": [
    "datasets['ucbt'].drop(datasets['ucbt'].columns.difference(['GRU_TAR', 'UNI_TR_D', 'UNI_TR_S', 'DIC', 'FIC', 'ENE_MED', 'ENE_MAX']), 1, inplace=True)"
   ]
  },
  {
   "cell_type": "markdown",
   "metadata": {},
   "source": [
    "'COD_ID', 'UNI_TR_S', 'ARE_LOC', 'geometry'"
   ]
  },
  {
   "cell_type": "code",
   "execution_count": 23,
   "metadata": {
    "colab": {},
    "colab_type": "code",
    "id": "DxIWirGVL8F3"
   },
   "outputs": [],
   "source": [
    "datasets['untrd'].drop(datasets['untrd'].columns.difference(['COD_ID', 'UNI_TR_S', 'ARE_LOC', 'geometry']), 1, inplace=True)"
   ]
  },
  {
   "cell_type": "markdown",
   "metadata": {
    "colab_type": "text",
    "id": "m4LQCNG0KlBC"
   },
   "source": [
    "### 3.3. Renombrar Variables de Grillas"
   ]
  },
  {
   "cell_type": "markdown",
   "metadata": {
    "colab_type": "text",
    "id": "5yWMwpbzgKC-"
   },
   "source": [
    "No aplica."
   ]
  },
  {
   "cell_type": "markdown",
   "metadata": {
    "colab_type": "text",
    "id": "eXSYGgW5KlBE"
   },
   "source": [
    "### 3.4. Categorizar Variables que Contengan “Otros”"
   ]
  },
  {
   "cell_type": "markdown",
   "metadata": {
    "colab_type": "text",
    "id": "5yWMwpbzgKC-"
   },
   "source": [
    "No aplica."
   ]
  },
  {
   "cell_type": "markdown",
   "metadata": {
    "colab_type": "text",
    "id": "B_LvczNvKlBJ"
   },
   "source": [
    "### 3.5. Agregar Metadata a los Datos"
   ]
  },
  {
   "cell_type": "markdown",
   "metadata": {
    "colab_type": "text",
    "id": "5yWMwpbzgKC-"
   },
   "source": [
    "No aplica."
   ]
  },
  {
   "cell_type": "markdown",
   "metadata": {
    "colab_type": "text",
    "id": "mIR-aM-uKlBJ"
   },
   "source": [
    "Cuando y como fueron obtenidos, limpieza realizada, decisiones implementadas, asunciones, etc."
   ]
  },
  {
   "cell_type": "markdown",
   "metadata": {
    "colab_type": "text",
    "id": "W3tPmXIpKlBM"
   },
   "source": [
    "## II. Análisis  Contenido"
   ]
  },
  {
   "cell_type": "markdown",
   "metadata": {
    "colab_type": "text",
    "id": "BNSAWIJbKlBM"
   },
   "source": [
    "### 1. Features Tipo Objetos"
   ]
  },
  {
   "cell_type": "code",
   "execution_count": 24,
   "metadata": {
    "colab": {
     "base_uri": "https://localhost:8080/",
     "height": 419
    },
    "colab_type": "code",
    "executionInfo": {
     "elapsed": 32605,
     "status": "ok",
     "timestamp": 1599251044560,
     "user": {
      "displayName": "Joel de Andres",
      "photoUrl": "",
      "userId": "00836612501124861246"
     },
     "user_tz": 180
    },
    "id": "XrC9RnUbMDZu",
    "outputId": "b1c47a90-6f70-41ff-b6f0-d018fca472d9"
   },
   "outputs": [
    {
     "data": {
      "text/html": [
       "<div>\n",
       "<style scoped>\n",
       "    .dataframe tbody tr th:only-of-type {\n",
       "        vertical-align: middle;\n",
       "    }\n",
       "\n",
       "    .dataframe tbody tr th {\n",
       "        vertical-align: top;\n",
       "    }\n",
       "\n",
       "    .dataframe thead th {\n",
       "        text-align: right;\n",
       "    }\n",
       "</style>\n",
       "<table border=\"1\" class=\"dataframe\">\n",
       "  <thead>\n",
       "    <tr style=\"text-align: right;\">\n",
       "      <th></th>\n",
       "      <th>UNI_TR_D</th>\n",
       "      <th>GRU_TAR</th>\n",
       "      <th>DIC</th>\n",
       "      <th>FIC</th>\n",
       "      <th>ENE_MED</th>\n",
       "      <th>ENE_MAX</th>\n",
       "    </tr>\n",
       "  </thead>\n",
       "  <tbody>\n",
       "    <tr>\n",
       "      <th>0</th>\n",
       "      <td></td>\n",
       "      <td>1</td>\n",
       "      <td>2.29125</td>\n",
       "      <td>0.625</td>\n",
       "      <td>29.750000</td>\n",
       "      <td>2890.0</td>\n",
       "    </tr>\n",
       "    <tr>\n",
       "      <th>1</th>\n",
       "      <td>101415715</td>\n",
       "      <td>1</td>\n",
       "      <td>38.27500</td>\n",
       "      <td>14.000</td>\n",
       "      <td>97.791667</td>\n",
       "      <td>372.0</td>\n",
       "    </tr>\n",
       "    <tr>\n",
       "      <th>2</th>\n",
       "      <td>102321736</td>\n",
       "      <td>1</td>\n",
       "      <td>17.18000</td>\n",
       "      <td>7.000</td>\n",
       "      <td>1.000000</td>\n",
       "      <td>5.0</td>\n",
       "    </tr>\n",
       "    <tr>\n",
       "      <th>3</th>\n",
       "      <td>103455355</td>\n",
       "      <td>1</td>\n",
       "      <td>8.31000</td>\n",
       "      <td>7.000</td>\n",
       "      <td>91.333333</td>\n",
       "      <td>116.0</td>\n",
       "    </tr>\n",
       "    <tr>\n",
       "      <th>4</th>\n",
       "      <td>105138826</td>\n",
       "      <td>1</td>\n",
       "      <td>16.10000</td>\n",
       "      <td>12.000</td>\n",
       "      <td>13.583333</td>\n",
       "      <td>35.0</td>\n",
       "    </tr>\n",
       "    <tr>\n",
       "      <th>...</th>\n",
       "      <td>...</td>\n",
       "      <td>...</td>\n",
       "      <td>...</td>\n",
       "      <td>...</td>\n",
       "      <td>...</td>\n",
       "      <td>...</td>\n",
       "    </tr>\n",
       "    <tr>\n",
       "      <th>3331</th>\n",
       "      <td>92651766</td>\n",
       "      <td>1</td>\n",
       "      <td>2.82000</td>\n",
       "      <td>1.200</td>\n",
       "      <td>2.300000</td>\n",
       "      <td>57.0</td>\n",
       "    </tr>\n",
       "    <tr>\n",
       "      <th>3332</th>\n",
       "      <td>96872663</td>\n",
       "      <td>1</td>\n",
       "      <td>63.58000</td>\n",
       "      <td>20.000</td>\n",
       "      <td>8.083333</td>\n",
       "      <td>30.0</td>\n",
       "    </tr>\n",
       "    <tr>\n",
       "      <th>3333</th>\n",
       "      <td>96997174</td>\n",
       "      <td>1</td>\n",
       "      <td>59.51000</td>\n",
       "      <td>18.000</td>\n",
       "      <td>36.916667</td>\n",
       "      <td>49.0</td>\n",
       "    </tr>\n",
       "    <tr>\n",
       "      <th>3334</th>\n",
       "      <td>97134637</td>\n",
       "      <td>1</td>\n",
       "      <td>20.91000</td>\n",
       "      <td>11.000</td>\n",
       "      <td>112.416667</td>\n",
       "      <td>221.0</td>\n",
       "    </tr>\n",
       "    <tr>\n",
       "      <th>3335</th>\n",
       "      <td>99418993</td>\n",
       "      <td>1</td>\n",
       "      <td>17.21500</td>\n",
       "      <td>6.000</td>\n",
       "      <td>125.833333</td>\n",
       "      <td>346.0</td>\n",
       "    </tr>\n",
       "  </tbody>\n",
       "</table>\n",
       "<p>3336 rows × 6 columns</p>\n",
       "</div>"
      ],
      "text/plain": [
       "       UNI_TR_D  GRU_TAR       DIC     FIC     ENE_MED  ENE_MAX\n",
       "0                      1   2.29125   0.625   29.750000   2890.0\n",
       "1     101415715        1  38.27500  14.000   97.791667    372.0\n",
       "2     102321736        1  17.18000   7.000    1.000000      5.0\n",
       "3     103455355        1   8.31000   7.000   91.333333    116.0\n",
       "4     105138826        1  16.10000  12.000   13.583333     35.0\n",
       "...         ...      ...       ...     ...         ...      ...\n",
       "3331   92651766        1   2.82000   1.200    2.300000     57.0\n",
       "3332   96872663        1  63.58000  20.000    8.083333     30.0\n",
       "3333   96997174        1  59.51000  18.000   36.916667     49.0\n",
       "3334   97134637        1  20.91000  11.000  112.416667    221.0\n",
       "3335   99418993        1  17.21500   6.000  125.833333    346.0\n",
       "\n",
       "[3336 rows x 6 columns]"
      ]
     },
     "execution_count": 24,
     "metadata": {},
     "output_type": "execute_result"
    }
   ],
   "source": [
    "datasets['ucbt'] = datasets['ucbt'].groupby(['UNI_TR_D']).agg(GRU_TAR=('GRU_TAR',lambda x: sc.stats.mode(x)[0]),\n",
    "                                                              DIC=('DIC',np.mean),FIC=('FIC',np.mean),ENE_MED=('ENE_MED',np.mean),\n",
    "                                                              ENE_MAX=('ENE_MAX',np.sum)).reset_index()\n",
    "datasets['ucbt']"
   ]
  },
  {
   "cell_type": "markdown",
   "metadata": {
    "colab_type": "text",
    "id": "pa-bOWcEhua5"
   },
   "source": [
    "## Consumindores\n",
    "\n",
    "1 - A partir de los resultados obtenidos en el práctico 1 seleccione que features podrían ser relevantes para la predicción de la calidad de servicio.\n",
    "\n",
    "2 - Agrupe los datos en base a la variable UNI_TR_D.\n",
    "\n",
    "3 - Justifique los métodos utilizados para agrupar las variables numéricas y categóricas."
   ]
  },
  {
   "cell_type": "markdown",
   "metadata": {},
   "source": [
    "**1) Desde el dataset UNTRS utilizamos su totalidad de columnas y del UCBT los Features elegidos son: UNI_TR_D\tGRU_TAR\tDIC\tFIC\tENE_MED\tENE_MAX**"
   ]
  },
  {
   "cell_type": "markdown",
   "metadata": {},
   "source": [
    "**2) Agrupamos los datos de la siguiente manera**"
   ]
  },
  {
   "cell_type": "markdown",
   "metadata": {
    "colab_type": "text",
    "id": "U6YlKhBCMujQ"
   },
   "source": [
    "GRU_TAR: En funcion del consumo se segmenta por grupo tarifarios es por ello que tomamos su moda este es el valor de mayor frecuencia.\n",
    "<br>\n",
    "DIC: En esta variable se suman las duraciones de cortes que corresponden a cada trafo \n",
    "<br>\n",
    "FIC: En esta variable se suman las frecuencias de cortes de cada trafo.\n",
    "<br>\n",
    "ARE_LOC: tomamos su moda de ucbt\n",
    "<br>\n",
    "ENE_MED: Buscamos  reducir la dimensionalidad con una variable que represente la media de todos los consumidores\n",
    "<br>\n",
    "ENE_MAX: Con esta variable buscamos calcular el maximo consumo del trafo "
   ]
  },
  {
   "cell_type": "markdown",
   "metadata": {
    "colab_type": "text",
    "id": "L9pgI86JjO8v"
   },
   "source": [
    "## Subestación\n",
    "\n",
    "4 - Analise la información disponible sobre los transformadores de las Subestaciones (UNI_TR_S > UNTRS)\n",
    "\n",
    "5 - Seleccione las variables relevantes, realize tratamiento de valores invalidos y outliers correspondientes. Agrupe los valores por UNTRD y agregue al dataset."
   ]
  },
  {
   "cell_type": "code",
   "execution_count": 25,
   "metadata": {
    "colab": {},
    "colab_type": "code",
    "id": "ViE-_ZwMVlCg"
   },
   "outputs": [],
   "source": [
    "untrd_ucbt_group =  datasets['ucbt'].merge(datasets['untrd'],left_on=\"UNI_TR_D\", right_on=\"COD_ID\")\n",
    "untrd_ucbt_group = untrd_ucbt_group.drop(['COD_ID'], axis=1)\n",
    "untrd_ucbt_group.rename(columns={\"geometry\": \"geometry_untrd\"}, inplace=True)"
   ]
  },
  {
   "cell_type": "code",
   "execution_count": 26,
   "metadata": {
    "colab": {},
    "colab_type": "code",
    "id": "Z9SSCwHIVlCj"
   },
   "outputs": [],
   "source": [
    "untrs_cp = untrs.copy()"
   ]
  },
  {
   "cell_type": "code",
   "execution_count": 27,
   "metadata": {
    "colab": {},
    "colab_type": "code",
    "id": "60IEv7_sRblR"
   },
   "outputs": [
    {
     "data": {
      "text/html": [
       "<div>\n",
       "<style scoped>\n",
       "    .dataframe tbody tr th:only-of-type {\n",
       "        vertical-align: middle;\n",
       "    }\n",
       "\n",
       "    .dataframe tbody tr th {\n",
       "        vertical-align: top;\n",
       "    }\n",
       "\n",
       "    .dataframe thead th {\n",
       "        text-align: right;\n",
       "    }\n",
       "</style>\n",
       "<table border=\"1\" class=\"dataframe\">\n",
       "  <thead>\n",
       "    <tr style=\"text-align: right;\">\n",
       "      <th></th>\n",
       "      <th>COD_ID</th>\n",
       "      <th>geometry</th>\n",
       "    </tr>\n",
       "  </thead>\n",
       "  <tbody>\n",
       "    <tr>\n",
       "      <th>0</th>\n",
       "      <td>27707534</td>\n",
       "      <td>POINT (-42.38024 -22.28705)</td>\n",
       "    </tr>\n",
       "    <tr>\n",
       "      <th>1</th>\n",
       "      <td>27707625</td>\n",
       "      <td>POINT (-42.52043 -22.23040)</td>\n",
       "    </tr>\n",
       "    <tr>\n",
       "      <th>2</th>\n",
       "      <td>27707750</td>\n",
       "      <td>POINT (-42.68582 -22.26417)</td>\n",
       "    </tr>\n",
       "    <tr>\n",
       "      <th>3</th>\n",
       "      <td>27707861</td>\n",
       "      <td>POINT (-42.51374 -22.28512)</td>\n",
       "    </tr>\n",
       "    <tr>\n",
       "      <th>4</th>\n",
       "      <td>27708102</td>\n",
       "      <td>POINT (-42.53341 -22.27488)</td>\n",
       "    </tr>\n",
       "    <tr>\n",
       "      <th>5</th>\n",
       "      <td>80345241</td>\n",
       "      <td>POINT (-42.53341 -22.27488)</td>\n",
       "    </tr>\n",
       "  </tbody>\n",
       "</table>\n",
       "</div>"
      ],
      "text/plain": [
       "     COD_ID                     geometry\n",
       "0  27707534  POINT (-42.38024 -22.28705)\n",
       "1  27707625  POINT (-42.52043 -22.23040)\n",
       "2  27707750  POINT (-42.68582 -22.26417)\n",
       "3  27707861  POINT (-42.51374 -22.28512)\n",
       "4  27708102  POINT (-42.53341 -22.27488)\n",
       "5  80345241  POINT (-42.53341 -22.27488)"
      ]
     },
     "execution_count": 27,
     "metadata": {},
     "output_type": "execute_result"
    }
   ],
   "source": [
    "#de UNTRS solo tomamos el id y geometry.\n",
    "copy_untrs = untrs.copy()\n",
    "copy_untrs.drop(untrs.columns.difference(['COD_ID','geometry']), 1, inplace=True)\n",
    "copy_untrs"
   ]
  },
  {
   "cell_type": "code",
   "execution_count": 28,
   "metadata": {
    "colab": {},
    "colab_type": "code",
    "id": "V2oPOhA6Rjuo"
   },
   "outputs": [],
   "source": [
    "group_ucbt_untrd_untrs = untrd_ucbt_group.merge(copy_untrs, left_on='UNI_TR_S', right_on='COD_ID')\n",
    "group_ucbt_untrd_untrs = group_ucbt_untrd_untrs.drop(['COD_ID'], axis=1)\n",
    "group_ucbt_untrd_untrs.rename(columns={\"geometry\": \"geometry_untrs\"}, inplace=True)"
   ]
  },
  {
   "cell_type": "markdown",
   "metadata": {},
   "source": [
    "<p><b>\n",
    "El proceso de calculo de TIEMPO_MIN y DISTANCIA_KM demora aproximadamente 3Hs     \n",
    "<br>para reducir el tiempo de ejecucion se guarda en csv con el nombre resultado_calculo_tiempo_distancia (lineas mas abajo)</b></p>"
   ]
  },
  {
   "cell_type": "code",
   "execution_count": 35,
   "metadata": {},
   "outputs": [],
   "source": [
    "      \n",
    "UNTRD = gpd.read_file(data_path, driver='FileGDB', layer='UNTRD')\n",
    "UNTRS =  gpd.read_file(data_path, driver='FileGDB', layer='UNTRS')\n",
    "UNTRD['UNTRD_x'] =UNTRD.geometry.x \n",
    "UNTRD['UNTRD_y'] =UNTRD.geometry.y \n",
    "\n",
    "UNTRD_J = UNTRD[['COD_ID','UNI_TR_S','UNTRD_x' ,'UNTRD_y']]\n",
    "#BORRA LOS NULL DE TRAFOS ALTA.\n",
    "UNTRS.dropna()\n",
    "UNTRS['UNTRS_x'] =UNTRS.geometry.x \n",
    "UNTRS['UNTRS_y'] =UNTRS.geometry.y \n",
    "UNTRS_J=UNTRS[['COD_ID', 'UNTRS_x','UNTRS_y']].rename(columns={\"COD_ID\":\"UNI_TR_S\"})\n",
    "df=UNTRD_J.merge(UNTRS_J,on='UNI_TR_S', how='left')\n",
    "df=df.dropna()\n",
    "df.reset_index(inplace = True,drop=True)\n",
    "\n",
    "\n",
    "df['TIEMPO_MIN'] = 0\n",
    "df['DISTANCIA_KM'] = 0"
   ]
  },
  {
   "cell_type": "code",
   "execution_count": null,
   "metadata": {},
   "outputs": [],
   "source": [
    "BDResutlados = pd.DataFrame()\n",
    "BDErrores = pd.DataFrame()\n",
    "DF = df\n",
    "for (i, row) in DF.iterrows():\n",
    "    try:\n",
    "        LatOrigin = row.UNTRD_y\n",
    "        LongOrigin = row.UNTRD_x\n",
    "        origins = str(LatOrigin ) + \",\" + str(LongOrigin) \n",
    "        LatDest = row.UNTRS_y\n",
    "        LongDest = row.UNTRS_x\n",
    "        destination =  str(LatDest ) + \",\" + str(LongDest)\n",
    "        \n",
    "        route = WazeRouteCalculator.WazeRouteCalculator(origins, destination)\n",
    "        routeResult = route.calc_route_info(real_time=False)\n",
    "        print(i,'COD_ID' , row['COD_ID'], 'Tiempo[min]', \"{:.2f}\".format(routeResult[0]),'Distancia [km]', \"{:.2f}\".format(routeResult[1]),'Fecha',[time.strftime(\"%Y/%m/%d %H:%M:%S\")] )\n",
    "        DF.TIEMPO_MIN.loc[i] = routeResult[0]\n",
    "        DF.DISTANCIA_KM.loc[i] = routeResult[1]\n",
    "        BDResutlados=BDResutlados.append(pd.DataFrame(data={'COD_ID': [row['COD_ID']], 'Tiempo': [routeResult[0]],'Distancia': [routeResult[1]], 'Fecha':[time.strftime(\"%Y/%m/%d %H:%M:%S\")]}))\n",
    "    except :\n",
    "        print (\"error COD_ID\" , row['COD_ID'])\n",
    "        BDErrores=BDErrores.append(pd.DataFrame(data={'COD_ID': [row['COD_ID']]}))"
   ]
  },
  {
   "cell_type": "code",
   "execution_count": null,
   "metadata": {},
   "outputs": [],
   "source": [
    "DF=DF[['UNI_TR_D','TIEMPO_MIN','DISTANCIA_KM']].rename(columns={\"COD_ID\":\"UNI_TR_D\"})\n",
    "DF"
   ]
  },
  {
   "cell_type": "code",
   "execution_count": null,
   "metadata": {},
   "outputs": [],
   "source": [
    "#El proceso de calculo de TIEMPO_MIN y DISTANCIA_KM demora aproximadamente 3Hs \n",
    "#para reducir el tiempo de ejecucion se guarda en csv con el nombre resultado_calculo_tiempo_distancia\n",
    "DF.to_csv(\"Dataset/resultado_calculo_tiempo_distancia.csv\")"
   ]
  },
  {
   "cell_type": "code",
   "execution_count": 29,
   "metadata": {},
   "outputs": [
    {
     "data": {
      "text/html": [
       "<div>\n",
       "<style scoped>\n",
       "    .dataframe tbody tr th:only-of-type {\n",
       "        vertical-align: middle;\n",
       "    }\n",
       "\n",
       "    .dataframe tbody tr th {\n",
       "        vertical-align: top;\n",
       "    }\n",
       "\n",
       "    .dataframe thead th {\n",
       "        text-align: right;\n",
       "    }\n",
       "</style>\n",
       "<table border=\"1\" class=\"dataframe\">\n",
       "  <thead>\n",
       "    <tr style=\"text-align: right;\">\n",
       "      <th></th>\n",
       "      <th>UNI_TR_D</th>\n",
       "      <th>TIEMPO_MIN</th>\n",
       "      <th>DISTANCIA_KM</th>\n",
       "    </tr>\n",
       "  </thead>\n",
       "  <tbody>\n",
       "    <tr>\n",
       "      <th>0</th>\n",
       "      <td>26877970</td>\n",
       "      <td>35.683333</td>\n",
       "      <td>14.464</td>\n",
       "    </tr>\n",
       "    <tr>\n",
       "      <th>1</th>\n",
       "      <td>26877971</td>\n",
       "      <td>35.783333</td>\n",
       "      <td>14.514</td>\n",
       "    </tr>\n",
       "    <tr>\n",
       "      <th>2</th>\n",
       "      <td>26877972</td>\n",
       "      <td>36.816667</td>\n",
       "      <td>15.032</td>\n",
       "    </tr>\n",
       "    <tr>\n",
       "      <th>3</th>\n",
       "      <td>26877973</td>\n",
       "      <td>40.383333</td>\n",
       "      <td>16.411</td>\n",
       "    </tr>\n",
       "    <tr>\n",
       "      <th>4</th>\n",
       "      <td>26877974</td>\n",
       "      <td>41.400000</td>\n",
       "      <td>16.807</td>\n",
       "    </tr>\n",
       "    <tr>\n",
       "      <th>...</th>\n",
       "      <td>...</td>\n",
       "      <td>...</td>\n",
       "      <td>...</td>\n",
       "    </tr>\n",
       "    <tr>\n",
       "      <th>3874</th>\n",
       "      <td>26876494</td>\n",
       "      <td>57.883333</td>\n",
       "      <td>26.622</td>\n",
       "    </tr>\n",
       "    <tr>\n",
       "      <th>3875</th>\n",
       "      <td>26876495</td>\n",
       "      <td>62.666667</td>\n",
       "      <td>30.034</td>\n",
       "    </tr>\n",
       "    <tr>\n",
       "      <th>3876</th>\n",
       "      <td>26876496</td>\n",
       "      <td>59.300000</td>\n",
       "      <td>28.910</td>\n",
       "    </tr>\n",
       "    <tr>\n",
       "      <th>3877</th>\n",
       "      <td>26876497</td>\n",
       "      <td>53.083333</td>\n",
       "      <td>27.633</td>\n",
       "    </tr>\n",
       "    <tr>\n",
       "      <th>3878</th>\n",
       "      <td>26876498</td>\n",
       "      <td>60.100000</td>\n",
       "      <td>28.641</td>\n",
       "    </tr>\n",
       "  </tbody>\n",
       "</table>\n",
       "<p>3879 rows × 3 columns</p>\n",
       "</div>"
      ],
      "text/plain": [
       "      UNI_TR_D  TIEMPO_MIN  DISTANCIA_KM\n",
       "0     26877970   35.683333        14.464\n",
       "1     26877971   35.783333        14.514\n",
       "2     26877972   36.816667        15.032\n",
       "3     26877973   40.383333        16.411\n",
       "4     26877974   41.400000        16.807\n",
       "...        ...         ...           ...\n",
       "3874  26876494   57.883333        26.622\n",
       "3875  26876495   62.666667        30.034\n",
       "3876  26876496   59.300000        28.910\n",
       "3877  26876497   53.083333        27.633\n",
       "3878  26876498   60.100000        28.641\n",
       "\n",
       "[3879 rows x 3 columns]"
      ]
     },
     "execution_count": 29,
     "metadata": {},
     "output_type": "execute_result"
    }
   ],
   "source": [
    "#CARGAMOS EL CSV PARA GANAR TIEMPO.\n",
    "data_path_csv = './Dataset/resultado_calculo_tiempo_distancia.csv'\n",
    "DF = pd.read_csv(data_path_csv) \n",
    "DF.drop(columns=['Unnamed: 0'], axis=1,inplace=True)\n",
    "DF[\"UNI_TR_D\"] = DF[\"UNI_TR_D\"].astype(int).astype(str)\n",
    "DF"
   ]
  },
  {
   "cell_type": "code",
   "execution_count": 30,
   "metadata": {},
   "outputs": [
    {
     "data": {
      "text/html": [
       "<div>\n",
       "<style scoped>\n",
       "    .dataframe tbody tr th:only-of-type {\n",
       "        vertical-align: middle;\n",
       "    }\n",
       "\n",
       "    .dataframe tbody tr th {\n",
       "        vertical-align: top;\n",
       "    }\n",
       "\n",
       "    .dataframe thead th {\n",
       "        text-align: right;\n",
       "    }\n",
       "</style>\n",
       "<table border=\"1\" class=\"dataframe\">\n",
       "  <thead>\n",
       "    <tr style=\"text-align: right;\">\n",
       "      <th></th>\n",
       "      <th>UNI_TR_D</th>\n",
       "      <th>GRU_TAR</th>\n",
       "      <th>DIC</th>\n",
       "      <th>FIC</th>\n",
       "      <th>ENE_MED</th>\n",
       "      <th>ENE_MAX</th>\n",
       "      <th>UNI_TR_S</th>\n",
       "      <th>ARE_LOC</th>\n",
       "      <th>geometry_untrd</th>\n",
       "      <th>geometry_untrs</th>\n",
       "      <th>TIEMPO_MIN</th>\n",
       "      <th>DISTANCIA_KM</th>\n",
       "    </tr>\n",
       "  </thead>\n",
       "  <tbody>\n",
       "    <tr>\n",
       "      <th>0</th>\n",
       "      <td>101415715</td>\n",
       "      <td>1</td>\n",
       "      <td>38.275000</td>\n",
       "      <td>14.000000</td>\n",
       "      <td>97.791667</td>\n",
       "      <td>372.0</td>\n",
       "      <td>27707534</td>\n",
       "      <td>0</td>\n",
       "      <td>POINT (-42.46342 -22.40186)</td>\n",
       "      <td>POINT (-42.38024 -22.28705)</td>\n",
       "      <td>0.000000</td>\n",
       "      <td>0.000</td>\n",
       "    </tr>\n",
       "    <tr>\n",
       "      <th>1</th>\n",
       "      <td>103455355</td>\n",
       "      <td>1</td>\n",
       "      <td>8.310000</td>\n",
       "      <td>7.000000</td>\n",
       "      <td>91.333333</td>\n",
       "      <td>116.0</td>\n",
       "      <td>27707534</td>\n",
       "      <td>1</td>\n",
       "      <td>POINT (-42.33438 -22.35449)</td>\n",
       "      <td>POINT (-42.38024 -22.28705)</td>\n",
       "      <td>0.000000</td>\n",
       "      <td>0.000</td>\n",
       "    </tr>\n",
       "    <tr>\n",
       "      <th>2</th>\n",
       "      <td>105138826</td>\n",
       "      <td>1</td>\n",
       "      <td>16.100000</td>\n",
       "      <td>12.000000</td>\n",
       "      <td>13.583333</td>\n",
       "      <td>35.0</td>\n",
       "      <td>27707534</td>\n",
       "      <td>0</td>\n",
       "      <td>POINT (-42.30769 -22.36775)</td>\n",
       "      <td>POINT (-42.38024 -22.28705)</td>\n",
       "      <td>51.116667</td>\n",
       "      <td>26.069</td>\n",
       "    </tr>\n",
       "    <tr>\n",
       "      <th>3</th>\n",
       "      <td>106512676</td>\n",
       "      <td>1</td>\n",
       "      <td>17.240000</td>\n",
       "      <td>8.000000</td>\n",
       "      <td>84.833333</td>\n",
       "      <td>101.0</td>\n",
       "      <td>27707534</td>\n",
       "      <td>0</td>\n",
       "      <td>POINT (-42.36098 -22.33090)</td>\n",
       "      <td>POINT (-42.38024 -22.28705)</td>\n",
       "      <td>61.683333</td>\n",
       "      <td>27.599</td>\n",
       "    </tr>\n",
       "    <tr>\n",
       "      <th>4</th>\n",
       "      <td>108015624</td>\n",
       "      <td>1</td>\n",
       "      <td>19.150000</td>\n",
       "      <td>9.000000</td>\n",
       "      <td>158.166667</td>\n",
       "      <td>180.0</td>\n",
       "      <td>27707534</td>\n",
       "      <td>0</td>\n",
       "      <td>POINT (-42.35269 -22.33233)</td>\n",
       "      <td>POINT (-42.38024 -22.28705)</td>\n",
       "      <td>58.983333</td>\n",
       "      <td>26.696</td>\n",
       "    </tr>\n",
       "    <tr>\n",
       "      <th>...</th>\n",
       "      <td>...</td>\n",
       "      <td>...</td>\n",
       "      <td>...</td>\n",
       "      <td>...</td>\n",
       "      <td>...</td>\n",
       "      <td>...</td>\n",
       "      <td>...</td>\n",
       "      <td>...</td>\n",
       "      <td>...</td>\n",
       "      <td>...</td>\n",
       "      <td>...</td>\n",
       "      <td>...</td>\n",
       "    </tr>\n",
       "    <tr>\n",
       "      <th>3329</th>\n",
       "      <td>62005694</td>\n",
       "      <td>1</td>\n",
       "      <td>0.530000</td>\n",
       "      <td>2.000000</td>\n",
       "      <td>26.208333</td>\n",
       "      <td>83.0</td>\n",
       "      <td>80345241</td>\n",
       "      <td>1</td>\n",
       "      <td>POINT (-42.55290 -22.32220)</td>\n",
       "      <td>POINT (-42.53341 -22.27488)</td>\n",
       "      <td>14.283333</td>\n",
       "      <td>6.982</td>\n",
       "    </tr>\n",
       "    <tr>\n",
       "      <th>3330</th>\n",
       "      <td>68553759</td>\n",
       "      <td>1</td>\n",
       "      <td>1.641667</td>\n",
       "      <td>2.625000</td>\n",
       "      <td>98.020833</td>\n",
       "      <td>3923.0</td>\n",
       "      <td>80345241</td>\n",
       "      <td>1</td>\n",
       "      <td>POINT (-42.55061 -22.33056)</td>\n",
       "      <td>POINT (-42.53341 -22.27488)</td>\n",
       "      <td>14.666667</td>\n",
       "      <td>7.440</td>\n",
       "    </tr>\n",
       "    <tr>\n",
       "      <th>3331</th>\n",
       "      <td>71641214</td>\n",
       "      <td>1</td>\n",
       "      <td>1.210000</td>\n",
       "      <td>1.000000</td>\n",
       "      <td>160.950855</td>\n",
       "      <td>8415.0</td>\n",
       "      <td>80345241</td>\n",
       "      <td>1</td>\n",
       "      <td>POINT (-42.54295 -22.32953)</td>\n",
       "      <td>POINT (-42.53341 -22.27488)</td>\n",
       "      <td>12.400000</td>\n",
       "      <td>6.965</td>\n",
       "    </tr>\n",
       "    <tr>\n",
       "      <th>3332</th>\n",
       "      <td>87219744</td>\n",
       "      <td>1</td>\n",
       "      <td>5.916341</td>\n",
       "      <td>3.560976</td>\n",
       "      <td>133.132114</td>\n",
       "      <td>8476.0</td>\n",
       "      <td>80345241</td>\n",
       "      <td>1</td>\n",
       "      <td>POINT (-42.54309 -22.30406)</td>\n",
       "      <td>POINT (-42.53341 -22.27488)</td>\n",
       "      <td>8.500000</td>\n",
       "      <td>3.983</td>\n",
       "    </tr>\n",
       "    <tr>\n",
       "      <th>3333</th>\n",
       "      <td>91818602</td>\n",
       "      <td>1</td>\n",
       "      <td>1.878519</td>\n",
       "      <td>2.796296</td>\n",
       "      <td>112.299383</td>\n",
       "      <td>8603.0</td>\n",
       "      <td>80345241</td>\n",
       "      <td>1</td>\n",
       "      <td>POINT (-42.55113 -22.33055)</td>\n",
       "      <td>POINT (-42.53341 -22.27488)</td>\n",
       "      <td>14.183333</td>\n",
       "      <td>7.350</td>\n",
       "    </tr>\n",
       "  </tbody>\n",
       "</table>\n",
       "<p>3334 rows × 12 columns</p>\n",
       "</div>"
      ],
      "text/plain": [
       "       UNI_TR_D  GRU_TAR        DIC        FIC     ENE_MED  ENE_MAX  UNI_TR_S  \\\n",
       "0     101415715        1  38.275000  14.000000   97.791667    372.0  27707534   \n",
       "1     103455355        1   8.310000   7.000000   91.333333    116.0  27707534   \n",
       "2     105138826        1  16.100000  12.000000   13.583333     35.0  27707534   \n",
       "3     106512676        1  17.240000   8.000000   84.833333    101.0  27707534   \n",
       "4     108015624        1  19.150000   9.000000  158.166667    180.0  27707534   \n",
       "...         ...      ...        ...        ...         ...      ...       ...   \n",
       "3329   62005694        1   0.530000   2.000000   26.208333     83.0  80345241   \n",
       "3330   68553759        1   1.641667   2.625000   98.020833   3923.0  80345241   \n",
       "3331   71641214        1   1.210000   1.000000  160.950855   8415.0  80345241   \n",
       "3332   87219744        1   5.916341   3.560976  133.132114   8476.0  80345241   \n",
       "3333   91818602        1   1.878519   2.796296  112.299383   8603.0  80345241   \n",
       "\n",
       "      ARE_LOC               geometry_untrd               geometry_untrs  \\\n",
       "0           0  POINT (-42.46342 -22.40186)  POINT (-42.38024 -22.28705)   \n",
       "1           1  POINT (-42.33438 -22.35449)  POINT (-42.38024 -22.28705)   \n",
       "2           0  POINT (-42.30769 -22.36775)  POINT (-42.38024 -22.28705)   \n",
       "3           0  POINT (-42.36098 -22.33090)  POINT (-42.38024 -22.28705)   \n",
       "4           0  POINT (-42.35269 -22.33233)  POINT (-42.38024 -22.28705)   \n",
       "...       ...                          ...                          ...   \n",
       "3329        1  POINT (-42.55290 -22.32220)  POINT (-42.53341 -22.27488)   \n",
       "3330        1  POINT (-42.55061 -22.33056)  POINT (-42.53341 -22.27488)   \n",
       "3331        1  POINT (-42.54295 -22.32953)  POINT (-42.53341 -22.27488)   \n",
       "3332        1  POINT (-42.54309 -22.30406)  POINT (-42.53341 -22.27488)   \n",
       "3333        1  POINT (-42.55113 -22.33055)  POINT (-42.53341 -22.27488)   \n",
       "\n",
       "      TIEMPO_MIN  DISTANCIA_KM  \n",
       "0       0.000000         0.000  \n",
       "1       0.000000         0.000  \n",
       "2      51.116667        26.069  \n",
       "3      61.683333        27.599  \n",
       "4      58.983333        26.696  \n",
       "...          ...           ...  \n",
       "3329   14.283333         6.982  \n",
       "3330   14.666667         7.440  \n",
       "3331   12.400000         6.965  \n",
       "3332    8.500000         3.983  \n",
       "3333   14.183333         7.350  \n",
       "\n",
       "[3334 rows x 12 columns]"
      ]
     },
     "execution_count": 30,
     "metadata": {},
     "output_type": "execute_result"
    }
   ],
   "source": [
    "group_ucbt_untrd_untrs = group_ucbt_untrd_untrs.merge(DF,on='UNI_TR_D', how='left')\n",
    "group_ucbt_untrd_untrs"
   ]
  },
  {
   "cell_type": "code",
   "execution_count": 31,
   "metadata": {},
   "outputs": [],
   "source": [
    "## PARA ESTE CASO SOLO DEJAMOS LAS VARIABLES DE TIEMPO Y DISTANCIA..\n",
    "group_ucbt_untrd_untrs.to_csv(\"./Dataset/group_ucbt_untrd_untrs_dist_v1.csv\")"
   ]
  },
  {
   "cell_type": "markdown",
   "metadata": {
    "colab_type": "text",
    "id": "M7DVfIv9kRca"
   },
   "source": [
    "## Generación de variables geográficas\n",
    "\n",
    "5 - Calcule la distancia euclideana de cada untrd al correspondiente untrs y adicione al dataset.\n",
    "\n",
    "6 - Cree una variable que sea la distancia al centro urbano mas cercanos.\n",
    "\n",
    "7 - Usando OSMnx descargue la informacion sobre caminos dentro del area de cobertura de la distribuidora. Cree variables para las distancias a autopistas (trunk), a caminos primarios (primary) y a caminos secundarios (secondary)\n"
   ]
  },
  {
   "cell_type": "markdown",
   "metadata": {
    "colab_type": "text",
    "id": "MWkRfxi0RcWX"
   },
   "source": [
    "Cargamos las capas de interes:\n",
    "\n",
    "CONJ: Area de cobertura de cada subestacion\n",
    "<br>\n",
    "UNTRS: Transformadores de Segmentacion (Sub Estacion)\n",
    "<br>\n",
    "UNTRD: Transformadores de Distribucion (Media a Baja)\n",
    "<br>\n",
    "SSDMT: Lineas de transmicion de media tension (UNTRS a UNTRD)"
   ]
  },
  {
   "cell_type": "code",
   "execution_count": 128,
   "metadata": {
    "colab": {},
    "colab_type": "code",
    "id": "P4stdAY9P4Lm"
   },
   "outputs": [],
   "source": [
    "untrd.to_crs(epsg=31984, inplace= True)\n",
    "untrs.to_crs(epsg=31984, inplace= True)\n",
    "ucbt.to_crs(epsg=31984, inplace= True)\n",
    "conj.to_crs(epsg=31984, inplace= True)\n",
    "datasets['untrd'].to_crs(epsg=31984, inplace= True)"
   ]
  },
  {
   "cell_type": "code",
   "execution_count": 38,
   "metadata": {},
   "outputs": [
    {
     "ename": "AttributeError",
     "evalue": "'str' object has no attribute 'distance'",
     "output_type": "error",
     "traceback": [
      "\u001b[1;31m---------------------------------------------------------------------------\u001b[0m",
      "\u001b[1;31mAttributeError\u001b[0m                            Traceback (most recent call last)",
      "\u001b[1;32m<ipython-input-38-b155c43d51a3>\u001b[0m in \u001b[0;36m<module>\u001b[1;34m\u001b[0m\n\u001b[0;32m      2\u001b[0m \u001b[1;33m\u001b[0m\u001b[0m\n\u001b[0;32m      3\u001b[0m \u001b[1;32mfor\u001b[0m \u001b[0mi\u001b[0m\u001b[1;33m,\u001b[0m\u001b[0mt\u001b[0m \u001b[1;32min\u001b[0m \u001b[0mgroup_ucbt_untrd_untrs\u001b[0m\u001b[1;33m.\u001b[0m\u001b[0miterrows\u001b[0m\u001b[1;33m(\u001b[0m\u001b[1;33m)\u001b[0m\u001b[1;33m:\u001b[0m\u001b[1;33m\u001b[0m\u001b[1;33m\u001b[0m\u001b[0m\n\u001b[1;32m----> 4\u001b[1;33m     \u001b[0meud\u001b[0m \u001b[1;33m=\u001b[0m \u001b[0mgroup_ucbt_untrd_untrs\u001b[0m\u001b[1;33m.\u001b[0m\u001b[0mgeometry_untrd\u001b[0m\u001b[1;33m[\u001b[0m\u001b[0mi\u001b[0m\u001b[1;33m]\u001b[0m\u001b[1;33m.\u001b[0m\u001b[0mdistance\u001b[0m\u001b[1;33m(\u001b[0m\u001b[0mgroup_ucbt_untrd_untrs\u001b[0m\u001b[1;33m.\u001b[0m\u001b[0mgeometry_untrs\u001b[0m\u001b[1;33m[\u001b[0m\u001b[0mi\u001b[0m\u001b[1;33m]\u001b[0m\u001b[1;33m)\u001b[0m\u001b[1;33m\u001b[0m\u001b[1;33m\u001b[0m\u001b[0m\n\u001b[0m\u001b[0;32m      5\u001b[0m     \u001b[0mgroup_ucbt_untrd_untrs\u001b[0m\u001b[1;33m.\u001b[0m\u001b[0mEUC_DIST_UNTRS\u001b[0m\u001b[1;33m.\u001b[0m\u001b[0mloc\u001b[0m\u001b[1;33m[\u001b[0m\u001b[0mi\u001b[0m\u001b[1;33m]\u001b[0m \u001b[1;33m=\u001b[0m \u001b[0meud\u001b[0m\u001b[1;33m\u001b[0m\u001b[1;33m\u001b[0m\u001b[0m\n\u001b[0;32m      6\u001b[0m \u001b[1;33m\u001b[0m\u001b[0m\n",
      "\u001b[1;31mAttributeError\u001b[0m: 'str' object has no attribute 'distance'"
     ]
    }
   ],
   "source": [
    "\n",
    "group_ucbt_untrd_untrs['EUC_DIST_UNTRS'] = -1\n",
    "\n",
    "for i,t in group_ucbt_untrd_untrs.iterrows():\n",
    "    eud = group_ucbt_untrd_untrs.geometry_untrd[i].distance(group_ucbt_untrd_untrs.geometry_untrs[i])\n",
    "    group_ucbt_untrd_untrs.EUC_DIST_UNTRS.loc[i] = eud\n",
    "    "
   ]
  },
  {
   "cell_type": "code",
   "execution_count": 32,
   "metadata": {
    "colab": {},
    "colab_type": "code",
    "id": "gWaFW7oENouW"
   },
   "outputs": [],
   "source": [
    "copy_conj = conj[['COD_ID','NOM','geometry']]"
   ]
  },
  {
   "cell_type": "code",
   "execution_count": 33,
   "metadata": {
    "colab": {
     "base_uri": "https://localhost:8080/",
     "height": 80
    },
    "colab_type": "code",
    "executionInfo": {
     "elapsed": 38023,
     "status": "ok",
     "timestamp": 1599251050069,
     "user": {
      "displayName": "Joel de Andres",
      "photoUrl": "",
      "userId": "00836612501124861246"
     },
     "user_tz": 180
    },
    "id": "vHu8uZ0NNked",
    "outputId": "20d6cc69-eba5-4be4-9138-2fd5bb9cb5d1"
   },
   "outputs": [
    {
     "data": {
      "text/html": [
       "<div>\n",
       "<style scoped>\n",
       "    .dataframe tbody tr th:only-of-type {\n",
       "        vertical-align: middle;\n",
       "    }\n",
       "\n",
       "    .dataframe tbody tr th {\n",
       "        vertical-align: top;\n",
       "    }\n",
       "\n",
       "    .dataframe thead th {\n",
       "        text-align: right;\n",
       "    }\n",
       "</style>\n",
       "<table border=\"1\" class=\"dataframe\">\n",
       "  <thead>\n",
       "    <tr style=\"text-align: right;\">\n",
       "      <th></th>\n",
       "      <th>COD_ID</th>\n",
       "      <th>CONJ</th>\n",
       "      <th>geometry</th>\n",
       "      <th>index_conj</th>\n",
       "      <th>NOM</th>\n",
       "    </tr>\n",
       "  </thead>\n",
       "  <tbody>\n",
       "    <tr>\n",
       "      <th>1535</th>\n",
       "      <td>101415715</td>\n",
       "      <td>15616</td>\n",
       "      <td>POINT (143363.892 7518580.694)</td>\n",
       "      <td>0</td>\n",
       "      <td>CENTEN얉RIO</td>\n",
       "    </tr>\n",
       "  </tbody>\n",
       "</table>\n",
       "</div>"
      ],
      "text/plain": [
       "         COD_ID   CONJ                        geometry  index_conj         NOM\n",
       "1535  101415715  15616  POINT (143363.892 7518580.694)           0  CENTEN얉RIO"
      ]
     },
     "execution_count": 33,
     "metadata": {},
     "output_type": "execute_result"
    }
   ],
   "source": [
    "join_area_cob = gpd.sjoin(untrd[['COD_ID','CONJ','geometry']],\n",
    "               copy_conj[['NOM','geometry']].iloc[[0,4]],\n",
    "               how='inner', op='within', lsuffix='untrs',rsuffix='conj')\n",
    "join_area_cob[join_area_cob.COD_ID=='101415715']"
   ]
  },
  {
   "cell_type": "code",
   "execution_count": 34,
   "metadata": {
    "colab": {
     "base_uri": "https://localhost:8080/",
     "height": 80
    },
    "colab_type": "code",
    "executionInfo": {
     "elapsed": 38005,
     "status": "ok",
     "timestamp": 1599251050070,
     "user": {
      "displayName": "Joel de Andres",
      "photoUrl": "",
      "userId": "00836612501124861246"
     },
     "user_tz": 180
    },
    "id": "zuMaygTbL6UK",
    "outputId": "114873b6-fd51-4b45-b573-4094372ff7d7"
   },
   "outputs": [
    {
     "data": {
      "text/html": [
       "<div>\n",
       "<style scoped>\n",
       "    .dataframe tbody tr th:only-of-type {\n",
       "        vertical-align: middle;\n",
       "    }\n",
       "\n",
       "    .dataframe tbody tr th {\n",
       "        vertical-align: top;\n",
       "    }\n",
       "\n",
       "    .dataframe thead th {\n",
       "        text-align: right;\n",
       "    }\n",
       "</style>\n",
       "<table border=\"1\" class=\"dataframe\">\n",
       "  <thead>\n",
       "    <tr style=\"text-align: right;\">\n",
       "      <th></th>\n",
       "      <th>UNI_TR_D</th>\n",
       "      <th>geometry_untrd</th>\n",
       "    </tr>\n",
       "  </thead>\n",
       "  <tbody>\n",
       "    <tr>\n",
       "      <th>0</th>\n",
       "      <td>101415715</td>\n",
       "      <td>POINT (143363.892 7518580.694)</td>\n",
       "    </tr>\n",
       "  </tbody>\n",
       "</table>\n",
       "</div>"
      ],
      "text/plain": [
       "    UNI_TR_D                  geometry_untrd\n",
       "0  101415715  POINT (143363.892 7518580.694)"
      ]
     },
     "execution_count": 34,
     "metadata": {},
     "output_type": "execute_result"
    }
   ],
   "source": [
    "group_ucbt_untrd_untrs[group_ucbt_untrd_untrs.UNI_TR_D=='101415715'][['UNI_TR_D','geometry_untrd']]"
   ]
  },
  {
   "cell_type": "code",
   "execution_count": 35,
   "metadata": {
    "colab": {
     "base_uri": "https://localhost:8080/",
     "height": 420
    },
    "colab_type": "code",
    "executionInfo": {
     "elapsed": 38910,
     "status": "ok",
     "timestamp": 1599251050992,
     "user": {
      "displayName": "Joel de Andres",
      "photoUrl": "",
      "userId": "00836612501124861246"
     },
     "user_tz": 180
    },
    "id": "OSlXTb7e_NRb",
    "outputId": "5db21aca-e0ba-4e98-81c0-6ddf7418571d"
   },
   "outputs": [
    {
     "data": {
      "image/png": "[encoded data removed]",
      "text/plain": [
       "<Figure size 720x720 with 1 Axes>"
      ]
     },
     "metadata": {
      "needs_background": "light"
     },
     "output_type": "display_data"
    }
   ],
   "source": [
    "st = gpd.sjoin(\n",
    "    join_area_cob[['geometry']], \n",
    "    copy_conj[['NOM','geometry']], \n",
    "    how='inner', \n",
    "    op='within', \n",
    "    lsuffix='untrs',\n",
    "    rsuffix='conj')\n",
    "st.head()\n",
    "ax = st.plot(figsize=(10,10))"
   ]
  },
  {
   "cell_type": "code",
   "execution_count": 36,
   "metadata": {
    "colab": {
     "base_uri": "https://localhost:8080/",
     "height": 864
    },
    "colab_type": "code",
    "executionInfo": {
     "elapsed": 39811,
     "status": "ok",
     "timestamp": 1599251051911,
     "user": {
      "displayName": "Joel de Andres",
      "photoUrl": "",
      "userId": "00836612501124861246"
     },
     "user_tz": 180
    },
    "id": "7CsEb6riVlC4",
    "outputId": "6468d5a9-e5b9-4e73-fda2-d0056c0d3c7c"
   },
   "outputs": [
    {
     "name": "stderr",
     "output_type": "stream",
     "text": [
      "D:\\Anaconda3\\envs\\diplo\\lib\\site-packages\\pandas\\core\\indexing.py:670: SettingWithCopyWarning: \n",
      "A value is trying to be set on a copy of a slice from a DataFrame\n",
      "\n",
      "See the caveats in the documentation: https://pandas.pydata.org/pandas-docs/stable/user_guide/indexing.html#returning-a-view-versus-a-copy\n",
      "  iloc._setitem_with_indexer(indexer, value)\n"
     ]
    },
    {
     "data": {
      "text/html": [
       "<div>\n",
       "<style scoped>\n",
       "    .dataframe tbody tr th:only-of-type {\n",
       "        vertical-align: middle;\n",
       "    }\n",
       "\n",
       "    .dataframe tbody tr th {\n",
       "        vertical-align: top;\n",
       "    }\n",
       "\n",
       "    .dataframe thead th {\n",
       "        text-align: right;\n",
       "    }\n",
       "</style>\n",
       "<table border=\"1\" class=\"dataframe\">\n",
       "  <thead>\n",
       "    <tr style=\"text-align: right;\">\n",
       "      <th></th>\n",
       "      <th>UNI_TR_D</th>\n",
       "      <th>GRU_TAR</th>\n",
       "      <th>DIC</th>\n",
       "      <th>FIC</th>\n",
       "      <th>ENE_MED</th>\n",
       "      <th>ENE_MAX</th>\n",
       "      <th>UNI_TR_S</th>\n",
       "      <th>ARE_LOC</th>\n",
       "      <th>geometry_untrd</th>\n",
       "      <th>geometry_untrs</th>\n",
       "      <th>EUC_DIST_UNTRS</th>\n",
       "      <th>EUC_DIST_CENT</th>\n",
       "    </tr>\n",
       "  </thead>\n",
       "  <tbody>\n",
       "    <tr>\n",
       "      <th>0</th>\n",
       "      <td>101415715</td>\n",
       "      <td>1</td>\n",
       "      <td>76.55</td>\n",
       "      <td>28.0</td>\n",
       "      <td>97.791667</td>\n",
       "      <td>372.0</td>\n",
       "      <td>27707534</td>\n",
       "      <td>0</td>\n",
       "      <td>POINT (143363.892 7518580.694)</td>\n",
       "      <td>POINT (151650.771 7531499.639)</td>\n",
       "      <td>15348.338990</td>\n",
       "      <td>14420.116797</td>\n",
       "    </tr>\n",
       "    <tr>\n",
       "      <th>1</th>\n",
       "      <td>103455355</td>\n",
       "      <td>1</td>\n",
       "      <td>8.31</td>\n",
       "      <td>7.0</td>\n",
       "      <td>91.333333</td>\n",
       "      <td>116.0</td>\n",
       "      <td>27707534</td>\n",
       "      <td>1</td>\n",
       "      <td>POINT (156545.369 7524131.090)</td>\n",
       "      <td>POINT (151650.771 7531499.639)</td>\n",
       "      <td>8846.050002</td>\n",
       "      <td>21618.004725</td>\n",
       "    </tr>\n",
       "    <tr>\n",
       "      <th>2</th>\n",
       "      <td>105138826</td>\n",
       "      <td>1</td>\n",
       "      <td>16.10</td>\n",
       "      <td>12.0</td>\n",
       "      <td>13.583333</td>\n",
       "      <td>35.0</td>\n",
       "      <td>27707534</td>\n",
       "      <td>0</td>\n",
       "      <td>POINT (159329.456 7522722.774)</td>\n",
       "      <td>POINT (151650.771 7531499.639)</td>\n",
       "      <td>11661.713633</td>\n",
       "      <td>24709.571305</td>\n",
       "    </tr>\n",
       "    <tr>\n",
       "      <th>3</th>\n",
       "      <td>106512676</td>\n",
       "      <td>1</td>\n",
       "      <td>17.24</td>\n",
       "      <td>8.0</td>\n",
       "      <td>84.833333</td>\n",
       "      <td>101.0</td>\n",
       "      <td>27707534</td>\n",
       "      <td>0</td>\n",
       "      <td>POINT (153744.945 7526685.029)</td>\n",
       "      <td>POINT (151650.771 7531499.639)</td>\n",
       "      <td>5250.336447</td>\n",
       "      <td>18214.964473</td>\n",
       "    </tr>\n",
       "    <tr>\n",
       "      <th>4</th>\n",
       "      <td>108015624</td>\n",
       "      <td>1</td>\n",
       "      <td>19.15</td>\n",
       "      <td>9.0</td>\n",
       "      <td>158.166667</td>\n",
       "      <td>180.0</td>\n",
       "      <td>27707534</td>\n",
       "      <td>0</td>\n",
       "      <td>POINT (154603.247 7526545.042)</td>\n",
       "      <td>POINT (151650.771 7531499.639)</td>\n",
       "      <td>5767.594872</td>\n",
       "      <td>19082.084868</td>\n",
       "    </tr>\n",
       "    <tr>\n",
       "      <th>...</th>\n",
       "      <td>...</td>\n",
       "      <td>...</td>\n",
       "      <td>...</td>\n",
       "      <td>...</td>\n",
       "      <td>...</td>\n",
       "      <td>...</td>\n",
       "      <td>...</td>\n",
       "      <td>...</td>\n",
       "      <td>...</td>\n",
       "      <td>...</td>\n",
       "      <td>...</td>\n",
       "      <td>...</td>\n",
       "    </tr>\n",
       "    <tr>\n",
       "      <th>3329</th>\n",
       "      <td>62005694</td>\n",
       "      <td>1</td>\n",
       "      <td>1.06</td>\n",
       "      <td>4.0</td>\n",
       "      <td>26.208333</td>\n",
       "      <td>83.0</td>\n",
       "      <td>80345241</td>\n",
       "      <td>1</td>\n",
       "      <td>POINT (133932.738 7527194.744)</td>\n",
       "      <td>POINT (135820.103 7532486.422)</td>\n",
       "      <td>5618.185482</td>\n",
       "      <td>4362.500497</td>\n",
       "    </tr>\n",
       "    <tr>\n",
       "      <th>3330</th>\n",
       "      <td>68553759</td>\n",
       "      <td>1</td>\n",
       "      <td>39.40</td>\n",
       "      <td>63.0</td>\n",
       "      <td>98.020833</td>\n",
       "      <td>3923.0</td>\n",
       "      <td>80345241</td>\n",
       "      <td>1</td>\n",
       "      <td>POINT (134190.805 7526273.478)</td>\n",
       "      <td>POINT (135820.103 7532486.422)</td>\n",
       "      <td>6423.027464</td>\n",
       "      <td>5087.333875</td>\n",
       "    </tr>\n",
       "    <tr>\n",
       "      <th>3331</th>\n",
       "      <td>71641214</td>\n",
       "      <td>1</td>\n",
       "      <td>47.19</td>\n",
       "      <td>39.0</td>\n",
       "      <td>160.950855</td>\n",
       "      <td>8415.0</td>\n",
       "      <td>80345241</td>\n",
       "      <td>1</td>\n",
       "      <td>POINT (134977.834 7526406.003)</td>\n",
       "      <td>POINT (135820.103 7532486.422)</td>\n",
       "      <td>6138.477770</td>\n",
       "      <td>4726.044503</td>\n",
       "    </tr>\n",
       "    <tr>\n",
       "      <th>3332</th>\n",
       "      <td>87219744</td>\n",
       "      <td>1</td>\n",
       "      <td>242.57</td>\n",
       "      <td>146.0</td>\n",
       "      <td>133.132114</td>\n",
       "      <td>8476.0</td>\n",
       "      <td>80345241</td>\n",
       "      <td>1</td>\n",
       "      <td>POINT (134897.455 7529229.454)</td>\n",
       "      <td>POINT (135820.103 7532486.422)</td>\n",
       "      <td>3385.132235</td>\n",
       "      <td>2120.226359</td>\n",
       "    </tr>\n",
       "    <tr>\n",
       "      <th>3333</th>\n",
       "      <td>91818602</td>\n",
       "      <td>1</td>\n",
       "      <td>101.44</td>\n",
       "      <td>151.0</td>\n",
       "      <td>112.299383</td>\n",
       "      <td>8603.0</td>\n",
       "      <td>80345241</td>\n",
       "      <td>1</td>\n",
       "      <td>POINT (134136.722 7526273.327)</td>\n",
       "      <td>POINT (135820.103 7532486.422)</td>\n",
       "      <td>6437.105521</td>\n",
       "      <td>5107.493771</td>\n",
       "    </tr>\n",
       "  </tbody>\n",
       "</table>\n",
       "<p>3334 rows × 12 columns</p>\n",
       "</div>"
      ],
      "text/plain": [
       "       UNI_TR_D  GRU_TAR     DIC    FIC     ENE_MED  ENE_MAX  UNI_TR_S  \\\n",
       "0     101415715        1   76.55   28.0   97.791667    372.0  27707534   \n",
       "1     103455355        1    8.31    7.0   91.333333    116.0  27707534   \n",
       "2     105138826        1   16.10   12.0   13.583333     35.0  27707534   \n",
       "3     106512676        1   17.24    8.0   84.833333    101.0  27707534   \n",
       "4     108015624        1   19.15    9.0  158.166667    180.0  27707534   \n",
       "...         ...      ...     ...    ...         ...      ...       ...   \n",
       "3329   62005694        1    1.06    4.0   26.208333     83.0  80345241   \n",
       "3330   68553759        1   39.40   63.0   98.020833   3923.0  80345241   \n",
       "3331   71641214        1   47.19   39.0  160.950855   8415.0  80345241   \n",
       "3332   87219744        1  242.57  146.0  133.132114   8476.0  80345241   \n",
       "3333   91818602        1  101.44  151.0  112.299383   8603.0  80345241   \n",
       "\n",
       "      ARE_LOC                  geometry_untrd                  geometry_untrs  \\\n",
       "0           0  POINT (143363.892 7518580.694)  POINT (151650.771 7531499.639)   \n",
       "1           1  POINT (156545.369 7524131.090)  POINT (151650.771 7531499.639)   \n",
       "2           0  POINT (159329.456 7522722.774)  POINT (151650.771 7531499.639)   \n",
       "3           0  POINT (153744.945 7526685.029)  POINT (151650.771 7531499.639)   \n",
       "4           0  POINT (154603.247 7526545.042)  POINT (151650.771 7531499.639)   \n",
       "...       ...                             ...                             ...   \n",
       "3329        1  POINT (133932.738 7527194.744)  POINT (135820.103 7532486.422)   \n",
       "3330        1  POINT (134190.805 7526273.478)  POINT (135820.103 7532486.422)   \n",
       "3331        1  POINT (134977.834 7526406.003)  POINT (135820.103 7532486.422)   \n",
       "3332        1  POINT (134897.455 7529229.454)  POINT (135820.103 7532486.422)   \n",
       "3333        1  POINT (134136.722 7526273.327)  POINT (135820.103 7532486.422)   \n",
       "\n",
       "      EUC_DIST_UNTRS  EUC_DIST_CENT  \n",
       "0       15348.338990   14420.116797  \n",
       "1        8846.050002   21618.004725  \n",
       "2       11661.713633   24709.571305  \n",
       "3        5250.336447   18214.964473  \n",
       "4        5767.594872   19082.084868  \n",
       "...              ...            ...  \n",
       "3329     5618.185482    4362.500497  \n",
       "3330     6423.027464    5087.333875  \n",
       "3331     6138.477770    4726.044503  \n",
       "3332     3385.132235    2120.226359  \n",
       "3333     6437.105521    5107.493771  \n",
       "\n",
       "[3334 rows x 12 columns]"
      ]
     },
     "execution_count": 36,
     "metadata": {},
     "output_type": "execute_result"
    }
   ],
   "source": [
    "centro_urbano = Point(136050.57090952771250159, 7531008.69087591022253036)\n",
    "group_ucbt_untrd_untrs['EUC_DIST_CENT'] = -1\n",
    "for i,t in group_ucbt_untrd_untrs.iterrows():\n",
    "    eud = group_ucbt_untrd_untrs.geometry_untrd[i].distance(centro_urbano)\n",
    "    group_ucbt_untrd_untrs.EUC_DIST_CENT.loc[i] = eud\n",
    "    \n",
    "group_ucbt_untrd_untrs "
   ]
  },
  {
   "cell_type": "code",
   "execution_count": 37,
   "metadata": {
    "colab": {
     "base_uri": "https://localhost:8080/",
     "height": 368
    },
    "colab_type": "code",
    "executionInfo": {
     "elapsed": 81907,
     "status": "ok",
     "timestamp": 1599251094021,
     "user": {
      "displayName": "Joel de Andres",
      "photoUrl": "",
      "userId": "00836612501124861246"
     },
     "user_tz": 180
    },
    "id": "3oJUwc3ziJ2_",
    "outputId": "05d89891-9d4d-4396-c2a1-43e8b00cd40d"
   },
   "outputs": [
    {
     "data": {
      "image/png": "[encoded data removed]",
      "text/plain": [
       "<Figure size 576x576 with 1 Axes>"
      ]
     },
     "metadata": {},
     "output_type": "display_data"
    },
    {
     "data": {
      "text/plain": [
       "(<Figure size 576x576 with 1 Axes>, <AxesSubplot:>)"
      ]
     },
     "execution_count": 37,
     "metadata": {},
     "output_type": "execute_result"
    }
   ],
   "source": [
    "my_place = 'Nova Friburgo, Rio de Janeiro, Brazil'\n",
    "G = ox.graph_from_place(my_place)\n",
    "ox.plot_graph(G)"
   ]
  },
  {
   "cell_type": "code",
   "execution_count": 179,
   "metadata": {
    "colab": {
     "base_uri": "https://localhost:8080/",
     "height": 321
    },
    "colab_type": "code",
    "executionInfo": {
     "elapsed": 81895,
     "status": "ok",
     "timestamp": 1599251094022,
     "user": {
      "displayName": "Joel de Andres",
      "photoUrl": "",
      "userId": "00836612501124861246"
     },
     "user_tz": 180
    },
    "id": "c7dUe1KzVqwc",
    "outputId": "cbbde348-0cdd-40d0-edef-a88b682a3efb"
   },
   "outputs": [
    {
     "data": {
      "image/png": "[encoded data removed]",
      "text/plain": [
       "<Figure size 576x576 with 1 Axes>"
      ]
     },
     "metadata": {},
     "output_type": "display_data"
    },
    {
     "data": {
      "image/png": "[encoded data removed]",
      "text/plain": [
       "<Figure size 864x864 with 1 Axes>"
      ]
     },
     "metadata": {
      "needs_background": "light"
     },
     "output_type": "display_data"
    }
   ],
   "source": [
    "G.graph['crs']\n",
    "dist = conj.dissolve(by='DIST')\n",
    "\n",
    "G_conj = ox.graph_from_polygon(dist.to_crs(epsg=4326).iloc[0].geometry)\n",
    "fig, ax = ox.plot_graph(G_conj, node_size=0)\n",
    "\n",
    "nodes, edges = ox.graph_to_gdfs(G_conj)\n",
    "edges.to_csv('edges_conj.csv')\n",
    "edges[edges.name.str.contains('Rodovia').fillna(False)].plot(figsize=(12,12))\n",
    "mask = (edges.highway.str.contains('trunk').fillna(False) | edges.highway.str.contains('primary').fillna(False))\n",
    "mask_secondary = (edges.highway.str.contains('trunk').fillna(False) | edges.highway.str.contains('secondary').fillna(False))\n"
   ]
  },
  {
   "cell_type": "code",
   "execution_count": 180,
   "metadata": {
    "colab": {
     "base_uri": "https://localhost:8080/",
     "height": 717
    },
    "colab_type": "code",
    "executionInfo": {
     "elapsed": 119813,
     "status": "ok",
     "timestamp": 1599251131996,
     "user": {
      "displayName": "Joel de Andres",
      "photoUrl": "",
      "userId": "00836612501124861246"
     },
     "user_tz": 180
    },
    "id": "BTLlzRfOWo9v",
    "outputId": "4f1d19a6-8665-4d15-f04a-614f321c4536"
   },
   "outputs": [
    {
     "data": {
      "text/plain": [
       "<AxesSubplot:>"
      ]
     },
     "execution_count": 180,
     "metadata": {},
     "output_type": "execute_result"
    },
    {
     "data": {
      "image/png": "[encoded data removed]",
      "text/plain": [
       "<Figure size 864x864 with 1 Axes>"
      ]
     },
     "metadata": {
      "needs_background": "light"
     },
     "output_type": "display_data"
    },
    {
     "data": {
      "image/png": "[encoded data removed]",
      "text/plain": [
       "<Figure size 864x864 with 1 Axes>"
      ]
     },
     "metadata": {
      "needs_background": "light"
     },
     "output_type": "display_data"
    }
   ],
   "source": [
    "main_roads = edges[['geometry','length','name', 'ref']][mask]\n",
    "secondary_roads = edges[['geometry','length','name', 'ref']][mask_secondary]\n",
    "\n",
    "main_roads.plot(figsize=(12,12))\n",
    "secondary_roads.plot(figsize=(12,12))"
   ]
  },
  {
   "cell_type": "code",
   "execution_count": 181,
   "metadata": {
    "colab": {
     "base_uri": "https://localhost:8080/",
     "height": 419
    },
    "colab_type": "code",
    "executionInfo": {
     "elapsed": 1792,
     "status": "ok",
     "timestamp": 1599252204534,
     "user": {
      "displayName": "Joel de Andres",
      "photoUrl": "",
      "userId": "00836612501124861246"
     },
     "user_tz": 180
    },
    "id": "M7htxyJDy-JA",
    "outputId": "b0d13ecd-b69b-4512-9e3e-b711458df98f",
    "scrolled": true
   },
   "outputs": [
    {
     "name": "stderr",
     "output_type": "stream",
     "text": [
      "D:\\Anaconda3\\envs\\diplo\\lib\\site-packages\\pandas\\core\\indexing.py:670: SettingWithCopyWarning: \n",
      "A value is trying to be set on a copy of a slice from a DataFrame\n",
      "\n",
      "See the caveats in the documentation: https://pandas.pydata.org/pandas-docs/stable/user_guide/indexing.html#returning-a-view-versus-a-copy\n",
      "  iloc._setitem_with_indexer(indexer, value)\n"
     ]
    },
    {
     "data": {
      "text/html": [
       "<div>\n",
       "<style scoped>\n",
       "    .dataframe tbody tr th:only-of-type {\n",
       "        vertical-align: middle;\n",
       "    }\n",
       "\n",
       "    .dataframe tbody tr th {\n",
       "        vertical-align: top;\n",
       "    }\n",
       "\n",
       "    .dataframe thead th {\n",
       "        text-align: right;\n",
       "    }\n",
       "</style>\n",
       "<table border=\"1\" class=\"dataframe\">\n",
       "  <thead>\n",
       "    <tr style=\"text-align: right;\">\n",
       "      <th></th>\n",
       "      <th>UNI_TR_D</th>\n",
       "      <th>GRU_TAR</th>\n",
       "      <th>DIC</th>\n",
       "      <th>FIC</th>\n",
       "      <th>ENE_MED</th>\n",
       "      <th>ENE_MAX</th>\n",
       "      <th>UNI_TR_S</th>\n",
       "      <th>ARE_LOC</th>\n",
       "      <th>geometry_untrd</th>\n",
       "      <th>geometry_untrs</th>\n",
       "      <th>EUC_DIST_UNTRS</th>\n",
       "      <th>EUC_DIST_CENT</th>\n",
       "      <th>EUC_DIST_PRIMARY</th>\n",
       "      <th>EUC_DIST_SECONDARY</th>\n",
       "    </tr>\n",
       "  </thead>\n",
       "  <tbody>\n",
       "    <tr>\n",
       "      <th>0</th>\n",
       "      <td>101415715</td>\n",
       "      <td>1</td>\n",
       "      <td>76.55</td>\n",
       "      <td>28.0</td>\n",
       "      <td>97.791667</td>\n",
       "      <td>372.0</td>\n",
       "      <td>27707534</td>\n",
       "      <td>0</td>\n",
       "      <td>POINT (143363.892 7518580.694)</td>\n",
       "      <td>POINT (151650.771 7531499.639)</td>\n",
       "      <td>15348.338990</td>\n",
       "      <td>14420.116797</td>\n",
       "      <td>7174.246302</td>\n",
       "      <td>7424.656820</td>\n",
       "    </tr>\n",
       "    <tr>\n",
       "      <th>1</th>\n",
       "      <td>103455355</td>\n",
       "      <td>1</td>\n",
       "      <td>8.31</td>\n",
       "      <td>7.0</td>\n",
       "      <td>91.333333</td>\n",
       "      <td>116.0</td>\n",
       "      <td>27707534</td>\n",
       "      <td>1</td>\n",
       "      <td>POINT (156545.369 7524131.090)</td>\n",
       "      <td>POINT (151650.771 7531499.639)</td>\n",
       "      <td>8846.050002</td>\n",
       "      <td>21618.004725</td>\n",
       "      <td>17768.331400</td>\n",
       "      <td>395.889376</td>\n",
       "    </tr>\n",
       "    <tr>\n",
       "      <th>2</th>\n",
       "      <td>105138826</td>\n",
       "      <td>1</td>\n",
       "      <td>16.10</td>\n",
       "      <td>12.0</td>\n",
       "      <td>13.583333</td>\n",
       "      <td>35.0</td>\n",
       "      <td>27707534</td>\n",
       "      <td>0</td>\n",
       "      <td>POINT (159329.456 7522722.774)</td>\n",
       "      <td>POINT (151650.771 7531499.639)</td>\n",
       "      <td>11661.713633</td>\n",
       "      <td>24709.571305</td>\n",
       "      <td>20611.624089</td>\n",
       "      <td>265.908068</td>\n",
       "    </tr>\n",
       "    <tr>\n",
       "      <th>3</th>\n",
       "      <td>106512676</td>\n",
       "      <td>1</td>\n",
       "      <td>17.24</td>\n",
       "      <td>8.0</td>\n",
       "      <td>84.833333</td>\n",
       "      <td>101.0</td>\n",
       "      <td>27707534</td>\n",
       "      <td>0</td>\n",
       "      <td>POINT (153744.945 7526685.029)</td>\n",
       "      <td>POINT (151650.771 7531499.639)</td>\n",
       "      <td>5250.336447</td>\n",
       "      <td>18214.964473</td>\n",
       "      <td>15155.618112</td>\n",
       "      <td>2825.851151</td>\n",
       "    </tr>\n",
       "    <tr>\n",
       "      <th>4</th>\n",
       "      <td>108015624</td>\n",
       "      <td>1</td>\n",
       "      <td>19.15</td>\n",
       "      <td>9.0</td>\n",
       "      <td>158.166667</td>\n",
       "      <td>180.0</td>\n",
       "      <td>27707534</td>\n",
       "      <td>0</td>\n",
       "      <td>POINT (154603.247 7526545.042)</td>\n",
       "      <td>POINT (151650.771 7531499.639)</td>\n",
       "      <td>5767.594872</td>\n",
       "      <td>19082.084868</td>\n",
       "      <td>15983.786567</td>\n",
       "      <td>2271.915950</td>\n",
       "    </tr>\n",
       "    <tr>\n",
       "      <th>...</th>\n",
       "      <td>...</td>\n",
       "      <td>...</td>\n",
       "      <td>...</td>\n",
       "      <td>...</td>\n",
       "      <td>...</td>\n",
       "      <td>...</td>\n",
       "      <td>...</td>\n",
       "      <td>...</td>\n",
       "      <td>...</td>\n",
       "      <td>...</td>\n",
       "      <td>...</td>\n",
       "      <td>...</td>\n",
       "      <td>...</td>\n",
       "      <td>...</td>\n",
       "    </tr>\n",
       "    <tr>\n",
       "      <th>3329</th>\n",
       "      <td>62005694</td>\n",
       "      <td>1</td>\n",
       "      <td>1.06</td>\n",
       "      <td>4.0</td>\n",
       "      <td>26.208333</td>\n",
       "      <td>83.0</td>\n",
       "      <td>80345241</td>\n",
       "      <td>1</td>\n",
       "      <td>POINT (133932.738 7527194.744)</td>\n",
       "      <td>POINT (135820.103 7532486.422)</td>\n",
       "      <td>5618.185482</td>\n",
       "      <td>4362.500497</td>\n",
       "      <td>2072.595399</td>\n",
       "      <td>372.619542</td>\n",
       "    </tr>\n",
       "    <tr>\n",
       "      <th>3330</th>\n",
       "      <td>68553759</td>\n",
       "      <td>1</td>\n",
       "      <td>39.40</td>\n",
       "      <td>63.0</td>\n",
       "      <td>98.020833</td>\n",
       "      <td>3923.0</td>\n",
       "      <td>80345241</td>\n",
       "      <td>1</td>\n",
       "      <td>POINT (134190.805 7526273.478)</td>\n",
       "      <td>POINT (135820.103 7532486.422)</td>\n",
       "      <td>6423.027464</td>\n",
       "      <td>5087.333875</td>\n",
       "      <td>2765.175831</td>\n",
       "      <td>135.015985</td>\n",
       "    </tr>\n",
       "    <tr>\n",
       "      <th>3331</th>\n",
       "      <td>71641214</td>\n",
       "      <td>1</td>\n",
       "      <td>47.19</td>\n",
       "      <td>39.0</td>\n",
       "      <td>160.950855</td>\n",
       "      <td>8415.0</td>\n",
       "      <td>80345241</td>\n",
       "      <td>1</td>\n",
       "      <td>POINT (134977.834 7526406.003)</td>\n",
       "      <td>POINT (135820.103 7532486.422)</td>\n",
       "      <td>6138.477770</td>\n",
       "      <td>4726.044503</td>\n",
       "      <td>2462.589748</td>\n",
       "      <td>920.239663</td>\n",
       "    </tr>\n",
       "    <tr>\n",
       "      <th>3332</th>\n",
       "      <td>87219744</td>\n",
       "      <td>1</td>\n",
       "      <td>242.57</td>\n",
       "      <td>146.0</td>\n",
       "      <td>133.132114</td>\n",
       "      <td>8476.0</td>\n",
       "      <td>80345241</td>\n",
       "      <td>1</td>\n",
       "      <td>POINT (134897.455 7529229.454)</td>\n",
       "      <td>POINT (135820.103 7532486.422)</td>\n",
       "      <td>3385.132235</td>\n",
       "      <td>2120.226359</td>\n",
       "      <td>223.587769</td>\n",
       "      <td>35.513025</td>\n",
       "    </tr>\n",
       "    <tr>\n",
       "      <th>3333</th>\n",
       "      <td>91818602</td>\n",
       "      <td>1</td>\n",
       "      <td>101.44</td>\n",
       "      <td>151.0</td>\n",
       "      <td>112.299383</td>\n",
       "      <td>8603.0</td>\n",
       "      <td>80345241</td>\n",
       "      <td>1</td>\n",
       "      <td>POINT (134136.722 7526273.327)</td>\n",
       "      <td>POINT (135820.103 7532486.422)</td>\n",
       "      <td>6437.105521</td>\n",
       "      <td>5107.493771</td>\n",
       "      <td>2784.823912</td>\n",
       "      <td>87.320062</td>\n",
       "    </tr>\n",
       "  </tbody>\n",
       "</table>\n",
       "<p>3334 rows × 14 columns</p>\n",
       "</div>"
      ],
      "text/plain": [
       "       UNI_TR_D  GRU_TAR     DIC    FIC     ENE_MED  ENE_MAX  UNI_TR_S  \\\n",
       "0     101415715        1   76.55   28.0   97.791667    372.0  27707534   \n",
       "1     103455355        1    8.31    7.0   91.333333    116.0  27707534   \n",
       "2     105138826        1   16.10   12.0   13.583333     35.0  27707534   \n",
       "3     106512676        1   17.24    8.0   84.833333    101.0  27707534   \n",
       "4     108015624        1   19.15    9.0  158.166667    180.0  27707534   \n",
       "...         ...      ...     ...    ...         ...      ...       ...   \n",
       "3329   62005694        1    1.06    4.0   26.208333     83.0  80345241   \n",
       "3330   68553759        1   39.40   63.0   98.020833   3923.0  80345241   \n",
       "3331   71641214        1   47.19   39.0  160.950855   8415.0  80345241   \n",
       "3332   87219744        1  242.57  146.0  133.132114   8476.0  80345241   \n",
       "3333   91818602        1  101.44  151.0  112.299383   8603.0  80345241   \n",
       "\n",
       "      ARE_LOC                  geometry_untrd                  geometry_untrs  \\\n",
       "0           0  POINT (143363.892 7518580.694)  POINT (151650.771 7531499.639)   \n",
       "1           1  POINT (156545.369 7524131.090)  POINT (151650.771 7531499.639)   \n",
       "2           0  POINT (159329.456 7522722.774)  POINT (151650.771 7531499.639)   \n",
       "3           0  POINT (153744.945 7526685.029)  POINT (151650.771 7531499.639)   \n",
       "4           0  POINT (154603.247 7526545.042)  POINT (151650.771 7531499.639)   \n",
       "...       ...                             ...                             ...   \n",
       "3329        1  POINT (133932.738 7527194.744)  POINT (135820.103 7532486.422)   \n",
       "3330        1  POINT (134190.805 7526273.478)  POINT (135820.103 7532486.422)   \n",
       "3331        1  POINT (134977.834 7526406.003)  POINT (135820.103 7532486.422)   \n",
       "3332        1  POINT (134897.455 7529229.454)  POINT (135820.103 7532486.422)   \n",
       "3333        1  POINT (134136.722 7526273.327)  POINT (135820.103 7532486.422)   \n",
       "\n",
       "      EUC_DIST_UNTRS  EUC_DIST_CENT  EUC_DIST_PRIMARY  EUC_DIST_SECONDARY  \n",
       "0       15348.338990   14420.116797       7174.246302         7424.656820  \n",
       "1        8846.050002   21618.004725      17768.331400          395.889376  \n",
       "2       11661.713633   24709.571305      20611.624089          265.908068  \n",
       "3        5250.336447   18214.964473      15155.618112         2825.851151  \n",
       "4        5767.594872   19082.084868      15983.786567         2271.915950  \n",
       "...              ...            ...               ...                 ...  \n",
       "3329     5618.185482    4362.500497       2072.595399          372.619542  \n",
       "3330     6423.027464    5087.333875       2765.175831          135.015985  \n",
       "3331     6138.477770    4726.044503       2462.589748          920.239663  \n",
       "3332     3385.132235    2120.226359        223.587769           35.513025  \n",
       "3333     6437.105521    5107.493771       2784.823912           87.320062  \n",
       "\n",
       "[3334 rows x 14 columns]"
      ]
     },
     "execution_count": 181,
     "metadata": {},
     "output_type": "execute_result"
    }
   ],
   "source": [
    "main_roads['dist'] = 6612\n",
    "secondary_roads['dist'] = 6612\n",
    "\n",
    "#CALLES PRINCIPALES\n",
    "main_roads_comb = main_roads.dissolve(by='dist')\n",
    "main_roads_comb.to_crs(epsg=31984, inplace= True)\n",
    "#CALLES SECUNDARIAS\n",
    "secondary_roads_comb = secondary_roads.dissolve(by='dist')\n",
    "secondary_roads_comb.to_crs(epsg=31984, inplace= True)\n",
    "\n",
    "group_ucbt_untrd_untrs['EUC_DIST_PRIMARY'] = -1\n",
    "group_ucbt_untrd_untrs['EUC_DIST_SECONDARY'] = -1\n",
    "\n",
    "for i,t in group_ucbt_untrd_untrs.iterrows():\n",
    "    eud_main_roads = group_ucbt_untrd_untrs.geometry_untrd[i].distance(main_roads_comb.iloc[0].geometry)\n",
    "    eud_secondary_roads = group_ucbt_untrd_untrs.geometry_untrd[i].distance(secondary_roads_comb.iloc[0].geometry)\n",
    "    group_ucbt_untrd_untrs.EUC_DIST_PRIMARY.loc[i] = eud_main_roads\n",
    "    group_ucbt_untrd_untrs.EUC_DIST_SECONDARY.loc[i] = eud_secondary_roads\n",
    "\n",
    "group_ucbt_untrd_untrs"
   ]
  },
  {
   "cell_type": "code",
   "execution_count": 182,
   "metadata": {},
   "outputs": [
    {
     "data": {
      "text/plain": [
       "Index(['UNI_TR_D', 'GRU_TAR', 'DIC', 'FIC', 'ENE_MED', 'ENE_MAX', 'UNI_TR_S',\n",
       "       'ARE_LOC', 'geometry_untrd', 'geometry_untrs', 'EUC_DIST_UNTRS',\n",
       "       'EUC_DIST_CENT', 'EUC_DIST_PRIMARY', 'EUC_DIST_SECONDARY'],\n",
       "      dtype='object')"
      ]
     },
     "execution_count": 182,
     "metadata": {},
     "output_type": "execute_result"
    }
   ],
   "source": [
    "group_ucbt_untrd_untrs.columns"
   ]
  },
  {
   "cell_type": "code",
   "execution_count": 183,
   "metadata": {},
   "outputs": [],
   "source": [
    "group_ucbt_untrd_untrs.to_csv(\"group_ucbt_untrd_untrs.csv\")"
   ]
  },
  {
   "cell_type": "markdown",
   "metadata": {
    "colab_type": "text",
    "id": "2tomn5LUKlBX"
   },
   "source": [
    "## [Opcional] Generación de variables con arboles de busqueda\n",
    "\n",
    "8 - Cree variables que indique la cantidad de consumidores en radios de 25, 50 y 100 metros del transformador.\n",
    "\n",
    "9 - Cree una variable indicando la distancia media de cada fila (cada untrd) a los 5 untrd mas cercanos.\n",
    "\n",
    "10 - Usando OSMnx descargue los footprints de edificios disponibles, y cree una variable que indique la cantidad de edificios en un radio de 200 metros al transformador."
   ]
  },
  {
   "cell_type": "code",
   "execution_count": 184,
   "metadata": {
    "colab": {},
    "colab_type": "code",
    "executionInfo": {
     "elapsed": 2228,
     "status": "ok",
     "timestamp": 1599254828431,
     "user": {
      "displayName": "Joel de Andres",
      "photoUrl": "",
      "userId": "00836612501124861246"
     },
     "user_tz": 180
    },
    "id": "hqE3bJT3KlBY"
   },
   "outputs": [],
   "source": [
    "# Convertimos las coordenas a una matriz\n",
    "ucbt_loc_array = [x.coords[0] for x in ucbt.geometry]\n",
    "untrd_loc_array = [x.coords[0] for x in untrd.geometry]\n",
    "tree = cKDTree(ucbt_loc_array)"
   ]
  },
  {
   "cell_type": "code",
   "execution_count": 185,
   "metadata": {
    "colab": {},
    "colab_type": "code",
    "id": "1cv_jC4DFRa2"
   },
   "outputs": [
    {
     "name": "stderr",
     "output_type": "stream",
     "text": [
      "D:\\Anaconda3\\envs\\diplo\\lib\\site-packages\\pandas\\core\\indexing.py:670: SettingWithCopyWarning: \n",
      "A value is trying to be set on a copy of a slice from a DataFrame\n",
      "\n",
      "See the caveats in the documentation: https://pandas.pydata.org/pandas-docs/stable/user_guide/indexing.html#returning-a-view-versus-a-copy\n",
      "  iloc._setitem_with_indexer(indexer, value)\n"
     ]
    }
   ],
   "source": [
    "group_ucbt_untrd_untrs['CONS_25M'] = 0\n",
    "group_ucbt_untrd_untrs['CONS_50M'] = 0\n",
    "group_ucbt_untrd_untrs['CONS_100M'] = 0\n",
    "\n",
    "for i,t in group_ucbt_untrd_untrs.iterrows():\n",
    "  untrd_loc_array = [x.coords[0] for x in [group_ucbt_untrd_untrs.geometry_untrd[i]]]\n",
    "  radio = 25\n",
    "  ucbt_25m = tree.query_ball_point(untrd_loc_array, radio)\n",
    "  radio = 50\n",
    "  ucbt_50m = tree.query_ball_point(untrd_loc_array, radio)\n",
    "  radio = 100\n",
    "  ucbt_100m = tree.query_ball_point(untrd_loc_array, radio)\n",
    "\n",
    "  group_ucbt_untrd_untrs.CONS_25M.loc[i] = len(ucbt_25m[0])  \n",
    "  group_ucbt_untrd_untrs.CONS_50M.loc[i] = len(ucbt_50m[0])  \n",
    "  group_ucbt_untrd_untrs.CONS_100M.loc[i] = len(ucbt_100m[0])  "
   ]
  },
  {
   "cell_type": "code",
   "execution_count": 186,
   "metadata": {
    "colab": {
     "base_uri": "https://localhost:8080/",
     "height": 204
    },
    "colab_type": "code",
    "executionInfo": {
     "elapsed": 930,
     "status": "ok",
     "timestamp": 1599256515609,
     "user": {
      "displayName": "Joel de Andres",
      "photoUrl": "",
      "userId": "00836612501124861246"
     },
     "user_tz": 180
    },
    "id": "7TKz87bkFhdq",
    "outputId": "23e8d7b3-489e-4309-9d79-ee50b5b11bfe",
    "scrolled": true
   },
   "outputs": [
    {
     "data": {
      "text/html": [
       "<div>\n",
       "<style scoped>\n",
       "    .dataframe tbody tr th:only-of-type {\n",
       "        vertical-align: middle;\n",
       "    }\n",
       "\n",
       "    .dataframe tbody tr th {\n",
       "        vertical-align: top;\n",
       "    }\n",
       "\n",
       "    .dataframe thead th {\n",
       "        text-align: right;\n",
       "    }\n",
       "</style>\n",
       "<table border=\"1\" class=\"dataframe\">\n",
       "  <thead>\n",
       "    <tr style=\"text-align: right;\">\n",
       "      <th></th>\n",
       "      <th>UNI_TR_D</th>\n",
       "      <th>CONS_25M</th>\n",
       "      <th>CONS_50M</th>\n",
       "      <th>CONS_100M</th>\n",
       "    </tr>\n",
       "  </thead>\n",
       "  <tbody>\n",
       "    <tr>\n",
       "      <th>776</th>\n",
       "      <td>26877063</td>\n",
       "      <td>1</td>\n",
       "      <td>1</td>\n",
       "      <td>1</td>\n",
       "    </tr>\n",
       "    <tr>\n",
       "      <th>3264</th>\n",
       "      <td>26880527</td>\n",
       "      <td>24</td>\n",
       "      <td>87</td>\n",
       "      <td>236</td>\n",
       "    </tr>\n",
       "    <tr>\n",
       "      <th>160</th>\n",
       "      <td>26876388</td>\n",
       "      <td>0</td>\n",
       "      <td>8</td>\n",
       "      <td>23</td>\n",
       "    </tr>\n",
       "    <tr>\n",
       "      <th>197</th>\n",
       "      <td>26876425</td>\n",
       "      <td>8</td>\n",
       "      <td>31</td>\n",
       "      <td>67</td>\n",
       "    </tr>\n",
       "    <tr>\n",
       "      <th>2439</th>\n",
       "      <td>26879008</td>\n",
       "      <td>0</td>\n",
       "      <td>1</td>\n",
       "      <td>3</td>\n",
       "    </tr>\n",
       "  </tbody>\n",
       "</table>\n",
       "</div>"
      ],
      "text/plain": [
       "      UNI_TR_D  CONS_25M  CONS_50M  CONS_100M\n",
       "776   26877063         1         1          1\n",
       "3264  26880527        24        87        236\n",
       "160   26876388         0         8         23\n",
       "197   26876425         8        31         67\n",
       "2439  26879008         0         1          3"
      ]
     },
     "execution_count": 186,
     "metadata": {},
     "output_type": "execute_result"
    }
   ],
   "source": [
    "group_ucbt_untrd_untrs[['UNI_TR_D','CONS_25M','CONS_50M','CONS_100M']].sample(5)"
   ]
  },
  {
   "cell_type": "code",
   "execution_count": null,
   "metadata": {},
   "outputs": [],
   "source": [
    "#PARA EL CALCULO DE TIEMPO LO REALIZAMOS ANTES DE COMBERTIR LOS DATOS GEOMETRICOS A METROS.\n",
    "\n",
    "BDResutlados = pd.DataFrame()\n",
    "BDErrores = pd.DataFrame()\n",
    "\n",
    "group_ucbt_untrd_untrs['TIEMPO_MIN'] = 0\n",
    "group_ucbt_untrd_untrs['DISTANCIA_KM'] = 0\n",
    "\n",
    "for (i, row) in group_ucbt_untrd_untrs.iterrows():\n",
    "    try:\n",
    "        LatOrigin = row.geometry_untrd.y\n",
    "        LongOrigin = row.geometry_untrd.x\n",
    "        origins = str(LatOrigin ) + \",\" + str(LongOrigin) \n",
    "\n",
    "        LatDest = row.geometry_untrs.y \n",
    "        LongDest = row.geometry_untrs.x  \n",
    "        destination =  str(LatDest ) + \",\" + str(LongDest)\n",
    "\n",
    "        route = WazeRouteCalculator.WazeRouteCalculator(origins, destination)\n",
    "        routeResult = route.calc_route_info(real_time=False)\n",
    "        print(i,'UNI_TR_D' , row['UNI_TR_D'], 'Tiempo[min]', \"{:.2f}\".format(routeResult[0]),'Distancia [km]', \"{:.2f}\".format(routeResult[1]),'Fecha',[time.strftime(\"%Y/%m/%d %H:%M:%S\")] )\n",
    "        group_ucbt_untrd_untrs.TIEMPO_MIN.loc[i] = routeResult[0]\n",
    "        group_ucbt_untrd_untrs.DISTANCIA_KM.loc[i] = routeResult[1]\n",
    "        BDResutlados=BDResutlados.append(pd.DataFrame(data={'UNI_TR_D': [row['UNI_TR_D']], 'Tiempo': [routeResult[0]],'Distancia': [routeResult[1]], 'Fecha':[time.strftime(\"%Y/%m/%d %H:%M:%S\")]}))\n",
    "    except :\n",
    "        print (\"error UNI_TR_D\" , row['UNI_TR_D'])\n",
    "        BDErrores=BDErrores.append(pd.DataFrame(data={'UNI_TR_D': [row['UNI_TR_D']]}))\n"
   ]
  },
  {
   "cell_type": "code",
   "execution_count": null,
   "metadata": {},
   "outputs": [],
   "source": [
    "group_ucbt_untrd_untrs.to_csv(\"./Dataset/group_ucbt_untrd_untrs_dist_1.csv\")"
   ]
  }
 ],
 "metadata": {
  "colab": {
   "collapsed_sections": [
    "gq5O--OuKlAn",
    "eXSYGgW5KlBE"
   ],
   "name": "Analisis_y_Curacion_Grupo_2.ipynb",
   "provenance": []
  },
  "kernelspec": {
   "display_name": "Python 3",
   "language": "python",
   "name": "python3"
  },
  "language_info": {
   "codemirror_mode": {
    "name": "ipython",
    "version": 3
   },
   "file_extension": ".py",
   "mimetype": "text/x-python",
   "name": "python",
   "nbconvert_exporter": "python",
   "pygments_lexer": "ipython3",
   "version": "3.7.7"
  }
 },
 "nbformat": 4,
 "nbformat_minor": 4
}
