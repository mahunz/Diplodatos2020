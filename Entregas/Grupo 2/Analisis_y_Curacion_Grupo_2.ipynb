{
 "cells": [
  {
   "cell_type": "markdown",
   "metadata": {
    "colab_type": "text",
    "id": "FqyA1CNFKk_2"
   },
   "source": [
    "<center>\n",
    "<h2>Universidad Nacional de Córdoba - Facultad de Matemática, Astronomía, Física y Computación</h2>\n",
    "<h3>Diplomatura en Ciencia de Datos, Aprendizaje Automático y sus Aplicaciones 2020</h3>\n",
    "<h3>Predicción de la Calidad de Servicio</h3>\n",
    "<h3>Análisis y Curación</h3>\n",
    "</center>\n",
    "</left>\n",
    "<h4>Mentor: Martín Hunziker</h4>\n",
    "\n",
    "[Link Mentoria](https://sites.google.com/view/mentorias2020-diplodatos/ciencia-de-datos-aplicada-en-la-distribuci%C3%B3n-de-energ%C3%ADa-el%C3%A9ctrica?authuser=0).\n",
    "\n",
    "</left>\n",
    "</left>"
   ]
  },
  {
   "cell_type": "markdown",
   "metadata": {
    "colab_type": "text",
    "id": "JxOC6Q-RLq5z"
   },
   "source": [
    "#Grupo 2\n",
    "###Marcelo Tisera\n",
    "###Laura Aliendo\n",
    "###Joel de Andres"
   ]
  },
  {
   "cell_type": "markdown",
   "metadata": {
    "colab_type": "text",
    "id": "f2LWfsXSKk_4"
   },
   "source": [
    "### Introducción\n",
    "\n",
    "En la siguiente notebook, se presentará la consigna a seguir para el segundo práctico de la materia Análisis y Curación. El objetivo consiste en vincular las tablas del dataset, así como iniciar el tratamiento de los datos geográficos.\n",
    "\n",
    "Como referencia para el análisis geográfico utilizaremos la notebook 2_0_Intro_Variables_georefrenciadas de Ramiro Caro.\n"
   ]
  },
  {
   "cell_type": "code",
   "execution_count": null,
   "metadata": {
    "colab": {
     "base_uri": "https://localhost:8080/",
     "height": 1000
    },
    "colab_type": "code",
    "executionInfo": {
     "elapsed": 12129,
     "status": "ok",
     "timestamp": 1599251023685,
     "user": {
      "displayName": "Joel de Andres",
      "photoUrl": "",
      "userId": "00836612501124861246"
     },
     "user_tz": 180
    },
    "id": "B1JwyOpOKk_4",
    "outputId": "cf7d5852-dba6-4b76-ed33-2ff311a6c13d"
   },
   "outputs": [
    {
     "name": "stdout",
     "output_type": "stream",
     "text": [
      "Requirement already satisfied: geopandas in /usr/local/lib/python3.6/dist-packages (0.8.1)\n",
      "Requirement already satisfied: shapely in /usr/local/lib/python3.6/dist-packages (from geopandas) (1.7.1)\n",
      "Requirement already satisfied: pyproj>=2.2.0 in /usr/local/lib/python3.6/dist-packages (from geopandas) (2.6.1.post1)\n",
      "Requirement already satisfied: pandas>=0.23.0 in /usr/local/lib/python3.6/dist-packages (from geopandas) (1.0.5)\n",
      "Requirement already satisfied: fiona in /usr/local/lib/python3.6/dist-packages (from geopandas) (1.8.15)\n",
      "Requirement already satisfied: numpy>=1.13.3 in /usr/local/lib/python3.6/dist-packages (from pandas>=0.23.0->geopandas) (1.18.5)\n",
      "Requirement already satisfied: pytz>=2017.2 in /usr/local/lib/python3.6/dist-packages (from pandas>=0.23.0->geopandas) (2018.9)\n",
      "Requirement already satisfied: python-dateutil>=2.6.1 in /usr/local/lib/python3.6/dist-packages (from pandas>=0.23.0->geopandas) (2.8.1)\n",
      "Requirement already satisfied: click<8,>=4.0 in /usr/local/lib/python3.6/dist-packages (from fiona->geopandas) (7.1.2)\n",
      "Requirement already satisfied: munch in /usr/local/lib/python3.6/dist-packages (from fiona->geopandas) (2.5.0)\n",
      "Requirement already satisfied: six>=1.7 in /usr/local/lib/python3.6/dist-packages (from fiona->geopandas) (1.15.0)\n",
      "Requirement already satisfied: cligj>=0.5 in /usr/local/lib/python3.6/dist-packages (from fiona->geopandas) (0.5.0)\n",
      "Requirement already satisfied: click-plugins>=1.0 in /usr/local/lib/python3.6/dist-packages (from fiona->geopandas) (1.1.1)\n",
      "Requirement already satisfied: attrs>=17 in /usr/local/lib/python3.6/dist-packages (from fiona->geopandas) (20.1.0)\n",
      "Reading package lists... Done\n",
      "Building dependency tree       \n",
      "Reading state information... Done\n",
      "libspatialindex-dev is already the newest version (1.8.5-5).\n",
      "The following package was automatically installed and is no longer required:\n",
      "  libnvidia-common-440\n",
      "Use 'apt autoremove' to remove it.\n",
      "0 upgraded, 0 newly installed, 0 to remove and 39 not upgraded.\n",
      "Requirement already satisfied: rtree in /usr/local/lib/python3.6/dist-packages (0.9.4)\n",
      "Requirement already satisfied: setuptools in /usr/local/lib/python3.6/dist-packages (from rtree) (49.6.0)\n",
      "Requirement already satisfied: osmnx in /usr/local/lib/python3.6/dist-packages (0.15.1)\n",
      "Requirement already satisfied: geopandas>=0.7 in /usr/local/lib/python3.6/dist-packages (from osmnx) (0.8.1)\n",
      "Requirement already satisfied: Shapely>=1.7 in /usr/local/lib/python3.6/dist-packages (from osmnx) (1.7.1)\n",
      "Requirement already satisfied: pandas>=1.0 in /usr/local/lib/python3.6/dist-packages (from osmnx) (1.0.5)\n",
      "Requirement already satisfied: Rtree>=0.9 in /usr/local/lib/python3.6/dist-packages (from osmnx) (0.9.4)\n",
      "Requirement already satisfied: networkx>=2.4 in /usr/local/lib/python3.6/dist-packages (from osmnx) (2.5)\n",
      "Requirement already satisfied: descartes>=1.1 in /usr/local/lib/python3.6/dist-packages (from osmnx) (1.1.0)\n",
      "Requirement already satisfied: matplotlib>=3.2 in /usr/local/lib/python3.6/dist-packages (from osmnx) (3.2.2)\n",
      "Requirement already satisfied: numpy>=1.18 in /usr/local/lib/python3.6/dist-packages (from osmnx) (1.18.5)\n",
      "Requirement already satisfied: requests>=2.23 in /usr/local/lib/python3.6/dist-packages (from osmnx) (2.23.0)\n",
      "Requirement already satisfied: pyproj>=2.6 in /usr/local/lib/python3.6/dist-packages (from osmnx) (2.6.1.post1)\n",
      "Requirement already satisfied: fiona in /usr/local/lib/python3.6/dist-packages (from geopandas>=0.7->osmnx) (1.8.15)\n",
      "Requirement already satisfied: pytz>=2017.2 in /usr/local/lib/python3.6/dist-packages (from pandas>=1.0->osmnx) (2018.9)\n",
      "Requirement already satisfied: python-dateutil>=2.6.1 in /usr/local/lib/python3.6/dist-packages (from pandas>=1.0->osmnx) (2.8.1)\n",
      "Requirement already satisfied: setuptools in /usr/local/lib/python3.6/dist-packages (from Rtree>=0.9->osmnx) (49.6.0)\n",
      "Requirement already satisfied: decorator>=4.3.0 in /usr/local/lib/python3.6/dist-packages (from networkx>=2.4->osmnx) (4.4.2)\n",
      "Requirement already satisfied: pyparsing!=2.0.4,!=2.1.2,!=2.1.6,>=2.0.1 in /usr/local/lib/python3.6/dist-packages (from matplotlib>=3.2->osmnx) (2.4.7)\n",
      "Requirement already satisfied: kiwisolver>=1.0.1 in /usr/local/lib/python3.6/dist-packages (from matplotlib>=3.2->osmnx) (1.2.0)\n",
      "Requirement already satisfied: cycler>=0.10 in /usr/local/lib/python3.6/dist-packages (from matplotlib>=3.2->osmnx) (0.10.0)\n",
      "Requirement already satisfied: idna<3,>=2.5 in /usr/local/lib/python3.6/dist-packages (from requests>=2.23->osmnx) (2.10)\n",
      "Requirement already satisfied: urllib3!=1.25.0,!=1.25.1,<1.26,>=1.21.1 in /usr/local/lib/python3.6/dist-packages (from requests>=2.23->osmnx) (1.24.3)\n",
      "Requirement already satisfied: certifi>=2017.4.17 in /usr/local/lib/python3.6/dist-packages (from requests>=2.23->osmnx) (2020.6.20)\n",
      "Requirement already satisfied: chardet<4,>=3.0.2 in /usr/local/lib/python3.6/dist-packages (from requests>=2.23->osmnx) (3.0.4)\n",
      "Requirement already satisfied: cligj>=0.5 in /usr/local/lib/python3.6/dist-packages (from fiona->geopandas>=0.7->osmnx) (0.5.0)\n",
      "Requirement already satisfied: click-plugins>=1.0 in /usr/local/lib/python3.6/dist-packages (from fiona->geopandas>=0.7->osmnx) (1.1.1)\n",
      "Requirement already satisfied: attrs>=17 in /usr/local/lib/python3.6/dist-packages (from fiona->geopandas>=0.7->osmnx) (20.1.0)\n",
      "Requirement already satisfied: six>=1.7 in /usr/local/lib/python3.6/dist-packages (from fiona->geopandas>=0.7->osmnx) (1.15.0)\n",
      "Requirement already satisfied: click<8,>=4.0 in /usr/local/lib/python3.6/dist-packages (from fiona->geopandas>=0.7->osmnx) (7.1.2)\n",
      "Requirement already satisfied: munch in /usr/local/lib/python3.6/dist-packages (from fiona->geopandas>=0.7->osmnx) (2.5.0)\n",
      "Requirement already satisfied: contextily in /usr/local/lib/python3.6/dist-packages (1.0.0)\n",
      "Requirement already satisfied: matplotlib in /usr/local/lib/python3.6/dist-packages (from contextily) (3.2.2)\n",
      "Requirement already satisfied: rasterio in /usr/local/lib/python3.6/dist-packages (from contextily) (1.1.5)\n",
      "Requirement already satisfied: geopy in /usr/local/lib/python3.6/dist-packages (from contextily) (1.17.0)\n",
      "Requirement already satisfied: joblib in /usr/local/lib/python3.6/dist-packages (from contextily) (0.16.0)\n",
      "Requirement already satisfied: pillow in /usr/local/lib/python3.6/dist-packages (from contextily) (7.0.0)\n",
      "Requirement already satisfied: mercantile in /usr/local/lib/python3.6/dist-packages (from contextily) (1.1.6)\n",
      "Requirement already satisfied: requests in /usr/local/lib/python3.6/dist-packages (from contextily) (2.23.0)\n",
      "Requirement already satisfied: numpy>=1.11 in /usr/local/lib/python3.6/dist-packages (from matplotlib->contextily) (1.18.5)\n",
      "Requirement already satisfied: kiwisolver>=1.0.1 in /usr/local/lib/python3.6/dist-packages (from matplotlib->contextily) (1.2.0)\n",
      "Requirement already satisfied: pyparsing!=2.0.4,!=2.1.2,!=2.1.6,>=2.0.1 in /usr/local/lib/python3.6/dist-packages (from matplotlib->contextily) (2.4.7)\n",
      "Requirement already satisfied: python-dateutil>=2.1 in /usr/local/lib/python3.6/dist-packages (from matplotlib->contextily) (2.8.1)\n",
      "Requirement already satisfied: cycler>=0.10 in /usr/local/lib/python3.6/dist-packages (from matplotlib->contextily) (0.10.0)\n",
      "Requirement already satisfied: attrs in /usr/local/lib/python3.6/dist-packages (from rasterio->contextily) (20.1.0)\n",
      "Requirement already satisfied: snuggs>=1.4.1 in /usr/local/lib/python3.6/dist-packages (from rasterio->contextily) (1.4.7)\n",
      "Requirement already satisfied: click-plugins in /usr/local/lib/python3.6/dist-packages (from rasterio->contextily) (1.1.1)\n",
      "Requirement already satisfied: click<8,>=4.0 in /usr/local/lib/python3.6/dist-packages (from rasterio->contextily) (7.1.2)\n",
      "Requirement already satisfied: affine in /usr/local/lib/python3.6/dist-packages (from rasterio->contextily) (2.3.0)\n",
      "Requirement already satisfied: cligj>=0.5 in /usr/local/lib/python3.6/dist-packages (from rasterio->contextily) (0.5.0)\n",
      "Requirement already satisfied: geographiclib<2,>=1.49 in /usr/local/lib/python3.6/dist-packages (from geopy->contextily) (1.50)\n",
      "Requirement already satisfied: urllib3!=1.25.0,!=1.25.1,<1.26,>=1.21.1 in /usr/local/lib/python3.6/dist-packages (from requests->contextily) (1.24.3)\n",
      "Requirement already satisfied: certifi>=2017.4.17 in /usr/local/lib/python3.6/dist-packages (from requests->contextily) (2020.6.20)\n",
      "Requirement already satisfied: chardet<4,>=3.0.2 in /usr/local/lib/python3.6/dist-packages (from requests->contextily) (3.0.4)\n",
      "Requirement already satisfied: idna<3,>=2.5 in /usr/local/lib/python3.6/dist-packages (from requests->contextily) (2.10)\n",
      "Requirement already satisfied: six>=1.5 in /usr/local/lib/python3.6/dist-packages (from python-dateutil>=2.1->matplotlib->contextily) (1.15.0)\n"
     ]
    }
   ],
   "source": [
    "# Instalación de librerias en Collab\n",
    "!pip install geopandas\n",
    "!apt install libspatialindex-dev\n",
    "!pip install rtree\n",
    "!pip install osmnx\n",
    "!pip install contextily"
   ]
  },
  {
   "cell_type": "code",
   "execution_count": null,
   "metadata": {
    "colab": {
     "base_uri": "https://localhost:8080/",
     "height": 904
    },
    "colab_type": "code",
    "executionInfo": {
     "elapsed": 16307,
     "status": "ok",
     "timestamp": 1599251027886,
     "user": {
      "displayName": "Joel de Andres",
      "photoUrl": "",
      "userId": "00836612501124861246"
     },
     "user_tz": 180
    },
    "id": "VQydp8YEL3-6",
    "outputId": "469abecc-e4bb-44a3-e226-89b149490e5a"
   },
   "outputs": [
    {
     "name": "stdout",
     "output_type": "stream",
     "text": [
      "--2020-09-04 20:23:43--  https://github.com/mahunz/Diplodatos2020/blob/master/Dataset/ENF_6612_2018-12-31_M10_20190529-1610.gdb.7z?raw=true\n",
      "Resolving github.com (github.com)... 192.30.255.112\n",
      "Connecting to github.com (github.com)|192.30.255.112|:443... connected.\n",
      "HTTP request sent, awaiting response... 302 Found\n",
      "Location: https://github.com/mahunz/Diplodatos2020/raw/master/Dataset/ENF_6612_2018-12-31_M10_20190529-1610.gdb.7z [following]\n",
      "--2020-09-04 20:23:43--  https://github.com/mahunz/Diplodatos2020/raw/master/Dataset/ENF_6612_2018-12-31_M10_20190529-1610.gdb.7z\n",
      "Reusing existing connection to github.com:443.\n",
      "HTTP request sent, awaiting response... 302 Found\n",
      "Location: https://raw.githubusercontent.com/mahunz/Diplodatos2020/master/Dataset/ENF_6612_2018-12-31_M10_20190529-1610.gdb.7z [following]\n",
      "--2020-09-04 20:23:43--  https://raw.githubusercontent.com/mahunz/Diplodatos2020/master/Dataset/ENF_6612_2018-12-31_M10_20190529-1610.gdb.7z\n",
      "Resolving raw.githubusercontent.com (raw.githubusercontent.com)... 151.101.0.133, 151.101.64.133, 151.101.128.133, ...\n",
      "Connecting to raw.githubusercontent.com (raw.githubusercontent.com)|151.101.0.133|:443... connected.\n",
      "HTTP request sent, awaiting response... 200 OK\n",
      "Length: 11687422 (11M) [application/octet-stream]\n",
      "Saving to: ‘ENF_6612_2018-12-31_M10_20190529-1610.gdb.7z?raw=true’\n",
      "\n",
      "ENF_6612_2018-12-31 100%[===================>]  11.15M  40.5MB/s    in 0.3s    \n",
      "\n",
      "2020-09-04 20:23:44 (40.5 MB/s) - ‘ENF_6612_2018-12-31_M10_20190529-1610.gdb.7z?raw=true’ saved [11687422/11687422]\n",
      "\n",
      "Reading package lists... Done\n",
      "Building dependency tree       \n",
      "Reading state information... Done\n",
      "p7zip is already the newest version (16.02+dfsg-6).\n",
      "The following package was automatically installed and is no longer required:\n",
      "  libnvidia-common-440\n",
      "Use 'apt autoremove' to remove it.\n",
      "0 upgraded, 0 newly installed, 0 to remove and 39 not upgraded.\n",
      "\n",
      "7-Zip (a) [64] 16.02 : Copyright (c) 1999-2016 Igor Pavlov : 2016-05-21\n",
      "p7zip Version 16.02 (locale=en_US.UTF-8,Utf16=on,HugeFiles=on,64 bits,2 CPUs Intel(R) Xeon(R) CPU @ 2.20GHz (406F0),ASM,AES-NI)\n",
      "\n",
      "Scanning the drive for archives:\n",
      "  0M Scan ./Datase                  1 file, 11687422 bytes (12 MiB)\n",
      "\n",
      "Extracting archive: ./Dataset/ENF_6612_2018-12-31_M10_20190529-1610.gdb.7z\n",
      "--\n",
      "Path = ./Dataset/ENF_6612_2018-12-31_M10_20190529-1610.gdb.7z\n",
      "Type = 7z\n",
      "Physical Size = 11687422\n",
      "Headers Size = 2471\n",
      "Method = LZMA2:24\n",
      "Solid = +\n",
      "Blocks = 1\n",
      "\n",
      "     28% 94 - ENF_6612_2018-12-31_M10_20190529-1610.gdb/a000000ac.gdbtab                                                                     49% 125 - ENF_6612_2018-12-31_M10_20190529-1610.gdb/a000000b5.gdbtabl                                                                       64% 143 - ENF_6612_2018-12-31_M10_20190529-1610.gdb/a000000b9.gdbtabl                                                                       89% 143 - ENF_6612_2018-12-31_M10_20190529-1610.gdb/a000000b9.gdbtabl                                                                      Everything is Ok\n",
      "\n",
      "Folders: 1\n",
      "Files: 207\n",
      "Size:       84729099\n",
      "Compressed: 11687422\n"
     ]
    }
   ],
   "source": [
    "# En Collab\n",
    "!wget -nc https://github.com/mahunz/Diplodatos2020/blob/master/Dataset/ENF_6612_2018-12-31_M10_20190529-1610.gdb.7z?raw=true\n",
    "!apt-get install p7zip\n",
    "!mkdir -p Dataset\n",
    "!mv ENF_6612_2018-12-31_M10_20190529-1610.gdb.7z?raw=true ./Dataset/ENF_6612_2018-12-31_M10_20190529-1610.gdb.7z\n",
    "!7za x ./Dataset/ENF_6612_2018-12-31_M10_20190529-1610.gdb.7z\n",
    "!mv ENF_6612_2018-12-31_M10_20190529-1610.gdb ./Dataset/ENF_6612_2018-12-31_M10_20190529-1610.gdb"
   ]
  },
  {
   "cell_type": "code",
   "execution_count": null,
   "metadata": {
    "colab": {},
    "colab_type": "code",
    "id": "EuEKUZ4dDTqK"
   },
   "outputs": [],
   "source": [
    "# En Collab\n",
    "!mkdir -p DatasetOrigin\n",
    "!cp -i -r ./Dataset/ENF_6612_2018-12-31_M10_20190529-1610.gdb ./DatasetOrigin/ENF_6612_2018-12-31_M10_20190529-1610_origin.gdb"
   ]
  },
  {
   "cell_type": "markdown",
   "metadata": {
    "colab_type": "text",
    "id": "wEOmjLcfKk_-"
   },
   "source": [
    "### I. Rutina de Curación\n",
    "\n",
    "Inicialmente, con el objetivo de preparar los datos que alimentarán futuros modelos de aprendizaje automático (ML), se propone seguir la siguiente __[checklist](https://dimewiki.worldbank.org/wiki/Checklist:_Data_Cleaning)__ para la limpieza de los datos de nuestro proyecto. Esta _checklist_ es la misma que utilizaron en el primer práctico de la materia y nos será de utilidad como guía para curar el dataset. A modo de ayuda, **en esta notebook encontrarán una especie de template** que sigue la _checklist_ y que deberán ir completando.\n",
    "\n",
    "**Cada decisión tomada deberá quedar registrada de manera explícita y clara.** Luego de pasar por todos los puntos de la _checklist_ propuesta, deberán almacenar en un nuevo archivo los datos resultantes.\n"
   ]
  },
  {
   "cell_type": "markdown",
   "metadata": {
    "colab_type": "text",
    "id": "LlZtqtzgKk__"
   },
   "source": [
    "### II. Análisis del Contenido\n",
    "\n",
    "Una vez aplicado el  _Checklist_, lo que vamos a hacer es comenzar a vincular las diferentes tablas del dataset e iniciar la generación de features geográficas\n"
   ]
  },
  {
   "cell_type": "markdown",
   "metadata": {
    "colab_type": "text",
    "id": "Kktg5L0WKk__"
   },
   "source": [
    "# Resolución"
   ]
  },
  {
   "cell_type": "markdown",
   "metadata": {
    "colab_type": "text",
    "id": "_Qlqb0vOKlAA"
   },
   "source": [
    "## I. Rutina de Curación\n",
    "\n",
    "### 1. Importación de Datos\n",
    "\n",
    "#### 1.1. Verificación de Inexistencia de Problemas en la Importación"
   ]
  },
  {
   "cell_type": "markdown",
   "metadata": {
    "colab_type": "text",
    "id": "oMBJjzMHKlAB"
   },
   "source": [
    "A partir de este punto, utilizaremos los transformadores de distribucion como elemnto de analisis tabla UNTRD, e incorporaremos datos de consumidores, subestación y líneas de distribución.\n",
    "\n",
    "Para comenzar, importamos los datos que vamos a procesar de las diferentes tablas que vamos a analizar:"
   ]
  },
  {
   "cell_type": "code",
   "execution_count": 149,
   "metadata": {
    "colab": {},
    "colab_type": "code",
    "executionInfo": {
     "elapsed": 761,
     "status": "ok",
     "timestamp": 1599253245476,
     "user": {
      "displayName": "Joel de Andres",
      "photoUrl": "",
      "userId": "00836612501124861246"
     },
     "user_tz": 180
    },
    "id": "7QiqtG-9ybT-"
   },
   "outputs": [],
   "source": [
    "import geopandas as gpd\n",
    "import pandas as pd\n",
    "from shapely.geometry import Point, LineString, Polygon, MultiPoint, MultiLineString\n",
    "import numpy as np\n",
    "import osmnx as ox\n",
    "import scipy as sc\n",
    "from sklearn import preprocessing\n",
    "from shapely.ops import nearest_points\n",
    "from scipy.spatial import cKDTree"
   ]
  },
  {
   "cell_type": "code",
   "execution_count": null,
   "metadata": {
    "colab": {
     "base_uri": "https://localhost:8080/",
     "height": 51
    },
    "colab_type": "code",
    "executionInfo": {
     "elapsed": 17500,
     "status": "ok",
     "timestamp": 1599251029107,
     "user": {
      "displayName": "Joel de Andres",
      "photoUrl": "",
      "userId": "00836612501124861246"
     },
     "user_tz": 180
    },
    "id": "a-wN4MnfyTCk",
    "outputId": "eda730d4-8d4e-4580-c85c-d1b4f6455f03",
    "scrolled": true
   },
   "outputs": [
    {
     "name": "stdout",
     "output_type": "stream",
     "text": [
      "./Dataset/ENF_6612_2018-12-31_M10_20190529-1610.gdb\n",
      "./Dataset/ENF_6612_2018-12-31_M10_20190529-1610.gdb\n"
     ]
    }
   ],
   "source": [
    "# Editar con el path correspondiente a sus datos\n",
    "data_path = './Dataset/ENF_6612_2018-12-31_M10_20190529-1610.gdb'\n",
    "data_path_origin = './Dataset/ENF_6612_2018-12-31_M10_20190529-1610.gdb'\n",
    "\n",
    "print(data_path)\n",
    "print(data_path_origin)\n",
    " "
   ]
  },
  {
   "cell_type": "code",
   "execution_count": null,
   "metadata": {
    "colab": {},
    "colab_type": "code",
    "id": "96EC4-faTMNP"
   },
   "outputs": [],
   "source": [
    "datasets = {}"
   ]
  },
  {
   "cell_type": "code",
   "execution_count": null,
   "metadata": {
    "colab": {
     "base_uri": "https://localhost:8080/",
     "height": 68
    },
    "colab_type": "code",
    "executionInfo": {
     "elapsed": 17483,
     "status": "ok",
     "timestamp": 1599251029109,
     "user": {
      "displayName": "Joel de Andres",
      "photoUrl": "",
      "userId": "00836612501124861246"
     },
     "user_tz": 180
    },
    "id": "9sPPV-Ro6-T9",
    "outputId": "268d7221-0808-4639-fdce-e966c2ea50e7"
   },
   "outputs": [
    {
     "data": {
      "text/plain": [
       "((5, 9), Index(['COD_ID', 'DIST', 'NOM', 'SIST_INTE', 'SIST_SUBT', 'DESCR',\n",
       "        'Shape_Length', 'Shape_Area', 'geometry'],\n",
       "       dtype='object'))"
      ]
     },
     "execution_count": 84,
     "metadata": {
      "tags": []
     },
     "output_type": "execute_result"
    }
   ],
   "source": [
    "conj = gpd.read_file(data_path, driver='FileGDB', layer='CONJ')\n",
    "datasets['conj'] = conj\n",
    "datasets['conj']['COD_ID'] = datasets['conj']['COD_ID'].astype(int)\n",
    "conj = datasets['conj']\n",
    "conj.shape, conj.columns "
   ]
  },
  {
   "cell_type": "code",
   "execution_count": null,
   "metadata": {
    "colab": {
     "base_uri": "https://localhost:8080/",
     "height": 136
    },
    "colab_type": "code",
    "executionInfo": {
     "elapsed": 17765,
     "status": "ok",
     "timestamp": 1599251029405,
     "user": {
      "displayName": "Joel de Andres",
      "photoUrl": "",
      "userId": "00836612501124861246"
     },
     "user_tz": 180
    },
    "id": "T1xC2lhcuRy-",
    "outputId": "caf6a8a7-c4e0-462a-88bf-63545d68ebac"
   },
   "outputs": [
    {
     "data": {
      "text/plain": [
       "((3879, 33),\n",
       " Index(['COD_ID', 'DIST', 'PAC_1', 'PAC_2', 'PAC_3', 'FAS_CON_P', 'FAS_CON_S',\n",
       "        'FAS_CON_T', 'SIT_ATIV', 'TIP_UNID', 'POS', 'ATRB_PER', 'TEN_LIN_SE',\n",
       "        'CAP_ELO', 'CAP_CHA', 'TAP', 'CONF', 'POSTO', 'POT_NOM', 'PER_FER',\n",
       "        'PER_TOT', 'DAT_CON', 'CTMT', 'UNI_TR_S', 'SUB', 'CONJ', 'MUN', 'BANC',\n",
       "        'TIP_TRAFO', 'MRT', 'DESCR', 'ARE_LOC', 'geometry'],\n",
       "       dtype='object'))"
      ]
     },
     "execution_count": 85,
     "metadata": {
      "tags": []
     },
     "output_type": "execute_result"
    }
   ],
   "source": [
    "untrd = gpd.read_file(data_path, driver='FileGDB', layer='UNTRD')\n",
    "untrd['CONJ'] = untrd['CONJ'].astype(int)\n",
    "untrd.shape, untrd.columns"
   ]
  },
  {
   "cell_type": "code",
   "execution_count": null,
   "metadata": {
    "colab": {
     "base_uri": "https://localhost:8080/",
     "height": 204
    },
    "colab_type": "code",
    "executionInfo": {
     "elapsed": 17747,
     "status": "ok",
     "timestamp": 1599251029406,
     "user": {
      "displayName": "Joel de Andres",
      "photoUrl": "",
      "userId": "00836612501124861246"
     },
     "user_tz": 180
    },
    "id": "F0yigp8pyWvx",
    "outputId": "8e56f946-1c43-42e8-c7d1-678e4358b792"
   },
   "outputs": [
    {
     "data": {
      "text/plain": [
       "((6, 53),\n",
       " Index(['COD_ID', 'SUB', 'BARR_1', 'BARR_2', 'BARR_3', 'PAC_1', 'PAC_2',\n",
       "        'PAC_3', 'DIST', 'FAS_CON_P', 'FAS_CON_S', 'FAS_CON_T', 'SIT_ATIV',\n",
       "        'TIP_UNID', 'POS', 'POT_NOM', 'POT_F01', 'POT_F02', 'PER_FER',\n",
       "        'PER_TOT', 'BANC', 'DAT_CON', 'CONJ', 'MUN', 'TIP_TRAFO', 'ALOC_PERD',\n",
       "        'ENES_01', 'ENES_02', 'ENES_03', 'ENES_04', 'ENES_05', 'ENES_06',\n",
       "        'ENES_07', 'ENES_08', 'ENES_09', 'ENES_10', 'ENES_11', 'ENES_12',\n",
       "        'ENET_01', 'ENET_02', 'ENET_03', 'ENET_04', 'ENET_05', 'ENET_06',\n",
       "        'ENET_07', 'ENET_08', 'ENET_09', 'ENET_10', 'ENET_11', 'ENET_12',\n",
       "        'DESCR', 'ARE_LOC', 'geometry'],\n",
       "       dtype='object'))"
      ]
     },
     "execution_count": 86,
     "metadata": {
      "tags": []
     },
     "output_type": "execute_result"
    }
   ],
   "source": [
    "untrs = gpd.read_file(data_path, driver='FileGDB', layer='UNTRS')\n",
    "untrs['CONJ'] = untrs['CONJ'].astype(int)\n",
    "untrs.shape, untrs.columns"
   ]
  },
  {
   "cell_type": "code",
   "execution_count": null,
   "metadata": {
    "colab": {
     "base_uri": "https://localhost:8080/",
     "height": 119
    },
    "colab_type": "code",
    "executionInfo": {
     "elapsed": 20633,
     "status": "ok",
     "timestamp": 1599251032309,
     "user": {
      "displayName": "Joel de Andres",
      "photoUrl": "",
      "userId": "00836612501124861246"
     },
     "user_tz": 180
    },
    "id": "neS4sBkdzboc",
    "outputId": "4ed43141-d98d-4dfd-e513-0991cb57acde"
   },
   "outputs": [
    {
     "data": {
      "text/plain": [
       "((24929, 24),\n",
       " Index(['COD_ID', 'PN_CON_1', 'PN_CON_2', 'CTMT', 'UNI_TR_S', 'SUB', 'CONJ',\n",
       "        'DIST', 'PAC_1', 'PAC_2', 'FAS_CON', 'TIP_CND', 'POS', 'ODI_FAS',\n",
       "        'TI_FAS', 'ODI_NEU', 'TI_NEU', 'COMP', 'DESCR', 'SITCONTFAS',\n",
       "        'SITCONTNEU', 'ARE_LOC', 'Shape_Length', 'geometry'],\n",
       "       dtype='object'))"
      ]
     },
     "execution_count": 87,
     "metadata": {
      "tags": []
     },
     "output_type": "execute_result"
    }
   ],
   "source": [
    "ssmt = gpd.read_file(data_path, driver='FileGDB', layer='SSDMT')\n",
    "ssmt['CONJ'] = ssmt['CONJ'].astype(int)\n",
    "ssmt.shape, ssmt.columns"
   ]
  },
  {
   "cell_type": "code",
   "execution_count": null,
   "metadata": {
    "colab": {
     "base_uri": "https://localhost:8080/",
     "height": 170
    },
    "colab_type": "code",
    "executionInfo": {
     "elapsed": 20606,
     "status": "ok",
     "timestamp": 1599251032310,
     "user": {
      "displayName": "Joel de Andres",
      "photoUrl": "",
      "userId": "00836612501124861246"
     },
     "user_tz": 180
    },
    "id": "Sp2Ewh9L0cke",
    "outputId": "3a819ba6-d538-4b58-9fcd-9c80bb767147"
   },
   "outputs": [
    {
     "data": {
      "text/plain": [
       "((90, 40),\n",
       " Index(['COD_ID', 'DIST', 'GEOM_CAB', 'FORM_CAB', 'MAT_FAS_1', 'MAT_FAS_2',\n",
       "        'MAT_FAS_3', 'MAT_NEU', 'ISO_FAS_1', 'ISO_FAS_2', 'ISO_FAS_3',\n",
       "        'ISO_NEU', 'CND_FAS', 'R1', 'X1', 'FTRCNV', 'CNOM', 'CMAX', 'CM_FAS',\n",
       "        'TUC_FAS', 'A1_FAS', 'A2_FAS', 'A3_FAS', 'A4_FAS', 'A5_FAS', 'A6_FAS',\n",
       "        'CM_NEU', 'TUC_NEU', 'A1_NEU', 'A2_NEU', 'A3_NEU', 'A4_NEU', 'A5_NEU',\n",
       "        'A6_NEU', 'DESCR', 'BIT_FAS_1', 'BIT_FAS_2', 'BIT_FAS_3', 'BIT_NEU',\n",
       "        'geometry'],\n",
       "       dtype='object'))"
      ]
     },
     "execution_count": 88,
     "metadata": {
      "tags": []
     },
     "output_type": "execute_result"
    }
   ],
   "source": [
    "segcon = gpd.read_file(data_path, driver='FileGDB', layer='SEGCON')\n",
    "segcon.shape, segcon.columns"
   ]
  },
  {
   "cell_type": "code",
   "execution_count": null,
   "metadata": {
    "colab": {
     "base_uri": "https://localhost:8080/",
     "height": 153
    },
    "colab_type": "code",
    "executionInfo": {
     "elapsed": 29550,
     "status": "ok",
     "timestamp": 1599251041272,
     "user": {
      "displayName": "Joel de Andres",
      "photoUrl": "",
      "userId": "00836612501124861246"
     },
     "user_tz": 180
    },
    "id": "KacEd34JzdO4",
    "outputId": "6ee94b82-6365-4e6a-c517-032c83e00c42"
   },
   "outputs": [
    {
     "data": {
      "text/plain": [
       "((108346, 40),\n",
       " Index(['DIST', 'PAC', 'PN_CON', 'UNI_TR_D', 'CTMT', 'UNI_TR_S', 'SUB', 'CONJ',\n",
       "        'MUN', 'BRR', 'CEP', 'CLAS_SUB', 'CNAE', 'TIP_CC', 'FAS_CON', 'GRU_TEN',\n",
       "        'TEN_FORN', 'GRU_TAR', 'SIT_ATIV', 'DAT_CON', 'CAR_INST', 'LIV',\n",
       "        'ENE_01', 'ENE_02', 'ENE_03', 'ENE_04', 'ENE_05', 'ENE_06', 'ENE_07',\n",
       "        'ENE_08', 'ENE_09', 'ENE_10', 'ENE_11', 'ENE_12', 'DIC', 'FIC',\n",
       "        'SEMRED', 'DESCR', 'ARE_LOC', 'geometry'],\n",
       "       dtype='object'))"
      ]
     },
     "execution_count": 89,
     "metadata": {
      "tags": []
     },
     "output_type": "execute_result"
    }
   ],
   "source": [
    "ucbt = gpd.read_file(data_path, driver='FileGDB', layer='UCBT')\n",
    "ucbt['CONJ'] = ucbt['CONJ'].astype(int)\n",
    "ucbt.shape, ucbt.columns"
   ]
  },
  {
   "cell_type": "code",
   "execution_count": null,
   "metadata": {
    "colab": {},
    "colab_type": "code",
    "id": "50bT9pGQPxze"
   },
   "outputs": [],
   "source": [
    "ucbt_cod_id = ucbt.reset_index()\n",
    "ucbt_cod_id['COD_ID'] = ucbt_cod_id.index"
   ]
  },
  {
   "cell_type": "code",
   "execution_count": null,
   "metadata": {
    "colab": {},
    "colab_type": "code",
    "id": "WAONm-CyMM5j"
   },
   "outputs": [],
   "source": [
    "# Agrupando Variables\n",
    "\n",
    "ucbt['ENE_MED'] = ucbt[['ENE_01', 'ENE_02', 'ENE_03', 'ENE_04', 'ENE_05', 'ENE_06', 'ENE_07','ENE_08', 'ENE_09', 'ENE_10', 'ENE_11', 'ENE_12']].mean(axis=1)\n",
    "ucbt['ENE_STD'] = ucbt[['ENE_01', 'ENE_02', 'ENE_03', 'ENE_04', 'ENE_05', 'ENE_06', 'ENE_07','ENE_08', 'ENE_09', 'ENE_10', 'ENE_11', 'ENE_12']].std(axis=1)\n",
    "ucbt['ENE_MAX'] = ucbt[['ENE_01', 'ENE_02', 'ENE_03', 'ENE_04', 'ENE_05', 'ENE_06', 'ENE_07','ENE_08', 'ENE_09', 'ENE_10', 'ENE_11', 'ENE_12']].max(axis=1)\n",
    "\n",
    "\n",
    "ucbt_cod_id['ENE_MED'] = ucbt_cod_id[['ENE_01', 'ENE_02', 'ENE_03', 'ENE_04', 'ENE_05', 'ENE_06', 'ENE_07','ENE_08', 'ENE_09', 'ENE_10', 'ENE_11', 'ENE_12']].mean(axis=1)\n",
    "ucbt_cod_id['ENE_STD'] = ucbt_cod_id[['ENE_01', 'ENE_02', 'ENE_03', 'ENE_04', 'ENE_05', 'ENE_06', 'ENE_07','ENE_08', 'ENE_09', 'ENE_10', 'ENE_11', 'ENE_12']].std(axis=1)\n",
    "ucbt_cod_id['ENE_MAX'] = ucbt_cod_id[['ENE_01', 'ENE_02', 'ENE_03', 'ENE_04', 'ENE_05', 'ENE_06', 'ENE_07','ENE_08', 'ENE_09', 'ENE_10', 'ENE_11', 'ENE_12']].max(axis=1)"
   ]
  },
  {
   "cell_type": "markdown",
   "metadata": {
    "colab_type": "text",
    "id": "IME_Gu5SKlAa"
   },
   "source": [
    "### 1.2. Asegurar la Existencia de IDs o Claves Únicas"
   ]
  },
  {
   "cell_type": "code",
   "execution_count": null,
   "metadata": {
    "colab": {
     "base_uri": "https://localhost:8080/",
     "height": 85
    },
    "colab_type": "code",
    "executionInfo": {
     "elapsed": 29528,
     "status": "ok",
     "timestamp": 1599251041275,
     "user": {
      "displayName": "Joel de Andres",
      "photoUrl": "",
      "userId": "00836612501124861246"
     },
     "user_tz": 180
    },
    "id": "exIVuLLhIsi6",
    "outputId": "2a86f8b2-09e3-4b6e-f96d-246ffd6aa61f"
   },
   "outputs": [
    {
     "name": "stdout",
     "output_type": "stream",
     "text": [
      "True\n",
      "True\n",
      "True\n",
      "True\n"
     ]
    }
   ],
   "source": [
    "print(untrd['COD_ID'].is_unique)\n",
    "print(untrs['COD_ID'].is_unique)\n",
    "print(ssmt['COD_ID'].is_unique)\n",
    "print(segcon['COD_ID'].is_unique)"
   ]
  },
  {
   "cell_type": "markdown",
   "metadata": {
    "colab_type": "text",
    "id": "84JpQDVaKlAa"
   },
   "source": [
    "El siguiente paso implica chequear que no existen datos duplicados y que las claves, si existen, son únicas.\n",
    "\n",
    "Las claves únicas de las diferentes tablas es el COD_ID, como figura en la documentación. En el caso de la tabla UCBT fue eliminado por el proveedor de los datos por lo que asumiremos que los datos son únicos. Podriamos regenerar el COD_ID con un valor secuencial, pero como vamos a utilizar la tabla UNTRD como elementos de análisis no será necesario"
   ]
  },
  {
   "cell_type": "code",
   "execution_count": null,
   "metadata": {
    "colab": {
     "base_uri": "https://localhost:8080/",
     "height": 69
    },
    "colab_type": "code",
    "executionInfo": {
     "elapsed": 29511,
     "status": "ok",
     "timestamp": 1599251041275,
     "user": {
      "displayName": "Joel de Andres",
      "photoUrl": "",
      "userId": "00836612501124861246"
     },
     "user_tz": 180
    },
    "id": "z8jbCu2lKlAb",
    "outputId": "883d5f28-7e6d-4bb7-8dd2-179083144349"
   },
   "outputs": [
    {
     "data": {
      "text/html": [
       "<div>\n",
       "<style scoped>\n",
       "    .dataframe tbody tr th:only-of-type {\n",
       "        vertical-align: middle;\n",
       "    }\n",
       "\n",
       "    .dataframe tbody tr th {\n",
       "        vertical-align: top;\n",
       "    }\n",
       "\n",
       "    .dataframe thead th {\n",
       "        text-align: right;\n",
       "    }\n",
       "</style>\n",
       "<table border=\"1\" class=\"dataframe\">\n",
       "  <thead>\n",
       "    <tr style=\"text-align: right;\">\n",
       "      <th></th>\n",
       "      <th>COD_ID</th>\n",
       "      <th>DIST</th>\n",
       "      <th>PAC_1</th>\n",
       "      <th>PAC_2</th>\n",
       "      <th>PAC_3</th>\n",
       "      <th>FAS_CON_P</th>\n",
       "      <th>FAS_CON_S</th>\n",
       "      <th>FAS_CON_T</th>\n",
       "      <th>SIT_ATIV</th>\n",
       "      <th>TIP_UNID</th>\n",
       "      <th>POS</th>\n",
       "      <th>ATRB_PER</th>\n",
       "      <th>TEN_LIN_SE</th>\n",
       "      <th>CAP_ELO</th>\n",
       "      <th>CAP_CHA</th>\n",
       "      <th>TAP</th>\n",
       "      <th>CONF</th>\n",
       "      <th>POSTO</th>\n",
       "      <th>POT_NOM</th>\n",
       "      <th>PER_FER</th>\n",
       "      <th>PER_TOT</th>\n",
       "      <th>DAT_CON</th>\n",
       "      <th>CTMT</th>\n",
       "      <th>UNI_TR_S</th>\n",
       "      <th>SUB</th>\n",
       "      <th>CONJ</th>\n",
       "      <th>MUN</th>\n",
       "      <th>BANC</th>\n",
       "      <th>TIP_TRAFO</th>\n",
       "      <th>MRT</th>\n",
       "      <th>DESCR</th>\n",
       "      <th>ARE_LOC</th>\n",
       "      <th>geometry</th>\n",
       "    </tr>\n",
       "  </thead>\n",
       "  <tbody>\n",
       "  </tbody>\n",
       "</table>\n",
       "</div>"
      ],
      "text/plain": [
       "Empty GeoDataFrame\n",
       "Columns: [COD_ID, DIST, PAC_1, PAC_2, PAC_3, FAS_CON_P, FAS_CON_S, FAS_CON_T, SIT_ATIV, TIP_UNID, POS, ATRB_PER, TEN_LIN_SE, CAP_ELO, CAP_CHA, TAP, CONF, POSTO, POT_NOM, PER_FER, PER_TOT, DAT_CON, CTMT, UNI_TR_S, SUB, CONJ, MUN, BANC, TIP_TRAFO, MRT, DESCR, ARE_LOC, geometry]\n",
       "Index: []"
      ]
     },
     "execution_count": 93,
     "metadata": {
      "tags": []
     },
     "output_type": "execute_result"
    }
   ],
   "source": [
    "cod_id = 'COD_ID'\n",
    "untrd_duplicado_cod_id  = untrd[untrd[cod_id].duplicated(keep=False)]\n",
    "untrd_duplicado_cod_id"
   ]
  },
  {
   "cell_type": "code",
   "execution_count": null,
   "metadata": {
    "colab": {
     "base_uri": "https://localhost:8080/",
     "height": 69
    },
    "colab_type": "code",
    "executionInfo": {
     "elapsed": 29872,
     "status": "ok",
     "timestamp": 1599251041656,
     "user": {
      "displayName": "Joel de Andres",
      "photoUrl": "",
      "userId": "00836612501124861246"
     },
     "user_tz": 180
    },
    "id": "HaeYcaIFRCw0",
    "outputId": "28242fdc-8936-4249-a8f7-5d016edd4bb1"
   },
   "outputs": [
    {
     "data": {
      "text/html": [
       "<div>\n",
       "<style scoped>\n",
       "    .dataframe tbody tr th:only-of-type {\n",
       "        vertical-align: middle;\n",
       "    }\n",
       "\n",
       "    .dataframe tbody tr th {\n",
       "        vertical-align: top;\n",
       "    }\n",
       "\n",
       "    .dataframe thead th {\n",
       "        text-align: right;\n",
       "    }\n",
       "</style>\n",
       "<table border=\"1\" class=\"dataframe\">\n",
       "  <thead>\n",
       "    <tr style=\"text-align: right;\">\n",
       "      <th></th>\n",
       "      <th>COD_ID</th>\n",
       "      <th>SUB</th>\n",
       "      <th>BARR_1</th>\n",
       "      <th>BARR_2</th>\n",
       "      <th>BARR_3</th>\n",
       "      <th>PAC_1</th>\n",
       "      <th>PAC_2</th>\n",
       "      <th>PAC_3</th>\n",
       "      <th>DIST</th>\n",
       "      <th>FAS_CON_P</th>\n",
       "      <th>FAS_CON_S</th>\n",
       "      <th>FAS_CON_T</th>\n",
       "      <th>SIT_ATIV</th>\n",
       "      <th>TIP_UNID</th>\n",
       "      <th>POS</th>\n",
       "      <th>POT_NOM</th>\n",
       "      <th>POT_F01</th>\n",
       "      <th>POT_F02</th>\n",
       "      <th>PER_FER</th>\n",
       "      <th>PER_TOT</th>\n",
       "      <th>BANC</th>\n",
       "      <th>DAT_CON</th>\n",
       "      <th>CONJ</th>\n",
       "      <th>MUN</th>\n",
       "      <th>TIP_TRAFO</th>\n",
       "      <th>ALOC_PERD</th>\n",
       "      <th>ENES_01</th>\n",
       "      <th>ENES_02</th>\n",
       "      <th>ENES_03</th>\n",
       "      <th>ENES_04</th>\n",
       "      <th>ENES_05</th>\n",
       "      <th>ENES_06</th>\n",
       "      <th>ENES_07</th>\n",
       "      <th>ENES_08</th>\n",
       "      <th>ENES_09</th>\n",
       "      <th>ENES_10</th>\n",
       "      <th>ENES_11</th>\n",
       "      <th>ENES_12</th>\n",
       "      <th>ENET_01</th>\n",
       "      <th>ENET_02</th>\n",
       "      <th>ENET_03</th>\n",
       "      <th>ENET_04</th>\n",
       "      <th>ENET_05</th>\n",
       "      <th>ENET_06</th>\n",
       "      <th>ENET_07</th>\n",
       "      <th>ENET_08</th>\n",
       "      <th>ENET_09</th>\n",
       "      <th>ENET_10</th>\n",
       "      <th>ENET_11</th>\n",
       "      <th>ENET_12</th>\n",
       "      <th>DESCR</th>\n",
       "      <th>ARE_LOC</th>\n",
       "      <th>geometry</th>\n",
       "    </tr>\n",
       "  </thead>\n",
       "  <tbody>\n",
       "  </tbody>\n",
       "</table>\n",
       "</div>"
      ],
      "text/plain": [
       "Empty GeoDataFrame\n",
       "Columns: [COD_ID, SUB, BARR_1, BARR_2, BARR_3, PAC_1, PAC_2, PAC_3, DIST, FAS_CON_P, FAS_CON_S, FAS_CON_T, SIT_ATIV, TIP_UNID, POS, POT_NOM, POT_F01, POT_F02, PER_FER, PER_TOT, BANC, DAT_CON, CONJ, MUN, TIP_TRAFO, ALOC_PERD, ENES_01, ENES_02, ENES_03, ENES_04, ENES_05, ENES_06, ENES_07, ENES_08, ENES_09, ENES_10, ENES_11, ENES_12, ENET_01, ENET_02, ENET_03, ENET_04, ENET_05, ENET_06, ENET_07, ENET_08, ENET_09, ENET_10, ENET_11, ENET_12, DESCR, ARE_LOC, geometry]\n",
       "Index: []"
      ]
     },
     "execution_count": 94,
     "metadata": {
      "tags": []
     },
     "output_type": "execute_result"
    }
   ],
   "source": [
    "untrs_duplicado_cod_id  = untrs[untrs[cod_id].duplicated(keep=False)]\n",
    "untrs_duplicado_cod_id"
   ]
  },
  {
   "cell_type": "code",
   "execution_count": null,
   "metadata": {
    "colab": {
     "base_uri": "https://localhost:8080/",
     "height": 69
    },
    "colab_type": "code",
    "executionInfo": {
     "elapsed": 29850,
     "status": "ok",
     "timestamp": 1599251041657,
     "user": {
      "displayName": "Joel de Andres",
      "photoUrl": "",
      "userId": "00836612501124861246"
     },
     "user_tz": 180
    },
    "id": "kLyWG8RRRD20",
    "outputId": "41c1def7-d654-4a3f-adfb-9b598c12f5f7"
   },
   "outputs": [
    {
     "data": {
      "text/html": [
       "<div>\n",
       "<style scoped>\n",
       "    .dataframe tbody tr th:only-of-type {\n",
       "        vertical-align: middle;\n",
       "    }\n",
       "\n",
       "    .dataframe tbody tr th {\n",
       "        vertical-align: top;\n",
       "    }\n",
       "\n",
       "    .dataframe thead th {\n",
       "        text-align: right;\n",
       "    }\n",
       "</style>\n",
       "<table border=\"1\" class=\"dataframe\">\n",
       "  <thead>\n",
       "    <tr style=\"text-align: right;\">\n",
       "      <th></th>\n",
       "      <th>COD_ID</th>\n",
       "      <th>PN_CON_1</th>\n",
       "      <th>PN_CON_2</th>\n",
       "      <th>CTMT</th>\n",
       "      <th>UNI_TR_S</th>\n",
       "      <th>SUB</th>\n",
       "      <th>CONJ</th>\n",
       "      <th>DIST</th>\n",
       "      <th>PAC_1</th>\n",
       "      <th>PAC_2</th>\n",
       "      <th>FAS_CON</th>\n",
       "      <th>TIP_CND</th>\n",
       "      <th>POS</th>\n",
       "      <th>ODI_FAS</th>\n",
       "      <th>TI_FAS</th>\n",
       "      <th>ODI_NEU</th>\n",
       "      <th>TI_NEU</th>\n",
       "      <th>COMP</th>\n",
       "      <th>DESCR</th>\n",
       "      <th>SITCONTFAS</th>\n",
       "      <th>SITCONTNEU</th>\n",
       "      <th>ARE_LOC</th>\n",
       "      <th>Shape_Length</th>\n",
       "      <th>geometry</th>\n",
       "    </tr>\n",
       "  </thead>\n",
       "  <tbody>\n",
       "  </tbody>\n",
       "</table>\n",
       "</div>"
      ],
      "text/plain": [
       "Empty GeoDataFrame\n",
       "Columns: [COD_ID, PN_CON_1, PN_CON_2, CTMT, UNI_TR_S, SUB, CONJ, DIST, PAC_1, PAC_2, FAS_CON, TIP_CND, POS, ODI_FAS, TI_FAS, ODI_NEU, TI_NEU, COMP, DESCR, SITCONTFAS, SITCONTNEU, ARE_LOC, Shape_Length, geometry]\n",
       "Index: []"
      ]
     },
     "execution_count": 95,
     "metadata": {
      "tags": []
     },
     "output_type": "execute_result"
    }
   ],
   "source": [
    "ssmt_duplicado_cod_id  = ssmt[ssmt[cod_id].duplicated(keep=False)]\n",
    "ssmt_duplicado_cod_id"
   ]
  },
  {
   "cell_type": "code",
   "execution_count": null,
   "metadata": {
    "colab": {
     "base_uri": "https://localhost:8080/",
     "height": 69
    },
    "colab_type": "code",
    "executionInfo": {
     "elapsed": 29831,
     "status": "ok",
     "timestamp": 1599251041658,
     "user": {
      "displayName": "Joel de Andres",
      "photoUrl": "",
      "userId": "00836612501124861246"
     },
     "user_tz": 180
    },
    "id": "P_OwGQ77RE4j",
    "outputId": "9c828d5e-a4db-4586-e6f6-5d010e58f49a"
   },
   "outputs": [
    {
     "data": {
      "text/html": [
       "<div>\n",
       "<style scoped>\n",
       "    .dataframe tbody tr th:only-of-type {\n",
       "        vertical-align: middle;\n",
       "    }\n",
       "\n",
       "    .dataframe tbody tr th {\n",
       "        vertical-align: top;\n",
       "    }\n",
       "\n",
       "    .dataframe thead th {\n",
       "        text-align: right;\n",
       "    }\n",
       "</style>\n",
       "<table border=\"1\" class=\"dataframe\">\n",
       "  <thead>\n",
       "    <tr style=\"text-align: right;\">\n",
       "      <th></th>\n",
       "      <th>COD_ID</th>\n",
       "      <th>DIST</th>\n",
       "      <th>GEOM_CAB</th>\n",
       "      <th>FORM_CAB</th>\n",
       "      <th>MAT_FAS_1</th>\n",
       "      <th>MAT_FAS_2</th>\n",
       "      <th>MAT_FAS_3</th>\n",
       "      <th>MAT_NEU</th>\n",
       "      <th>ISO_FAS_1</th>\n",
       "      <th>ISO_FAS_2</th>\n",
       "      <th>ISO_FAS_3</th>\n",
       "      <th>ISO_NEU</th>\n",
       "      <th>CND_FAS</th>\n",
       "      <th>R1</th>\n",
       "      <th>X1</th>\n",
       "      <th>FTRCNV</th>\n",
       "      <th>CNOM</th>\n",
       "      <th>CMAX</th>\n",
       "      <th>CM_FAS</th>\n",
       "      <th>TUC_FAS</th>\n",
       "      <th>A1_FAS</th>\n",
       "      <th>A2_FAS</th>\n",
       "      <th>A3_FAS</th>\n",
       "      <th>A4_FAS</th>\n",
       "      <th>A5_FAS</th>\n",
       "      <th>A6_FAS</th>\n",
       "      <th>CM_NEU</th>\n",
       "      <th>TUC_NEU</th>\n",
       "      <th>A1_NEU</th>\n",
       "      <th>A2_NEU</th>\n",
       "      <th>A3_NEU</th>\n",
       "      <th>A4_NEU</th>\n",
       "      <th>A5_NEU</th>\n",
       "      <th>A6_NEU</th>\n",
       "      <th>DESCR</th>\n",
       "      <th>BIT_FAS_1</th>\n",
       "      <th>BIT_FAS_2</th>\n",
       "      <th>BIT_FAS_3</th>\n",
       "      <th>BIT_NEU</th>\n",
       "      <th>geometry</th>\n",
       "    </tr>\n",
       "  </thead>\n",
       "  <tbody>\n",
       "  </tbody>\n",
       "</table>\n",
       "</div>"
      ],
      "text/plain": [
       "Empty GeoDataFrame\n",
       "Columns: [COD_ID, DIST, GEOM_CAB, FORM_CAB, MAT_FAS_1, MAT_FAS_2, MAT_FAS_3, MAT_NEU, ISO_FAS_1, ISO_FAS_2, ISO_FAS_3, ISO_NEU, CND_FAS, R1, X1, FTRCNV, CNOM, CMAX, CM_FAS, TUC_FAS, A1_FAS, A2_FAS, A3_FAS, A4_FAS, A5_FAS, A6_FAS, CM_NEU, TUC_NEU, A1_NEU, A2_NEU, A3_NEU, A4_NEU, A5_NEU, A6_NEU, DESCR, BIT_FAS_1, BIT_FAS_2, BIT_FAS_3, BIT_NEU, geometry]\n",
       "Index: []"
      ]
     },
     "execution_count": 96,
     "metadata": {
      "tags": []
     },
     "output_type": "execute_result"
    }
   ],
   "source": [
    "segcon_duplicado_cod_id  = segcon[segcon[cod_id].duplicated(keep=False)]\n",
    "segcon_duplicado_cod_id"
   ]
  },
  {
   "cell_type": "code",
   "execution_count": null,
   "metadata": {
    "colab": {
     "base_uri": "https://localhost:8080/",
     "height": 69
    },
    "colab_type": "code",
    "executionInfo": {
     "elapsed": 29814,
     "status": "ok",
     "timestamp": 1599251041659,
     "user": {
      "displayName": "Joel de Andres",
      "photoUrl": "",
      "userId": "00836612501124861246"
     },
     "user_tz": 180
    },
    "id": "U706-9lvRFmD",
    "outputId": "863cef1d-6653-4d1a-9429-114325a99184"
   },
   "outputs": [
    {
     "data": {
      "text/html": [
       "<div>\n",
       "<style scoped>\n",
       "    .dataframe tbody tr th:only-of-type {\n",
       "        vertical-align: middle;\n",
       "    }\n",
       "\n",
       "    .dataframe tbody tr th {\n",
       "        vertical-align: top;\n",
       "    }\n",
       "\n",
       "    .dataframe thead th {\n",
       "        text-align: right;\n",
       "    }\n",
       "</style>\n",
       "<table border=\"1\" class=\"dataframe\">\n",
       "  <thead>\n",
       "    <tr style=\"text-align: right;\">\n",
       "      <th></th>\n",
       "      <th>index</th>\n",
       "      <th>DIST</th>\n",
       "      <th>PAC</th>\n",
       "      <th>PN_CON</th>\n",
       "      <th>UNI_TR_D</th>\n",
       "      <th>CTMT</th>\n",
       "      <th>UNI_TR_S</th>\n",
       "      <th>SUB</th>\n",
       "      <th>CONJ</th>\n",
       "      <th>MUN</th>\n",
       "      <th>BRR</th>\n",
       "      <th>CEP</th>\n",
       "      <th>CLAS_SUB</th>\n",
       "      <th>CNAE</th>\n",
       "      <th>TIP_CC</th>\n",
       "      <th>FAS_CON</th>\n",
       "      <th>GRU_TEN</th>\n",
       "      <th>TEN_FORN</th>\n",
       "      <th>GRU_TAR</th>\n",
       "      <th>SIT_ATIV</th>\n",
       "      <th>DAT_CON</th>\n",
       "      <th>CAR_INST</th>\n",
       "      <th>LIV</th>\n",
       "      <th>ENE_01</th>\n",
       "      <th>ENE_02</th>\n",
       "      <th>ENE_03</th>\n",
       "      <th>ENE_04</th>\n",
       "      <th>ENE_05</th>\n",
       "      <th>ENE_06</th>\n",
       "      <th>ENE_07</th>\n",
       "      <th>ENE_08</th>\n",
       "      <th>ENE_09</th>\n",
       "      <th>ENE_10</th>\n",
       "      <th>ENE_11</th>\n",
       "      <th>ENE_12</th>\n",
       "      <th>DIC</th>\n",
       "      <th>FIC</th>\n",
       "      <th>SEMRED</th>\n",
       "      <th>DESCR</th>\n",
       "      <th>ARE_LOC</th>\n",
       "      <th>geometry</th>\n",
       "      <th>COD_ID</th>\n",
       "      <th>ENE_MED</th>\n",
       "      <th>ENE_STD</th>\n",
       "      <th>ENE_MAX</th>\n",
       "    </tr>\n",
       "  </thead>\n",
       "  <tbody>\n",
       "  </tbody>\n",
       "</table>\n",
       "</div>"
      ],
      "text/plain": [
       "Empty GeoDataFrame\n",
       "Columns: [index, DIST, PAC, PN_CON, UNI_TR_D, CTMT, UNI_TR_S, SUB, CONJ, MUN, BRR, CEP, CLAS_SUB, CNAE, TIP_CC, FAS_CON, GRU_TEN, TEN_FORN, GRU_TAR, SIT_ATIV, DAT_CON, CAR_INST, LIV, ENE_01, ENE_02, ENE_03, ENE_04, ENE_05, ENE_06, ENE_07, ENE_08, ENE_09, ENE_10, ENE_11, ENE_12, DIC, FIC, SEMRED, DESCR, ARE_LOC, geometry, COD_ID, ENE_MED, ENE_STD, ENE_MAX]\n",
       "Index: []"
      ]
     },
     "execution_count": 97,
     "metadata": {
      "tags": []
     },
     "output_type": "execute_result"
    }
   ],
   "source": [
    "ucbt_duplicado_cod_id  = ucbt_cod_id[ucbt_cod_id[cod_id].duplicated(keep=False)]\n",
    "ucbt_duplicado_cod_id"
   ]
  },
  {
   "cell_type": "code",
   "execution_count": null,
   "metadata": {
    "colab": {
     "base_uri": "https://localhost:8080/",
     "height": 49
    },
    "colab_type": "code",
    "executionInfo": {
     "elapsed": 29798,
     "status": "ok",
     "timestamp": 1599251041660,
     "user": {
      "displayName": "Joel de Andres",
      "photoUrl": "",
      "userId": "00836612501124861246"
     },
     "user_tz": 180
    },
    "id": "pdRiZOkn7EjF",
    "outputId": "bfe347aa-996d-42ec-8938-053b4bcf3c2f"
   },
   "outputs": [
    {
     "data": {
      "text/html": [
       "<div>\n",
       "<style scoped>\n",
       "    .dataframe tbody tr th:only-of-type {\n",
       "        vertical-align: middle;\n",
       "    }\n",
       "\n",
       "    .dataframe tbody tr th {\n",
       "        vertical-align: top;\n",
       "    }\n",
       "\n",
       "    .dataframe thead th {\n",
       "        text-align: right;\n",
       "    }\n",
       "</style>\n",
       "<table border=\"1\" class=\"dataframe\">\n",
       "  <thead>\n",
       "    <tr style=\"text-align: right;\">\n",
       "      <th></th>\n",
       "      <th>COD_ID</th>\n",
       "      <th>DIST</th>\n",
       "      <th>NOM</th>\n",
       "      <th>SIST_INTE</th>\n",
       "      <th>SIST_SUBT</th>\n",
       "      <th>DESCR</th>\n",
       "      <th>Shape_Length</th>\n",
       "      <th>Shape_Area</th>\n",
       "      <th>geometry</th>\n",
       "    </tr>\n",
       "  </thead>\n",
       "  <tbody>\n",
       "  </tbody>\n",
       "</table>\n",
       "</div>"
      ],
      "text/plain": [
       "Empty GeoDataFrame\n",
       "Columns: [COD_ID, DIST, NOM, SIST_INTE, SIST_SUBT, DESCR, Shape_Length, Shape_Area, geometry]\n",
       "Index: []"
      ]
     },
     "execution_count": 98,
     "metadata": {
      "tags": []
     },
     "output_type": "execute_result"
    }
   ],
   "source": [
    "conj_duplicado_cod_id  = conj[conj[cod_id].duplicated(keep=False)]\n",
    "conj_duplicado_cod_id"
   ]
  },
  {
   "cell_type": "markdown",
   "metadata": {
    "colab_type": "text",
    "id": "s91Us4J1KlAe"
   },
   "source": [
    "### 1.3. Despersonalizar Datos y Guardarlos en un Nuevo Archivo"
   ]
  },
  {
   "cell_type": "markdown",
   "metadata": {
    "colab_type": "text",
    "id": "ifmtFNa7KlAf"
   },
   "source": [
    "En este caso, no es necesario despersonalizar ningún dato, dado que los mismos ya se encuentran despersonalizados."
   ]
  },
  {
   "cell_type": "markdown",
   "metadata": {
    "colab_type": "text",
    "id": "hElJ0LSnKlAf"
   },
   "source": [
    "### 1.4. Nunca Modificar los Datos Crudos u Originales"
   ]
  },
  {
   "cell_type": "markdown",
   "metadata": {
    "colab_type": "text",
    "id": "b-h8C7-8KlAg"
   },
   "source": [
    "Al finalizar la limpieza, deberán guardar el dataset resultante, para asegurarse de no modificar los datos originales."
   ]
  },
  {
   "cell_type": "markdown",
   "metadata": {
    "colab_type": "text",
    "id": "j1BNT1TVM-Pn"
   },
   "source": [
    "Creamos 2 dataset para evitar modificar el original 1 con el nombre de que esta en un dir DatasetOrigin/data_path_origin.\n",
    "\n",
    "El que usaremos para modificar que es el data_path en el dir Dataset/"
   ]
  },
  {
   "cell_type": "markdown",
   "metadata": {
    "colab_type": "text",
    "id": "YobsDuwJKlAh"
   },
   "source": [
    "## 2. Pasos de Limpieza Necesarios\n",
    "\n",
    "### 2.1. Etiquetas de Variables/Columnas y Problemas de Codificación/Encoding"
   ]
  },
  {
   "cell_type": "markdown",
   "metadata": {
    "colab_type": "text",
    "id": "P7Qasbr8KlAh"
   },
   "source": [
    "El geopandas automáticamente detecta el encoding de los datos. "
   ]
  },
  {
   "cell_type": "markdown",
   "metadata": {
    "colab_type": "text",
    "id": "bUYqhLQVKlAi"
   },
   "source": [
    "### 2.2. Tratamiento de Valores Faltantes"
   ]
  },
  {
   "cell_type": "markdown",
   "metadata": {
    "colab_type": "text",
    "id": "phqH33gqKlAi"
   },
   "source": [
    "Para analizar los valores faltantes, primero deberán saber cuántos existen por campo y cuánto representan del total:"
   ]
  },
  {
   "cell_type": "code",
   "execution_count": null,
   "metadata": {
    "colab": {
     "base_uri": "https://localhost:8080/",
     "height": 374
    },
    "colab_type": "code",
    "executionInfo": {
     "elapsed": 30714,
     "status": "ok",
     "timestamp": 1599251042594,
     "user": {
      "displayName": "Joel de Andres",
      "photoUrl": "",
      "userId": "00836612501124861246"
     },
     "user_tz": 180
    },
    "id": "6XSjNVPzQHGZ",
    "outputId": "885de431-818a-467f-9f3a-c020b61206cd"
   },
   "outputs": [
    {
     "name": "stdout",
     "output_type": "stream",
     "text": [
      "\n",
      "Valores null de UNTRD : Series([], dtype: int64)\n",
      "No tiene valores Nulls\n",
      "\n",
      "Valores null de UNTRS : Series([], dtype: int64)\n",
      "No tiene valores Nulls\n",
      "\n",
      "Valores null de SSMT : Series([], dtype: int64)\n",
      "No tiene valores Nulls\n",
      "\n",
      "Valores null de SEGCON : geometry    90\n",
      "dtype: int64\n",
      "Cantidad de registros  : 90\n",
      "Cantidad de registros Null : 90\n",
      "Representa el % : 100.0\n",
      "\n",
      "Valores null de UCBT : Series([], dtype: int64)\n",
      "No tiene valores Nulls\n",
      "\n",
      "Valores null de CONJ : Series([], dtype: int64)\n",
      "No tiene valores Nulls\n"
     ]
    }
   ],
   "source": [
    "# get the number of missing data points per column\n",
    "list_dataset = [{\"name\":\"UNTRD\",\"data_set\":untrd},\n",
    "{\"name\":\"UNTRS\",\"data_set\":untrs},\n",
    "{\"name\":\"SSMT\",\"data_set\":ssmt}, \n",
    "{\"name\":\"SEGCON\",\"data_set\":segcon}, \n",
    "{\"name\":\"UCBT\",\"data_set\":ucbt_cod_id}, \n",
    "{\"name\":\"CONJ\",\"data_set\":conj}]\n",
    "\n",
    "for dataset in list_dataset:\n",
    "  missing_value = dataset.get(\"data_set\").isnull().sum()\n",
    "  count_value = dataset.get(\"data_set\").COD_ID.count()\n",
    "  print(\"\\nValores null de {} : {}\".format(dataset.get(\"name\"),missing_value[missing_value > 0]))\n",
    "  if len( missing_value[missing_value > 0]) > 0 :\n",
    "    for i in missing_value[missing_value > 0]:\n",
    "      print(\"Cantidad de registros  : {}\".format(count_value))\n",
    "      print(\"Cantidad de registros Null : {}\".format(i))\n",
    "      print(\"Representa el % : {}\".format((i*100)/count_value))\n",
    "  else:\n",
    "    print(\"No tiene valores Nulls\")\n",
    "\n"
   ]
  },
  {
   "cell_type": "markdown",
   "metadata": {
    "colab_type": "text",
    "id": "B_2hwPe-JWmA"
   },
   "source": [
    "En la tabla de SEGCON existen valores null en el campo geometry en la totalidad de los registros."
   ]
  },
  {
   "cell_type": "markdown",
   "metadata": {
    "colab_type": "text",
    "id": "hy3-B2yxKlAj"
   },
   "source": [
    "### 2.3. Codificación de Variables Categóricas"
   ]
  },
  {
   "cell_type": "markdown",
   "metadata": {
    "colab_type": "text",
    "id": "53_Ma_U6KlAk"
   },
   "source": [
    "Aplica?"
   ]
  },
  {
   "cell_type": "code",
   "execution_count": null,
   "metadata": {
    "colab": {},
    "colab_type": "code",
    "id": "wDhdU97jKlAk"
   },
   "outputs": [],
   "source": [
    "datasets = {'untrd': untrd, 'ucbt': ucbt}\n",
    "columns_to_encode = ['ARE_LOC', 'GRU_TAR']\n",
    "\n",
    "for key, dataset in datasets.items():\n",
    "    for column in columns_to_encode:\n",
    "        if column in dataset:\n",
    "            le = preprocessing.LabelEncoder()\n",
    "            le.fit(dataset[column])\n",
    "            dataset[column] = le.transform(dataset[column])"
   ]
  },
  {
   "cell_type": "markdown",
   "metadata": {
    "colab_type": "text",
    "id": "gq5O--OuKlAn"
   },
   "source": [
    "### 2.4. No Cambiar los Nombres de las Variables de la Fuente de Origen"
   ]
  },
  {
   "cell_type": "markdown",
   "metadata": {
    "colab_type": "text",
    "id": "swk4rI11KlAq"
   },
   "source": [
    "### 2.5. Verificación de Consistencia de Datos"
   ]
  },
  {
   "cell_type": "markdown",
   "metadata": {
    "colab_type": "text",
    "id": "867pKRdWKlAr"
   },
   "source": [
    "Este es el paso más analítico, en donde se deben aplicar reglas de integridad."
   ]
  },
  {
   "cell_type": "markdown",
   "metadata": {
    "colab_type": "text",
    "id": "37yoXuC7KeN0"
   },
   "source": [
    "Si se eliminana lo valores NaN que pasa con los registros de segcon? "
   ]
  },
  {
   "cell_type": "code",
   "execution_count": null,
   "metadata": {
    "colab": {},
    "colab_type": "code",
    "id": "Kdvw5tAHKlAs"
   },
   "outputs": [],
   "source": [
    "untrd = untrd.dropna()\n",
    "untrs = untrs.dropna()\n",
    "ssmt = ssmt.dropna()\n",
    "#segcon = segcon.dropna()\n",
    "ucbt = ucbt.dropna()\n",
    "conj = conj.dropna()"
   ]
  },
  {
   "cell_type": "markdown",
   "metadata": {
    "colab_type": "text",
    "id": "SjlX06FzKlAw"
   },
   "source": [
    "### 2.6. Identificar y Documentar Valores Atípicos/Outliers"
   ]
  },
  {
   "cell_type": "markdown",
   "metadata": {
    "colab_type": "text",
    "id": "1UtPpdHPKlAw"
   },
   "source": [
    "Calcular estadísticos."
   ]
  },
  {
   "cell_type": "code",
   "execution_count": null,
   "metadata": {
    "colab": {
     "base_uri": "https://localhost:8080/",
     "height": 136
    },
    "colab_type": "code",
    "executionInfo": {
     "elapsed": 31442,
     "status": "ok",
     "timestamp": 1599251043348,
     "user": {
      "displayName": "Joel de Andres",
      "photoUrl": "",
      "userId": "00836612501124861246"
     },
     "user_tz": 180
    },
    "id": "7WqT1sFQKlAx",
    "outputId": "92a381f2-a739-49b7-cc0b-6ac2a4a546aa"
   },
   "outputs": [
    {
     "name": "stdout",
     "output_type": "stream",
     "text": [
      "Dataset:  untrd\n",
      "------------------------------------------------\n",
      "Dataset:  ucbt\n",
      "Cantidad de outliers para la variable  FIC 12360\n",
      "Cantidad de outliers para la variable  DIC 15122\n",
      "Cantidad de outliers para la variable  ENE_MED 8363\n",
      "------------------------------------------------\n"
     ]
    }
   ],
   "source": [
    "def find_outliers(dataset, column_name):\n",
    "    interesting_col = dataset[column_name]\n",
    "    CI =  (interesting_col.quantile(0.75)-interesting_col.quantile(0.25))\n",
    "    mask_outlier = (\n",
    "        np.abs(interesting_col - interesting_col.median()) >= (1.5 * CI))\n",
    "    return dataset[mask_outlier]\n",
    "\n",
    "\n",
    "main_statisticians = ['FIC', 'DIC', 'ENE_MED']\n",
    "\n",
    "outliers = []\n",
    "for key, dataset in datasets.items():\n",
    "    print(\"Dataset: \", key)\n",
    "    for column in main_statisticians:\n",
    "        if column in dataset:\n",
    "            outliers = find_outliers(dataset, column)\n",
    "            row_quantity = dataset.shape[0]\n",
    "            print(\"Cantidad de outliers para la variable \", column, len(outliers))\n",
    "    print(\"------------------------------------------------\")"
   ]
  },
  {
   "cell_type": "code",
   "execution_count": null,
   "metadata": {
    "colab": {},
    "colab_type": "code",
    "id": "q8dGyQYULetR"
   },
   "outputs": [],
   "source": [
    "# Procedemos a limpiar los outliers para la layer ucbt\n",
    "def clean_outliers(dataset, column_name):\n",
    "    interesting_col = dataset[column_name]\n",
    "    CI =  (interesting_col.quantile(0.75)-interesting_col.quantile(0.25))\n",
    "    mask_outlier = (\n",
    "        np.abs(interesting_col - interesting_col.median()) <= (1.5 * CI))\n",
    "    return dataset[mask_outlier]\n",
    "\n",
    "\n",
    "for column in main_statisticians:\n",
    "    ucbt_without_outliers = clean_outliers(ucbt, column)\n",
    "datasets['ucbt'] = ucbt_without_outliers\n"
   ]
  },
  {
   "cell_type": "markdown",
   "metadata": {
    "colab_type": "text",
    "id": "DunRUVyWKlA0"
   },
   "source": [
    "### 2.7. Evaluar Cómo Comprimir los Datos Para su Almacenamiento Más Eficiente"
   ]
  },
  {
   "cell_type": "markdown",
   "metadata": {
    "colab_type": "text",
    "id": "fnhspGqmKlA5"
   },
   "source": [
    "### 2.8. Guardar el Set de Datos con un Nombre Informativo"
   ]
  },
  {
   "cell_type": "markdown",
   "metadata": {
    "colab_type": "text",
    "id": "HTU8XpqEKlA8"
   },
   "source": [
    "## 3. Pasos de Limpieza Deseables\n",
    "\n",
    "### 3.1. Ordenar Variables/Columnas"
   ]
  },
  {
   "cell_type": "markdown",
   "metadata": {
    "colab_type": "text",
    "id": "cA2kIacbKlA-"
   },
   "source": [
    "### 3.2. Quitar Variables/Columnas Irrelevantes"
   ]
  },
  {
   "cell_type": "markdown",
   "metadata": {
    "colab_type": "text",
    "id": "ImEQRv6YKlA_"
   },
   "source": [
    "Tenemos alguna en este caso?"
   ]
  },
  {
   "cell_type": "code",
   "execution_count": null,
   "metadata": {
    "colab": {
     "base_uri": "https://localhost:8080/",
     "height": 122
    },
    "colab_type": "code",
    "executionInfo": {
     "elapsed": 32074,
     "status": "ok",
     "timestamp": 1599251044006,
     "user": {
      "displayName": "Joel de Andres",
      "photoUrl": "",
      "userId": "00836612501124861246"
     },
     "user_tz": 180
    },
    "id": "iEg30qxJKlA_",
    "outputId": "d1f22044-7737-4fff-fb44-fa34486faac1"
   },
   "outputs": [
    {
     "name": "stderr",
     "output_type": "stream",
     "text": [
      "/usr/local/lib/python3.6/dist-packages/pandas/core/frame.py:3997: SettingWithCopyWarning: \n",
      "A value is trying to be set on a copy of a slice from a DataFrame\n",
      "\n",
      "See the caveats in the documentation: https://pandas.pydata.org/pandas-docs/stable/user_guide/indexing.html#returning-a-view-versus-a-copy\n",
      "  errors=errors,\n"
     ]
    }
   ],
   "source": [
    "datasets['ucbt'].drop(datasets['ucbt'].columns.difference(['GRU_TAR', 'UNI_TR_D', 'UNI_TR_S', 'DIC', 'FIC', 'ENE_MED', 'ENE_MAX']), 1, inplace=True)"
   ]
  },
  {
   "cell_type": "code",
   "execution_count": null,
   "metadata": {
    "colab": {},
    "colab_type": "code",
    "id": "DxIWirGVL8F3"
   },
   "outputs": [],
   "source": [
    "datasets['untrd'].drop(datasets['untrd'].columns.difference(['COD_ID', 'UNI_TR_S', 'ARE_LOC', 'geometry']), 1, inplace=True)"
   ]
  },
  {
   "cell_type": "markdown",
   "metadata": {
    "colab_type": "text",
    "id": "m4LQCNG0KlBC"
   },
   "source": [
    "### 3.3. Renombrar Variables de Grillas"
   ]
  },
  {
   "cell_type": "markdown",
   "metadata": {
    "colab_type": "text",
    "id": "eXSYGgW5KlBE"
   },
   "source": [
    "### 3.4. Categorizar Variables que Contengan “Otros”"
   ]
  },
  {
   "cell_type": "markdown",
   "metadata": {
    "colab_type": "text",
    "id": "B_LvczNvKlBJ"
   },
   "source": [
    "### 3.5. Agregar Metadata a los Datos"
   ]
  },
  {
   "cell_type": "markdown",
   "metadata": {
    "colab_type": "text",
    "id": "mIR-aM-uKlBJ"
   },
   "source": [
    "Cuando y como fueron obtenidos, limpieza realizada, decisiones implementadas, asunciones, etc."
   ]
  },
  {
   "cell_type": "markdown",
   "metadata": {
    "colab_type": "text",
    "id": "W3tPmXIpKlBM"
   },
   "source": [
    "## II. Análisis  Contenido"
   ]
  },
  {
   "cell_type": "markdown",
   "metadata": {
    "colab_type": "text",
    "id": "BNSAWIJbKlBM"
   },
   "source": [
    "### 1. Features Tipo Objetos"
   ]
  },
  {
   "cell_type": "code",
   "execution_count": null,
   "metadata": {
    "colab": {
     "base_uri": "https://localhost:8080/",
     "height": 419
    },
    "colab_type": "code",
    "executionInfo": {
     "elapsed": 32605,
     "status": "ok",
     "timestamp": 1599251044560,
     "user": {
      "displayName": "Joel de Andres",
      "photoUrl": "",
      "userId": "00836612501124861246"
     },
     "user_tz": 180
    },
    "id": "XrC9RnUbMDZu",
    "outputId": "b1c47a90-6f70-41ff-b6f0-d018fca472d9"
   },
   "outputs": [
    {
     "data": {
      "text/html": [
       "<div>\n",
       "<style scoped>\n",
       "    .dataframe tbody tr th:only-of-type {\n",
       "        vertical-align: middle;\n",
       "    }\n",
       "\n",
       "    .dataframe tbody tr th {\n",
       "        vertical-align: top;\n",
       "    }\n",
       "\n",
       "    .dataframe thead th {\n",
       "        text-align: right;\n",
       "    }\n",
       "</style>\n",
       "<table border=\"1\" class=\"dataframe\">\n",
       "  <thead>\n",
       "    <tr style=\"text-align: right;\">\n",
       "      <th></th>\n",
       "      <th>UNI_TR_D</th>\n",
       "      <th>GRU_TAR</th>\n",
       "      <th>DIC</th>\n",
       "      <th>FIC</th>\n",
       "      <th>ENE_MED</th>\n",
       "      <th>ENE_MAX</th>\n",
       "    </tr>\n",
       "  </thead>\n",
       "  <tbody>\n",
       "    <tr>\n",
       "      <th>0</th>\n",
       "      <td></td>\n",
       "      <td>1</td>\n",
       "      <td>36.66</td>\n",
       "      <td>10.0</td>\n",
       "      <td>29.750000</td>\n",
       "      <td>2890.0</td>\n",
       "    </tr>\n",
       "    <tr>\n",
       "      <th>1</th>\n",
       "      <td>101415715</td>\n",
       "      <td>1</td>\n",
       "      <td>76.55</td>\n",
       "      <td>28.0</td>\n",
       "      <td>97.791667</td>\n",
       "      <td>372.0</td>\n",
       "    </tr>\n",
       "    <tr>\n",
       "      <th>2</th>\n",
       "      <td>102321736</td>\n",
       "      <td>1</td>\n",
       "      <td>17.18</td>\n",
       "      <td>7.0</td>\n",
       "      <td>1.000000</td>\n",
       "      <td>5.0</td>\n",
       "    </tr>\n",
       "    <tr>\n",
       "      <th>3</th>\n",
       "      <td>103455355</td>\n",
       "      <td>1</td>\n",
       "      <td>8.31</td>\n",
       "      <td>7.0</td>\n",
       "      <td>91.333333</td>\n",
       "      <td>116.0</td>\n",
       "    </tr>\n",
       "    <tr>\n",
       "      <th>4</th>\n",
       "      <td>105138826</td>\n",
       "      <td>1</td>\n",
       "      <td>16.10</td>\n",
       "      <td>12.0</td>\n",
       "      <td>13.583333</td>\n",
       "      <td>35.0</td>\n",
       "    </tr>\n",
       "    <tr>\n",
       "      <th>...</th>\n",
       "      <td>...</td>\n",
       "      <td>...</td>\n",
       "      <td>...</td>\n",
       "      <td>...</td>\n",
       "      <td>...</td>\n",
       "      <td>...</td>\n",
       "    </tr>\n",
       "    <tr>\n",
       "      <th>3331</th>\n",
       "      <td>92651766</td>\n",
       "      <td>1</td>\n",
       "      <td>14.10</td>\n",
       "      <td>6.0</td>\n",
       "      <td>2.300000</td>\n",
       "      <td>57.0</td>\n",
       "    </tr>\n",
       "    <tr>\n",
       "      <th>3332</th>\n",
       "      <td>96872663</td>\n",
       "      <td>1</td>\n",
       "      <td>63.58</td>\n",
       "      <td>20.0</td>\n",
       "      <td>8.083333</td>\n",
       "      <td>30.0</td>\n",
       "    </tr>\n",
       "    <tr>\n",
       "      <th>3333</th>\n",
       "      <td>96997174</td>\n",
       "      <td>1</td>\n",
       "      <td>59.51</td>\n",
       "      <td>18.0</td>\n",
       "      <td>36.916667</td>\n",
       "      <td>49.0</td>\n",
       "    </tr>\n",
       "    <tr>\n",
       "      <th>3334</th>\n",
       "      <td>97134637</td>\n",
       "      <td>1</td>\n",
       "      <td>20.91</td>\n",
       "      <td>11.0</td>\n",
       "      <td>112.416667</td>\n",
       "      <td>221.0</td>\n",
       "    </tr>\n",
       "    <tr>\n",
       "      <th>3335</th>\n",
       "      <td>99418993</td>\n",
       "      <td>1</td>\n",
       "      <td>34.43</td>\n",
       "      <td>12.0</td>\n",
       "      <td>125.833333</td>\n",
       "      <td>346.0</td>\n",
       "    </tr>\n",
       "  </tbody>\n",
       "</table>\n",
       "<p>3336 rows × 6 columns</p>\n",
       "</div>"
      ],
      "text/plain": [
       "       UNI_TR_D  GRU_TAR    DIC   FIC     ENE_MED  ENE_MAX\n",
       "0                      1  36.66  10.0   29.750000   2890.0\n",
       "1     101415715        1  76.55  28.0   97.791667    372.0\n",
       "2     102321736        1  17.18   7.0    1.000000      5.0\n",
       "3     103455355        1   8.31   7.0   91.333333    116.0\n",
       "4     105138826        1  16.10  12.0   13.583333     35.0\n",
       "...         ...      ...    ...   ...         ...      ...\n",
       "3331   92651766        1  14.10   6.0    2.300000     57.0\n",
       "3332   96872663        1  63.58  20.0    8.083333     30.0\n",
       "3333   96997174        1  59.51  18.0   36.916667     49.0\n",
       "3334   97134637        1  20.91  11.0  112.416667    221.0\n",
       "3335   99418993        1  34.43  12.0  125.833333    346.0\n",
       "\n",
       "[3336 rows x 6 columns]"
      ]
     },
     "execution_count": 106,
     "metadata": {
      "tags": []
     },
     "output_type": "execute_result"
    }
   ],
   "source": [
    "datasets['ucbt'] = datasets['ucbt'].groupby(['UNI_TR_D']).agg(GRU_TAR=('GRU_TAR',lambda x: sc.stats.mode(x)[0]),\n",
    "                                                              DIC=('DIC',np.sum),FIC=('FIC',np.sum),ENE_MED=('ENE_MED',np.mean),\n",
    "                                                              ENE_MAX=('ENE_MAX',np.sum)).reset_index()\n",
    "datasets['ucbt']"
   ]
  },
  {
   "cell_type": "markdown",
   "metadata": {
    "colab_type": "text",
    "id": "U6YlKhBCMujQ"
   },
   "source": [
    "GRU_TAR: tomamos su moda\n",
    "<br>\n",
    "DIC: calculamos su suma\n",
    "<br>\n",
    "FIC: calculamos su suma\n",
    "<br>\n",
    "ARE_LOC: tomamos su moda\n",
    "<br>\n",
    "ENE_MED: calculamos su promedio\n",
    "<br>\n",
    "ENE_MAX: calculamos su suma"
   ]
  },
  {
   "cell_type": "markdown",
   "metadata": {
    "colab_type": "text",
    "id": "pa-bOWcEhua5"
   },
   "source": [
    "## Consumindores\n",
    "\n",
    "1 - A partir de los resultados obtenidos en el práctico 1 seleccione que features podrían ser relevantes para la predicción de la calidad de servicio.\n",
    "\n",
    "2 - Agrupe los datos en base a la variable UNI_TR_D.\n",
    "\n",
    "3 - Justifique los métodos utilizados para agrupar las variables numéricas y categóricas."
   ]
  },
  {
   "cell_type": "code",
   "execution_count": null,
   "metadata": {
    "colab": {
     "base_uri": "https://localhost:8080/",
     "height": 255
    },
    "colab_type": "code",
    "executionInfo": {
     "elapsed": 32891,
     "status": "ok",
     "timestamp": 1599251044878,
     "user": {
      "displayName": "Joel de Andres",
      "photoUrl": "",
      "userId": "00836612501124861246"
     },
     "user_tz": 180
    },
    "id": "dtszUPwADCs5",
    "outputId": "37dcda1d-248d-41cd-ce80-ec0ae2ade92e"
   },
   "outputs": [
    {
     "data": {
      "text/plain": [
       "<bound method NDFrame.head of        UNI_TR_D  GRU_TAR    DIC   FIC       ENE_MED   ENE_MAX\n",
       "0                      1  46.89  14.0  19077.218750  497005.0\n",
       "1     101415715        1  76.55  28.0     97.791667     372.0\n",
       "2     102321736        1  17.18   7.0      1.000000       5.0\n",
       "3     103455355        1   8.31   7.0     91.333333     116.0\n",
       "4     105138826        1  16.10  12.0     13.583333      35.0\n",
       "...         ...      ...    ...   ...           ...       ...\n",
       "3528   92651766        1  14.10   6.0      2.300000      57.0\n",
       "3529   96872663        1  63.58  20.0      8.083333      30.0\n",
       "3530   96997174        1  59.51  18.0     36.916667      49.0\n",
       "3531   97134637        1  20.91  11.0    112.416667     221.0\n",
       "3532   99418993        1  50.56  18.0    412.333333    1513.0\n",
       "\n",
       "[3533 rows x 6 columns]>"
      ]
     },
     "execution_count": 107,
     "metadata": {
      "tags": []
     },
     "output_type": "execute_result"
    }
   ],
   "source": [
    "#med_group = ucbt.groupby(\"UNI_TR_D\").agg({\"DIC\":\"mean\", \"FIC\":\"mean\"})\n",
    "ucbt_group = ucbt.groupby(\"UNI_TR_D\").agg(GRU_TAR=('GRU_TAR',lambda x: sc.stats.mode(x)[0]),\n",
    "                                                              DIC=('DIC',np.sum),FIC=('FIC',np.sum),ENE_MED=('ENE_MED',np.mean),\n",
    "                                                              ENE_MAX=('ENE_MAX',np.sum)).reset_index()\n",
    "ucbt_group.head                                                              "
   ]
  },
  {
   "cell_type": "code",
   "execution_count": null,
   "metadata": {
    "colab": {
     "base_uri": "https://localhost:8080/",
     "height": 255
    },
    "colab_type": "code",
    "executionInfo": {
     "elapsed": 33153,
     "status": "ok",
     "timestamp": 1599251045162,
     "user": {
      "displayName": "Joel de Andres",
      "photoUrl": "",
      "userId": "00836612501124861246"
     },
     "user_tz": 180
    },
    "id": "bky3Bp8tDFCQ",
    "outputId": "c5d067aa-43e2-4345-f51a-3ccc81267853"
   },
   "outputs": [
    {
     "data": {
      "text/plain": [
       "<bound method NDFrame.head of         COD_ID  DIST                PAC_1  ...   FIC     ENE_MED ENE_MAX\n",
       "0     26877970  6612  74793200754383100MT  ...   7.0  189.000000   274.0\n",
       "1     26877971  6612  74784000754390200MT  ...  11.0  112.166667   136.0\n",
       "2     26877972  6612  74765600754409900ET  ...  41.0   59.354167   519.0\n",
       "3     26877973  6612  74745581754466499ET  ...  24.0   92.444444   343.0\n",
       "4     26877974  6612  74651500754289500ET  ...   3.0  312.583333   390.0\n",
       "...        ...   ...                  ...  ...   ...         ...     ...\n",
       "3874  26876494  6612  77510433752322452ET  ...  15.0   31.166667    48.0\n",
       "3875  26876495  6612  77657605752963592ET  ...   6.0   86.416667   164.0\n",
       "3876  26876496  6612  77777763752984359MT  ...   6.0   80.916667    89.0\n",
       "3877  26876497  6612  77706805752291392MT  ...  11.0  264.500000   343.0\n",
       "3878  26876498  6612  77955805752850692ET  ...  33.0   61.750000   305.0\n",
       "\n",
       "[3879 rows x 39 columns]>"
      ]
     },
     "execution_count": 108,
     "metadata": {
      "tags": []
     },
     "output_type": "execute_result"
    }
   ],
   "source": [
    "untrd_merge = untrd.merge(ucbt_group,left_on='COD_ID',right_on='UNI_TR_D',how=\"left\")\n",
    "untrd_merge.head                                                              "
   ]
  },
  {
   "cell_type": "markdown",
   "metadata": {
    "colab_type": "text",
    "id": "L9pgI86JjO8v"
   },
   "source": [
    "## Subestación\n",
    "\n",
    "4 - Analise la información disponible sobre los transformadores de las Subestaciones (UNI_TR_S > UNTRS)\n",
    "\n",
    "5 - Seleccione las variables relevantes, realize tratamiento de valores invalidos y outliers correspondientes. Agrupe los valores por UNTRD y agregue al dataset."
   ]
  },
  {
   "cell_type": "code",
   "execution_count": null,
   "metadata": {
    "colab": {},
    "colab_type": "code",
    "id": "P4stdAY9P4Lm"
   },
   "outputs": [],
   "source": [
    "untrd.to_crs(epsg=31984, inplace= True)\n",
    "untrs.to_crs(epsg=31984, inplace= True)\n",
    "ucbt.to_crs(epsg=31984, inplace= True)\n",
    "conj.to_crs(epsg=31984, inplace= True)"
   ]
  },
  {
   "cell_type": "code",
   "execution_count": null,
   "metadata": {
    "colab": {},
    "colab_type": "code",
    "id": "ViE-_ZwMVlCg"
   },
   "outputs": [],
   "source": [
    "untrd_ucbt_group = ucbt_group.merge(untrd,left_on=\"UNI_TR_D\", right_on=\"COD_ID\")\n",
    "untrd_ucbt_group = untrd_ucbt_group.drop(['COD_ID'], axis=1)\n",
    "untrd_ucbt_group.rename(columns={\"geometry\": \"geometry_untrd\"}, inplace=True)"
   ]
  },
  {
   "cell_type": "code",
   "execution_count": null,
   "metadata": {
    "colab": {},
    "colab_type": "code",
    "id": "Z9SSCwHIVlCj"
   },
   "outputs": [],
   "source": [
    "untrs_cp = untrs.copy()"
   ]
  },
  {
   "cell_type": "code",
   "execution_count": null,
   "metadata": {
    "colab": {},
    "colab_type": "code",
    "id": "60IEv7_sRblR"
   },
   "outputs": [],
   "source": [
    "#de UNTRS solo tomamos el id y geometry.\n",
    "copy_untrs = untrs[['COD_ID','geometry']]"
   ]
  },
  {
   "cell_type": "code",
   "execution_count": null,
   "metadata": {
    "colab": {},
    "colab_type": "code",
    "id": "V2oPOhA6Rjuo"
   },
   "outputs": [],
   "source": [
    "group_ucbt_untrd_untrs = untrd_ucbt_group.merge(copy_untrs, left_on='UNI_TR_S', right_on='COD_ID')\n",
    "group_ucbt_untrd_untrs = group_ucbt_untrd_untrs.drop(['COD_ID'], axis=1)\n",
    "group_ucbt_untrd_untrs.rename(columns={\"geometry\": \"geometry_untrs\"}, inplace=True)"
   ]
  },
  {
   "cell_type": "markdown",
   "metadata": {
    "colab_type": "text",
    "id": "M7DVfIv9kRca"
   },
   "source": [
    "## Generación de variables geográficas\n",
    "\n",
    "5 - Calcule la distancia euclideana de cada untrd al correspondiente untrs y adicione al dataset.\n",
    "\n",
    "6 - Cree una variable que sea la distancia al centro urbano mas cercanos.\n",
    "\n",
    "7 - Usando OSMnx descargue la informacion sobre caminos dentro del area de cobertura de la distribuidora. Cree variables para las distancias a autopistas (trunk), a caminos primarios (primary) y a caminos secundarios (secondary)\n"
   ]
  },
  {
   "cell_type": "markdown",
   "metadata": {
    "colab_type": "text",
    "id": "MWkRfxi0RcWX"
   },
   "source": [
    "Cargamos las capas de interes:\n",
    "\n",
    "CONJ: Area de cobertura de cada subestacion\n",
    "<br>\n",
    "UNTRS: Transformadores de Segmentacion (Sub Estacion)\n",
    "<br>\n",
    "UNTRD: Transformadores de Distribucion (Media a Baja)\n",
    "<br>\n",
    "SSDMT: Lineas de transmicion de media tension (UNTRS a UNTRD)"
   ]
  },
  {
   "cell_type": "code",
   "execution_count": null,
   "metadata": {
    "colab": {},
    "colab_type": "code",
    "id": "gWaFW7oENouW"
   },
   "outputs": [],
   "source": [
    "copy_conj = conj[['COD_ID','NOM','geometry']]"
   ]
  },
  {
   "cell_type": "code",
   "execution_count": null,
   "metadata": {
    "colab": {
     "base_uri": "https://localhost:8080/",
     "height": 80
    },
    "colab_type": "code",
    "executionInfo": {
     "elapsed": 38023,
     "status": "ok",
     "timestamp": 1599251050069,
     "user": {
      "displayName": "Joel de Andres",
      "photoUrl": "",
      "userId": "00836612501124861246"
     },
     "user_tz": 180
    },
    "id": "vHu8uZ0NNked",
    "outputId": "20d6cc69-eba5-4be4-9138-2fd5bb9cb5d1"
   },
   "outputs": [
    {
     "data": {
      "text/html": [
       "<div>\n",
       "<style scoped>\n",
       "    .dataframe tbody tr th:only-of-type {\n",
       "        vertical-align: middle;\n",
       "    }\n",
       "\n",
       "    .dataframe tbody tr th {\n",
       "        vertical-align: top;\n",
       "    }\n",
       "\n",
       "    .dataframe thead th {\n",
       "        text-align: right;\n",
       "    }\n",
       "</style>\n",
       "<table border=\"1\" class=\"dataframe\">\n",
       "  <thead>\n",
       "    <tr style=\"text-align: right;\">\n",
       "      <th></th>\n",
       "      <th>COD_ID</th>\n",
       "      <th>CONJ</th>\n",
       "      <th>geometry</th>\n",
       "      <th>index_conj</th>\n",
       "      <th>NOM</th>\n",
       "    </tr>\n",
       "  </thead>\n",
       "  <tbody>\n",
       "    <tr>\n",
       "      <th>1535</th>\n",
       "      <td>101415715</td>\n",
       "      <td>15616</td>\n",
       "      <td>POINT (143363.892 7518580.694)</td>\n",
       "      <td>0</td>\n",
       "      <td>CENTEN얉RIO</td>\n",
       "    </tr>\n",
       "  </tbody>\n",
       "</table>\n",
       "</div>"
      ],
      "text/plain": [
       "         COD_ID   CONJ                        geometry  index_conj         NOM\n",
       "1535  101415715  15616  POINT (143363.892 7518580.694)           0  CENTEN얉RIO"
      ]
     },
     "execution_count": 115,
     "metadata": {
      "tags": []
     },
     "output_type": "execute_result"
    }
   ],
   "source": [
    "join_area_cob = gpd.sjoin(untrd[['COD_ID','CONJ','geometry']],\n",
    "               copy_conj[['NOM','geometry']].iloc[[0,4]],\n",
    "               how='inner', op='within', lsuffix='untrs',rsuffix='conj')\n",
    "join_area_cob[join_area_cob.COD_ID=='101415715']"
   ]
  },
  {
   "cell_type": "code",
   "execution_count": null,
   "metadata": {
    "colab": {
     "base_uri": "https://localhost:8080/",
     "height": 80
    },
    "colab_type": "code",
    "executionInfo": {
     "elapsed": 38005,
     "status": "ok",
     "timestamp": 1599251050070,
     "user": {
      "displayName": "Joel de Andres",
      "photoUrl": "",
      "userId": "00836612501124861246"
     },
     "user_tz": 180
    },
    "id": "zuMaygTbL6UK",
    "outputId": "114873b6-fd51-4b45-b573-4094372ff7d7"
   },
   "outputs": [
    {
     "data": {
      "text/html": [
       "<div>\n",
       "<style scoped>\n",
       "    .dataframe tbody tr th:only-of-type {\n",
       "        vertical-align: middle;\n",
       "    }\n",
       "\n",
       "    .dataframe tbody tr th {\n",
       "        vertical-align: top;\n",
       "    }\n",
       "\n",
       "    .dataframe thead th {\n",
       "        text-align: right;\n",
       "    }\n",
       "</style>\n",
       "<table border=\"1\" class=\"dataframe\">\n",
       "  <thead>\n",
       "    <tr style=\"text-align: right;\">\n",
       "      <th></th>\n",
       "      <th>UNI_TR_D</th>\n",
       "      <th>geometry_untrd</th>\n",
       "    </tr>\n",
       "  </thead>\n",
       "  <tbody>\n",
       "    <tr>\n",
       "      <th>0</th>\n",
       "      <td>101415715</td>\n",
       "      <td>POINT (143363.892 7518580.694)</td>\n",
       "    </tr>\n",
       "  </tbody>\n",
       "</table>\n",
       "</div>"
      ],
      "text/plain": [
       "    UNI_TR_D                  geometry_untrd\n",
       "0  101415715  POINT (143363.892 7518580.694)"
      ]
     },
     "execution_count": 116,
     "metadata": {
      "tags": []
     },
     "output_type": "execute_result"
    }
   ],
   "source": [
    "group_ucbt_untrd_untrs[group_ucbt_untrd_untrs.UNI_TR_D=='101415715'][['UNI_TR_D','geometry_untrd']]"
   ]
  },
  {
   "cell_type": "code",
   "execution_count": null,
   "metadata": {
    "colab": {
     "base_uri": "https://localhost:8080/",
     "height": 420
    },
    "colab_type": "code",
    "executionInfo": {
     "elapsed": 38910,
     "status": "ok",
     "timestamp": 1599251050992,
     "user": {
      "displayName": "Joel de Andres",
      "photoUrl": "",
      "userId": "00836612501124861246"
     },
     "user_tz": 180
    },
    "id": "OSlXTb7e_NRb",
    "outputId": "5db21aca-e0ba-4e98-81c0-6ddf7418571d"
   },
   "outputs": [
    {
     "data": {
      "image/png": "[encoded data removed]",
      "text/plain": [
       "<Figure size 720x720 with 1 Axes>"
      ]
     },
     "metadata": {
      "needs_background": "light",
      "tags": []
     },
     "output_type": "display_data"
    }
   ],
   "source": [
    "st = gpd.sjoin(\n",
    "    join_area_cob[['geometry']], \n",
    "    copy_conj[['NOM','geometry']], \n",
    "    how='inner', \n",
    "    op='within', \n",
    "    lsuffix='untrs',\n",
    "    rsuffix='conj')\n",
    "st.head()\n",
    "ax = st.plot(figsize=(10,10))"
   ]
  },
  {
   "cell_type": "code",
   "execution_count": null,
   "metadata": {
    "colab": {},
    "colab_type": "code",
    "id": "gKAv5MYFVprW"
   },
   "outputs": [],
   "source": [
    "# 7 \n",
    "group_ucbt_untrd_untrs['EUC_DIST_TRUNK'] = -1\n",
    "group_ucbt_untrd_untrs['EUC_DIST_PRIMARY'] = -1\n",
    "group_ucbt_untrd_untrs['EUC_DIST_SECONDARY'] = -1\n",
    "\n",
    "group_ucbt_untrd_untrs['EUC_DIST_UNTRS'] = -1\n"
   ]
  },
  {
   "cell_type": "code",
   "execution_count": null,
   "metadata": {
    "colab": {
     "base_uri": "https://localhost:8080/",
     "height": 864
    },
    "colab_type": "code",
    "executionInfo": {
     "elapsed": 39811,
     "status": "ok",
     "timestamp": 1599251051911,
     "user": {
      "displayName": "Joel de Andres",
      "photoUrl": "",
      "userId": "00836612501124861246"
     },
     "user_tz": 180
    },
    "id": "7CsEb6riVlC4",
    "outputId": "6468d5a9-e5b9-4e73-fda2-d0056c0d3c7c"
   },
   "outputs": [
    {
     "name": "stderr",
     "output_type": "stream",
     "text": [
      "/usr/local/lib/python3.6/dist-packages/pandas/core/indexing.py:671: SettingWithCopyWarning: \n",
      "A value is trying to be set on a copy of a slice from a DataFrame\n",
      "\n",
      "See the caveats in the documentation: https://pandas.pydata.org/pandas-docs/stable/user_guide/indexing.html#returning-a-view-versus-a-copy\n",
      "  self._setitem_with_indexer(indexer, value)\n"
     ]
    },
    {
     "data": {
      "text/html": [
       "<div>\n",
       "<style scoped>\n",
       "    .dataframe tbody tr th:only-of-type {\n",
       "        vertical-align: middle;\n",
       "    }\n",
       "\n",
       "    .dataframe tbody tr th {\n",
       "        vertical-align: top;\n",
       "    }\n",
       "\n",
       "    .dataframe thead th {\n",
       "        text-align: right;\n",
       "    }\n",
       "</style>\n",
       "<table border=\"1\" class=\"dataframe\">\n",
       "  <thead>\n",
       "    <tr style=\"text-align: right;\">\n",
       "      <th></th>\n",
       "      <th>UNI_TR_D</th>\n",
       "      <th>GRU_TAR</th>\n",
       "      <th>DIC</th>\n",
       "      <th>FIC</th>\n",
       "      <th>ENE_MED</th>\n",
       "      <th>ENE_MAX</th>\n",
       "      <th>DIST</th>\n",
       "      <th>PAC_1</th>\n",
       "      <th>PAC_2</th>\n",
       "      <th>PAC_3</th>\n",
       "      <th>FAS_CON_P</th>\n",
       "      <th>FAS_CON_S</th>\n",
       "      <th>FAS_CON_T</th>\n",
       "      <th>SIT_ATIV</th>\n",
       "      <th>TIP_UNID</th>\n",
       "      <th>POS</th>\n",
       "      <th>ATRB_PER</th>\n",
       "      <th>TEN_LIN_SE</th>\n",
       "      <th>CAP_ELO</th>\n",
       "      <th>CAP_CHA</th>\n",
       "      <th>TAP</th>\n",
       "      <th>CONF</th>\n",
       "      <th>POSTO</th>\n",
       "      <th>POT_NOM</th>\n",
       "      <th>PER_FER</th>\n",
       "      <th>PER_TOT</th>\n",
       "      <th>DAT_CON</th>\n",
       "      <th>CTMT</th>\n",
       "      <th>UNI_TR_S</th>\n",
       "      <th>SUB</th>\n",
       "      <th>CONJ</th>\n",
       "      <th>MUN</th>\n",
       "      <th>BANC</th>\n",
       "      <th>TIP_TRAFO</th>\n",
       "      <th>MRT</th>\n",
       "      <th>DESCR</th>\n",
       "      <th>ARE_LOC</th>\n",
       "      <th>geometry_untrd</th>\n",
       "      <th>geometry_untrs</th>\n",
       "      <th>EUC_DIST_TRUNK</th>\n",
       "      <th>EUC_DIST_PRIMARY</th>\n",
       "      <th>EUC_DIST_SECONDARY</th>\n",
       "      <th>EUC_DIST_UNTRS</th>\n",
       "      <th>EUC_DIST_CENT</th>\n",
       "    </tr>\n",
       "  </thead>\n",
       "  <tbody>\n",
       "    <tr>\n",
       "      <th>0</th>\n",
       "      <td>101415715</td>\n",
       "      <td>1</td>\n",
       "      <td>76.55</td>\n",
       "      <td>28.0</td>\n",
       "      <td>97.791667</td>\n",
       "      <td>372.0</td>\n",
       "      <td>6612</td>\n",
       "      <td>76114500752048800ET</td>\n",
       "      <td>76114500752048800BT</td>\n",
       "      <td></td>\n",
       "      <td>ABC</td>\n",
       "      <td>ABCN</td>\n",
       "      <td>0</td>\n",
       "      <td>AT</td>\n",
       "      <td>38</td>\n",
       "      <td>PD</td>\n",
       "      <td>1</td>\n",
       "      <td>0.38</td>\n",
       "      <td>1H</td>\n",
       "      <td>12</td>\n",
       "      <td>1.0</td>\n",
       "      <td>RA</td>\n",
       "      <td>PT</td>\n",
       "      <td>30.0</td>\n",
       "      <td>150.0</td>\n",
       "      <td>695.0</td>\n",
       "      <td>01/01/1920</td>\n",
       "      <td>27117484</td>\n",
       "      <td>27707534</td>\n",
       "      <td>27335513</td>\n",
       "      <td>15616</td>\n",
       "      <td>3303401</td>\n",
       "      <td>0</td>\n",
       "      <td>T</td>\n",
       "      <td>0</td>\n",
       "      <td></td>\n",
       "      <td>0</td>\n",
       "      <td>POINT (143363.892 7518580.694)</td>\n",
       "      <td>POINT (151650.771 7531499.639)</td>\n",
       "      <td>-1</td>\n",
       "      <td>-1</td>\n",
       "      <td>-1</td>\n",
       "      <td>-1</td>\n",
       "      <td>14420.116797</td>\n",
       "    </tr>\n",
       "    <tr>\n",
       "      <th>1</th>\n",
       "      <td>103455355</td>\n",
       "      <td>1</td>\n",
       "      <td>8.31</td>\n",
       "      <td>7.0</td>\n",
       "      <td>91.333333</td>\n",
       "      <td>116.0</td>\n",
       "      <td>6612</td>\n",
       "      <td>77452900752550500ET</td>\n",
       "      <td>77452900752550500BT</td>\n",
       "      <td></td>\n",
       "      <td>C</td>\n",
       "      <td>AN</td>\n",
       "      <td>CN</td>\n",
       "      <td>AT</td>\n",
       "      <td>38</td>\n",
       "      <td>PD</td>\n",
       "      <td>1</td>\n",
       "      <td>0.22</td>\n",
       "      <td>1H</td>\n",
       "      <td>12</td>\n",
       "      <td>1.0</td>\n",
       "      <td>RA</td>\n",
       "      <td>PT</td>\n",
       "      <td>10.0</td>\n",
       "      <td>50.0</td>\n",
       "      <td>245.0</td>\n",
       "      <td>01/01/1920</td>\n",
       "      <td>27117483</td>\n",
       "      <td>27707534</td>\n",
       "      <td>27335513</td>\n",
       "      <td>15616</td>\n",
       "      <td>3303401</td>\n",
       "      <td>0</td>\n",
       "      <td>MT</td>\n",
       "      <td>0</td>\n",
       "      <td></td>\n",
       "      <td>1</td>\n",
       "      <td>POINT (156545.369 7524131.090)</td>\n",
       "      <td>POINT (151650.771 7531499.639)</td>\n",
       "      <td>-1</td>\n",
       "      <td>-1</td>\n",
       "      <td>-1</td>\n",
       "      <td>-1</td>\n",
       "      <td>21618.004725</td>\n",
       "    </tr>\n",
       "    <tr>\n",
       "      <th>2</th>\n",
       "      <td>105138826</td>\n",
       "      <td>1</td>\n",
       "      <td>16.10</td>\n",
       "      <td>12.0</td>\n",
       "      <td>13.583333</td>\n",
       "      <td>35.0</td>\n",
       "      <td>6612</td>\n",
       "      <td>77725336752398759ET</td>\n",
       "      <td>77725336752398759BT</td>\n",
       "      <td></td>\n",
       "      <td>B</td>\n",
       "      <td>AN</td>\n",
       "      <td>0</td>\n",
       "      <td>AT</td>\n",
       "      <td>38</td>\n",
       "      <td>PD</td>\n",
       "      <td>1</td>\n",
       "      <td>0.38</td>\n",
       "      <td>05H</td>\n",
       "      <td>12</td>\n",
       "      <td>1.0</td>\n",
       "      <td>RA</td>\n",
       "      <td>PT</td>\n",
       "      <td>5.0</td>\n",
       "      <td>35.0</td>\n",
       "      <td>140.0</td>\n",
       "      <td>01/01/1920</td>\n",
       "      <td>27117483</td>\n",
       "      <td>27707534</td>\n",
       "      <td>27335513</td>\n",
       "      <td>15616</td>\n",
       "      <td>3303401</td>\n",
       "      <td>0</td>\n",
       "      <td>M</td>\n",
       "      <td>0</td>\n",
       "      <td></td>\n",
       "      <td>0</td>\n",
       "      <td>POINT (159329.456 7522722.774)</td>\n",
       "      <td>POINT (151650.771 7531499.639)</td>\n",
       "      <td>-1</td>\n",
       "      <td>-1</td>\n",
       "      <td>-1</td>\n",
       "      <td>-1</td>\n",
       "      <td>24709.571305</td>\n",
       "    </tr>\n",
       "    <tr>\n",
       "      <th>3</th>\n",
       "      <td>106512676</td>\n",
       "      <td>1</td>\n",
       "      <td>17.24</td>\n",
       "      <td>8.0</td>\n",
       "      <td>84.833333</td>\n",
       "      <td>101.0</td>\n",
       "      <td>6612</td>\n",
       "      <td>77183400752816700ET</td>\n",
       "      <td>77183400752816700BT</td>\n",
       "      <td></td>\n",
       "      <td>B</td>\n",
       "      <td>BN</td>\n",
       "      <td>0</td>\n",
       "      <td>AT</td>\n",
       "      <td>38</td>\n",
       "      <td>PD</td>\n",
       "      <td>1</td>\n",
       "      <td>0.38</td>\n",
       "      <td>05H</td>\n",
       "      <td>12</td>\n",
       "      <td>1.0</td>\n",
       "      <td>RA</td>\n",
       "      <td>PT</td>\n",
       "      <td>5.0</td>\n",
       "      <td>35.0</td>\n",
       "      <td>140.0</td>\n",
       "      <td>01/01/1920</td>\n",
       "      <td>27117483</td>\n",
       "      <td>27707534</td>\n",
       "      <td>27335513</td>\n",
       "      <td>15616</td>\n",
       "      <td>3303401</td>\n",
       "      <td>0</td>\n",
       "      <td>M</td>\n",
       "      <td>0</td>\n",
       "      <td></td>\n",
       "      <td>0</td>\n",
       "      <td>POINT (153744.945 7526685.029)</td>\n",
       "      <td>POINT (151650.771 7531499.639)</td>\n",
       "      <td>-1</td>\n",
       "      <td>-1</td>\n",
       "      <td>-1</td>\n",
       "      <td>-1</td>\n",
       "      <td>18214.964473</td>\n",
       "    </tr>\n",
       "    <tr>\n",
       "      <th>4</th>\n",
       "      <td>108015624</td>\n",
       "      <td>1</td>\n",
       "      <td>19.15</td>\n",
       "      <td>9.0</td>\n",
       "      <td>158.166667</td>\n",
       "      <td>180.0</td>\n",
       "      <td>6612</td>\n",
       "      <td>77268557752799305ET</td>\n",
       "      <td>77268557752799305BT</td>\n",
       "      <td></td>\n",
       "      <td>A</td>\n",
       "      <td>AN</td>\n",
       "      <td>0</td>\n",
       "      <td>AT</td>\n",
       "      <td>38</td>\n",
       "      <td>PD</td>\n",
       "      <td>1</td>\n",
       "      <td>0.23</td>\n",
       "      <td>05H</td>\n",
       "      <td>12</td>\n",
       "      <td>1.0</td>\n",
       "      <td>RA</td>\n",
       "      <td>PT</td>\n",
       "      <td>5.0</td>\n",
       "      <td>35.0</td>\n",
       "      <td>140.0</td>\n",
       "      <td>01/01/1920</td>\n",
       "      <td>27117483</td>\n",
       "      <td>27707534</td>\n",
       "      <td>27335513</td>\n",
       "      <td>15616</td>\n",
       "      <td>3303401</td>\n",
       "      <td>0</td>\n",
       "      <td>M</td>\n",
       "      <td>0</td>\n",
       "      <td></td>\n",
       "      <td>0</td>\n",
       "      <td>POINT (154603.247 7526545.042)</td>\n",
       "      <td>POINT (151650.771 7531499.639)</td>\n",
       "      <td>-1</td>\n",
       "      <td>-1</td>\n",
       "      <td>-1</td>\n",
       "      <td>-1</td>\n",
       "      <td>19082.084868</td>\n",
       "    </tr>\n",
       "    <tr>\n",
       "      <th>...</th>\n",
       "      <td>...</td>\n",
       "      <td>...</td>\n",
       "      <td>...</td>\n",
       "      <td>...</td>\n",
       "      <td>...</td>\n",
       "      <td>...</td>\n",
       "      <td>...</td>\n",
       "      <td>...</td>\n",
       "      <td>...</td>\n",
       "      <td>...</td>\n",
       "      <td>...</td>\n",
       "      <td>...</td>\n",
       "      <td>...</td>\n",
       "      <td>...</td>\n",
       "      <td>...</td>\n",
       "      <td>...</td>\n",
       "      <td>...</td>\n",
       "      <td>...</td>\n",
       "      <td>...</td>\n",
       "      <td>...</td>\n",
       "      <td>...</td>\n",
       "      <td>...</td>\n",
       "      <td>...</td>\n",
       "      <td>...</td>\n",
       "      <td>...</td>\n",
       "      <td>...</td>\n",
       "      <td>...</td>\n",
       "      <td>...</td>\n",
       "      <td>...</td>\n",
       "      <td>...</td>\n",
       "      <td>...</td>\n",
       "      <td>...</td>\n",
       "      <td>...</td>\n",
       "      <td>...</td>\n",
       "      <td>...</td>\n",
       "      <td>...</td>\n",
       "      <td>...</td>\n",
       "      <td>...</td>\n",
       "      <td>...</td>\n",
       "      <td>...</td>\n",
       "      <td>...</td>\n",
       "      <td>...</td>\n",
       "      <td>...</td>\n",
       "      <td>...</td>\n",
       "    </tr>\n",
       "    <tr>\n",
       "      <th>3526</th>\n",
       "      <td>62005694</td>\n",
       "      <td>1</td>\n",
       "      <td>1.06</td>\n",
       "      <td>4.0</td>\n",
       "      <td>26.208333</td>\n",
       "      <td>83.0</td>\n",
       "      <td>6612</td>\n",
       "      <td>75207200752946400ET</td>\n",
       "      <td>75207200752946400BT</td>\n",
       "      <td></td>\n",
       "      <td>ABC</td>\n",
       "      <td>ABCN</td>\n",
       "      <td>0</td>\n",
       "      <td>AT</td>\n",
       "      <td>38</td>\n",
       "      <td>PD</td>\n",
       "      <td>1</td>\n",
       "      <td>0.38</td>\n",
       "      <td>5H</td>\n",
       "      <td>12</td>\n",
       "      <td>1.0</td>\n",
       "      <td>RA</td>\n",
       "      <td>PT</td>\n",
       "      <td>112.5</td>\n",
       "      <td>390.0</td>\n",
       "      <td>1890.0</td>\n",
       "      <td>01/01/1920</td>\n",
       "      <td>80345445</td>\n",
       "      <td>80345241</td>\n",
       "      <td>27335511</td>\n",
       "      <td>16070</td>\n",
       "      <td>3303401</td>\n",
       "      <td>0</td>\n",
       "      <td>T</td>\n",
       "      <td>0</td>\n",
       "      <td></td>\n",
       "      <td>1</td>\n",
       "      <td>POINT (133932.738 7527194.744)</td>\n",
       "      <td>POINT (135820.103 7532486.422)</td>\n",
       "      <td>-1</td>\n",
       "      <td>-1</td>\n",
       "      <td>-1</td>\n",
       "      <td>-1</td>\n",
       "      <td>4362.500497</td>\n",
       "    </tr>\n",
       "    <tr>\n",
       "      <th>3527</th>\n",
       "      <td>68553759</td>\n",
       "      <td>1</td>\n",
       "      <td>47.01</td>\n",
       "      <td>76.0</td>\n",
       "      <td>278.571839</td>\n",
       "      <td>14156.0</td>\n",
       "      <td>6612</td>\n",
       "      <td>75229300752853400ET</td>\n",
       "      <td>75229300752853400BT</td>\n",
       "      <td></td>\n",
       "      <td>ABC</td>\n",
       "      <td>ABCN</td>\n",
       "      <td>0</td>\n",
       "      <td>AT</td>\n",
       "      <td>38</td>\n",
       "      <td>PD</td>\n",
       "      <td>1</td>\n",
       "      <td>0.38</td>\n",
       "      <td>3H</td>\n",
       "      <td>12</td>\n",
       "      <td>1.0</td>\n",
       "      <td>RA</td>\n",
       "      <td>PT</td>\n",
       "      <td>75.0</td>\n",
       "      <td>295.0</td>\n",
       "      <td>1395.0</td>\n",
       "      <td>01/01/1920</td>\n",
       "      <td>80345445</td>\n",
       "      <td>80345241</td>\n",
       "      <td>27335511</td>\n",
       "      <td>16070</td>\n",
       "      <td>3303401</td>\n",
       "      <td>0</td>\n",
       "      <td>T</td>\n",
       "      <td>0</td>\n",
       "      <td></td>\n",
       "      <td>1</td>\n",
       "      <td>POINT (134190.805 7526273.478)</td>\n",
       "      <td>POINT (135820.103 7532486.422)</td>\n",
       "      <td>-1</td>\n",
       "      <td>-1</td>\n",
       "      <td>-1</td>\n",
       "      <td>-1</td>\n",
       "      <td>5087.333875</td>\n",
       "    </tr>\n",
       "    <tr>\n",
       "      <th>3528</th>\n",
       "      <td>71641214</td>\n",
       "      <td>1</td>\n",
       "      <td>59.29</td>\n",
       "      <td>49.0</td>\n",
       "      <td>216.574830</td>\n",
       "      <td>13831.0</td>\n",
       "      <td>6612</td>\n",
       "      <td>75308400752863500MT</td>\n",
       "      <td>75308400752863500BT</td>\n",
       "      <td></td>\n",
       "      <td>ABC</td>\n",
       "      <td>ABCN</td>\n",
       "      <td>0</td>\n",
       "      <td>AT</td>\n",
       "      <td>38</td>\n",
       "      <td>PD</td>\n",
       "      <td>1</td>\n",
       "      <td>0.38</td>\n",
       "      <td>0</td>\n",
       "      <td>0</td>\n",
       "      <td>1.0</td>\n",
       "      <td>RA</td>\n",
       "      <td>PT</td>\n",
       "      <td>75.0</td>\n",
       "      <td>295.0</td>\n",
       "      <td>1395.0</td>\n",
       "      <td>01/01/1920</td>\n",
       "      <td>80345446</td>\n",
       "      <td>80345241</td>\n",
       "      <td>27335511</td>\n",
       "      <td>16070</td>\n",
       "      <td>3303401</td>\n",
       "      <td>0</td>\n",
       "      <td>T</td>\n",
       "      <td>0</td>\n",
       "      <td></td>\n",
       "      <td>1</td>\n",
       "      <td>POINT (134977.834 7526406.003)</td>\n",
       "      <td>POINT (135820.103 7532486.422)</td>\n",
       "      <td>-1</td>\n",
       "      <td>-1</td>\n",
       "      <td>-1</td>\n",
       "      <td>-1</td>\n",
       "      <td>4726.044503</td>\n",
       "    </tr>\n",
       "    <tr>\n",
       "      <th>3529</th>\n",
       "      <td>87219744</td>\n",
       "      <td>1</td>\n",
       "      <td>255.99</td>\n",
       "      <td>154.0</td>\n",
       "      <td>143.215116</td>\n",
       "      <td>9483.0</td>\n",
       "      <td>6612</td>\n",
       "      <td>75311600753145700ET</td>\n",
       "      <td>75311600753145700BT</td>\n",
       "      <td></td>\n",
       "      <td>ABC</td>\n",
       "      <td>ABCN</td>\n",
       "      <td>0</td>\n",
       "      <td>AT</td>\n",
       "      <td>38</td>\n",
       "      <td>PD</td>\n",
       "      <td>1</td>\n",
       "      <td>0.38</td>\n",
       "      <td>5H</td>\n",
       "      <td>12</td>\n",
       "      <td>1.0</td>\n",
       "      <td>RA</td>\n",
       "      <td>PT</td>\n",
       "      <td>112.5</td>\n",
       "      <td>390.0</td>\n",
       "      <td>1890.0</td>\n",
       "      <td>01/01/1920</td>\n",
       "      <td>80345445</td>\n",
       "      <td>80345241</td>\n",
       "      <td>27335511</td>\n",
       "      <td>16070</td>\n",
       "      <td>3303401</td>\n",
       "      <td>0</td>\n",
       "      <td>T</td>\n",
       "      <td>0</td>\n",
       "      <td></td>\n",
       "      <td>1</td>\n",
       "      <td>POINT (134897.455 7529229.454)</td>\n",
       "      <td>POINT (135820.103 7532486.422)</td>\n",
       "      <td>-1</td>\n",
       "      <td>-1</td>\n",
       "      <td>-1</td>\n",
       "      <td>-1</td>\n",
       "      <td>2120.226359</td>\n",
       "    </tr>\n",
       "    <tr>\n",
       "      <th>3530</th>\n",
       "      <td>91818602</td>\n",
       "      <td>1</td>\n",
       "      <td>109.16</td>\n",
       "      <td>163.0</td>\n",
       "      <td>130.551724</td>\n",
       "      <td>10510.0</td>\n",
       "      <td>6612</td>\n",
       "      <td>75223900752853600ET</td>\n",
       "      <td>75223900752853600BT</td>\n",
       "      <td></td>\n",
       "      <td>ABC</td>\n",
       "      <td>ABCN</td>\n",
       "      <td>0</td>\n",
       "      <td>AT</td>\n",
       "      <td>38</td>\n",
       "      <td>PD</td>\n",
       "      <td>1</td>\n",
       "      <td>0.38</td>\n",
       "      <td>5H</td>\n",
       "      <td>12</td>\n",
       "      <td>1.0</td>\n",
       "      <td>RA</td>\n",
       "      <td>PT</td>\n",
       "      <td>112.5</td>\n",
       "      <td>390.0</td>\n",
       "      <td>1890.0</td>\n",
       "      <td>01/01/1920</td>\n",
       "      <td>80345445</td>\n",
       "      <td>80345241</td>\n",
       "      <td>27335511</td>\n",
       "      <td>16070</td>\n",
       "      <td>3303401</td>\n",
       "      <td>0</td>\n",
       "      <td>T</td>\n",
       "      <td>0</td>\n",
       "      <td></td>\n",
       "      <td>1</td>\n",
       "      <td>POINT (134136.722 7526273.327)</td>\n",
       "      <td>POINT (135820.103 7532486.422)</td>\n",
       "      <td>-1</td>\n",
       "      <td>-1</td>\n",
       "      <td>-1</td>\n",
       "      <td>-1</td>\n",
       "      <td>5107.493771</td>\n",
       "    </tr>\n",
       "  </tbody>\n",
       "</table>\n",
       "<p>3531 rows × 44 columns</p>\n",
       "</div>"
      ],
      "text/plain": [
       "       UNI_TR_D  GRU_TAR  ...  EUC_DIST_UNTRS  EUC_DIST_CENT\n",
       "0     101415715        1  ...              -1   14420.116797\n",
       "1     103455355        1  ...              -1   21618.004725\n",
       "2     105138826        1  ...              -1   24709.571305\n",
       "3     106512676        1  ...              -1   18214.964473\n",
       "4     108015624        1  ...              -1   19082.084868\n",
       "...         ...      ...  ...             ...            ...\n",
       "3526   62005694        1  ...              -1    4362.500497\n",
       "3527   68553759        1  ...              -1    5087.333875\n",
       "3528   71641214        1  ...              -1    4726.044503\n",
       "3529   87219744        1  ...              -1    2120.226359\n",
       "3530   91818602        1  ...              -1    5107.493771\n",
       "\n",
       "[3531 rows x 44 columns]"
      ]
     },
     "execution_count": 119,
     "metadata": {
      "tags": []
     },
     "output_type": "execute_result"
    }
   ],
   "source": [
    "centro_urbano = Point(136050.57090952771250159, 7531008.69087591022253036)\n",
    "group_ucbt_untrd_untrs['EUC_DIST_CENT'] = -1\n",
    "for i,t in group_ucbt_untrd_untrs.iterrows():\n",
    "    eud = group_ucbt_untrd_untrs.geometry_untrd[i].distance(centro_urbano)\n",
    "    group_ucbt_untrd_untrs.EUC_DIST_CENT.loc[i] = eud\n",
    "    \n",
    "group_ucbt_untrd_untrs "
   ]
  },
  {
   "cell_type": "code",
   "execution_count": null,
   "metadata": {
    "colab": {
     "base_uri": "https://localhost:8080/",
     "height": 368
    },
    "colab_type": "code",
    "executionInfo": {
     "elapsed": 81907,
     "status": "ok",
     "timestamp": 1599251094021,
     "user": {
      "displayName": "Joel de Andres",
      "photoUrl": "",
      "userId": "00836612501124861246"
     },
     "user_tz": 180
    },
    "id": "3oJUwc3ziJ2_",
    "outputId": "05d89891-9d4d-4396-c2a1-43e8b00cd40d"
   },
   "outputs": [
    {
     "data": {
      "image/png": "[encoded data removed]",
      "text/plain": [
       "<Figure size 576x576 with 1 Axes>"
      ]
     },
     "metadata": {
      "tags": []
     },
     "output_type": "display_data"
    },
    {
     "data": {
      "text/plain": [
       "(<Figure size 576x576 with 1 Axes>,\n",
       " <matplotlib.axes._subplots.AxesSubplot at 0x7f50a7e8c080>)"
      ]
     },
     "execution_count": 120,
     "metadata": {
      "tags": []
     },
     "output_type": "execute_result"
    }
   ],
   "source": [
    "my_place = 'Nova Friburgo, Rio de Janeiro, Brazil'\n",
    "G = ox.graph_from_place(my_place)\n",
    "ox.plot_graph(G)"
   ]
  },
  {
   "cell_type": "code",
   "execution_count": null,
   "metadata": {
    "colab": {
     "base_uri": "https://localhost:8080/",
     "height": 321
    },
    "colab_type": "code",
    "executionInfo": {
     "elapsed": 81895,
     "status": "ok",
     "timestamp": 1599251094022,
     "user": {
      "displayName": "Joel de Andres",
      "photoUrl": "",
      "userId": "00836612501124861246"
     },
     "user_tz": 180
    },
    "id": "c7dUe1KzVqwc",
    "outputId": "cbbde348-0cdd-40d0-edef-a88b682a3efb"
   },
   "outputs": [
    {
     "data": {
      "image/svg+xml": [
       "<svg xmlns=\"http://www.w3.org/2000/svg\" xmlns:xlink=\"http://www.w3.org/1999/xlink\" width=\"300\" height=\"300\" viewBox=\"116002.22840082263 7509041.074143572 55425.891758850674 38532.17463136837\" preserveAspectRatio=\"xMinYMin meet\"><g transform=\"matrix(1,0,0,-1,0,15056614.322918512)\"><path fill-rule=\"evenodd\" fill=\"#66cc99\" stroke=\"#555555\" stroke-width=\"369.5059450590045\" opacity=\"0.6\" d=\"M 155752.24745519133,7529405.122613359 L 155769.5893116353,7529332.195181082 L 155772.88452485373,7529318.337815875 L 155782.24233925453,7529278.957557359 L 156224.627924908,7529313.168025574 L 156213.48899664264,7529457.175403286 L 156803.74797629198,7529523.784902416 L 156760.12383662385,7529667.86989229 L 156838.4443675095,7529691.573912672 L 156911.87679902563,7529561.09170343 L 157086.4728640878,7529654.994140737 L 157556.92373994004,7529808.021888718 L 157498.79665016464,7529896.3765279325 L 157487.79504353547,7529943.360376724 L 157528.85360027192,7529955.307697769 L 157585.5196603781,7529893.349289376 L 157615.04792420415,7529826.9265724085 L 157776.51023426518,7529879.441782121 L 157767.17788428633,7529921.215092551 L 157788.80931175436,7529947.29851525 L 157837.17759855313,7529961.499262165 L 157893.885058756,7529917.616128724 L 157979.58821856882,7529945.48828946 L 157991.0144652521,7529883.301978113 L 158460.15323550982,7530029.895890225 L 158435.7495048825,7530093.868288811 L 161090.5371276331,7530957.3601181805 L 162424.60423610563,7530259.5089799315 L 162897.10368087748,7529589.971492476 L 164024.48263536405,7529564.437616235 L 164270.81643088604,7528878.098322034 L 163835.0755125456,7527249.438165545 L 166669.97933170357,7525985.759314811 L 169098.37141946843,7524322.752517996 L 169375.30935378995,7523262.2824237235 L 168825.58345882373,7521026.957160775 L 168736.0190198357,7520663.531292593 L 169352.25102148403,7519726.117448878 L 168637.54543292138,7518821.563673442 L 168479.7721001648,7517681.151172148 L 167542.3774669561,7517455.952387207 L 166206.7096815136,7517996.992322307 L 164462.41944408842,7518388.7526711095 L 163352.83392248995,7517773.391904004 L 161845.5714049294,7517713.128698926 L 161808.3935302499,7517700.147915311 L 160580.37386483955,7517271.418587867 L 156841.20119429764,7515119.24369687 L 155708.37469532184,7515668.454178438 L 154469.94690708967,7514750.5419447385 L 153452.03727015393,7515554.711131188 L 151999.53713467688,7516075.52045321 L 150824.4494129134,7515918.986452972 L 149255.6744522266,7514651.361433836 L 146721.3355053349,7514831.598265201 L 145416.50124648365,7514004.775534218 L 143874.14039816218,7514029.098587222 L 142571.13604041422,7513155.347595202 L 141186.84327759081,7512747.80057955 L 137799.97115468734,7513496.393491084 L 136479.65388773987,7512856.628029862 L 135553.7470511524,7511551.824350681 L 134085.25750365958,7511093.884949455 L 132402.5720107403,7511683.815494366 L 132134.02100266295,7512184.996873019 L 131685.75373235042,7513037.666860584 L 131627.78093362402,7514371.607593672 L 132009.8592327083,7515057.000426628 L 133446.21916971414,7517611.746561816 L 133282.9052116329,7519573.682274319 L 132866.01959643187,7521069.255056832 L 132244.3555461266,7521711.023908608 L 132115.39282869268,7521844.150779561 L 132111.93312292133,7521846.757421546 L 131690.21813043108,7522324.907526151 L 130177.50185630814,7522853.838985132 L 130169.67727042222,7522896.801333402 L 125814.31867211463,7526354.501983507 L 123101.48854402674,7528508.399681106 L 119621.44687999366,7532418.473556941 L 118055.03920670599,7535003.817679617 L 121024.03896198852,7537800.491890625 L 122450.53361921379,7538835.420424849 L 122522.1562723848,7539397.881620929 L 123386.65423131728,7539458.127825646 L 123401.8829722965,7539416.905728867 L 123470.8140121696,7539449.602503167 L 123449.363502756,7539488.564274022 L 123670.48464345466,7539645.487145017 L 123693.6561817879,7539661.923640867 L 123732.15357113513,7539689.5266337255 L 124019.72220691713,7539894.2632306665 L 124123.68053899915,7540555.5562183 L 123574.08095439593,7540782.568906007 L 123840.00223071058,7541219.002724381 L 124596.63702042622,7541736.859386367 L 125424.90328205517,7541512.315399029 L 125760.46399704163,7541421.40176384 L 125773.81933051365,7541683.384480845 L 126143.51580829517,7541619.598173503 L 126323.93235124357,7541821.998687523 L 126589.82028693362,7541689.988112752 L 126560.205901017,7541646.540697318 L 126524.01095382636,7541593.456048181 L 126388.66261324106,7541394.914424388 L 126294.5651912174,7541256.869931774 L 127103.064418305,7540982.339456361 L 127567.54722995765,7541366.710301155 L 127581.73011541937,7541309.350959786 L 127610.77157998126,7541243.834999595 L 127614.79757060378,7541108.828518337 L 127647.08610585367,7541068.314721037 L 127677.22782779002,7541008.662663417 L 127831.08954173996,7540937.523638511 L 127859.3759371973,7540978.052912243 L 127816.57321482076,7540996.211742268 L 127787.3008655957,7541008.635775905 L 127741.35967218992,7541028.132906585 L 127725.38372104394,7541034.912845483 L 127663.35101663665,7541125.297392538 L 127661.65061173768,7541147.989738588 L 127659.59124427265,7541175.446162734 L 127658.8202911095,7541185.803820018 L 127658.4715104535,7541189.0456536375 L 127653.58911547338,7541234.662144098 L 127646.92171059939,7541266.1634542495 L 127616.45472869586,7541380.818816795 L 128269.7014711044,7541613.493860368 L 128227.35575287085,7541458.520494398 L 128496.58107741596,7541558.960123993 L 128527.89386452519,7541579.734193023 L 128440.8003132433,7541716.377243323 L 128633.13851479226,7541890.513157149 L 128633.17172268912,7541893.720070174 L 128646.42246853217,7541905.66456306 L 128689.21972741728,7542155.748861104 L 128617.35038131574,7542481.461161222 L 129096.28502658784,7542990.5785636995 L 129436.431519621,7543352.151440534 L 129545.20903051039,7543467.787941947 L 129612.83159497182,7543478.247779755 L 130299.58790079557,7543584.464201121 L 130769.65437133738,7543657.160430252 L 130816.678353264,7543875.989213299 L 130839.3141990669,7543981.351977464 L 130898.7764348539,7544007.134772394 L 131095.60626175726,7544093.025744852 L 134389.3739690559,7545520.437969057 L 135925.6707152212,7544353.79459005 L 138393.57476229122,7544644.368570827 L 139645.26647180598,7543614.326613408 L 139804.46731906448,7543312.397562418 L 139858.16357345803,7543320.933115356 L 139904.79447628412,7543241.532505567 L 139852.18920006958,7543221.88269363 L 139870.1215544294,7543187.868476823 L 139823.26035956648,7543163.027624456 L 139860.51650335448,7543078.82906292 L 139913.07894717145,7543106.389565123 L 140310.96910152625,7542351.776521694 L 140328.03228870337,7541896.941200787 L 141266.0656909201,7542666.6237743255 L 142237.519105702,7543700.893477153 L 143231.980681093,7543358.138492057 L 143597.68037635466,7542509.469365664 L 143561.12686226884,7542337.2053995095 L 143884.39758519636,7542220.974092953 L 143882.68335132906,7542171.4520819 L 143546.59308961546,7542268.717821686 L 143373.70151499187,7541454.065114778 L 143968.1243317083,7540298.457776815 L 143033.0894235401,7538715.452169655 L 143143.69864860195,7537662.740445293 L 143302.12892727467,7537200.027487172 L 144133.42862696282,7537696.296602963 L 145160.73428972106,7537400.5632084105 L 145699.9220051603,7536510.953750486 L 145729.90243663843,7536521.647752747 L 145731.60674570943,7536513.022539839 L 145704.78782339324,7536502.914787134 L 145722.60915445664,7536473.517707627 L 145728.20245186583,7536464.3058501445 L 145846.95306567993,7536268.373860655 L 146284.9375061319,7534909.341259681 L 147245.30700749648,7534548.833535371 L 148050.26914249908,7532737.555539781 L 149079.42456387263,7533194.351918992 L 150714.85743273568,7533580.106393743 L 151007.74880316824,7536251.704942463 L 152301.39762781747,7536772.452081017 L 155236.0172052398,7536748.113689647 L 155419.40138732106,7535675.830165882 L 155427.1547178707,7535480.56855252 L 155397.33866991015,7533867.864279681 L 155474.52165235777,7532713.143350927 L 155581.60227199667,7532059.086118478 L 155567.80988191528,7529384.303784557 L 155752.24745519133,7529405.122613359 z M 144106.34857835702,7528889.786225342 L 144102.2287699561,7528891.120938438 L 143978.8552799842,7528931.067507943 L 144106.34857835702,7528889.786225342 z\" /></g></svg>"
      ],
      "text/plain": [
       "<shapely.geometry.polygon.Polygon at 0x7f50a7e90550>"
      ]
     },
     "execution_count": 121,
     "metadata": {
      "tags": []
     },
     "output_type": "execute_result"
    }
   ],
   "source": [
    "G.graph['crs']\n",
    "dist = conj.dissolve(by='DIST')\n",
    "dist.iloc[0].geometry"
   ]
  },
  {
   "cell_type": "code",
   "execution_count": null,
   "metadata": {
    "colab": {
     "base_uri": "https://localhost:8080/",
     "height": 320
    },
    "colab_type": "code",
    "executionInfo": {
     "elapsed": 117600,
     "status": "ok",
     "timestamp": 1599251129746,
     "user": {
      "displayName": "Joel de Andres",
      "photoUrl": "",
      "userId": "00836612501124861246"
     },
     "user_tz": 180
    },
    "id": "zTwedsZ0Vz5U",
    "outputId": "55693579-1dbf-4cc2-d308-b38dca80a2db"
   },
   "outputs": [
    {
     "data": {
      "image/png": "[encoded data removed]",
      "text/plain": [
       "<Figure size 576x576 with 1 Axes>"
      ]
     },
     "metadata": {
      "tags": []
     },
     "output_type": "display_data"
    }
   ],
   "source": [
    "\n",
    "G_conj = ox.graph_from_polygon(dist.to_crs(epsg=4326).iloc[0].geometry)\n",
    "fig, ax = ox.plot_graph(G_conj, node_size=0)"
   ]
  },
  {
   "cell_type": "code",
   "execution_count": null,
   "metadata": {
    "colab": {},
    "colab_type": "code",
    "id": "dT5DXGvyWaZm"
   },
   "outputs": [],
   "source": [
    "nodes, edges = ox.graph_to_gdfs(G_conj)\n",
    "edges.crs\n",
    "edges\n",
    "edges.to_csv('edges_conj.csv')"
   ]
  },
  {
   "cell_type": "code",
   "execution_count": null,
   "metadata": {
    "colab": {
     "base_uri": "https://localhost:8080/",
     "height": 717
    },
    "colab_type": "code",
    "executionInfo": {
     "elapsed": 119832,
     "status": "ok",
     "timestamp": 1599251131994,
     "user": {
      "displayName": "Joel de Andres",
      "photoUrl": "",
      "userId": "00836612501124861246"
     },
     "user_tz": 180
    },
    "id": "1xVT-luGWiZd",
    "outputId": "bce83a46-121c-49ea-b0fc-d58308e705bb"
   },
   "outputs": [
    {
     "data": {
      "text/plain": [
       "<matplotlib.axes._subplots.AxesSubplot at 0x7f50a81d4da0>"
      ]
     },
     "execution_count": 124,
     "metadata": {
      "tags": []
     },
     "output_type": "execute_result"
    },
    {
     "data": {
      "image/png": "[encoded data removed]",
      "text/plain": [
       "<Figure size 864x864 with 1 Axes>"
      ]
     },
     "metadata": {
      "needs_background": "light",
      "tags": []
     },
     "output_type": "display_data"
    }
   ],
   "source": [
    "edges[edges.name.str.contains('Rodovia').fillna(False)].plot(figsize=(12,12))"
   ]
  },
  {
   "cell_type": "code",
   "execution_count": null,
   "metadata": {
    "colab": {},
    "colab_type": "code",
    "id": "DVpzmHhoWj2-"
   },
   "outputs": [],
   "source": [
    "mask = (edges.highway.str.contains('trunk').fillna(False) | edges.highway.str.contains('primary').fillna(False))"
   ]
  },
  {
   "cell_type": "code",
   "execution_count": null,
   "metadata": {
    "colab": {
     "base_uri": "https://localhost:8080/",
     "height": 717
    },
    "colab_type": "code",
    "executionInfo": {
     "elapsed": 119813,
     "status": "ok",
     "timestamp": 1599251131996,
     "user": {
      "displayName": "Joel de Andres",
      "photoUrl": "",
      "userId": "00836612501124861246"
     },
     "user_tz": 180
    },
    "id": "BTLlzRfOWo9v",
    "outputId": "4f1d19a6-8665-4d15-f04a-614f321c4536"
   },
   "outputs": [
    {
     "data": {
      "text/plain": [
       "<matplotlib.axes._subplots.AxesSubplot at 0x7f50a74c6518>"
      ]
     },
     "execution_count": 126,
     "metadata": {
      "tags": []
     },
     "output_type": "execute_result"
    },
    {
     "data": {
      "image/png": "[encoded data removed]",
      "text/plain": [
       "<Figure size 864x864 with 1 Axes>"
      ]
     },
     "metadata": {
      "needs_background": "light",
      "tags": []
     },
     "output_type": "display_data"
    }
   ],
   "source": [
    "main_roads = edges[['geometry','length','name', 'ref']][mask]\n",
    "main_roads.plot(figsize=(12,12))"
   ]
  },
  {
   "cell_type": "code",
   "execution_count": 141,
   "metadata": {
    "colab": {
     "base_uri": "https://localhost:8080/",
     "height": 419
    },
    "colab_type": "code",
    "executionInfo": {
     "elapsed": 1792,
     "status": "ok",
     "timestamp": 1599252204534,
     "user": {
      "displayName": "Joel de Andres",
      "photoUrl": "",
      "userId": "00836612501124861246"
     },
     "user_tz": 180
    },
    "id": "M7htxyJDy-JA",
    "outputId": "b0d13ecd-b69b-4512-9e3e-b711458df98f"
   },
   "outputs": [
    {
     "data": {
      "text/html": [
       "<div>\n",
       "<style scoped>\n",
       "    .dataframe tbody tr th:only-of-type {\n",
       "        vertical-align: middle;\n",
       "    }\n",
       "\n",
       "    .dataframe tbody tr th {\n",
       "        vertical-align: top;\n",
       "    }\n",
       "\n",
       "    .dataframe thead th {\n",
       "        text-align: right;\n",
       "    }\n",
       "</style>\n",
       "<table border=\"1\" class=\"dataframe\">\n",
       "  <thead>\n",
       "    <tr style=\"text-align: right;\">\n",
       "      <th></th>\n",
       "      <th>main_r_dist</th>\n",
       "      <th>COD_ID</th>\n",
       "    </tr>\n",
       "  </thead>\n",
       "  <tbody>\n",
       "    <tr>\n",
       "      <th>0</th>\n",
       "      <td>5923.591099</td>\n",
       "      <td>26877970</td>\n",
       "    </tr>\n",
       "    <tr>\n",
       "      <th>1</th>\n",
       "      <td>5974.082675</td>\n",
       "      <td>26877971</td>\n",
       "    </tr>\n",
       "    <tr>\n",
       "      <th>2</th>\n",
       "      <td>6058.175545</td>\n",
       "      <td>26877972</td>\n",
       "    </tr>\n",
       "    <tr>\n",
       "      <th>3</th>\n",
       "      <td>6027.039801</td>\n",
       "      <td>26877973</td>\n",
       "    </tr>\n",
       "    <tr>\n",
       "      <th>4</th>\n",
       "      <td>4812.390625</td>\n",
       "      <td>26877974</td>\n",
       "    </tr>\n",
       "    <tr>\n",
       "      <th>...</th>\n",
       "      <td>...</td>\n",
       "      <td>...</td>\n",
       "    </tr>\n",
       "    <tr>\n",
       "      <th>3874</th>\n",
       "      <td>18591.830258</td>\n",
       "      <td>26876494</td>\n",
       "    </tr>\n",
       "    <tr>\n",
       "      <th>3875</th>\n",
       "      <td>20059.940541</td>\n",
       "      <td>26876495</td>\n",
       "    </tr>\n",
       "    <tr>\n",
       "      <th>3876</th>\n",
       "      <td>21279.884128</td>\n",
       "      <td>26876496</td>\n",
       "    </tr>\n",
       "    <tr>\n",
       "      <th>3877</th>\n",
       "      <td>20580.794807</td>\n",
       "      <td>26876497</td>\n",
       "    </tr>\n",
       "    <tr>\n",
       "      <th>3878</th>\n",
       "      <td>22877.344940</td>\n",
       "      <td>26876498</td>\n",
       "    </tr>\n",
       "  </tbody>\n",
       "</table>\n",
       "<p>3879 rows × 2 columns</p>\n",
       "</div>"
      ],
      "text/plain": [
       "       main_r_dist    COD_ID\n",
       "0      5923.591099  26877970\n",
       "1      5974.082675  26877971\n",
       "2      6058.175545  26877972\n",
       "3      6027.039801  26877973\n",
       "4      4812.390625  26877974\n",
       "...            ...       ...\n",
       "3874  18591.830258  26876494\n",
       "3875  20059.940541  26876495\n",
       "3876  21279.884128  26876496\n",
       "3877  20580.794807  26876497\n",
       "3878  22877.344940  26876498\n",
       "\n",
       "[3879 rows x 2 columns]"
      ]
     },
     "execution_count": 141,
     "metadata": {
      "tags": []
     },
     "output_type": "execute_result"
    }
   ],
   "source": [
    "main_roads['dist'] = 6612\n",
    "main_roads_comb = main_roads.dissolve(by='dist')\n",
    "main_roads_comb.to_crs(epsg=31984, inplace= True)\n",
    "untrd['main_r_dist'] = untrd.distance(main_roads_comb.iloc[0].geometry)\n",
    "untrd[['main_r_dist','COD_ID']]"
   ]
  },
  {
   "cell_type": "code",
   "execution_count": 139,
   "metadata": {
    "colab": {
     "base_uri": "https://localhost:8080/",
     "height": 326
    },
    "colab_type": "code",
    "executionInfo": {
     "elapsed": 3610,
     "status": "ok",
     "timestamp": 1599252150993,
     "user": {
      "displayName": "Joel de Andres",
      "photoUrl": "",
      "userId": "00836612501124861246"
     },
     "user_tz": 180
    },
    "id": "cAGxuruGwiYV",
    "outputId": "979e9fbf-b2ca-415b-812a-f1f2e34bdb94"
   },
   "outputs": [
    {
     "name": "stderr",
     "output_type": "stream",
     "text": [
      "/usr/local/lib/python3.6/dist-packages/pandas/core/indexing.py:671: SettingWithCopyWarning: \n",
      "A value is trying to be set on a copy of a slice from a DataFrame\n",
      "\n",
      "See the caveats in the documentation: https://pandas.pydata.org/pandas-docs/stable/user_guide/indexing.html#returning-a-view-versus-a-copy\n",
      "  self._setitem_with_indexer(indexer, value)\n"
     ]
    },
    {
     "data": {
      "text/plain": [
       "0        7174.246302\n",
       "1       17768.331400\n",
       "2       20611.624089\n",
       "3       15155.618112\n",
       "4       15983.786567\n",
       "            ...     \n",
       "3526     2075.178253\n",
       "3527     2766.387890\n",
       "3528     2462.301278\n",
       "3529      226.140706\n",
       "3530     2786.129867\n",
       "Name: EUC_DIST_PRIMARY, Length: 3531, dtype: float64"
      ]
     },
     "execution_count": 139,
     "metadata": {
      "tags": []
     },
     "output_type": "execute_result"
    }
   ],
   "source": [
    "group_ucbt_untrd_untrs['EUC_DIST_PRIMARY'] = -1\n",
    "\n",
    "for i,t in group_ucbt_untrd_untrs.iterrows():\n",
    "    eud = group_ucbt_untrd_untrs.geometry_untrd[i].distance(main_roads_comb.iloc[0].geometry)    \n",
    "    group_ucbt_untrd_untrs.EUC_DIST_PRIMARY.loc[i] = eud\n",
    "    \n"
   ]
  },
  {
   "cell_type": "code",
   "execution_count": 147,
   "metadata": {
    "colab": {
     "base_uri": "https://localhost:8080/",
     "height": 134
    },
    "colab_type": "code",
    "executionInfo": {
     "elapsed": 1368,
     "status": "ok",
     "timestamp": 1599252386086,
     "user": {
      "displayName": "Joel de Andres",
      "photoUrl": "",
      "userId": "00836612501124861246"
     },
     "user_tz": 180
    },
    "id": "EAF-18-rWtL_",
    "outputId": "21b4c34e-31a7-4dae-cfa6-6b27e1ee0a0b"
   },
   "outputs": [
    {
     "data": {
      "text/html": [
       "<div>\n",
       "<style scoped>\n",
       "    .dataframe tbody tr th:only-of-type {\n",
       "        vertical-align: middle;\n",
       "    }\n",
       "\n",
       "    .dataframe tbody tr th {\n",
       "        vertical-align: top;\n",
       "    }\n",
       "\n",
       "    .dataframe thead th {\n",
       "        text-align: right;\n",
       "    }\n",
       "</style>\n",
       "<table border=\"1\" class=\"dataframe\">\n",
       "  <thead>\n",
       "    <tr style=\"text-align: right;\">\n",
       "      <th></th>\n",
       "      <th>UNI_TR_D</th>\n",
       "      <th>GRU_TAR</th>\n",
       "      <th>DIC</th>\n",
       "      <th>FIC</th>\n",
       "      <th>ENE_MED</th>\n",
       "      <th>ENE_MAX</th>\n",
       "      <th>DIST</th>\n",
       "      <th>PAC_1</th>\n",
       "      <th>PAC_2</th>\n",
       "      <th>PAC_3</th>\n",
       "      <th>FAS_CON_P</th>\n",
       "      <th>FAS_CON_S</th>\n",
       "      <th>FAS_CON_T</th>\n",
       "      <th>SIT_ATIV</th>\n",
       "      <th>TIP_UNID</th>\n",
       "      <th>POS</th>\n",
       "      <th>ATRB_PER</th>\n",
       "      <th>TEN_LIN_SE</th>\n",
       "      <th>CAP_ELO</th>\n",
       "      <th>CAP_CHA</th>\n",
       "      <th>TAP</th>\n",
       "      <th>CONF</th>\n",
       "      <th>POSTO</th>\n",
       "      <th>POT_NOM</th>\n",
       "      <th>PER_FER</th>\n",
       "      <th>PER_TOT</th>\n",
       "      <th>DAT_CON</th>\n",
       "      <th>CTMT</th>\n",
       "      <th>UNI_TR_S</th>\n",
       "      <th>SUB</th>\n",
       "      <th>CONJ</th>\n",
       "      <th>MUN</th>\n",
       "      <th>BANC</th>\n",
       "      <th>TIP_TRAFO</th>\n",
       "      <th>MRT</th>\n",
       "      <th>DESCR</th>\n",
       "      <th>ARE_LOC</th>\n",
       "      <th>geometry_untrd</th>\n",
       "      <th>geometry_untrs</th>\n",
       "      <th>EUC_DIST_TRUNK</th>\n",
       "      <th>EUC_DIST_PRIMARY</th>\n",
       "      <th>EUC_DIST_SECONDARY</th>\n",
       "      <th>EUC_DIST_UNTRS</th>\n",
       "      <th>EUC_DIST_CENT</th>\n",
       "      <th>geometry</th>\n",
       "    </tr>\n",
       "  </thead>\n",
       "  <tbody>\n",
       "    <tr>\n",
       "      <th>1560</th>\n",
       "      <td>26877970</td>\n",
       "      <td>1</td>\n",
       "      <td>14.95</td>\n",
       "      <td>7.0</td>\n",
       "      <td>189.0</td>\n",
       "      <td>274.0</td>\n",
       "      <td>6612</td>\n",
       "      <td>74793200754383100MT</td>\n",
       "      <td>74793200754383100BT</td>\n",
       "      <td></td>\n",
       "      <td>B</td>\n",
       "      <td>AN</td>\n",
       "      <td>0</td>\n",
       "      <td>AT</td>\n",
       "      <td>38</td>\n",
       "      <td>PD</td>\n",
       "      <td>1</td>\n",
       "      <td>0.22</td>\n",
       "      <td>0</td>\n",
       "      <td>0</td>\n",
       "      <td>1.0</td>\n",
       "      <td>RA</td>\n",
       "      <td>PT</td>\n",
       "      <td>15.0</td>\n",
       "      <td>65.0</td>\n",
       "      <td>330.0</td>\n",
       "      <td>01/01/1920</td>\n",
       "      <td>27117490</td>\n",
       "      <td>27707625</td>\n",
       "      <td>27335509</td>\n",
       "      <td>16069</td>\n",
       "      <td>3303401</td>\n",
       "      <td>0</td>\n",
       "      <td>M</td>\n",
       "      <td>0</td>\n",
       "      <td></td>\n",
       "      <td>0</td>\n",
       "      <td>POINT (129221.520 7541398.949)</td>\n",
       "      <td>POINT (137043.735 7537448.539)</td>\n",
       "      <td>-1</td>\n",
       "      <td>5923.591099</td>\n",
       "      <td>-1</td>\n",
       "      <td>-1</td>\n",
       "      <td>12433.559794</td>\n",
       "      <td>POINT (129221.520 7541398.949)</td>\n",
       "    </tr>\n",
       "  </tbody>\n",
       "</table>\n",
       "</div>"
      ],
      "text/plain": [
       "      UNI_TR_D  GRU_TAR  ...  EUC_DIST_CENT                        geometry\n",
       "1560  26877970        1  ...   12433.559794  POINT (129221.520 7541398.949)\n",
       "\n",
       "[1 rows x 45 columns]"
      ]
     },
     "execution_count": 147,
     "metadata": {
      "tags": []
     },
     "output_type": "execute_result"
    }
   ],
   "source": [
    "\n",
    "group_ucbt_untrd_untrs[group_ucbt_untrd_untrs.UNI_TR_D=='26877970']"
   ]
  },
  {
   "cell_type": "code",
   "execution_count": null,
   "metadata": {
    "colab": {},
    "colab_type": "code",
    "id": "g7zhBxl2XNbI"
   },
   "outputs": [],
   "source": [
    "for i,t in group_ucbt_untrd_untrs.iterrows():\n",
    "    eud = group_ucbt_untrd_untrs.geometry_untrd[i].distance(centro_urbano)\n",
    "    group_ucbt_untrd_untrs.EUC_DIST_PRIMARY.loc[i] = eud\n"
   ]
  },
  {
   "cell_type": "code",
   "execution_count": null,
   "metadata": {
    "colab": {},
    "colab_type": "code",
    "id": "FDqzfXYqXN0O"
   },
   "outputs": [],
   "source": [
    "main_roads_comb = main_roads.dissolve(by='dist')\n",
    "main_roads_comb.to_crs(epsg=31984, inplace= True)"
   ]
  },
  {
   "cell_type": "code",
   "execution_count": null,
   "metadata": {
    "colab": {},
    "colab_type": "code",
    "id": "qUp8O9cyXP08"
   },
   "outputs": [],
   "source": [
    "untrd['main_r_dist'] = untrd.distance(main_roads_comb.iloc[0].geometry)"
   ]
  },
  {
   "cell_type": "code",
   "execution_count": null,
   "metadata": {
    "colab": {},
    "colab_type": "code",
    "id": "JNxPc2z4XRea"
   },
   "outputs": [],
   "source": [
    "untrd.head()"
   ]
  },
  {
   "cell_type": "markdown",
   "metadata": {
    "colab_type": "text",
    "id": "2tomn5LUKlBX"
   },
   "source": [
    "## [Opcional] Generación de variables con arboles de busqueda\n",
    "\n",
    "8 - Cree variables que indique la cantidad de consumidores en radios de 25, 50 y 100 metros del transformador.\n",
    "\n",
    "9 - Cree una variable indicando la distancia media de cada fila (cada untrd) a los 5 untrd mas cercanos.\n",
    "\n",
    "10 - Usando OSMnx descargue los footprints de edificios disponibles, y cree una variable que indique la cantidad de edificios en un radio de 200 metros al transformador."
   ]
  },
  {
   "cell_type": "code",
   "execution_count": 160,
   "metadata": {
    "colab": {},
    "colab_type": "code",
    "executionInfo": {
     "elapsed": 2228,
     "status": "ok",
     "timestamp": 1599254828431,
     "user": {
      "displayName": "Joel de Andres",
      "photoUrl": "",
      "userId": "00836612501124861246"
     },
     "user_tz": 180
    },
    "id": "hqE3bJT3KlBY"
   },
   "outputs": [],
   "source": [
    "# Convertimos las coordenas a una matriz\n",
    "ucbt_loc_array = [x.coords[0] for x in ucbt.geometry]\n",
    "untrd_loc_array = [x.coords[0] for x in untrd.geometry]\n",
    "tree = cKDTree(ucbt_loc_array)"
   ]
  },
  {
   "cell_type": "code",
   "execution_count": null,
   "metadata": {
    "colab": {},
    "colab_type": "code",
    "id": "1cv_jC4DFRa2"
   },
   "outputs": [],
   "source": [
    "group_ucbt_untrd_untrs['CONS_25M'] = 0\n",
    "group_ucbt_untrd_untrs['CONS_50M'] = 0\n",
    "group_ucbt_untrd_untrs['CONS_100M'] = 0\n",
    "\n",
    "for i,t in group_ucbt_untrd_untrs.iterrows():\n",
    "  untrd_loc_array = [x.coords[0] for x in [group_ucbt_untrd_untrs.geometry_untrd[i]]]\n",
    "  radio = 25\n",
    "  ucbt_25m = tree.query_ball_point(untrd_loc_array, radio)\n",
    "  radio = 50\n",
    "  ucbt_50m = tree.query_ball_point(untrd_loc_array, radio)\n",
    "  radio = 100\n",
    "  ucbt_100m = tree.query_ball_point(untrd_loc_array, radio)\n",
    "\n",
    "  group_ucbt_untrd_untrs.CONS_25M.loc[i] = len(ucbt_25m[0])  \n",
    "  group_ucbt_untrd_untrs.CONS_50M.loc[i] = len(ucbt_50m[0])  \n",
    "  group_ucbt_untrd_untrs.CONS_100M.loc[i] = len(ucbt_100m[0])  "
   ]
  },
  {
   "cell_type": "code",
   "execution_count": 201,
   "metadata": {
    "colab": {
     "base_uri": "https://localhost:8080/",
     "height": 204
    },
    "colab_type": "code",
    "executionInfo": {
     "elapsed": 930,
     "status": "ok",
     "timestamp": 1599256515609,
     "user": {
      "displayName": "Joel de Andres",
      "photoUrl": "",
      "userId": "00836612501124861246"
     },
     "user_tz": 180
    },
    "id": "7TKz87bkFhdq",
    "outputId": "23e8d7b3-489e-4309-9d79-ee50b5b11bfe"
   },
   "outputs": [
    {
     "data": {
      "text/html": [
       "<div>\n",
       "<style scoped>\n",
       "    .dataframe tbody tr th:only-of-type {\n",
       "        vertical-align: middle;\n",
       "    }\n",
       "\n",
       "    .dataframe tbody tr th {\n",
       "        vertical-align: top;\n",
       "    }\n",
       "\n",
       "    .dataframe thead th {\n",
       "        text-align: right;\n",
       "    }\n",
       "</style>\n",
       "<table border=\"1\" class=\"dataframe\">\n",
       "  <thead>\n",
       "    <tr style=\"text-align: right;\">\n",
       "      <th></th>\n",
       "      <th>UNI_TR_D</th>\n",
       "      <th>CONS_25M</th>\n",
       "      <th>CONS_50M</th>\n",
       "      <th>CONS_100M</th>\n",
       "    </tr>\n",
       "  </thead>\n",
       "  <tbody>\n",
       "    <tr>\n",
       "      <th>352</th>\n",
       "      <td>26876579</td>\n",
       "      <td>3</td>\n",
       "      <td>5</td>\n",
       "      <td>12</td>\n",
       "    </tr>\n",
       "    <tr>\n",
       "      <th>2285</th>\n",
       "      <td>26878689</td>\n",
       "      <td>1</td>\n",
       "      <td>1</td>\n",
       "      <td>4</td>\n",
       "    </tr>\n",
       "    <tr>\n",
       "      <th>622</th>\n",
       "      <td>26876868</td>\n",
       "      <td>0</td>\n",
       "      <td>1</td>\n",
       "      <td>8</td>\n",
       "    </tr>\n",
       "    <tr>\n",
       "      <th>2911</th>\n",
       "      <td>26878073</td>\n",
       "      <td>1</td>\n",
       "      <td>5</td>\n",
       "      <td>29</td>\n",
       "    </tr>\n",
       "    <tr>\n",
       "      <th>1753</th>\n",
       "      <td>26879761</td>\n",
       "      <td>35</td>\n",
       "      <td>109</td>\n",
       "      <td>318</td>\n",
       "    </tr>\n",
       "  </tbody>\n",
       "</table>\n",
       "</div>"
      ],
      "text/plain": [
       "      UNI_TR_D  CONS_25M  CONS_50M  CONS_100M\n",
       "352   26876579         3         5         12\n",
       "2285  26878689         1         1          4\n",
       "622   26876868         0         1          8\n",
       "2911  26878073         1         5         29\n",
       "1753  26879761        35       109        318"
      ]
     },
     "execution_count": 201,
     "metadata": {
      "tags": []
     },
     "output_type": "execute_result"
    }
   ],
   "source": [
    "group_ucbt_untrd_untrs[['UNI_TR_D','CONS_25M','CONS_50M','CONS_100M']].sample(5)"
   ]
  }
 ],
 "metadata": {
  "colab": {
   "collapsed_sections": [
    "gq5O--OuKlAn",
    "eXSYGgW5KlBE"
   ],
   "name": "Analisis_y_Curacion_Grupo_2.ipynb",
   "provenance": []
  },
  "kernelspec": {
   "display_name": "Python 3",
   "language": "python",
   "name": "python3"
  },
  "language_info": {
   "codemirror_mode": {
    "name": "ipython",
    "version": 3
   },
   "file_extension": ".py",
   "mimetype": "text/x-python",
   "name": "python",
   "nbconvert_exporter": "python",
   "pygments_lexer": "ipython3",
   "version": "3.8.2"
  }
 },
 "nbformat": 4,
 "nbformat_minor": 4
}
